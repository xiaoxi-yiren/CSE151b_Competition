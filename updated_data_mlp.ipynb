{
 "cells": [
  {
   "cell_type": "code",
   "execution_count": 2,
   "id": "6eacbb16",
   "metadata": {},
   "outputs": [],
   "source": [
    "import pandas as pd\n",
    "import torch\n",
    "import numpy as np\n",
    "import torch.nn as nn\n",
    "from sklearn.metrics import accuracy_score\n",
    "from sklearn.model_selection import GridSearchCV, validation_curve\n",
    "import lightgbm as lgb\n",
    "import xgboost as xgb\n",
    "import matplotlib.pyplot as plt"
   ]
  },
  {
   "cell_type": "code",
   "execution_count": 3,
   "id": "c45c765f",
   "metadata": {},
   "outputs": [],
   "source": [
    "device = torch.device(\"cuda\" if torch.cuda.is_available() else \"cpu\")"
   ]
  },
  {
   "cell_type": "code",
   "execution_count": 4,
   "id": "09ba37fe",
   "metadata": {},
   "outputs": [],
   "source": [
    "df = pd.read_csv(\"train.csv\")"
   ]
  },
  {
   "cell_type": "code",
   "execution_count": 5,
   "id": "37ba2fb7",
   "metadata": {},
   "outputs": [
    {
     "data": {
      "text/plain": [
       "1710670"
      ]
     },
     "execution_count": 5,
     "metadata": {},
     "output_type": "execute_result"
    }
   ],
   "source": [
    "df[\"target\"] = df[\"POLYLINE\"].apply(lambda x : np.float32(max((x.count(\"[\") - 2) *15, 0)))\n",
    "len(df)"
   ]
  },
  {
   "cell_type": "code",
   "execution_count": 6,
   "id": "57324bfa",
   "metadata": {},
   "outputs": [
    {
     "data": {
      "text/plain": [
       "1656261"
      ]
     },
     "execution_count": 6,
     "metadata": {},
     "output_type": "execute_result"
    }
   ],
   "source": [
    "mean, std = df[\"target\"].mean(), df[\"target\"].std()\n",
    "median = df[\"target\"].median()\n",
    "#df = df[df[\"target\"] < mean + 3 * std]\n",
    "df = df[df[\"target\"] < 15 * 185]\n",
    "df = df[df[\"target\"] >= 4]\n",
    "len(df)"
   ]
  },
  {
   "cell_type": "code",
   "execution_count": 7,
   "id": "02269b48",
   "metadata": {},
   "outputs": [
    {
     "data": {
      "text/plain": [
       "1656255"
      ]
     },
     "execution_count": 7,
     "metadata": {},
     "output_type": "execute_result"
    }
   ],
   "source": [
    "df = df.loc[df['MISSING_DATA'] == False]\n",
    "df = df.loc[df['target'] > 0]\n",
    "len(df)"
   ]
  },
  {
   "cell_type": "code",
   "execution_count": 8,
   "id": "67d004da",
   "metadata": {},
   "outputs": [],
   "source": [
    "from datetime import datetime\n",
    "def parse_time(x):\n",
    "    dt = datetime.utcfromtimestamp(x)\n",
    "    return dt.year, dt.month, dt.day, dt.hour+1, dt.weekday() #monday: 0, sunday: 6"
   ]
  },
  {
   "cell_type": "code",
   "execution_count": null,
   "id": "a84f6f17",
   "metadata": {},
   "outputs": [],
   "source": []
  },
  {
   "cell_type": "code",
   "execution_count": 9,
   "id": "ba7225ba",
   "metadata": {},
   "outputs": [
    {
     "data": {
      "text/html": [
       "<div>\n",
       "<style scoped>\n",
       "    .dataframe tbody tr th:only-of-type {\n",
       "        vertical-align: middle;\n",
       "    }\n",
       "\n",
       "    .dataframe tbody tr th {\n",
       "        vertical-align: top;\n",
       "    }\n",
       "\n",
       "    .dataframe thead th {\n",
       "        text-align: right;\n",
       "    }\n",
       "</style>\n",
       "<table border=\"1\" class=\"dataframe\">\n",
       "  <thead>\n",
       "    <tr style=\"text-align: right;\">\n",
       "      <th></th>\n",
       "      <th>TRIP_ID</th>\n",
       "      <th>CALL_TYPE</th>\n",
       "      <th>ORIGIN_CALL</th>\n",
       "      <th>ORIGIN_STAND</th>\n",
       "      <th>TAXI_ID</th>\n",
       "      <th>TIMESTAMP</th>\n",
       "      <th>DAY_TYPE</th>\n",
       "      <th>MISSING_DATA</th>\n",
       "      <th>POLYLINE</th>\n",
       "      <th>target</th>\n",
       "      <th>year</th>\n",
       "      <th>month</th>\n",
       "      <th>day</th>\n",
       "      <th>hour</th>\n",
       "      <th>weekday</th>\n",
       "    </tr>\n",
       "  </thead>\n",
       "  <tbody>\n",
       "    <tr>\n",
       "      <th>0</th>\n",
       "      <td>1372636858620000589</td>\n",
       "      <td>C</td>\n",
       "      <td>NaN</td>\n",
       "      <td>NaN</td>\n",
       "      <td>20000589</td>\n",
       "      <td>1372636858</td>\n",
       "      <td>A</td>\n",
       "      <td>False</td>\n",
       "      <td>[[-8.618643,41.141412],[-8.618499,41.141376],[...</td>\n",
       "      <td>330.0</td>\n",
       "      <td>2013</td>\n",
       "      <td>7</td>\n",
       "      <td>1</td>\n",
       "      <td>1</td>\n",
       "      <td>0</td>\n",
       "    </tr>\n",
       "    <tr>\n",
       "      <th>1</th>\n",
       "      <td>1372637303620000596</td>\n",
       "      <td>B</td>\n",
       "      <td>NaN</td>\n",
       "      <td>7.0</td>\n",
       "      <td>20000596</td>\n",
       "      <td>1372637303</td>\n",
       "      <td>A</td>\n",
       "      <td>False</td>\n",
       "      <td>[[-8.639847,41.159826],[-8.640351,41.159871],[...</td>\n",
       "      <td>270.0</td>\n",
       "      <td>2013</td>\n",
       "      <td>7</td>\n",
       "      <td>1</td>\n",
       "      <td>1</td>\n",
       "      <td>0</td>\n",
       "    </tr>\n",
       "    <tr>\n",
       "      <th>2</th>\n",
       "      <td>1372636951620000320</td>\n",
       "      <td>C</td>\n",
       "      <td>NaN</td>\n",
       "      <td>NaN</td>\n",
       "      <td>20000320</td>\n",
       "      <td>1372636951</td>\n",
       "      <td>A</td>\n",
       "      <td>False</td>\n",
       "      <td>[[-8.612964,41.140359],[-8.613378,41.14035],[-...</td>\n",
       "      <td>960.0</td>\n",
       "      <td>2013</td>\n",
       "      <td>7</td>\n",
       "      <td>1</td>\n",
       "      <td>1</td>\n",
       "      <td>0</td>\n",
       "    </tr>\n",
       "    <tr>\n",
       "      <th>3</th>\n",
       "      <td>1372636854620000520</td>\n",
       "      <td>C</td>\n",
       "      <td>NaN</td>\n",
       "      <td>NaN</td>\n",
       "      <td>20000520</td>\n",
       "      <td>1372636854</td>\n",
       "      <td>A</td>\n",
       "      <td>False</td>\n",
       "      <td>[[-8.574678,41.151951],[-8.574705,41.151942],[...</td>\n",
       "      <td>630.0</td>\n",
       "      <td>2013</td>\n",
       "      <td>7</td>\n",
       "      <td>1</td>\n",
       "      <td>1</td>\n",
       "      <td>0</td>\n",
       "    </tr>\n",
       "    <tr>\n",
       "      <th>4</th>\n",
       "      <td>1372637091620000337</td>\n",
       "      <td>C</td>\n",
       "      <td>NaN</td>\n",
       "      <td>NaN</td>\n",
       "      <td>20000337</td>\n",
       "      <td>1372637091</td>\n",
       "      <td>A</td>\n",
       "      <td>False</td>\n",
       "      <td>[[-8.645994,41.18049],[-8.645949,41.180517],[-...</td>\n",
       "      <td>420.0</td>\n",
       "      <td>2013</td>\n",
       "      <td>7</td>\n",
       "      <td>1</td>\n",
       "      <td>1</td>\n",
       "      <td>0</td>\n",
       "    </tr>\n",
       "  </tbody>\n",
       "</table>\n",
       "</div>"
      ],
      "text/plain": [
       "               TRIP_ID CALL_TYPE  ORIGIN_CALL  ORIGIN_STAND   TAXI_ID  \\\n",
       "0  1372636858620000589         C          NaN           NaN  20000589   \n",
       "1  1372637303620000596         B          NaN           7.0  20000596   \n",
       "2  1372636951620000320         C          NaN           NaN  20000320   \n",
       "3  1372636854620000520         C          NaN           NaN  20000520   \n",
       "4  1372637091620000337         C          NaN           NaN  20000337   \n",
       "\n",
       "    TIMESTAMP DAY_TYPE  MISSING_DATA  \\\n",
       "0  1372636858        A         False   \n",
       "1  1372637303        A         False   \n",
       "2  1372636951        A         False   \n",
       "3  1372636854        A         False   \n",
       "4  1372637091        A         False   \n",
       "\n",
       "                                            POLYLINE  target  year  month  \\\n",
       "0  [[-8.618643,41.141412],[-8.618499,41.141376],[...   330.0  2013      7   \n",
       "1  [[-8.639847,41.159826],[-8.640351,41.159871],[...   270.0  2013      7   \n",
       "2  [[-8.612964,41.140359],[-8.613378,41.14035],[-...   960.0  2013      7   \n",
       "3  [[-8.574678,41.151951],[-8.574705,41.151942],[...   630.0  2013      7   \n",
       "4  [[-8.645994,41.18049],[-8.645949,41.180517],[-...   420.0  2013      7   \n",
       "\n",
       "   day  hour  weekday  \n",
       "0    1     1        0  \n",
       "1    1     1        0  \n",
       "2    1     1        0  \n",
       "3    1     1        0  \n",
       "4    1     1        0  "
      ]
     },
     "execution_count": 9,
     "metadata": {},
     "output_type": "execute_result"
    }
   ],
   "source": [
    "times = df['TIMESTAMP'].apply(parse_time)\n",
    "df['year'] = [x for x,y,z,w,a in times]\n",
    "df['month'] = [y for x,y,z,w,a in times]\n",
    "df['day'] = [z for x,y,z,w,a in times]\n",
    "df['hour'] = [w for x,y,z,w,a in times]\n",
    "df['weekday'] = [a for x,y,z,w,a in times]\n",
    "df.head()"
   ]
  },
  {
   "cell_type": "code",
   "execution_count": 10,
   "id": "789daaad",
   "metadata": {},
   "outputs": [
    {
     "data": {
      "text/plain": [
       "0"
      ]
     },
     "execution_count": 10,
     "metadata": {},
     "output_type": "execute_result"
    }
   ],
   "source": [
    "len(df[df['TAXI_ID'] - 20000000 > 1000])"
   ]
  },
  {
   "cell_type": "code",
   "execution_count": 11,
   "id": "aa44c33a",
   "metadata": {},
   "outputs": [
    {
     "name": "stdout",
     "output_type": "stream",
     "text": [
      "14556\n",
      "9206\n"
     ]
    }
   ],
   "source": [
    "df_1 = df[ ((df['day'] == 14) & (df['month'] == 8)) |\n",
    "          ((df['day'] == 4) & (df['month'] == 10)) |\n",
    "          ((df['day'] == 9) & (df['month'] == 6)) \n",
    "         ]\n",
    "print(len(df_1))\n",
    "df_1_1 = df_1[df_1['hour'] >= 12]\n",
    "print(len(df_1_1))\n",
    "#plt.plot(df_1_1['target'].tolist())\n",
    "df_1_1['target'].describe()\n",
    "df_1 = df_1.assign(DAY_TYPE = 'A')"
   ]
  },
  {
   "cell_type": "code",
   "execution_count": 12,
   "id": "fd4bb531",
   "metadata": {},
   "outputs": [
    {
     "data": {
      "text/plain": [
       "125048"
      ]
     },
     "execution_count": 12,
     "metadata": {},
     "output_type": "execute_result"
    }
   ],
   "source": [
    "df_2 = df[ ((df['weekday'] <= 4)) ]\n",
    "df_2 = df_2[df_2['hour'] >= 8]\n",
    "df_2 = df_2[df_2['hour'] <= 9]\n",
    "df_2 = df_2.assign(DAY_TYPE = 'B')\n",
    "len(df_2)"
   ]
  },
  {
   "cell_type": "code",
   "execution_count": 13,
   "id": "0e01ba08",
   "metadata": {},
   "outputs": [
    {
     "data": {
      "text/plain": [
       "132626"
      ]
     },
     "execution_count": 13,
     "metadata": {},
     "output_type": "execute_result"
    }
   ],
   "source": [
    "df_3 = df[ ((df['weekday'] <= 4)) ]\n",
    "df_3 = df_3[df_3['hour'] >= 17]\n",
    "df_3 = df_3[df_3['hour'] <= 18]\n",
    "df_3 = df_3.assign(DAY_TYPE = 'C')\n",
    "len(df_3)"
   ]
  },
  {
   "cell_type": "code",
   "execution_count": 14,
   "id": "1a50693a",
   "metadata": {},
   "outputs": [
    {
     "data": {
      "text/plain": [
       "140971"
      ]
     },
     "execution_count": 14,
     "metadata": {},
     "output_type": "execute_result"
    }
   ],
   "source": [
    "df_4 = df[ ((df['weekday'] > 4)) ]\n",
    "df_4 = df_4[df_4['hour'] >= 0]\n",
    "df_4 = df_4[df_4['hour'] <= 5]\n",
    "df_4 = df_4.assign(DAY_TYPE = 'D')\n",
    "len(df_4)"
   ]
  },
  {
   "cell_type": "code",
   "execution_count": 15,
   "id": "c6dfbde7",
   "metadata": {},
   "outputs": [
    {
     "data": {
      "text/plain": [
       "22172"
      ]
     },
     "execution_count": 15,
     "metadata": {},
     "output_type": "execute_result"
    }
   ],
   "source": [
    "df_5 = df[ ((df['day'] >= 20) & (df['month'] == 12) & (df['day'] <= 23)) ]\n",
    "df_5 = df_5.assign(DAY_TYPE = 'E')\n",
    "len(df_5)"
   ]
  },
  {
   "cell_type": "code",
   "execution_count": 16,
   "id": "55aa0654",
   "metadata": {},
   "outputs": [
    {
     "data": {
      "text/plain": [
       "435373"
      ]
     },
     "execution_count": 16,
     "metadata": {},
     "output_type": "execute_result"
    }
   ],
   "source": [
    "df_train = pd.concat([df_1, df_2, df_3, df_4, df_5], axis = 0)\n",
    "len(df_train)"
   ]
  },
  {
   "cell_type": "code",
   "execution_count": 17,
   "id": "a6de0437",
   "metadata": {},
   "outputs": [],
   "source": [
    "df = df_train"
   ]
  },
  {
   "cell_type": "code",
   "execution_count": 18,
   "id": "1322b599",
   "metadata": {},
   "outputs": [
    {
     "data": {
      "text/html": [
       "<div>\n",
       "<style scoped>\n",
       "    .dataframe tbody tr th:only-of-type {\n",
       "        vertical-align: middle;\n",
       "    }\n",
       "\n",
       "    .dataframe tbody tr th {\n",
       "        vertical-align: top;\n",
       "    }\n",
       "\n",
       "    .dataframe thead th {\n",
       "        text-align: right;\n",
       "    }\n",
       "</style>\n",
       "<table border=\"1\" class=\"dataframe\">\n",
       "  <thead>\n",
       "    <tr style=\"text-align: right;\">\n",
       "      <th></th>\n",
       "      <th>CALL_TYPE</th>\n",
       "      <th>ORIGIN_STAND</th>\n",
       "      <th>TAXI_ID</th>\n",
       "      <th>DAY_TYPE</th>\n",
       "      <th>POLYLINE</th>\n",
       "      <th>target</th>\n",
       "      <th>year</th>\n",
       "      <th>month</th>\n",
       "      <th>day</th>\n",
       "      <th>hour</th>\n",
       "      <th>weekday</th>\n",
       "    </tr>\n",
       "  </thead>\n",
       "  <tbody>\n",
       "    <tr>\n",
       "      <th>200188</th>\n",
       "      <td>B</td>\n",
       "      <td>34.0</td>\n",
       "      <td>20000010</td>\n",
       "      <td>A</td>\n",
       "      <td>[[-8.615691,41.140629],[-8.615385,41.140764],[...</td>\n",
       "      <td>480.0</td>\n",
       "      <td>2013</td>\n",
       "      <td>8</td>\n",
       "      <td>14</td>\n",
       "      <td>1</td>\n",
       "      <td>2</td>\n",
       "    </tr>\n",
       "    <tr>\n",
       "      <th>200202</th>\n",
       "      <td>C</td>\n",
       "      <td>NaN</td>\n",
       "      <td>20000304</td>\n",
       "      <td>A</td>\n",
       "      <td>[[-8.594631,41.150664],[-8.595468,41.15016],[-...</td>\n",
       "      <td>300.0</td>\n",
       "      <td>2013</td>\n",
       "      <td>8</td>\n",
       "      <td>14</td>\n",
       "      <td>1</td>\n",
       "      <td>2</td>\n",
       "    </tr>\n",
       "    <tr>\n",
       "      <th>200204</th>\n",
       "      <td>B</td>\n",
       "      <td>34.0</td>\n",
       "      <td>20000572</td>\n",
       "      <td>A</td>\n",
       "      <td>[[-8.61561,41.140827],[-8.615592,41.140809],[-...</td>\n",
       "      <td>420.0</td>\n",
       "      <td>2013</td>\n",
       "      <td>8</td>\n",
       "      <td>14</td>\n",
       "      <td>1</td>\n",
       "      <td>2</td>\n",
       "    </tr>\n",
       "    <tr>\n",
       "      <th>200210</th>\n",
       "      <td>C</td>\n",
       "      <td>NaN</td>\n",
       "      <td>20000570</td>\n",
       "      <td>A</td>\n",
       "      <td>[[-8.610435,41.153589],[-8.611047,41.153634],[...</td>\n",
       "      <td>465.0</td>\n",
       "      <td>2013</td>\n",
       "      <td>8</td>\n",
       "      <td>14</td>\n",
       "      <td>1</td>\n",
       "      <td>2</td>\n",
       "    </tr>\n",
       "    <tr>\n",
       "      <th>200223</th>\n",
       "      <td>B</td>\n",
       "      <td>9.0</td>\n",
       "      <td>20000173</td>\n",
       "      <td>A</td>\n",
       "      <td>[[-8.606439,41.144679],[-8.60643,41.14467],[-8...</td>\n",
       "      <td>450.0</td>\n",
       "      <td>2013</td>\n",
       "      <td>8</td>\n",
       "      <td>14</td>\n",
       "      <td>1</td>\n",
       "      <td>2</td>\n",
       "    </tr>\n",
       "  </tbody>\n",
       "</table>\n",
       "</div>"
      ],
      "text/plain": [
       "       CALL_TYPE  ORIGIN_STAND   TAXI_ID DAY_TYPE  \\\n",
       "200188         B          34.0  20000010        A   \n",
       "200202         C           NaN  20000304        A   \n",
       "200204         B          34.0  20000572        A   \n",
       "200210         C           NaN  20000570        A   \n",
       "200223         B           9.0  20000173        A   \n",
       "\n",
       "                                                 POLYLINE  target  year  \\\n",
       "200188  [[-8.615691,41.140629],[-8.615385,41.140764],[...   480.0  2013   \n",
       "200202  [[-8.594631,41.150664],[-8.595468,41.15016],[-...   300.0  2013   \n",
       "200204  [[-8.61561,41.140827],[-8.615592,41.140809],[-...   420.0  2013   \n",
       "200210  [[-8.610435,41.153589],[-8.611047,41.153634],[...   465.0  2013   \n",
       "200223  [[-8.606439,41.144679],[-8.60643,41.14467],[-8...   450.0  2013   \n",
       "\n",
       "        month  day  hour  weekday  \n",
       "200188      8   14     1        2  \n",
       "200202      8   14     1        2  \n",
       "200204      8   14     1        2  \n",
       "200210      8   14     1        2  \n",
       "200223      8   14     1        2  "
      ]
     },
     "execution_count": 18,
     "metadata": {},
     "output_type": "execute_result"
    }
   ],
   "source": [
    "df = df.drop(columns=['TRIP_ID', 'ORIGIN_CALL', 'TIMESTAMP', 'MISSING_DATA'])\n",
    "df.head()"
   ]
  },
  {
   "cell_type": "code",
   "execution_count": 19,
   "id": "0e8c3328",
   "metadata": {},
   "outputs": [],
   "source": [
    "df['call_A'] = df[\"CALL_TYPE\"].apply(lambda x : int(x == 'A'))\n",
    "df['call_B'] = df[\"CALL_TYPE\"].apply(lambda x : int(x == 'B'))\n",
    "df['call_C'] = df[\"CALL_TYPE\"].apply(lambda x : int(x == 'C'))"
   ]
  },
  {
   "cell_type": "code",
   "execution_count": 20,
   "id": "cef08321",
   "metadata": {},
   "outputs": [],
   "source": [
    "df['day_A'] = df[\"DAY_TYPE\"].apply(lambda x : int(x == 'A'))\n",
    "df['day_B'] = df[\"DAY_TYPE\"].apply(lambda x : int(x == 'B'))\n",
    "df['day_C'] = df[\"DAY_TYPE\"].apply(lambda x : int(x == 'C'))\n",
    "df['day_D'] = df[\"DAY_TYPE\"].apply(lambda x : int(x == 'D'))\n",
    "df['day_E'] = df[\"DAY_TYPE\"].apply(lambda x : int(x == 'E'))"
   ]
  },
  {
   "cell_type": "markdown",
   "id": "7e722e51",
   "metadata": {},
   "source": [
    "train_id_mean = df['TAXI_ID'].mean()\n",
    "train_id_std = df['TAXI_ID'].std()\n",
    "df['TAXI_ID'] = (df['TAXI_ID'] - train_id_mean)/ train_id_std"
   ]
  },
  {
   "cell_type": "code",
   "execution_count": 21,
   "id": "0a16d627",
   "metadata": {},
   "outputs": [
    {
     "data": {
      "text/plain": [
       "738.8215942382812"
      ]
     },
     "execution_count": 21,
     "metadata": {},
     "output_type": "execute_result"
    }
   ],
   "source": [
    "df_slice = df[df['ORIGIN_STAND'].isna()]\n",
    "stand_nan_mean = df_slice['target'].mean()\n",
    "stand_nan_mean"
   ]
  },
  {
   "cell_type": "code",
   "execution_count": 22,
   "id": "7de370f3",
   "metadata": {},
   "outputs": [],
   "source": [
    "stands = set()\n",
    "stand_to_mean = {}\n",
    "df_temp = df[~df['ORIGIN_STAND'].isna()]\n",
    "for ind, r in df_temp.iterrows():\n",
    "    stands.add(r['ORIGIN_STAND'])\n",
    "for i in stands:\n",
    "    stand_to_mean[i] = df[df['ORIGIN_STAND'] == i]['target'].mean()"
   ]
  },
  {
   "cell_type": "code",
   "execution_count": 23,
   "id": "712e1255",
   "metadata": {},
   "outputs": [],
   "source": [
    "def apply_mean_stand(stand):\n",
    "    if pd.isna(stand):\n",
    "        return stand_nan_mean\n",
    "    else:\n",
    "        return stand_to_mean[stand]"
   ]
  },
  {
   "cell_type": "code",
   "execution_count": 24,
   "id": "279b5fb1",
   "metadata": {},
   "outputs": [],
   "source": [
    "taxi_ids = set()\n",
    "for ind, r in df.iterrows():\n",
    "    taxi_ids.add(r['TAXI_ID'])\n",
    "taxi_id_to_mean = {}\n",
    "for i in taxi_ids:\n",
    "    taxi_id_to_mean[i] = df[df['TAXI_ID'] == i]['target'].mean()"
   ]
  },
  {
   "cell_type": "code",
   "execution_count": 25,
   "id": "2efe61a7",
   "metadata": {},
   "outputs": [],
   "source": [
    "def apply_mean(taxi_id):\n",
    "    return taxi_id_to_mean[taxi_id]"
   ]
  },
  {
   "cell_type": "code",
   "execution_count": 26,
   "id": "70de16dd",
   "metadata": {},
   "outputs": [
    {
     "data": {
      "text/html": [
       "<div>\n",
       "<style scoped>\n",
       "    .dataframe tbody tr th:only-of-type {\n",
       "        vertical-align: middle;\n",
       "    }\n",
       "\n",
       "    .dataframe tbody tr th {\n",
       "        vertical-align: top;\n",
       "    }\n",
       "\n",
       "    .dataframe thead th {\n",
       "        text-align: right;\n",
       "    }\n",
       "</style>\n",
       "<table border=\"1\" class=\"dataframe\">\n",
       "  <thead>\n",
       "    <tr style=\"text-align: right;\">\n",
       "      <th></th>\n",
       "      <th>CALL_TYPE</th>\n",
       "      <th>ORIGIN_STAND</th>\n",
       "      <th>TAXI_ID</th>\n",
       "      <th>DAY_TYPE</th>\n",
       "      <th>POLYLINE</th>\n",
       "      <th>target</th>\n",
       "      <th>year</th>\n",
       "      <th>month</th>\n",
       "      <th>day</th>\n",
       "      <th>hour</th>\n",
       "      <th>...</th>\n",
       "      <th>call_A</th>\n",
       "      <th>call_B</th>\n",
       "      <th>call_C</th>\n",
       "      <th>day_A</th>\n",
       "      <th>day_B</th>\n",
       "      <th>day_C</th>\n",
       "      <th>day_D</th>\n",
       "      <th>day_E</th>\n",
       "      <th>TAXI_ID_MEAN</th>\n",
       "      <th>STAND_MEAN</th>\n",
       "    </tr>\n",
       "  </thead>\n",
       "  <tbody>\n",
       "    <tr>\n",
       "      <th>200188</th>\n",
       "      <td>B</td>\n",
       "      <td>34.0</td>\n",
       "      <td>20000010</td>\n",
       "      <td>A</td>\n",
       "      <td>[[-8.615691,41.140629],[-8.615385,41.140764],[...</td>\n",
       "      <td>480.0</td>\n",
       "      <td>2013</td>\n",
       "      <td>8</td>\n",
       "      <td>14</td>\n",
       "      <td>1</td>\n",
       "      <td>...</td>\n",
       "      <td>0</td>\n",
       "      <td>1</td>\n",
       "      <td>0</td>\n",
       "      <td>1</td>\n",
       "      <td>0</td>\n",
       "      <td>0</td>\n",
       "      <td>0</td>\n",
       "      <td>0</td>\n",
       "      <td>696.652283</td>\n",
       "      <td>669.977600</td>\n",
       "    </tr>\n",
       "    <tr>\n",
       "      <th>200202</th>\n",
       "      <td>C</td>\n",
       "      <td>NaN</td>\n",
       "      <td>20000304</td>\n",
       "      <td>A</td>\n",
       "      <td>[[-8.594631,41.150664],[-8.595468,41.15016],[-...</td>\n",
       "      <td>300.0</td>\n",
       "      <td>2013</td>\n",
       "      <td>8</td>\n",
       "      <td>14</td>\n",
       "      <td>1</td>\n",
       "      <td>...</td>\n",
       "      <td>0</td>\n",
       "      <td>0</td>\n",
       "      <td>1</td>\n",
       "      <td>1</td>\n",
       "      <td>0</td>\n",
       "      <td>0</td>\n",
       "      <td>0</td>\n",
       "      <td>0</td>\n",
       "      <td>706.098267</td>\n",
       "      <td>738.821594</td>\n",
       "    </tr>\n",
       "    <tr>\n",
       "      <th>200204</th>\n",
       "      <td>B</td>\n",
       "      <td>34.0</td>\n",
       "      <td>20000572</td>\n",
       "      <td>A</td>\n",
       "      <td>[[-8.61561,41.140827],[-8.615592,41.140809],[-...</td>\n",
       "      <td>420.0</td>\n",
       "      <td>2013</td>\n",
       "      <td>8</td>\n",
       "      <td>14</td>\n",
       "      <td>1</td>\n",
       "      <td>...</td>\n",
       "      <td>0</td>\n",
       "      <td>1</td>\n",
       "      <td>0</td>\n",
       "      <td>1</td>\n",
       "      <td>0</td>\n",
       "      <td>0</td>\n",
       "      <td>0</td>\n",
       "      <td>0</td>\n",
       "      <td>679.791077</td>\n",
       "      <td>669.977600</td>\n",
       "    </tr>\n",
       "    <tr>\n",
       "      <th>200210</th>\n",
       "      <td>C</td>\n",
       "      <td>NaN</td>\n",
       "      <td>20000570</td>\n",
       "      <td>A</td>\n",
       "      <td>[[-8.610435,41.153589],[-8.611047,41.153634],[...</td>\n",
       "      <td>465.0</td>\n",
       "      <td>2013</td>\n",
       "      <td>8</td>\n",
       "      <td>14</td>\n",
       "      <td>1</td>\n",
       "      <td>...</td>\n",
       "      <td>0</td>\n",
       "      <td>0</td>\n",
       "      <td>1</td>\n",
       "      <td>1</td>\n",
       "      <td>0</td>\n",
       "      <td>0</td>\n",
       "      <td>0</td>\n",
       "      <td>0</td>\n",
       "      <td>690.751526</td>\n",
       "      <td>738.821594</td>\n",
       "    </tr>\n",
       "    <tr>\n",
       "      <th>200223</th>\n",
       "      <td>B</td>\n",
       "      <td>9.0</td>\n",
       "      <td>20000173</td>\n",
       "      <td>A</td>\n",
       "      <td>[[-8.606439,41.144679],[-8.60643,41.14467],[-8...</td>\n",
       "      <td>450.0</td>\n",
       "      <td>2013</td>\n",
       "      <td>8</td>\n",
       "      <td>14</td>\n",
       "      <td>1</td>\n",
       "      <td>...</td>\n",
       "      <td>0</td>\n",
       "      <td>1</td>\n",
       "      <td>0</td>\n",
       "      <td>1</td>\n",
       "      <td>0</td>\n",
       "      <td>0</td>\n",
       "      <td>0</td>\n",
       "      <td>0</td>\n",
       "      <td>615.996399</td>\n",
       "      <td>785.105835</td>\n",
       "    </tr>\n",
       "  </tbody>\n",
       "</table>\n",
       "<p>5 rows × 21 columns</p>\n",
       "</div>"
      ],
      "text/plain": [
       "       CALL_TYPE  ORIGIN_STAND   TAXI_ID DAY_TYPE  \\\n",
       "200188         B          34.0  20000010        A   \n",
       "200202         C           NaN  20000304        A   \n",
       "200204         B          34.0  20000572        A   \n",
       "200210         C           NaN  20000570        A   \n",
       "200223         B           9.0  20000173        A   \n",
       "\n",
       "                                                 POLYLINE  target  year  \\\n",
       "200188  [[-8.615691,41.140629],[-8.615385,41.140764],[...   480.0  2013   \n",
       "200202  [[-8.594631,41.150664],[-8.595468,41.15016],[-...   300.0  2013   \n",
       "200204  [[-8.61561,41.140827],[-8.615592,41.140809],[-...   420.0  2013   \n",
       "200210  [[-8.610435,41.153589],[-8.611047,41.153634],[...   465.0  2013   \n",
       "200223  [[-8.606439,41.144679],[-8.60643,41.14467],[-8...   450.0  2013   \n",
       "\n",
       "        month  day  hour  ...  call_A  call_B  call_C  day_A  day_B  day_C  \\\n",
       "200188      8   14     1  ...       0       1       0      1      0      0   \n",
       "200202      8   14     1  ...       0       0       1      1      0      0   \n",
       "200204      8   14     1  ...       0       1       0      1      0      0   \n",
       "200210      8   14     1  ...       0       0       1      1      0      0   \n",
       "200223      8   14     1  ...       0       1       0      1      0      0   \n",
       "\n",
       "        day_D  day_E  TAXI_ID_MEAN  STAND_MEAN  \n",
       "200188      0      0    696.652283  669.977600  \n",
       "200202      0      0    706.098267  738.821594  \n",
       "200204      0      0    679.791077  669.977600  \n",
       "200210      0      0    690.751526  738.821594  \n",
       "200223      0      0    615.996399  785.105835  \n",
       "\n",
       "[5 rows x 21 columns]"
      ]
     },
     "execution_count": 26,
     "metadata": {},
     "output_type": "execute_result"
    }
   ],
   "source": [
    "df['TAXI_ID_MEAN'] = df['TAXI_ID'].apply(apply_mean)\n",
    "df['STAND_MEAN'] = df['ORIGIN_STAND'].apply(apply_mean_stand)\n",
    "df.head()"
   ]
  },
  {
   "cell_type": "code",
   "execution_count": 27,
   "id": "1b92c41e",
   "metadata": {},
   "outputs": [],
   "source": [
    "train_id_mean = df['TAXI_ID_MEAN'].mean()\n",
    "train_id_std = df['TAXI_ID_MEAN'].std()"
   ]
  },
  {
   "cell_type": "code",
   "execution_count": 28,
   "id": "287a80cb",
   "metadata": {},
   "outputs": [],
   "source": [
    "train_stand_mean = df['STAND_MEAN'].mean()\n",
    "train_stand_std = df['STAND_MEAN'].std()"
   ]
  },
  {
   "cell_type": "code",
   "execution_count": 29,
   "id": "da99a7f3",
   "metadata": {},
   "outputs": [],
   "source": [
    "def normalize(col_name):\n",
    "    df[col_name] = np.float32((df[col_name] - df[col_name].mean())/df[col_name].std())"
   ]
  },
  {
   "cell_type": "code",
   "execution_count": 30,
   "id": "e85cc21e",
   "metadata": {},
   "outputs": [],
   "source": [
    "def parse_num(str, index):\n",
    "    comma_pos = str.find(',')\n",
    "    if comma_pos == -1:\n",
    "        return None\n",
    "    if index == 0:\n",
    "        return np.float32(str[2:comma_pos])\n",
    "    else:\n",
    "        return np.float32(str[comma_pos + 1:str.find(']')])"
   ]
  },
  {
   "cell_type": "code",
   "execution_count": 31,
   "id": "8d6272ad",
   "metadata": {},
   "outputs": [
    {
     "data": {
      "text/plain": [
       "435373"
      ]
     },
     "execution_count": 31,
     "metadata": {},
     "output_type": "execute_result"
    }
   ],
   "source": [
    "df['Init_longitude'] = df['POLYLINE'].apply(lambda x : parse_num(x,0))\n",
    "df['Init_latitude'] = df['POLYLINE'].apply(lambda x : parse_num(x,1))\n",
    "df = df.loc[df['Init_longitude'] != None]\n",
    "df = df.loc[df['Init_latitude'] != None]\n",
    "train_long_mean = df['Init_longitude'].mean()\n",
    "train_lat_mean = df['Init_latitude'].mean()\n",
    "train_long_std = df['Init_longitude'].std()\n",
    "train_lat_std = df['Init_latitude'].std()\n",
    "normalize('Init_longitude')\n",
    "normalize('Init_latitude')\n",
    "len(df)"
   ]
  },
  {
   "cell_type": "code",
   "execution_count": 32,
   "id": "c5e78130",
   "metadata": {},
   "outputs": [],
   "source": [
    "normalize('STAND_MEAN')\n",
    "normalize('TAXI_ID_MEAN')"
   ]
  },
  {
   "cell_type": "code",
   "execution_count": 33,
   "id": "39e72f28",
   "metadata": {},
   "outputs": [
    {
     "data": {
      "text/html": [
       "<div>\n",
       "<style scoped>\n",
       "    .dataframe tbody tr th:only-of-type {\n",
       "        vertical-align: middle;\n",
       "    }\n",
       "\n",
       "    .dataframe tbody tr th {\n",
       "        vertical-align: top;\n",
       "    }\n",
       "\n",
       "    .dataframe thead th {\n",
       "        text-align: right;\n",
       "    }\n",
       "</style>\n",
       "<table border=\"1\" class=\"dataframe\">\n",
       "  <thead>\n",
       "    <tr style=\"text-align: right;\">\n",
       "      <th></th>\n",
       "      <th>CALL_TYPE</th>\n",
       "      <th>ORIGIN_STAND</th>\n",
       "      <th>TAXI_ID</th>\n",
       "      <th>DAY_TYPE</th>\n",
       "      <th>POLYLINE</th>\n",
       "      <th>target</th>\n",
       "      <th>year</th>\n",
       "      <th>month</th>\n",
       "      <th>day</th>\n",
       "      <th>hour</th>\n",
       "      <th>...</th>\n",
       "      <th>call_C</th>\n",
       "      <th>day_A</th>\n",
       "      <th>day_B</th>\n",
       "      <th>day_C</th>\n",
       "      <th>day_D</th>\n",
       "      <th>day_E</th>\n",
       "      <th>TAXI_ID_MEAN</th>\n",
       "      <th>STAND_MEAN</th>\n",
       "      <th>Init_longitude</th>\n",
       "      <th>Init_latitude</th>\n",
       "    </tr>\n",
       "  </thead>\n",
       "  <tbody>\n",
       "    <tr>\n",
       "      <th>200188</th>\n",
       "      <td>B</td>\n",
       "      <td>34.0</td>\n",
       "      <td>20000010</td>\n",
       "      <td>A</td>\n",
       "      <td>[[-8.615691,41.140629],[-8.615385,41.140764],[...</td>\n",
       "      <td>480.0</td>\n",
       "      <td>2013</td>\n",
       "      <td>8</td>\n",
       "      <td>14</td>\n",
       "      <td>1</td>\n",
       "      <td>...</td>\n",
       "      <td>0</td>\n",
       "      <td>1</td>\n",
       "      <td>0</td>\n",
       "      <td>0</td>\n",
       "      <td>0</td>\n",
       "      <td>0</td>\n",
       "      <td>-0.233646</td>\n",
       "      <td>-0.773771</td>\n",
       "      <td>-0.592812</td>\n",
       "      <td>0.644744</td>\n",
       "    </tr>\n",
       "    <tr>\n",
       "      <th>200202</th>\n",
       "      <td>C</td>\n",
       "      <td>NaN</td>\n",
       "      <td>20000304</td>\n",
       "      <td>A</td>\n",
       "      <td>[[-8.594631,41.150664],[-8.595468,41.15016],[-...</td>\n",
       "      <td>300.0</td>\n",
       "      <td>2013</td>\n",
       "      <td>8</td>\n",
       "      <td>14</td>\n",
       "      <td>1</td>\n",
       "      <td>...</td>\n",
       "      <td>1</td>\n",
       "      <td>1</td>\n",
       "      <td>0</td>\n",
       "      <td>0</td>\n",
       "      <td>0</td>\n",
       "      <td>0</td>\n",
       "      <td>-0.118268</td>\n",
       "      <td>0.388918</td>\n",
       "      <td>0.017750</td>\n",
       "      <td>0.837508</td>\n",
       "    </tr>\n",
       "    <tr>\n",
       "      <th>200204</th>\n",
       "      <td>B</td>\n",
       "      <td>34.0</td>\n",
       "      <td>20000572</td>\n",
       "      <td>A</td>\n",
       "      <td>[[-8.61561,41.140827],[-8.615592,41.140809],[-...</td>\n",
       "      <td>420.0</td>\n",
       "      <td>2013</td>\n",
       "      <td>8</td>\n",
       "      <td>14</td>\n",
       "      <td>1</td>\n",
       "      <td>...</td>\n",
       "      <td>0</td>\n",
       "      <td>1</td>\n",
       "      <td>0</td>\n",
       "      <td>0</td>\n",
       "      <td>0</td>\n",
       "      <td>0</td>\n",
       "      <td>-0.439596</td>\n",
       "      <td>-0.773771</td>\n",
       "      <td>-0.590462</td>\n",
       "      <td>0.648554</td>\n",
       "    </tr>\n",
       "    <tr>\n",
       "      <th>200210</th>\n",
       "      <td>C</td>\n",
       "      <td>NaN</td>\n",
       "      <td>20000570</td>\n",
       "      <td>A</td>\n",
       "      <td>[[-8.610435,41.153589],[-8.611047,41.153634],[...</td>\n",
       "      <td>465.0</td>\n",
       "      <td>2013</td>\n",
       "      <td>8</td>\n",
       "      <td>14</td>\n",
       "      <td>1</td>\n",
       "      <td>...</td>\n",
       "      <td>1</td>\n",
       "      <td>1</td>\n",
       "      <td>0</td>\n",
       "      <td>0</td>\n",
       "      <td>0</td>\n",
       "      <td>0</td>\n",
       "      <td>-0.305720</td>\n",
       "      <td>0.388918</td>\n",
       "      <td>-0.440413</td>\n",
       "      <td>0.893630</td>\n",
       "    </tr>\n",
       "    <tr>\n",
       "      <th>200223</th>\n",
       "      <td>B</td>\n",
       "      <td>9.0</td>\n",
       "      <td>20000173</td>\n",
       "      <td>A</td>\n",
       "      <td>[[-8.606439,41.144679],[-8.60643,41.14467],[-8...</td>\n",
       "      <td>450.0</td>\n",
       "      <td>2013</td>\n",
       "      <td>8</td>\n",
       "      <td>14</td>\n",
       "      <td>1</td>\n",
       "      <td>...</td>\n",
       "      <td>0</td>\n",
       "      <td>1</td>\n",
       "      <td>0</td>\n",
       "      <td>0</td>\n",
       "      <td>0</td>\n",
       "      <td>0</td>\n",
       "      <td>-1.218813</td>\n",
       "      <td>1.170601</td>\n",
       "      <td>-0.324566</td>\n",
       "      <td>0.722553</td>\n",
       "    </tr>\n",
       "  </tbody>\n",
       "</table>\n",
       "<p>5 rows × 23 columns</p>\n",
       "</div>"
      ],
      "text/plain": [
       "       CALL_TYPE  ORIGIN_STAND   TAXI_ID DAY_TYPE  \\\n",
       "200188         B          34.0  20000010        A   \n",
       "200202         C           NaN  20000304        A   \n",
       "200204         B          34.0  20000572        A   \n",
       "200210         C           NaN  20000570        A   \n",
       "200223         B           9.0  20000173        A   \n",
       "\n",
       "                                                 POLYLINE  target  year  \\\n",
       "200188  [[-8.615691,41.140629],[-8.615385,41.140764],[...   480.0  2013   \n",
       "200202  [[-8.594631,41.150664],[-8.595468,41.15016],[-...   300.0  2013   \n",
       "200204  [[-8.61561,41.140827],[-8.615592,41.140809],[-...   420.0  2013   \n",
       "200210  [[-8.610435,41.153589],[-8.611047,41.153634],[...   465.0  2013   \n",
       "200223  [[-8.606439,41.144679],[-8.60643,41.14467],[-8...   450.0  2013   \n",
       "\n",
       "        month  day  hour  ...  call_C  day_A  day_B  day_C  day_D  day_E  \\\n",
       "200188      8   14     1  ...       0      1      0      0      0      0   \n",
       "200202      8   14     1  ...       1      1      0      0      0      0   \n",
       "200204      8   14     1  ...       0      1      0      0      0      0   \n",
       "200210      8   14     1  ...       1      1      0      0      0      0   \n",
       "200223      8   14     1  ...       0      1      0      0      0      0   \n",
       "\n",
       "        TAXI_ID_MEAN  STAND_MEAN  Init_longitude  Init_latitude  \n",
       "200188     -0.233646   -0.773771       -0.592812       0.644744  \n",
       "200202     -0.118268    0.388918        0.017750       0.837508  \n",
       "200204     -0.439596   -0.773771       -0.590462       0.648554  \n",
       "200210     -0.305720    0.388918       -0.440413       0.893630  \n",
       "200223     -1.218813    1.170601       -0.324566       0.722553  \n",
       "\n",
       "[5 rows x 23 columns]"
      ]
     },
     "execution_count": 33,
     "metadata": {},
     "output_type": "execute_result"
    }
   ],
   "source": [
    "df.head()"
   ]
  },
  {
   "cell_type": "code",
   "execution_count": 34,
   "id": "2fe0395a",
   "metadata": {},
   "outputs": [],
   "source": [
    "train_set = torch.reshape(torch.tensor(df['call_A'].values),(-1,1))\n",
    "#,'TAXI_ID_MEAN'\n",
    "col_list = ['call_B', 'call_C', 'day_A', 'day_B', 'day_C', 'day_D', 'day_E'\n",
    "            ,'Init_longitude', 'Init_latitude', 'TAXI_ID_MEAN']\n",
    "for col_name in col_list:\n",
    "#     print(train_set.dtype)\n",
    "    train_set = torch.cat((train_set,torch.reshape(torch.from_numpy(df[col_name].values),(-1,1))),1)"
   ]
  },
  {
   "cell_type": "code",
   "execution_count": 35,
   "id": "a90451ef",
   "metadata": {},
   "outputs": [],
   "source": [
    "train_set = train_set.type('torch.FloatTensor')"
   ]
  },
  {
   "cell_type": "code",
   "execution_count": 36,
   "id": "3c148dac",
   "metadata": {},
   "outputs": [],
   "source": [
    "target_set = torch.reshape(torch.tensor(df['target'].values),(-1,1))"
   ]
  },
  {
   "cell_type": "code",
   "execution_count": 37,
   "id": "45409c19",
   "metadata": {},
   "outputs": [
    {
     "data": {
      "text/plain": [
       "tensor([ 0.0000,  1.0000,  0.0000,  1.0000,  0.0000,  0.0000,  0.0000,  0.0000,\n",
       "        -0.5928,  0.6447, -0.2336])"
      ]
     },
     "execution_count": 37,
     "metadata": {},
     "output_type": "execute_result"
    }
   ],
   "source": [
    "train_set[0]"
   ]
  },
  {
   "cell_type": "code",
   "execution_count": 38,
   "id": "529a81f4",
   "metadata": {},
   "outputs": [],
   "source": [
    "class MLP_Regressor(torch.nn.Module):\n",
    "    def __init__(self, in_dim, hidden_dim, out_dim = 1):\n",
    "        super(MLP_Regressor, self).__init__() #Refers to the fact that this is a subclass of nn.Module and is inheriting all methods\n",
    "        self.in_dim = in_dim\n",
    "        self.hidden_dim = hidden_dim\n",
    "        self.out_dim = 1\n",
    "                \n",
    "        self.fc = torch.nn.Sequential(\n",
    "            nn.Linear(self.in_dim, self.hidden_dim),\n",
    "            nn.ReLU(),\n",
    "            nn.Linear(self.hidden_dim, self.hidden_dim * 2),\n",
    "            nn.ReLU(),\n",
    "            nn.Linear(self.hidden_dim * 2, self.hidden_dim),\n",
    "            nn.ReLU(),\n",
    "            nn.Linear(self.hidden_dim, self.out_dim)\n",
    "        )\n",
    "\n",
    "    \n",
    "    def forward(self, x):\n",
    "        x = self.fc(x)\n",
    "        x = x.squeeze(1)\n",
    "        return x"
   ]
  },
  {
   "cell_type": "code",
   "execution_count": 39,
   "id": "854039c6",
   "metadata": {},
   "outputs": [],
   "source": [
    "targets = torch.reshape(torch.from_numpy(df['target'].values),(-1,1))"
   ]
  },
  {
   "cell_type": "code",
   "execution_count": 40,
   "id": "1c31f08c",
   "metadata": {},
   "outputs": [
    {
     "data": {
      "text/plain": [
       "435373"
      ]
     },
     "execution_count": 40,
     "metadata": {},
     "output_type": "execute_result"
    }
   ],
   "source": [
    "len(targets)"
   ]
  },
  {
   "cell_type": "code",
   "execution_count": 42,
   "id": "a7520c82",
   "metadata": {},
   "outputs": [
    {
     "name": "stdout",
     "output_type": "stream",
     "text": [
      "391835\n",
      "43538\n"
     ]
    }
   ],
   "source": [
    "batch_size = 128\n",
    "lst_all = list(zip(train_set, targets))\n",
    "np.random.shuffle(lst_all)\n",
    "lst_train = lst_all[:int(len(lst_all) * 0.9)]\n",
    "lst_valid = lst_all[int(len(lst_all) * 0.9):]\n",
    "len_train = len(lst_train)\n",
    "print(len(lst_train))\n",
    "print(len(lst_valid))\n",
    "#print(lst_train[0])\n",
    "trainloader = torch.utils.data.DataLoader(lst_train , batch_size=batch_size, shuffle=True, num_workers=2)\n",
    "validloader = torch.utils.data.DataLoader(lst_valid , batch_size=batch_size, shuffle=False, num_workers=2)"
   ]
  },
  {
   "cell_type": "code",
   "execution_count": 49,
   "id": "a26e87d8",
   "metadata": {},
   "outputs": [],
   "source": [
    "mlp_model = MLP_Regressor(11, 64, 1).to(device)\n",
    "lr_mlp = 5e-6\n",
    "optimizer = torch.optim.Adam(mlp_model.parameters(), lr = lr_mlp)\n",
    "criterion = nn.MSELoss()"
   ]
  },
  {
   "cell_type": "code",
   "execution_count": 50,
   "id": "48d8647a",
   "metadata": {},
   "outputs": [],
   "source": [
    "def get_loss(X, y, model, criterion):\n",
    "    y_pred = model(X)\n",
    "    loss = criterion(y_pred, y)\n",
    "    return torch.sqrt(loss)"
   ]
  },
  {
   "cell_type": "code",
   "execution_count": 51,
   "id": "693b3d2b",
   "metadata": {},
   "outputs": [],
   "source": [
    "models = []"
   ]
  },
  {
   "cell_type": "code",
   "execution_count": 53,
   "id": "179171c7",
   "metadata": {},
   "outputs": [],
   "source": [
    "def validate(dataloader, model, criterion):\n",
    "    valid_losses = []\n",
    "    with torch.no_grad():\n",
    "        for X, y in dataloader:\n",
    "            X, y = X.to(device), y.to(device)\n",
    "            loss = get_loss(X, y, model, criterion)\n",
    "            valid_losses.append(loss.item())\n",
    "    \n",
    "    return np.mean(valid_losses)"
   ]
  },
  {
   "cell_type": "code",
   "execution_count": 52,
   "id": "00dab4ce",
   "metadata": {},
   "outputs": [
    {
     "name": "stderr",
     "output_type": "stream",
     "text": [
      " 20%|██        | 1/5 [00:46<03:05, 46.47s/it]"
     ]
    },
    {
     "name": "stdout",
     "output_type": "stream",
     "text": [
      "RMSE: 825.6171279000271\n",
      "Total loss: 2528039.645629883\n"
     ]
    },
    {
     "name": "stderr",
     "output_type": "stream",
     "text": [
      " 40%|████      | 2/5 [01:32<02:18, 46.07s/it]"
     ]
    },
    {
     "name": "stdout",
     "output_type": "stream",
     "text": [
      "RMSE: 820.5610161799375\n",
      "Total loss: 2512557.8315429688\n"
     ]
    },
    {
     "name": "stderr",
     "output_type": "stream",
     "text": [
      " 60%|██████    | 3/5 [02:20<01:34, 47.20s/it]"
     ]
    },
    {
     "name": "stdout",
     "output_type": "stream",
     "text": [
      "RMSE: 806.010960753956\n",
      "Total loss: 2468005.5618286133\n"
     ]
    },
    {
     "name": "stderr",
     "output_type": "stream",
     "text": [
      " 80%|████████  | 4/5 [03:08<00:47, 47.27s/it]"
     ]
    },
    {
     "name": "stdout",
     "output_type": "stream",
     "text": [
      "RMSE: 776.2574492590946\n",
      "Total loss: 2376900.3096313477\n"
     ]
    },
    {
     "name": "stderr",
     "output_type": "stream",
     "text": [
      "100%|██████████| 5/5 [03:54<00:00, 46.80s/it]"
     ]
    },
    {
     "name": "stdout",
     "output_type": "stream",
     "text": [
      "RMSE: 725.939240458742\n",
      "Total loss: 2222825.954284668\n",
      "Finished Training\n"
     ]
    },
    {
     "name": "stderr",
     "output_type": "stream",
     "text": [
      "\n"
     ]
    },
    {
     "ename": "NameError",
     "evalue": "name 'validate' is not defined",
     "output_type": "error",
     "traceback": [
      "\u001b[1;31m---------------------------------------------------------------------------\u001b[0m",
      "\u001b[1;31mNameError\u001b[0m                                 Traceback (most recent call last)",
      "\u001b[1;32m~\\AppData\\Local\\Temp/ipykernel_10652/2653050802.py\u001b[0m in \u001b[0;36m<module>\u001b[1;34m\u001b[0m\n\u001b[0;32m     22\u001b[0m     \u001b[0mprint\u001b[0m\u001b[1;33m(\u001b[0m\u001b[1;34mf'Total loss: {running_loss}'\u001b[0m\u001b[1;33m)\u001b[0m\u001b[1;33m\u001b[0m\u001b[1;33m\u001b[0m\u001b[0m\n\u001b[0;32m     23\u001b[0m \u001b[0mprint\u001b[0m\u001b[1;33m(\u001b[0m\u001b[1;34m'Finished Training'\u001b[0m\u001b[1;33m)\u001b[0m\u001b[1;33m\u001b[0m\u001b[1;33m\u001b[0m\u001b[0m\n\u001b[1;32m---> 24\u001b[1;33m \u001b[0mv_loss\u001b[0m \u001b[1;33m=\u001b[0m \u001b[0mvalidate\u001b[0m\u001b[1;33m(\u001b[0m\u001b[0mvalidloader\u001b[0m\u001b[1;33m,\u001b[0m \u001b[0mmlp_model\u001b[0m\u001b[1;33m,\u001b[0m \u001b[0mcriterion\u001b[0m\u001b[1;33m)\u001b[0m\u001b[1;33m\u001b[0m\u001b[1;33m\u001b[0m\u001b[0m\n\u001b[0m\u001b[0;32m     25\u001b[0m \u001b[0mprint\u001b[0m\u001b[1;33m(\u001b[0m\u001b[1;34mf'Valid RMSE: {v_loss}'\u001b[0m\u001b[1;33m)\u001b[0m\u001b[1;33m\u001b[0m\u001b[1;33m\u001b[0m\u001b[0m\n",
      "\u001b[1;31mNameError\u001b[0m: name 'validate' is not defined"
     ]
    }
   ],
   "source": [
    "from tqdm import tqdm\n",
    "for epoch in tqdm(range(5)):\n",
    "\n",
    "    running_loss = 0.0\n",
    "    losses = []\n",
    "    for X, y in trainloader:\n",
    "        X, y = X.to(device), y.to(device)\n",
    "\n",
    "        # zero the parameter gradients\n",
    "        optimizer.zero_grad()\n",
    "\n",
    "        # forward + backward + optimize\n",
    "        loss = get_loss(X, y, mlp_model, criterion)\n",
    "        losses.append(loss.item())\n",
    "        loss.backward()\n",
    "        optimizer.step()\n",
    "\n",
    "        running_loss += loss.cpu().detach().numpy()\n",
    "\n",
    "    models.append(torch.jit.script(mlp_model))\n",
    "    print(f'RMSE: {running_loss / len(losses)}')\n",
    "    print(f'Total loss: {running_loss}')\n",
    "print('Finished Training')\n"
   ]
  },
  {
   "cell_type": "code",
   "execution_count": 54,
   "id": "50ebfeda",
   "metadata": {},
   "outputs": [
    {
     "name": "stderr",
     "output_type": "stream",
     "text": [
      "Exception ignored in: <function _MultiProcessingDataLoaderIter.__del__ at 0x0000022FEEBDB9D0>\n",
      "Traceback (most recent call last):\n",
      "  File \"C:\\ProgramData\\Anaconda3\\lib\\site-packages\\torch\\utils\\data\\dataloader.py\", line 1479, in __del__\n",
      "    self._shutdown_workers()\n",
      "  File \"C:\\ProgramData\\Anaconda3\\lib\\site-packages\\torch\\utils\\data\\dataloader.py\", line 1437, in _shutdown_workers\n",
      "    if self._persistent_workers or self._workers_status[worker_id]:\n",
      "AttributeError: '_MultiProcessingDataLoaderIter' object has no attribute '_workers_status'\n",
      "C:\\ProgramData\\Anaconda3\\lib\\site-packages\\torch\\nn\\modules\\loss.py:536: UserWarning: Using a target size (torch.Size([18, 1])) that is different to the input size (torch.Size([18])). This will likely lead to incorrect results due to broadcasting. Please ensure they have the same size.\n",
      "  return F.mse_loss(input, target, reduction=self.reduction)\n"
     ]
    },
    {
     "name": "stdout",
     "output_type": "stream",
     "text": [
      "Valid RMSE: 693.2578767569534\n"
     ]
    }
   ],
   "source": [
    "v_loss = validate(validloader, mlp_model, criterion)\n",
    "print(f'Valid RMSE: {v_loss}')"
   ]
  },
  {
   "cell_type": "code",
   "execution_count": 42,
   "id": "a800af90",
   "metadata": {},
   "outputs": [],
   "source": [
    "model_scripted = torch.jit.script(mlp_model)\n",
    "#model_scripted.save('whyworking.pt')"
   ]
  },
  {
   "cell_type": "code",
   "execution_count": null,
   "id": "29ef05ba",
   "metadata": {},
   "outputs": [],
   "source": [
    "#mlp_model = torch.jit.load('mlp_model.pt')\n",
    "#mlp_model.eval()"
   ]
  },
  {
   "cell_type": "code",
   "execution_count": 240,
   "id": "fde74e9b",
   "metadata": {},
   "outputs": [],
   "source": [
    "import warnings\n",
    "warnings.filterwarnings('ignore')"
   ]
  },
  {
   "cell_type": "markdown",
   "id": "40f58bc1",
   "metadata": {},
   "source": [
    "param_grid = {\n",
    "    'n_estimators': [50, 100, 300, 500],\n",
    "    #'num_leaves': [17, 31, 45],\n",
    "    'max_depth': [-1, 5, 10, 15],\n",
    "    'learning_rate': [1e-3, 1e-2, 0.1, 0.2]\n",
    "}\n",
    "lgbm = lgb.LGBMRegressor()\n",
    "lgbmcv = GridSearchCV(lgbm, param_grid = param_grid, scoring = 'neg_root_mean_squared_error', cv = 8)\n",
    "lgbmcv.fit(train_set, target_set)"
   ]
  },
  {
   "cell_type": "markdown",
   "id": "d41091b2",
   "metadata": {},
   "source": [
    "best_lgbm = lgbmcv.best_estimator_\n",
    "pred = best_lgbm.predict(train_set)\n",
    "targets = df['target'].values\n",
    "np.sqrt(np.mean((pred-targets)**2))"
   ]
  },
  {
   "cell_type": "code",
   "execution_count": 55,
   "id": "e33f1b90",
   "metadata": {},
   "outputs": [],
   "source": [
    "stands = pd.read_csv(\"metaData_taxistandsID_name_GPSlocation.csv\")\n",
    "stand_dict = {}\n",
    "stands.head()\n",
    "for r, s in stands.iterrows():\n",
    "    stand_dict[s['ID']] = (np.float32(s['Longitude']), np.float32(s['Latitude']))"
   ]
  },
  {
   "cell_type": "code",
   "execution_count": 56,
   "id": "240c9c64",
   "metadata": {},
   "outputs": [],
   "source": [
    "df_test = pd.read_csv(\"test_public.csv\")"
   ]
  },
  {
   "cell_type": "code",
   "execution_count": 57,
   "id": "5ba19e4a",
   "metadata": {},
   "outputs": [
    {
     "data": {
      "text/html": [
       "<div>\n",
       "<style scoped>\n",
       "    .dataframe tbody tr th:only-of-type {\n",
       "        vertical-align: middle;\n",
       "    }\n",
       "\n",
       "    .dataframe tbody tr th {\n",
       "        vertical-align: top;\n",
       "    }\n",
       "\n",
       "    .dataframe thead th {\n",
       "        text-align: right;\n",
       "    }\n",
       "</style>\n",
       "<table border=\"1\" class=\"dataframe\">\n",
       "  <thead>\n",
       "    <tr style=\"text-align: right;\">\n",
       "      <th></th>\n",
       "      <th>TRIP_ID</th>\n",
       "      <th>CALL_TYPE</th>\n",
       "      <th>ORIGIN_STAND</th>\n",
       "      <th>TAXI_ID</th>\n",
       "      <th>TIMESTAMP</th>\n",
       "      <th>DAY_TYPE</th>\n",
       "    </tr>\n",
       "  </thead>\n",
       "  <tbody>\n",
       "    <tr>\n",
       "      <th>0</th>\n",
       "      <td>T1</td>\n",
       "      <td>B</td>\n",
       "      <td>15.0</td>\n",
       "      <td>20000542</td>\n",
       "      <td>1408039037</td>\n",
       "      <td>A</td>\n",
       "    </tr>\n",
       "    <tr>\n",
       "      <th>1</th>\n",
       "      <td>T2</td>\n",
       "      <td>B</td>\n",
       "      <td>57.0</td>\n",
       "      <td>20000108</td>\n",
       "      <td>1408038611</td>\n",
       "      <td>A</td>\n",
       "    </tr>\n",
       "    <tr>\n",
       "      <th>2</th>\n",
       "      <td>T3</td>\n",
       "      <td>B</td>\n",
       "      <td>15.0</td>\n",
       "      <td>20000370</td>\n",
       "      <td>1408038568</td>\n",
       "      <td>A</td>\n",
       "    </tr>\n",
       "    <tr>\n",
       "      <th>3</th>\n",
       "      <td>T4</td>\n",
       "      <td>B</td>\n",
       "      <td>53.0</td>\n",
       "      <td>20000492</td>\n",
       "      <td>1408039090</td>\n",
       "      <td>A</td>\n",
       "    </tr>\n",
       "    <tr>\n",
       "      <th>4</th>\n",
       "      <td>T5</td>\n",
       "      <td>B</td>\n",
       "      <td>18.0</td>\n",
       "      <td>20000621</td>\n",
       "      <td>1408039177</td>\n",
       "      <td>A</td>\n",
       "    </tr>\n",
       "  </tbody>\n",
       "</table>\n",
       "</div>"
      ],
      "text/plain": [
       "  TRIP_ID CALL_TYPE  ORIGIN_STAND   TAXI_ID   TIMESTAMP DAY_TYPE\n",
       "0      T1         B          15.0  20000542  1408039037        A\n",
       "1      T2         B          57.0  20000108  1408038611        A\n",
       "2      T3         B          15.0  20000370  1408038568        A\n",
       "3      T4         B          53.0  20000492  1408039090        A\n",
       "4      T5         B          18.0  20000621  1408039177        A"
      ]
     },
     "execution_count": 57,
     "metadata": {},
     "output_type": "execute_result"
    }
   ],
   "source": [
    "df_test = df_test.drop(columns=['ORIGIN_CALL','MISSING_DATA'])\n",
    "df_test.head()"
   ]
  },
  {
   "cell_type": "code",
   "execution_count": 58,
   "id": "a0cd7a77",
   "metadata": {},
   "outputs": [
    {
     "data": {
      "text/plain": [
       "244"
      ]
     },
     "execution_count": 58,
     "metadata": {},
     "output_type": "execute_result"
    }
   ],
   "source": [
    "len(df_test['TAXI_ID'].unique())"
   ]
  },
  {
   "cell_type": "code",
   "execution_count": 59,
   "id": "df2a2612",
   "metadata": {},
   "outputs": [
    {
     "data": {
      "text/plain": [
       "(2014, 8, 14, 18, 3)"
      ]
     },
     "execution_count": 59,
     "metadata": {},
     "output_type": "execute_result"
    }
   ],
   "source": [
    "parse_time(1408039037)"
   ]
  },
  {
   "cell_type": "code",
   "execution_count": 60,
   "id": "2ca314ec",
   "metadata": {},
   "outputs": [
    {
     "data": {
      "text/html": [
       "<div>\n",
       "<style scoped>\n",
       "    .dataframe tbody tr th:only-of-type {\n",
       "        vertical-align: middle;\n",
       "    }\n",
       "\n",
       "    .dataframe tbody tr th {\n",
       "        vertical-align: top;\n",
       "    }\n",
       "\n",
       "    .dataframe thead th {\n",
       "        text-align: right;\n",
       "    }\n",
       "</style>\n",
       "<table border=\"1\" class=\"dataframe\">\n",
       "  <thead>\n",
       "    <tr style=\"text-align: right;\">\n",
       "      <th></th>\n",
       "      <th>TRIP_ID</th>\n",
       "      <th>CALL_TYPE</th>\n",
       "      <th>ORIGIN_STAND</th>\n",
       "      <th>TAXI_ID</th>\n",
       "      <th>TIMESTAMP</th>\n",
       "      <th>DAY_TYPE</th>\n",
       "      <th>year</th>\n",
       "      <th>month</th>\n",
       "      <th>day</th>\n",
       "      <th>hour</th>\n",
       "      <th>weekday</th>\n",
       "    </tr>\n",
       "  </thead>\n",
       "  <tbody>\n",
       "    <tr>\n",
       "      <th>0</th>\n",
       "      <td>T1</td>\n",
       "      <td>B</td>\n",
       "      <td>15.0</td>\n",
       "      <td>20000542</td>\n",
       "      <td>1408039037</td>\n",
       "      <td>A</td>\n",
       "      <td>2014</td>\n",
       "      <td>8</td>\n",
       "      <td>14</td>\n",
       "      <td>18</td>\n",
       "      <td>3</td>\n",
       "    </tr>\n",
       "    <tr>\n",
       "      <th>1</th>\n",
       "      <td>T2</td>\n",
       "      <td>B</td>\n",
       "      <td>57.0</td>\n",
       "      <td>20000108</td>\n",
       "      <td>1408038611</td>\n",
       "      <td>A</td>\n",
       "      <td>2014</td>\n",
       "      <td>8</td>\n",
       "      <td>14</td>\n",
       "      <td>18</td>\n",
       "      <td>3</td>\n",
       "    </tr>\n",
       "    <tr>\n",
       "      <th>2</th>\n",
       "      <td>T3</td>\n",
       "      <td>B</td>\n",
       "      <td>15.0</td>\n",
       "      <td>20000370</td>\n",
       "      <td>1408038568</td>\n",
       "      <td>A</td>\n",
       "      <td>2014</td>\n",
       "      <td>8</td>\n",
       "      <td>14</td>\n",
       "      <td>18</td>\n",
       "      <td>3</td>\n",
       "    </tr>\n",
       "    <tr>\n",
       "      <th>3</th>\n",
       "      <td>T4</td>\n",
       "      <td>B</td>\n",
       "      <td>53.0</td>\n",
       "      <td>20000492</td>\n",
       "      <td>1408039090</td>\n",
       "      <td>A</td>\n",
       "      <td>2014</td>\n",
       "      <td>8</td>\n",
       "      <td>14</td>\n",
       "      <td>18</td>\n",
       "      <td>3</td>\n",
       "    </tr>\n",
       "    <tr>\n",
       "      <th>4</th>\n",
       "      <td>T5</td>\n",
       "      <td>B</td>\n",
       "      <td>18.0</td>\n",
       "      <td>20000621</td>\n",
       "      <td>1408039177</td>\n",
       "      <td>A</td>\n",
       "      <td>2014</td>\n",
       "      <td>8</td>\n",
       "      <td>14</td>\n",
       "      <td>18</td>\n",
       "      <td>3</td>\n",
       "    </tr>\n",
       "  </tbody>\n",
       "</table>\n",
       "</div>"
      ],
      "text/plain": [
       "  TRIP_ID CALL_TYPE  ORIGIN_STAND   TAXI_ID   TIMESTAMP DAY_TYPE  year  month  \\\n",
       "0      T1         B          15.0  20000542  1408039037        A  2014      8   \n",
       "1      T2         B          57.0  20000108  1408038611        A  2014      8   \n",
       "2      T3         B          15.0  20000370  1408038568        A  2014      8   \n",
       "3      T4         B          53.0  20000492  1408039090        A  2014      8   \n",
       "4      T5         B          18.0  20000621  1408039177        A  2014      8   \n",
       "\n",
       "   day  hour  weekday  \n",
       "0   14    18        3  \n",
       "1   14    18        3  \n",
       "2   14    18        3  \n",
       "3   14    18        3  \n",
       "4   14    18        3  "
      ]
     },
     "execution_count": 60,
     "metadata": {},
     "output_type": "execute_result"
    }
   ],
   "source": [
    "times = df_test['TIMESTAMP'].apply(parse_time)\n",
    "df_test['year'] = [x for x,y,z,w,a in times]\n",
    "df_test['month'] = [y for x,y,z,w,a in times]\n",
    "df_test['day'] = [z for x,y,z,w,a in times]\n",
    "df_test['hour'] = [w for x,y,z,w,a in times]\n",
    "df_test['weekday'] = [a for x,y,z,w,a in times]\n",
    "df_test.head()"
   ]
  },
  {
   "cell_type": "code",
   "execution_count": 61,
   "id": "cfbfb987",
   "metadata": {},
   "outputs": [
    {
     "data": {
      "text/plain": [
       "320"
      ]
     },
     "execution_count": 61,
     "metadata": {},
     "output_type": "execute_result"
    }
   ],
   "source": [
    "len(df_test)"
   ]
  },
  {
   "cell_type": "code",
   "execution_count": 62,
   "id": "6279a094",
   "metadata": {},
   "outputs": [
    {
     "name": "stdout",
     "output_type": "stream",
     "text": [
      "74\n"
     ]
    }
   ],
   "source": [
    "df_test1 = df_test[(df_test['day'] == 14) & (df_test['month'] == 8)]\n",
    "#df_test1['DAY_TYPE'] = 'C'\n",
    "#8/14, one day before holiday, 18pm\n",
    "print(len(df_test1))\n",
    "df_test1 = df_test1.assign(DAY_TYPE = 'A')\n",
    "#df_test1.head()"
   ]
  },
  {
   "cell_type": "code",
   "execution_count": 63,
   "id": "01c18b69",
   "metadata": {},
   "outputs": [
    {
     "name": "stdout",
     "output_type": "stream",
     "text": [
      "77\n"
     ]
    }
   ],
   "source": [
    "df_test2 = df_test[ ((df_test['day'] == 30) & (df_test['month'] == 9))] \n",
    "print(len(df_test2))\n",
    "df_test2 = df_test2.assign(DAY_TYPE = 'B')\n",
    "#9/30, normal weekday 7-9am"
   ]
  },
  {
   "cell_type": "code",
   "execution_count": 64,
   "id": "05e5a1c6",
   "metadata": {},
   "outputs": [
    {
     "name": "stdout",
     "output_type": "stream",
     "text": [
      "77\n"
     ]
    }
   ],
   "source": [
    "df_test3 = df_test[(df_test['day'] == 6) & (df_test['month'] == 10)]\n",
    "print(len(df_test3))\n",
    "df_test3 = df_test3.assign(DAY_TYPE = 'C')\n",
    "#10/6, normal weekday, 18pm"
   ]
  },
  {
   "cell_type": "code",
   "execution_count": 65,
   "id": "004b635a",
   "metadata": {},
   "outputs": [
    {
     "name": "stdout",
     "output_type": "stream",
     "text": [
      "62\n"
     ]
    }
   ],
   "source": [
    "df_test4 = df_test[(df_test['day'] == 1) & (df_test['month'] == 11)]\n",
    "print(len(df_test4))\n",
    "df_test4 = df_test4.assign(DAY_TYPE = 'D')\n",
    "\n",
    "#11/1, Saturday 4am (??)"
   ]
  },
  {
   "cell_type": "code",
   "execution_count": 66,
   "id": "4cdb1b57",
   "metadata": {},
   "outputs": [
    {
     "name": "stdout",
     "output_type": "stream",
     "text": [
      "30\n"
     ]
    }
   ],
   "source": [
    "df_test5 = df_test[(df_test['day'] == 21) & (df_test['month'] == 12)]\n",
    "print(len(df_test5))\n",
    "df_test5 = df_test5.assign(DAY_TYPE = 'E')\n",
    "\n",
    "#12/21, sunday 3pm before christmas"
   ]
  },
  {
   "cell_type": "code",
   "execution_count": 67,
   "id": "cda7f1d9",
   "metadata": {},
   "outputs": [
    {
     "data": {
      "text/html": [
       "<div>\n",
       "<style scoped>\n",
       "    .dataframe tbody tr th:only-of-type {\n",
       "        vertical-align: middle;\n",
       "    }\n",
       "\n",
       "    .dataframe tbody tr th {\n",
       "        vertical-align: top;\n",
       "    }\n",
       "\n",
       "    .dataframe thead th {\n",
       "        text-align: right;\n",
       "    }\n",
       "</style>\n",
       "<table border=\"1\" class=\"dataframe\">\n",
       "  <thead>\n",
       "    <tr style=\"text-align: right;\">\n",
       "      <th></th>\n",
       "      <th>TRIP_ID</th>\n",
       "      <th>CALL_TYPE</th>\n",
       "      <th>ORIGIN_STAND</th>\n",
       "      <th>TAXI_ID</th>\n",
       "      <th>TIMESTAMP</th>\n",
       "      <th>DAY_TYPE</th>\n",
       "      <th>year</th>\n",
       "      <th>month</th>\n",
       "      <th>day</th>\n",
       "      <th>hour</th>\n",
       "      <th>weekday</th>\n",
       "    </tr>\n",
       "  </thead>\n",
       "  <tbody>\n",
       "    <tr>\n",
       "      <th>0</th>\n",
       "      <td>T1</td>\n",
       "      <td>B</td>\n",
       "      <td>15.0</td>\n",
       "      <td>20000542</td>\n",
       "      <td>1408039037</td>\n",
       "      <td>A</td>\n",
       "      <td>2014</td>\n",
       "      <td>8</td>\n",
       "      <td>14</td>\n",
       "      <td>18</td>\n",
       "      <td>3</td>\n",
       "    </tr>\n",
       "    <tr>\n",
       "      <th>1</th>\n",
       "      <td>T2</td>\n",
       "      <td>B</td>\n",
       "      <td>57.0</td>\n",
       "      <td>20000108</td>\n",
       "      <td>1408038611</td>\n",
       "      <td>A</td>\n",
       "      <td>2014</td>\n",
       "      <td>8</td>\n",
       "      <td>14</td>\n",
       "      <td>18</td>\n",
       "      <td>3</td>\n",
       "    </tr>\n",
       "    <tr>\n",
       "      <th>2</th>\n",
       "      <td>T3</td>\n",
       "      <td>B</td>\n",
       "      <td>15.0</td>\n",
       "      <td>20000370</td>\n",
       "      <td>1408038568</td>\n",
       "      <td>A</td>\n",
       "      <td>2014</td>\n",
       "      <td>8</td>\n",
       "      <td>14</td>\n",
       "      <td>18</td>\n",
       "      <td>3</td>\n",
       "    </tr>\n",
       "    <tr>\n",
       "      <th>3</th>\n",
       "      <td>T4</td>\n",
       "      <td>B</td>\n",
       "      <td>53.0</td>\n",
       "      <td>20000492</td>\n",
       "      <td>1408039090</td>\n",
       "      <td>A</td>\n",
       "      <td>2014</td>\n",
       "      <td>8</td>\n",
       "      <td>14</td>\n",
       "      <td>18</td>\n",
       "      <td>3</td>\n",
       "    </tr>\n",
       "    <tr>\n",
       "      <th>4</th>\n",
       "      <td>T5</td>\n",
       "      <td>B</td>\n",
       "      <td>18.0</td>\n",
       "      <td>20000621</td>\n",
       "      <td>1408039177</td>\n",
       "      <td>A</td>\n",
       "      <td>2014</td>\n",
       "      <td>8</td>\n",
       "      <td>14</td>\n",
       "      <td>18</td>\n",
       "      <td>3</td>\n",
       "    </tr>\n",
       "    <tr>\n",
       "      <th>...</th>\n",
       "      <td>...</td>\n",
       "      <td>...</td>\n",
       "      <td>...</td>\n",
       "      <td>...</td>\n",
       "      <td>...</td>\n",
       "      <td>...</td>\n",
       "      <td>...</td>\n",
       "      <td>...</td>\n",
       "      <td>...</td>\n",
       "      <td>...</td>\n",
       "      <td>...</td>\n",
       "    </tr>\n",
       "    <tr>\n",
       "      <th>315</th>\n",
       "      <td>T323</td>\n",
       "      <td>A</td>\n",
       "      <td>NaN</td>\n",
       "      <td>20000430</td>\n",
       "      <td>1419171485</td>\n",
       "      <td>E</td>\n",
       "      <td>2014</td>\n",
       "      <td>12</td>\n",
       "      <td>21</td>\n",
       "      <td>15</td>\n",
       "      <td>6</td>\n",
       "    </tr>\n",
       "    <tr>\n",
       "      <th>316</th>\n",
       "      <td>T324</td>\n",
       "      <td>B</td>\n",
       "      <td>53.0</td>\n",
       "      <td>20000020</td>\n",
       "      <td>1419170802</td>\n",
       "      <td>E</td>\n",
       "      <td>2014</td>\n",
       "      <td>12</td>\n",
       "      <td>21</td>\n",
       "      <td>15</td>\n",
       "      <td>6</td>\n",
       "    </tr>\n",
       "    <tr>\n",
       "      <th>317</th>\n",
       "      <td>T325</td>\n",
       "      <td>C</td>\n",
       "      <td>NaN</td>\n",
       "      <td>20000207</td>\n",
       "      <td>1419172121</td>\n",
       "      <td>E</td>\n",
       "      <td>2014</td>\n",
       "      <td>12</td>\n",
       "      <td>21</td>\n",
       "      <td>15</td>\n",
       "      <td>6</td>\n",
       "    </tr>\n",
       "    <tr>\n",
       "      <th>318</th>\n",
       "      <td>T326</td>\n",
       "      <td>A</td>\n",
       "      <td>NaN</td>\n",
       "      <td>20000667</td>\n",
       "      <td>1419171980</td>\n",
       "      <td>E</td>\n",
       "      <td>2014</td>\n",
       "      <td>12</td>\n",
       "      <td>21</td>\n",
       "      <td>15</td>\n",
       "      <td>6</td>\n",
       "    </tr>\n",
       "    <tr>\n",
       "      <th>319</th>\n",
       "      <td>T327</td>\n",
       "      <td>A</td>\n",
       "      <td>NaN</td>\n",
       "      <td>20000255</td>\n",
       "      <td>1419171420</td>\n",
       "      <td>E</td>\n",
       "      <td>2014</td>\n",
       "      <td>12</td>\n",
       "      <td>21</td>\n",
       "      <td>15</td>\n",
       "      <td>6</td>\n",
       "    </tr>\n",
       "  </tbody>\n",
       "</table>\n",
       "<p>320 rows × 11 columns</p>\n",
       "</div>"
      ],
      "text/plain": [
       "    TRIP_ID CALL_TYPE  ORIGIN_STAND   TAXI_ID   TIMESTAMP DAY_TYPE  year  \\\n",
       "0        T1         B          15.0  20000542  1408039037        A  2014   \n",
       "1        T2         B          57.0  20000108  1408038611        A  2014   \n",
       "2        T3         B          15.0  20000370  1408038568        A  2014   \n",
       "3        T4         B          53.0  20000492  1408039090        A  2014   \n",
       "4        T5         B          18.0  20000621  1408039177        A  2014   \n",
       "..      ...       ...           ...       ...         ...      ...   ...   \n",
       "315    T323         A           NaN  20000430  1419171485        E  2014   \n",
       "316    T324         B          53.0  20000020  1419170802        E  2014   \n",
       "317    T325         C           NaN  20000207  1419172121        E  2014   \n",
       "318    T326         A           NaN  20000667  1419171980        E  2014   \n",
       "319    T327         A           NaN  20000255  1419171420        E  2014   \n",
       "\n",
       "     month  day  hour  weekday  \n",
       "0        8   14    18        3  \n",
       "1        8   14    18        3  \n",
       "2        8   14    18        3  \n",
       "3        8   14    18        3  \n",
       "4        8   14    18        3  \n",
       "..     ...  ...   ...      ...  \n",
       "315     12   21    15        6  \n",
       "316     12   21    15        6  \n",
       "317     12   21    15        6  \n",
       "318     12   21    15        6  \n",
       "319     12   21    15        6  \n",
       "\n",
       "[320 rows x 11 columns]"
      ]
     },
     "execution_count": 67,
     "metadata": {},
     "output_type": "execute_result"
    }
   ],
   "source": [
    "df_test = pd.concat([df_test1, df_test2, df_test3, df_test4, df_test5], axis = 0)\n",
    "df_test"
   ]
  },
  {
   "cell_type": "code",
   "execution_count": 68,
   "id": "45adb572",
   "metadata": {},
   "outputs": [],
   "source": [
    "\n",
    "df_test['call_A'] = df_test[\"CALL_TYPE\"].apply(lambda x : int(x == 'A'))\n",
    "df_test['call_B'] = df_test[\"CALL_TYPE\"].apply(lambda x : int(x == 'B'))\n",
    "df_test['call_C'] = df_test[\"CALL_TYPE\"].apply(lambda x : int(x == 'C'))\n",
    "df_test['day_A'] = df_test[\"DAY_TYPE\"].apply(lambda x : int(x == 'A'))\n",
    "df_test['day_B'] = df_test[\"DAY_TYPE\"].apply(lambda x : int(x == 'B'))\n",
    "df_test['day_C'] = df_test[\"DAY_TYPE\"].apply(lambda x : int(x == 'C'))\n",
    "df_test['day_D'] = df_test[\"DAY_TYPE\"].apply(lambda x : int(x == 'D'))\n",
    "df_test['day_E'] = df_test[\"DAY_TYPE\"].apply(lambda x : int(x == 'E'))\n"
   ]
  },
  {
   "cell_type": "code",
   "execution_count": 69,
   "id": "3ed9c7e8",
   "metadata": {},
   "outputs": [],
   "source": [
    "df_test['STAND_MEAN'] = df_test['ORIGIN_STAND'].apply(apply_mean_stand)\n",
    "df_test['STAND_MEAN'] = np.float32((df_test['STAND_MEAN'] - train_stand_mean)/train_stand_std)"
   ]
  },
  {
   "cell_type": "code",
   "execution_count": 70,
   "id": "a4748b05",
   "metadata": {},
   "outputs": [],
   "source": [
    "def apply_mean_test(taxi_id):\n",
    "    if taxi_id in taxi_id_to_mean:\n",
    "        return taxi_id_to_mean[taxi_id]\n",
    "    else:\n",
    "        return train_id_mean"
   ]
  },
  {
   "cell_type": "code",
   "execution_count": 71,
   "id": "a3452428",
   "metadata": {},
   "outputs": [],
   "source": [
    "\n",
    "df_test['TAXI_ID_MEAN'] = df_test['TAXI_ID'].apply(apply_mean_test)\n",
    "df_test['TAXI_ID_MEAN'] = np.float32((df_test['TAXI_ID_MEAN'] - train_id_mean)/train_id_std)"
   ]
  },
  {
   "cell_type": "code",
   "execution_count": 72,
   "id": "eba8e64a",
   "metadata": {},
   "outputs": [],
   "source": [
    "def apply_long(x): #in: origin stand\n",
    "    if not pd.isna(x):\n",
    "        return stand_dict[x][0]\n",
    "    else:\n",
    "        return x"
   ]
  },
  {
   "cell_type": "code",
   "execution_count": 73,
   "id": "92527200",
   "metadata": {},
   "outputs": [],
   "source": [
    "def apply_lat(x):\n",
    "    if not pd.isna(x):\n",
    "        return stand_dict[x][1]\n",
    "    else:\n",
    "        return x"
   ]
  },
  {
   "cell_type": "code",
   "execution_count": 74,
   "id": "6a4dc407",
   "metadata": {},
   "outputs": [],
   "source": [
    "df_test['Init_longitude'] = df_test['ORIGIN_STAND'].apply(apply_long)\n",
    "df_test['Init_latitude'] = df_test['ORIGIN_STAND'].apply(apply_lat)"
   ]
  },
  {
   "cell_type": "code",
   "execution_count": 75,
   "id": "94eaeaf8",
   "metadata": {},
   "outputs": [
    {
     "data": {
      "text/html": [
       "<div>\n",
       "<style scoped>\n",
       "    .dataframe tbody tr th:only-of-type {\n",
       "        vertical-align: middle;\n",
       "    }\n",
       "\n",
       "    .dataframe tbody tr th {\n",
       "        vertical-align: top;\n",
       "    }\n",
       "\n",
       "    .dataframe thead th {\n",
       "        text-align: right;\n",
       "    }\n",
       "</style>\n",
       "<table border=\"1\" class=\"dataframe\">\n",
       "  <thead>\n",
       "    <tr style=\"text-align: right;\">\n",
       "      <th></th>\n",
       "      <th>TRIP_ID</th>\n",
       "      <th>CALL_TYPE</th>\n",
       "      <th>ORIGIN_STAND</th>\n",
       "      <th>TAXI_ID</th>\n",
       "      <th>TIMESTAMP</th>\n",
       "      <th>DAY_TYPE</th>\n",
       "      <th>year</th>\n",
       "      <th>month</th>\n",
       "      <th>day</th>\n",
       "      <th>hour</th>\n",
       "      <th>...</th>\n",
       "      <th>call_C</th>\n",
       "      <th>day_A</th>\n",
       "      <th>day_B</th>\n",
       "      <th>day_C</th>\n",
       "      <th>day_D</th>\n",
       "      <th>day_E</th>\n",
       "      <th>STAND_MEAN</th>\n",
       "      <th>TAXI_ID_MEAN</th>\n",
       "      <th>Init_longitude</th>\n",
       "      <th>Init_latitude</th>\n",
       "    </tr>\n",
       "  </thead>\n",
       "  <tbody>\n",
       "    <tr>\n",
       "      <th>0</th>\n",
       "      <td>T1</td>\n",
       "      <td>B</td>\n",
       "      <td>15.0</td>\n",
       "      <td>20000542</td>\n",
       "      <td>1408039037</td>\n",
       "      <td>A</td>\n",
       "      <td>2014</td>\n",
       "      <td>8</td>\n",
       "      <td>14</td>\n",
       "      <td>18</td>\n",
       "      <td>...</td>\n",
       "      <td>0</td>\n",
       "      <td>1</td>\n",
       "      <td>0</td>\n",
       "      <td>0</td>\n",
       "      <td>0</td>\n",
       "      <td>0</td>\n",
       "      <td>2.324633</td>\n",
       "      <td>0.099967</td>\n",
       "      <td>-8.585876</td>\n",
       "      <td>41.148628</td>\n",
       "    </tr>\n",
       "    <tr>\n",
       "      <th>1</th>\n",
       "      <td>T2</td>\n",
       "      <td>B</td>\n",
       "      <td>57.0</td>\n",
       "      <td>20000108</td>\n",
       "      <td>1408038611</td>\n",
       "      <td>A</td>\n",
       "      <td>2014</td>\n",
       "      <td>8</td>\n",
       "      <td>14</td>\n",
       "      <td>18</td>\n",
       "      <td>...</td>\n",
       "      <td>0</td>\n",
       "      <td>1</td>\n",
       "      <td>0</td>\n",
       "      <td>0</td>\n",
       "      <td>0</td>\n",
       "      <td>0</td>\n",
       "      <td>-0.921834</td>\n",
       "      <td>-0.307380</td>\n",
       "      <td>-8.610707</td>\n",
       "      <td>41.145718</td>\n",
       "    </tr>\n",
       "    <tr>\n",
       "      <th>2</th>\n",
       "      <td>T3</td>\n",
       "      <td>B</td>\n",
       "      <td>15.0</td>\n",
       "      <td>20000370</td>\n",
       "      <td>1408038568</td>\n",
       "      <td>A</td>\n",
       "      <td>2014</td>\n",
       "      <td>8</td>\n",
       "      <td>14</td>\n",
       "      <td>18</td>\n",
       "      <td>...</td>\n",
       "      <td>0</td>\n",
       "      <td>1</td>\n",
       "      <td>0</td>\n",
       "      <td>0</td>\n",
       "      <td>0</td>\n",
       "      <td>0</td>\n",
       "      <td>2.324633</td>\n",
       "      <td>-0.754649</td>\n",
       "      <td>-8.585876</td>\n",
       "      <td>41.148628</td>\n",
       "    </tr>\n",
       "    <tr>\n",
       "      <th>3</th>\n",
       "      <td>T4</td>\n",
       "      <td>B</td>\n",
       "      <td>53.0</td>\n",
       "      <td>20000492</td>\n",
       "      <td>1408039090</td>\n",
       "      <td>A</td>\n",
       "      <td>2014</td>\n",
       "      <td>8</td>\n",
       "      <td>14</td>\n",
       "      <td>18</td>\n",
       "      <td>...</td>\n",
       "      <td>0</td>\n",
       "      <td>1</td>\n",
       "      <td>0</td>\n",
       "      <td>0</td>\n",
       "      <td>0</td>\n",
       "      <td>0</td>\n",
       "      <td>-0.922573</td>\n",
       "      <td>-1.020312</td>\n",
       "      <td>-8.614013</td>\n",
       "      <td>41.141209</td>\n",
       "    </tr>\n",
       "    <tr>\n",
       "      <th>4</th>\n",
       "      <td>T5</td>\n",
       "      <td>B</td>\n",
       "      <td>18.0</td>\n",
       "      <td>20000621</td>\n",
       "      <td>1408039177</td>\n",
       "      <td>A</td>\n",
       "      <td>2014</td>\n",
       "      <td>8</td>\n",
       "      <td>14</td>\n",
       "      <td>18</td>\n",
       "      <td>...</td>\n",
       "      <td>0</td>\n",
       "      <td>1</td>\n",
       "      <td>0</td>\n",
       "      <td>0</td>\n",
       "      <td>0</td>\n",
       "      <td>0</td>\n",
       "      <td>1.134218</td>\n",
       "      <td>-0.788176</td>\n",
       "      <td>-8.619603</td>\n",
       "      <td>41.148319</td>\n",
       "    </tr>\n",
       "    <tr>\n",
       "      <th>5</th>\n",
       "      <td>T6</td>\n",
       "      <td>A</td>\n",
       "      <td>NaN</td>\n",
       "      <td>20000607</td>\n",
       "      <td>1408037146</td>\n",
       "      <td>A</td>\n",
       "      <td>2014</td>\n",
       "      <td>8</td>\n",
       "      <td>14</td>\n",
       "      <td>18</td>\n",
       "      <td>...</td>\n",
       "      <td>0</td>\n",
       "      <td>1</td>\n",
       "      <td>0</td>\n",
       "      <td>0</td>\n",
       "      <td>0</td>\n",
       "      <td>0</td>\n",
       "      <td>0.388918</td>\n",
       "      <td>2.510910</td>\n",
       "      <td>NaN</td>\n",
       "      <td>NaN</td>\n",
       "    </tr>\n",
       "    <tr>\n",
       "      <th>6</th>\n",
       "      <td>T7</td>\n",
       "      <td>B</td>\n",
       "      <td>15.0</td>\n",
       "      <td>20000310</td>\n",
       "      <td>1408038846</td>\n",
       "      <td>A</td>\n",
       "      <td>2014</td>\n",
       "      <td>8</td>\n",
       "      <td>14</td>\n",
       "      <td>18</td>\n",
       "      <td>...</td>\n",
       "      <td>0</td>\n",
       "      <td>1</td>\n",
       "      <td>0</td>\n",
       "      <td>0</td>\n",
       "      <td>0</td>\n",
       "      <td>0</td>\n",
       "      <td>2.324633</td>\n",
       "      <td>-0.653464</td>\n",
       "      <td>-8.585876</td>\n",
       "      <td>41.148628</td>\n",
       "    </tr>\n",
       "    <tr>\n",
       "      <th>7</th>\n",
       "      <td>T8</td>\n",
       "      <td>A</td>\n",
       "      <td>NaN</td>\n",
       "      <td>20000619</td>\n",
       "      <td>1408038948</td>\n",
       "      <td>A</td>\n",
       "      <td>2014</td>\n",
       "      <td>8</td>\n",
       "      <td>14</td>\n",
       "      <td>18</td>\n",
       "      <td>...</td>\n",
       "      <td>0</td>\n",
       "      <td>1</td>\n",
       "      <td>0</td>\n",
       "      <td>0</td>\n",
       "      <td>0</td>\n",
       "      <td>0</td>\n",
       "      <td>0.388918</td>\n",
       "      <td>0.596003</td>\n",
       "      <td>NaN</td>\n",
       "      <td>NaN</td>\n",
       "    </tr>\n",
       "    <tr>\n",
       "      <th>8</th>\n",
       "      <td>T9</td>\n",
       "      <td>B</td>\n",
       "      <td>9.0</td>\n",
       "      <td>20000503</td>\n",
       "      <td>1408038563</td>\n",
       "      <td>A</td>\n",
       "      <td>2014</td>\n",
       "      <td>8</td>\n",
       "      <td>14</td>\n",
       "      <td>18</td>\n",
       "      <td>...</td>\n",
       "      <td>0</td>\n",
       "      <td>1</td>\n",
       "      <td>0</td>\n",
       "      <td>0</td>\n",
       "      <td>0</td>\n",
       "      <td>0</td>\n",
       "      <td>1.170601</td>\n",
       "      <td>-1.229139</td>\n",
       "      <td>-8.605720</td>\n",
       "      <td>41.144253</td>\n",
       "    </tr>\n",
       "    <tr>\n",
       "      <th>9</th>\n",
       "      <td>T10</td>\n",
       "      <td>B</td>\n",
       "      <td>15.0</td>\n",
       "      <td>20000327</td>\n",
       "      <td>1408038021</td>\n",
       "      <td>A</td>\n",
       "      <td>2014</td>\n",
       "      <td>8</td>\n",
       "      <td>14</td>\n",
       "      <td>18</td>\n",
       "      <td>...</td>\n",
       "      <td>0</td>\n",
       "      <td>1</td>\n",
       "      <td>0</td>\n",
       "      <td>0</td>\n",
       "      <td>0</td>\n",
       "      <td>0</td>\n",
       "      <td>2.324633</td>\n",
       "      <td>0.632277</td>\n",
       "      <td>-8.585876</td>\n",
       "      <td>41.148628</td>\n",
       "    </tr>\n",
       "  </tbody>\n",
       "</table>\n",
       "<p>10 rows × 23 columns</p>\n",
       "</div>"
      ],
      "text/plain": [
       "  TRIP_ID CALL_TYPE  ORIGIN_STAND   TAXI_ID   TIMESTAMP DAY_TYPE  year  month  \\\n",
       "0      T1         B          15.0  20000542  1408039037        A  2014      8   \n",
       "1      T2         B          57.0  20000108  1408038611        A  2014      8   \n",
       "2      T3         B          15.0  20000370  1408038568        A  2014      8   \n",
       "3      T4         B          53.0  20000492  1408039090        A  2014      8   \n",
       "4      T5         B          18.0  20000621  1408039177        A  2014      8   \n",
       "5      T6         A           NaN  20000607  1408037146        A  2014      8   \n",
       "6      T7         B          15.0  20000310  1408038846        A  2014      8   \n",
       "7      T8         A           NaN  20000619  1408038948        A  2014      8   \n",
       "8      T9         B           9.0  20000503  1408038563        A  2014      8   \n",
       "9     T10         B          15.0  20000327  1408038021        A  2014      8   \n",
       "\n",
       "   day  hour  ...  call_C  day_A  day_B  day_C  day_D  day_E  STAND_MEAN  \\\n",
       "0   14    18  ...       0      1      0      0      0      0    2.324633   \n",
       "1   14    18  ...       0      1      0      0      0      0   -0.921834   \n",
       "2   14    18  ...       0      1      0      0      0      0    2.324633   \n",
       "3   14    18  ...       0      1      0      0      0      0   -0.922573   \n",
       "4   14    18  ...       0      1      0      0      0      0    1.134218   \n",
       "5   14    18  ...       0      1      0      0      0      0    0.388918   \n",
       "6   14    18  ...       0      1      0      0      0      0    2.324633   \n",
       "7   14    18  ...       0      1      0      0      0      0    0.388918   \n",
       "8   14    18  ...       0      1      0      0      0      0    1.170601   \n",
       "9   14    18  ...       0      1      0      0      0      0    2.324633   \n",
       "\n",
       "   TAXI_ID_MEAN  Init_longitude  Init_latitude  \n",
       "0      0.099967       -8.585876      41.148628  \n",
       "1     -0.307380       -8.610707      41.145718  \n",
       "2     -0.754649       -8.585876      41.148628  \n",
       "3     -1.020312       -8.614013      41.141209  \n",
       "4     -0.788176       -8.619603      41.148319  \n",
       "5      2.510910             NaN            NaN  \n",
       "6     -0.653464       -8.585876      41.148628  \n",
       "7      0.596003             NaN            NaN  \n",
       "8     -1.229139       -8.605720      41.144253  \n",
       "9      0.632277       -8.585876      41.148628  \n",
       "\n",
       "[10 rows x 23 columns]"
      ]
     },
     "execution_count": 75,
     "metadata": {},
     "output_type": "execute_result"
    }
   ],
   "source": [
    "df_test[:10]"
   ]
  },
  {
   "cell_type": "code",
   "execution_count": 76,
   "id": "133b2f4e",
   "metadata": {},
   "outputs": [
    {
     "name": "stderr",
     "output_type": "stream",
     "text": [
      "C:\\Users\\18585\\AppData\\Local\\Temp/ipykernel_10652/2481010443.py:22: SettingWithCopyWarning: \n",
      "A value is trying to be set on a copy of a slice from a DataFrame.\n",
      "Try using .loc[row_indexer,col_indexer] = value instead\n",
      "\n",
      "See the caveats in the documentation: https://pandas.pydata.org/pandas-docs/stable/user_guide/indexing.html#returning-a-view-versus-a-copy\n",
      "  df_t['Init_longitude'] = df_t['POLYLINE'].apply(lambda x : parse_num(x,0))\n",
      "C:\\Users\\18585\\AppData\\Local\\Temp/ipykernel_10652/2481010443.py:23: SettingWithCopyWarning: \n",
      "A value is trying to be set on a copy of a slice from a DataFrame.\n",
      "Try using .loc[row_indexer,col_indexer] = value instead\n",
      "\n",
      "See the caveats in the documentation: https://pandas.pydata.org/pandas-docs/stable/user_guide/indexing.html#returning-a-view-versus-a-copy\n",
      "  df_t['Init_latitude'] = df_t['POLYLINE'].apply(lambda x : parse_num(x,1))\n"
     ]
    }
   ],
   "source": [
    "for i, row in df_test.iterrows():\n",
    "    if pd.isna(row['ORIGIN_STAND']):\n",
    "        if row['DAY_TYPE'] == 'A':\n",
    "            df_t = df_1[ ((df_1['day'] == 14) & (df_1['month'] == 8))]\n",
    "            df_t = df_t[df_t['hour'] == 18]\n",
    "        elif row['DAY_TYPE'] == 'B':\n",
    "            df_t = df_2[((df_2['day'] == 30) & (df_2['month'] == 9))]\n",
    "            df_t = df_2[df_2['hour'] == 9]\n",
    "\n",
    "        elif row['DAY_TYPE'] == 'C':\n",
    "            df_t = df_3[(df_3['day'] == 6) & (df_3['month'] == 10)]\n",
    "            df_t = df_3[df_3['hour'] == 18]\n",
    "\n",
    "        elif row['DAY_TYPE'] == 'D':\n",
    "            df_t = df_4[(df_4['day'] == 1) & (df_4['month'] == 11)]\n",
    "            df_t = df_4[df_4['hour'] == 4]\n",
    "\n",
    "        else:\n",
    "            df_t = df_5[(df_5['day'] == 21) & (df_5['month'] == 12)]\n",
    "            df_t = df_5[df_5['hour'] == 15]\n",
    "\n",
    "        df_t['Init_longitude'] = df_t['POLYLINE'].apply(lambda x : parse_num(x,0))\n",
    "        df_t['Init_latitude'] = df_t['POLYLINE'].apply(lambda x : parse_num(x,1))\n",
    "        s = df_t.sample() #change to mean\n",
    "        df_test.at[i,'Init_longitude'] = s['Init_longitude']\n",
    "        df_test.at[i,'Init_latitude'] = s['Init_latitude']"
   ]
  },
  {
   "cell_type": "code",
   "execution_count": 77,
   "id": "53ec3b45",
   "metadata": {},
   "outputs": [],
   "source": [
    "\n",
    "df_test['Init_longitude'] = (df_test['Init_longitude'] - train_long_mean) / train_long_std\n",
    "df_test['Init_latitude'] = (df_test['Init_latitude'] - train_lat_mean) / train_lat_std"
   ]
  },
  {
   "cell_type": "code",
   "execution_count": 78,
   "id": "42d14092",
   "metadata": {},
   "outputs": [
    {
     "data": {
      "text/html": [
       "<div>\n",
       "<style scoped>\n",
       "    .dataframe tbody tr th:only-of-type {\n",
       "        vertical-align: middle;\n",
       "    }\n",
       "\n",
       "    .dataframe tbody tr th {\n",
       "        vertical-align: top;\n",
       "    }\n",
       "\n",
       "    .dataframe thead th {\n",
       "        text-align: right;\n",
       "    }\n",
       "</style>\n",
       "<table border=\"1\" class=\"dataframe\">\n",
       "  <thead>\n",
       "    <tr style=\"text-align: right;\">\n",
       "      <th></th>\n",
       "      <th>TRIP_ID</th>\n",
       "      <th>CALL_TYPE</th>\n",
       "      <th>ORIGIN_STAND</th>\n",
       "      <th>TAXI_ID</th>\n",
       "      <th>TIMESTAMP</th>\n",
       "      <th>DAY_TYPE</th>\n",
       "      <th>year</th>\n",
       "      <th>month</th>\n",
       "      <th>day</th>\n",
       "      <th>hour</th>\n",
       "      <th>...</th>\n",
       "      <th>call_C</th>\n",
       "      <th>day_A</th>\n",
       "      <th>day_B</th>\n",
       "      <th>day_C</th>\n",
       "      <th>day_D</th>\n",
       "      <th>day_E</th>\n",
       "      <th>STAND_MEAN</th>\n",
       "      <th>TAXI_ID_MEAN</th>\n",
       "      <th>Init_longitude</th>\n",
       "      <th>Init_latitude</th>\n",
       "    </tr>\n",
       "  </thead>\n",
       "  <tbody>\n",
       "    <tr>\n",
       "      <th>0</th>\n",
       "      <td>T1</td>\n",
       "      <td>B</td>\n",
       "      <td>15.0</td>\n",
       "      <td>20000542</td>\n",
       "      <td>1408039037</td>\n",
       "      <td>A</td>\n",
       "      <td>2014</td>\n",
       "      <td>8</td>\n",
       "      <td>14</td>\n",
       "      <td>18</td>\n",
       "      <td>...</td>\n",
       "      <td>0</td>\n",
       "      <td>1</td>\n",
       "      <td>0</td>\n",
       "      <td>0</td>\n",
       "      <td>0</td>\n",
       "      <td>0</td>\n",
       "      <td>2.324633</td>\n",
       "      <td>0.099967</td>\n",
       "      <td>0.271564</td>\n",
       "      <td>0.798384</td>\n",
       "    </tr>\n",
       "    <tr>\n",
       "      <th>1</th>\n",
       "      <td>T2</td>\n",
       "      <td>B</td>\n",
       "      <td>57.0</td>\n",
       "      <td>20000108</td>\n",
       "      <td>1408038611</td>\n",
       "      <td>A</td>\n",
       "      <td>2014</td>\n",
       "      <td>8</td>\n",
       "      <td>14</td>\n",
       "      <td>18</td>\n",
       "      <td>...</td>\n",
       "      <td>0</td>\n",
       "      <td>1</td>\n",
       "      <td>0</td>\n",
       "      <td>0</td>\n",
       "      <td>0</td>\n",
       "      <td>0</td>\n",
       "      <td>-0.921834</td>\n",
       "      <td>-0.307380</td>\n",
       "      <td>-0.448321</td>\n",
       "      <td>0.742481</td>\n",
       "    </tr>\n",
       "    <tr>\n",
       "      <th>2</th>\n",
       "      <td>T3</td>\n",
       "      <td>B</td>\n",
       "      <td>15.0</td>\n",
       "      <td>20000370</td>\n",
       "      <td>1408038568</td>\n",
       "      <td>A</td>\n",
       "      <td>2014</td>\n",
       "      <td>8</td>\n",
       "      <td>14</td>\n",
       "      <td>18</td>\n",
       "      <td>...</td>\n",
       "      <td>0</td>\n",
       "      <td>1</td>\n",
       "      <td>0</td>\n",
       "      <td>0</td>\n",
       "      <td>0</td>\n",
       "      <td>0</td>\n",
       "      <td>2.324633</td>\n",
       "      <td>-0.754649</td>\n",
       "      <td>0.271564</td>\n",
       "      <td>0.798384</td>\n",
       "    </tr>\n",
       "    <tr>\n",
       "      <th>3</th>\n",
       "      <td>T4</td>\n",
       "      <td>B</td>\n",
       "      <td>53.0</td>\n",
       "      <td>20000492</td>\n",
       "      <td>1408039090</td>\n",
       "      <td>A</td>\n",
       "      <td>2014</td>\n",
       "      <td>8</td>\n",
       "      <td>14</td>\n",
       "      <td>18</td>\n",
       "      <td>...</td>\n",
       "      <td>0</td>\n",
       "      <td>1</td>\n",
       "      <td>0</td>\n",
       "      <td>0</td>\n",
       "      <td>0</td>\n",
       "      <td>0</td>\n",
       "      <td>-0.922573</td>\n",
       "      <td>-1.020312</td>\n",
       "      <td>-0.544150</td>\n",
       "      <td>0.655881</td>\n",
       "    </tr>\n",
       "    <tr>\n",
       "      <th>4</th>\n",
       "      <td>T5</td>\n",
       "      <td>B</td>\n",
       "      <td>18.0</td>\n",
       "      <td>20000621</td>\n",
       "      <td>1408039177</td>\n",
       "      <td>A</td>\n",
       "      <td>2014</td>\n",
       "      <td>8</td>\n",
       "      <td>14</td>\n",
       "      <td>18</td>\n",
       "      <td>...</td>\n",
       "      <td>0</td>\n",
       "      <td>1</td>\n",
       "      <td>0</td>\n",
       "      <td>0</td>\n",
       "      <td>0</td>\n",
       "      <td>0</td>\n",
       "      <td>1.134218</td>\n",
       "      <td>-0.788176</td>\n",
       "      <td>-0.706226</td>\n",
       "      <td>0.792449</td>\n",
       "    </tr>\n",
       "    <tr>\n",
       "      <th>5</th>\n",
       "      <td>T6</td>\n",
       "      <td>A</td>\n",
       "      <td>NaN</td>\n",
       "      <td>20000607</td>\n",
       "      <td>1408037146</td>\n",
       "      <td>A</td>\n",
       "      <td>2014</td>\n",
       "      <td>8</td>\n",
       "      <td>14</td>\n",
       "      <td>18</td>\n",
       "      <td>...</td>\n",
       "      <td>0</td>\n",
       "      <td>1</td>\n",
       "      <td>0</td>\n",
       "      <td>0</td>\n",
       "      <td>0</td>\n",
       "      <td>0</td>\n",
       "      <td>0.388918</td>\n",
       "      <td>2.510910</td>\n",
       "      <td>-0.713083</td>\n",
       "      <td>0.786515</td>\n",
       "    </tr>\n",
       "    <tr>\n",
       "      <th>6</th>\n",
       "      <td>T7</td>\n",
       "      <td>B</td>\n",
       "      <td>15.0</td>\n",
       "      <td>20000310</td>\n",
       "      <td>1408038846</td>\n",
       "      <td>A</td>\n",
       "      <td>2014</td>\n",
       "      <td>8</td>\n",
       "      <td>14</td>\n",
       "      <td>18</td>\n",
       "      <td>...</td>\n",
       "      <td>0</td>\n",
       "      <td>1</td>\n",
       "      <td>0</td>\n",
       "      <td>0</td>\n",
       "      <td>0</td>\n",
       "      <td>0</td>\n",
       "      <td>2.324633</td>\n",
       "      <td>-0.653464</td>\n",
       "      <td>0.271564</td>\n",
       "      <td>0.798384</td>\n",
       "    </tr>\n",
       "    <tr>\n",
       "      <th>7</th>\n",
       "      <td>T8</td>\n",
       "      <td>A</td>\n",
       "      <td>NaN</td>\n",
       "      <td>20000619</td>\n",
       "      <td>1408038948</td>\n",
       "      <td>A</td>\n",
       "      <td>2014</td>\n",
       "      <td>8</td>\n",
       "      <td>14</td>\n",
       "      <td>18</td>\n",
       "      <td>...</td>\n",
       "      <td>0</td>\n",
       "      <td>1</td>\n",
       "      <td>0</td>\n",
       "      <td>0</td>\n",
       "      <td>0</td>\n",
       "      <td>0</td>\n",
       "      <td>0.388918</td>\n",
       "      <td>0.596003</td>\n",
       "      <td>-0.638736</td>\n",
       "      <td>0.937370</td>\n",
       "    </tr>\n",
       "    <tr>\n",
       "      <th>8</th>\n",
       "      <td>T9</td>\n",
       "      <td>B</td>\n",
       "      <td>9.0</td>\n",
       "      <td>20000503</td>\n",
       "      <td>1408038563</td>\n",
       "      <td>A</td>\n",
       "      <td>2014</td>\n",
       "      <td>8</td>\n",
       "      <td>14</td>\n",
       "      <td>18</td>\n",
       "      <td>...</td>\n",
       "      <td>0</td>\n",
       "      <td>1</td>\n",
       "      <td>0</td>\n",
       "      <td>0</td>\n",
       "      <td>0</td>\n",
       "      <td>0</td>\n",
       "      <td>1.170601</td>\n",
       "      <td>-1.229139</td>\n",
       "      <td>-0.303719</td>\n",
       "      <td>0.714347</td>\n",
       "    </tr>\n",
       "    <tr>\n",
       "      <th>9</th>\n",
       "      <td>T10</td>\n",
       "      <td>B</td>\n",
       "      <td>15.0</td>\n",
       "      <td>20000327</td>\n",
       "      <td>1408038021</td>\n",
       "      <td>A</td>\n",
       "      <td>2014</td>\n",
       "      <td>8</td>\n",
       "      <td>14</td>\n",
       "      <td>18</td>\n",
       "      <td>...</td>\n",
       "      <td>0</td>\n",
       "      <td>1</td>\n",
       "      <td>0</td>\n",
       "      <td>0</td>\n",
       "      <td>0</td>\n",
       "      <td>0</td>\n",
       "      <td>2.324633</td>\n",
       "      <td>0.632277</td>\n",
       "      <td>0.271564</td>\n",
       "      <td>0.798384</td>\n",
       "    </tr>\n",
       "  </tbody>\n",
       "</table>\n",
       "<p>10 rows × 23 columns</p>\n",
       "</div>"
      ],
      "text/plain": [
       "  TRIP_ID CALL_TYPE  ORIGIN_STAND   TAXI_ID   TIMESTAMP DAY_TYPE  year  month  \\\n",
       "0      T1         B          15.0  20000542  1408039037        A  2014      8   \n",
       "1      T2         B          57.0  20000108  1408038611        A  2014      8   \n",
       "2      T3         B          15.0  20000370  1408038568        A  2014      8   \n",
       "3      T4         B          53.0  20000492  1408039090        A  2014      8   \n",
       "4      T5         B          18.0  20000621  1408039177        A  2014      8   \n",
       "5      T6         A           NaN  20000607  1408037146        A  2014      8   \n",
       "6      T7         B          15.0  20000310  1408038846        A  2014      8   \n",
       "7      T8         A           NaN  20000619  1408038948        A  2014      8   \n",
       "8      T9         B           9.0  20000503  1408038563        A  2014      8   \n",
       "9     T10         B          15.0  20000327  1408038021        A  2014      8   \n",
       "\n",
       "   day  hour  ...  call_C  day_A  day_B  day_C  day_D  day_E  STAND_MEAN  \\\n",
       "0   14    18  ...       0      1      0      0      0      0    2.324633   \n",
       "1   14    18  ...       0      1      0      0      0      0   -0.921834   \n",
       "2   14    18  ...       0      1      0      0      0      0    2.324633   \n",
       "3   14    18  ...       0      1      0      0      0      0   -0.922573   \n",
       "4   14    18  ...       0      1      0      0      0      0    1.134218   \n",
       "5   14    18  ...       0      1      0      0      0      0    0.388918   \n",
       "6   14    18  ...       0      1      0      0      0      0    2.324633   \n",
       "7   14    18  ...       0      1      0      0      0      0    0.388918   \n",
       "8   14    18  ...       0      1      0      0      0      0    1.170601   \n",
       "9   14    18  ...       0      1      0      0      0      0    2.324633   \n",
       "\n",
       "   TAXI_ID_MEAN  Init_longitude  Init_latitude  \n",
       "0      0.099967        0.271564       0.798384  \n",
       "1     -0.307380       -0.448321       0.742481  \n",
       "2     -0.754649        0.271564       0.798384  \n",
       "3     -1.020312       -0.544150       0.655881  \n",
       "4     -0.788176       -0.706226       0.792449  \n",
       "5      2.510910       -0.713083       0.786515  \n",
       "6     -0.653464        0.271564       0.798384  \n",
       "7      0.596003       -0.638736       0.937370  \n",
       "8     -1.229139       -0.303719       0.714347  \n",
       "9      0.632277        0.271564       0.798384  \n",
       "\n",
       "[10 rows x 23 columns]"
      ]
     },
     "execution_count": 78,
     "metadata": {},
     "output_type": "execute_result"
    }
   ],
   "source": [
    "df_test[:10]"
   ]
  },
  {
   "cell_type": "code",
   "execution_count": 79,
   "id": "dadedf48",
   "metadata": {},
   "outputs": [],
   "source": [
    "\n",
    "#    df[col_name] = np.float32((df[col_name] - df[col_name].mean())/df[col_name].std())\n",
    "test_set = torch.reshape(torch.tensor(df_test['call_A'].values),(-1,1))\n",
    "col_list = ['call_B', 'call_C', 'day_A', 'day_B', 'day_C', 'day_D', 'day_E'\n",
    "            ,'Init_longitude', 'Init_latitude', 'TAXI_ID_MEAN']\n",
    "#col_list = ['call_B', 'call_C','TAXI_ID', 'Init_longitude', 'Init_latitude']\n",
    "for col_name in col_list:\n",
    "#     print(train_set.dtype)\n",
    "    test_set = torch.cat((test_set,torch.reshape(torch.from_numpy(df_test[col_name].values),(-1,1))),1)\n",
    "test_set = test_set.type('torch.FloatTensor')"
   ]
  },
  {
   "cell_type": "code",
   "execution_count": 80,
   "id": "40d0dc76",
   "metadata": {},
   "outputs": [
    {
     "data": {
      "text/plain": [
       "tensor([0.0000, 1.0000, 0.0000, 1.0000, 0.0000, 0.0000, 0.0000, 0.0000, 0.2716,\n",
       "        0.7984, 0.1000])"
      ]
     },
     "execution_count": 80,
     "metadata": {},
     "output_type": "execute_result"
    }
   ],
   "source": [
    "test_set[0]"
   ]
  },
  {
   "cell_type": "code",
   "execution_count": 81,
   "id": "f63b9f3b",
   "metadata": {},
   "outputs": [],
   "source": [
    "preds = mlp_model(test_set.to(device))\n",
    "#preds = best_lgbm.predict(test_set)"
   ]
  },
  {
   "cell_type": "code",
   "execution_count": 82,
   "id": "f89d613d",
   "metadata": {},
   "outputs": [],
   "source": [
    "output_csv = pd.read_csv(\"sampleSubmission.csv\")\n",
    "output_csv['TRAVEL_TIME'] = preds.cpu().detach().numpy()\n",
    "#output_csv['TRAVEL_TIME'] = preds\n",
    "output_csv.tail()\n",
    "output_csv.to_csv(\"my_pred.csv\", index=None)\n"
   ]
  },
  {
   "cell_type": "code",
   "execution_count": 83,
   "id": "2ccdca08",
   "metadata": {},
   "outputs": [],
   "source": [
    "#visualizing\n",
    "#lst = [(1,2), (3,4)]\n",
    "#plt.plot(lst)"
   ]
  }
 ],
 "metadata": {
  "kernelspec": {
   "display_name": "Python 3 (ipykernel)",
   "language": "python",
   "name": "python3"
  },
  "language_info": {
   "codemirror_mode": {
    "name": "ipython",
    "version": 3
   },
   "file_extension": ".py",
   "mimetype": "text/x-python",
   "name": "python",
   "nbconvert_exporter": "python",
   "pygments_lexer": "ipython3",
   "version": "3.9.7"
  }
 },
 "nbformat": 4,
 "nbformat_minor": 5
}
