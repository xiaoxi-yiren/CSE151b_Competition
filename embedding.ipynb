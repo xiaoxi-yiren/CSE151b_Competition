{
 "cells": [
  {
   "cell_type": "code",
   "execution_count": 136,
   "id": "6eacbb16",
   "metadata": {},
   "outputs": [],
   "source": [
    "import pandas as pd\n",
    "import torch\n",
    "import numpy as np\n",
    "import torch.nn as nn\n",
    "from sklearn.metrics import accuracy_score\n",
    "from sklearn.model_selection import GridSearchCV, validation_curve\n",
    "import lightgbm as lgb\n",
    "import xgboost as xgb\n",
    "import matplotlib.pyplot as plt"
   ]
  },
  {
   "cell_type": "code",
   "execution_count": 137,
   "id": "fde74e9b",
   "metadata": {},
   "outputs": [],
   "source": [
    "import warnings\n",
    "warnings.filterwarnings('ignore')"
   ]
  },
  {
   "cell_type": "code",
   "execution_count": 138,
   "id": "c45c765f",
   "metadata": {},
   "outputs": [],
   "source": [
    "device = torch.device(\"cuda\" if torch.cuda.is_available() else \"cpu\")"
   ]
  },
  {
   "cell_type": "code",
   "execution_count": 139,
   "id": "09ba37fe",
   "metadata": {},
   "outputs": [],
   "source": [
    "df = pd.read_csv(\"train.csv\")"
   ]
  },
  {
   "cell_type": "code",
   "execution_count": 140,
   "id": "37ba2fb7",
   "metadata": {},
   "outputs": [
    {
     "data": {
      "text/plain": [
       "1710670"
      ]
     },
     "execution_count": 140,
     "metadata": {},
     "output_type": "execute_result"
    }
   ],
   "source": [
    "df[\"target\"] = df[\"POLYLINE\"].apply(lambda x : np.float32(max((x.count(\"[\") - 2) *15, 0)))\n",
    "len(df)"
   ]
  },
  {
   "cell_type": "code",
   "execution_count": 141,
   "id": "57324bfa",
   "metadata": {},
   "outputs": [
    {
     "data": {
      "text/plain": [
       "1656261"
      ]
     },
     "execution_count": 141,
     "metadata": {},
     "output_type": "execute_result"
    }
   ],
   "source": [
    "mean, std = df[\"target\"].mean(), df[\"target\"].std()\n",
    "median = df[\"target\"].median()\n",
    "#df = df[df[\"target\"] < mean + 3 * std]\n",
    "df = df[df[\"target\"] < 15 * 185]\n",
    "df = df[df[\"target\"] >= 4]\n",
    "len(df)"
   ]
  },
  {
   "cell_type": "code",
   "execution_count": 142,
   "id": "02269b48",
   "metadata": {},
   "outputs": [
    {
     "data": {
      "text/plain": [
       "1656255"
      ]
     },
     "execution_count": 142,
     "metadata": {},
     "output_type": "execute_result"
    }
   ],
   "source": [
    "df = df.loc[df['MISSING_DATA'] == False]\n",
    "df = df.loc[df['target'] > 0]\n",
    "len(df)"
   ]
  },
  {
   "cell_type": "code",
   "execution_count": 143,
   "id": "d6898ddf",
   "metadata": {},
   "outputs": [],
   "source": [
    "from datetime import datetime\n",
    "def parse_time(x):\n",
    "    dt = datetime.utcfromtimestamp(x)\n",
    "    return dt.year, dt.month, dt.day, dt.hour+1, dt.weekday() #monday: 0, sunday: 6"
   ]
  },
  {
   "cell_type": "code",
   "execution_count": 144,
   "id": "65f0166b",
   "metadata": {},
   "outputs": [
    {
     "data": {
      "text/html": [
       "<div>\n",
       "<style scoped>\n",
       "    .dataframe tbody tr th:only-of-type {\n",
       "        vertical-align: middle;\n",
       "    }\n",
       "\n",
       "    .dataframe tbody tr th {\n",
       "        vertical-align: top;\n",
       "    }\n",
       "\n",
       "    .dataframe thead th {\n",
       "        text-align: right;\n",
       "    }\n",
       "</style>\n",
       "<table border=\"1\" class=\"dataframe\">\n",
       "  <thead>\n",
       "    <tr style=\"text-align: right;\">\n",
       "      <th></th>\n",
       "      <th>TRIP_ID</th>\n",
       "      <th>CALL_TYPE</th>\n",
       "      <th>ORIGIN_CALL</th>\n",
       "      <th>ORIGIN_STAND</th>\n",
       "      <th>TAXI_ID</th>\n",
       "      <th>TIMESTAMP</th>\n",
       "      <th>DAY_TYPE</th>\n",
       "      <th>MISSING_DATA</th>\n",
       "      <th>POLYLINE</th>\n",
       "      <th>target</th>\n",
       "      <th>year</th>\n",
       "      <th>month</th>\n",
       "      <th>day</th>\n",
       "      <th>hour</th>\n",
       "      <th>weekday</th>\n",
       "    </tr>\n",
       "  </thead>\n",
       "  <tbody>\n",
       "    <tr>\n",
       "      <th>0</th>\n",
       "      <td>1372636858620000589</td>\n",
       "      <td>C</td>\n",
       "      <td>NaN</td>\n",
       "      <td>NaN</td>\n",
       "      <td>20000589</td>\n",
       "      <td>1372636858</td>\n",
       "      <td>A</td>\n",
       "      <td>False</td>\n",
       "      <td>[[-8.618643,41.141412],[-8.618499,41.141376],[...</td>\n",
       "      <td>330.0</td>\n",
       "      <td>2013</td>\n",
       "      <td>7</td>\n",
       "      <td>1</td>\n",
       "      <td>1</td>\n",
       "      <td>0</td>\n",
       "    </tr>\n",
       "    <tr>\n",
       "      <th>1</th>\n",
       "      <td>1372637303620000596</td>\n",
       "      <td>B</td>\n",
       "      <td>NaN</td>\n",
       "      <td>7.0</td>\n",
       "      <td>20000596</td>\n",
       "      <td>1372637303</td>\n",
       "      <td>A</td>\n",
       "      <td>False</td>\n",
       "      <td>[[-8.639847,41.159826],[-8.640351,41.159871],[...</td>\n",
       "      <td>270.0</td>\n",
       "      <td>2013</td>\n",
       "      <td>7</td>\n",
       "      <td>1</td>\n",
       "      <td>1</td>\n",
       "      <td>0</td>\n",
       "    </tr>\n",
       "    <tr>\n",
       "      <th>2</th>\n",
       "      <td>1372636951620000320</td>\n",
       "      <td>C</td>\n",
       "      <td>NaN</td>\n",
       "      <td>NaN</td>\n",
       "      <td>20000320</td>\n",
       "      <td>1372636951</td>\n",
       "      <td>A</td>\n",
       "      <td>False</td>\n",
       "      <td>[[-8.612964,41.140359],[-8.613378,41.14035],[-...</td>\n",
       "      <td>960.0</td>\n",
       "      <td>2013</td>\n",
       "      <td>7</td>\n",
       "      <td>1</td>\n",
       "      <td>1</td>\n",
       "      <td>0</td>\n",
       "    </tr>\n",
       "    <tr>\n",
       "      <th>3</th>\n",
       "      <td>1372636854620000520</td>\n",
       "      <td>C</td>\n",
       "      <td>NaN</td>\n",
       "      <td>NaN</td>\n",
       "      <td>20000520</td>\n",
       "      <td>1372636854</td>\n",
       "      <td>A</td>\n",
       "      <td>False</td>\n",
       "      <td>[[-8.574678,41.151951],[-8.574705,41.151942],[...</td>\n",
       "      <td>630.0</td>\n",
       "      <td>2013</td>\n",
       "      <td>7</td>\n",
       "      <td>1</td>\n",
       "      <td>1</td>\n",
       "      <td>0</td>\n",
       "    </tr>\n",
       "    <tr>\n",
       "      <th>4</th>\n",
       "      <td>1372637091620000337</td>\n",
       "      <td>C</td>\n",
       "      <td>NaN</td>\n",
       "      <td>NaN</td>\n",
       "      <td>20000337</td>\n",
       "      <td>1372637091</td>\n",
       "      <td>A</td>\n",
       "      <td>False</td>\n",
       "      <td>[[-8.645994,41.18049],[-8.645949,41.180517],[-...</td>\n",
       "      <td>420.0</td>\n",
       "      <td>2013</td>\n",
       "      <td>7</td>\n",
       "      <td>1</td>\n",
       "      <td>1</td>\n",
       "      <td>0</td>\n",
       "    </tr>\n",
       "  </tbody>\n",
       "</table>\n",
       "</div>"
      ],
      "text/plain": [
       "               TRIP_ID CALL_TYPE  ORIGIN_CALL  ORIGIN_STAND   TAXI_ID  \\\n",
       "0  1372636858620000589         C          NaN           NaN  20000589   \n",
       "1  1372637303620000596         B          NaN           7.0  20000596   \n",
       "2  1372636951620000320         C          NaN           NaN  20000320   \n",
       "3  1372636854620000520         C          NaN           NaN  20000520   \n",
       "4  1372637091620000337         C          NaN           NaN  20000337   \n",
       "\n",
       "    TIMESTAMP DAY_TYPE  MISSING_DATA  \\\n",
       "0  1372636858        A         False   \n",
       "1  1372637303        A         False   \n",
       "2  1372636951        A         False   \n",
       "3  1372636854        A         False   \n",
       "4  1372637091        A         False   \n",
       "\n",
       "                                            POLYLINE  target  year  month  \\\n",
       "0  [[-8.618643,41.141412],[-8.618499,41.141376],[...   330.0  2013      7   \n",
       "1  [[-8.639847,41.159826],[-8.640351,41.159871],[...   270.0  2013      7   \n",
       "2  [[-8.612964,41.140359],[-8.613378,41.14035],[-...   960.0  2013      7   \n",
       "3  [[-8.574678,41.151951],[-8.574705,41.151942],[...   630.0  2013      7   \n",
       "4  [[-8.645994,41.18049],[-8.645949,41.180517],[-...   420.0  2013      7   \n",
       "\n",
       "   day  hour  weekday  \n",
       "0    1     1        0  \n",
       "1    1     1        0  \n",
       "2    1     1        0  \n",
       "3    1     1        0  \n",
       "4    1     1        0  "
      ]
     },
     "execution_count": 144,
     "metadata": {},
     "output_type": "execute_result"
    }
   ],
   "source": [
    "times = df['TIMESTAMP'].apply(parse_time)\n",
    "df['year'] = [x for x,y,z,w,a in times]\n",
    "df['month'] = [y for x,y,z,w,a in times]\n",
    "df['day'] = [z for x,y,z,w,a in times]\n",
    "df['hour'] = [w for x,y,z,w,a in times]\n",
    "df['weekday'] = [a for x,y,z,w,a in times]\n",
    "df.head()"
   ]
  },
  {
   "cell_type": "code",
   "execution_count": 145,
   "id": "a74a1944",
   "metadata": {},
   "outputs": [
    {
     "name": "stdout",
     "output_type": "stream",
     "text": [
      "29980\n"
     ]
    }
   ],
   "source": [
    "df_1 = df[ ((df['day'] == 14) & (df['month'] == 8)) \n",
    "          | ((df['day'] == 4) & (df['month'] == 10)) |\n",
    "          ((df['day'] == 9) & (df['month'] == 6)) |\n",
    "          ((df['day'] == 24) & (df['month'] == 4)) |\n",
    "          ((df['day'] == 31) & (df['month'] == 4)) |\n",
    "          ((df['day'] == 31) & (df['month'] == 10)) |\n",
    "          ((df['day'] == 31) & (df['month'] == 11)) |\n",
    "          ((df['day'] == 7) & (df['month'] == 12))\n",
    "         ]\n",
    "print(len(df_1))\n",
    "#df_1 = df_1[df_1['hour'] >= 12]\n",
    "#plt.plot(df_1_1['target'].tolist())\n",
    "#df_1_1['target'].describe()\n",
    "df_1 = df_1.assign(DAY_TYPE = 'A')"
   ]
  },
  {
   "cell_type": "code",
   "execution_count": 146,
   "id": "08252228",
   "metadata": {},
   "outputs": [
    {
     "data": {
      "text/plain": [
       "38945"
      ]
     },
     "execution_count": 146,
     "metadata": {},
     "output_type": "execute_result"
    }
   ],
   "source": [
    "df_2 = df[ ((df['weekday'] <= 4)) ]\n",
    "df_2 = df_2[ ((df_2['month'] == 9) | (df_2['month'] == 10)) ]\n",
    "df_2 = df_2[df_2['hour'] >= 8]\n",
    "df_2 = df_2[df_2['hour'] <= 10]\n",
    "df_2 = df_2.assign(DAY_TYPE = 'B')\n",
    "len(df_2)"
   ]
  },
  {
   "cell_type": "code",
   "execution_count": 147,
   "id": "0d406b2c",
   "metadata": {},
   "outputs": [
    {
     "data": {
      "text/plain": [
       "31819"
      ]
     },
     "execution_count": 147,
     "metadata": {},
     "output_type": "execute_result"
    }
   ],
   "source": [
    "df_3 = df[ ((df['weekday'] <= 4)) ]\n",
    "df_3 = df_3[ ((df_3['month'] == 5) | (df_3['month'] == 6)) ]\n",
    "df_3 = df_3[df_3['hour'] >= 17]\n",
    "df_3 = df_3[df_3['hour'] <= 19]\n",
    "df_3 = df_3.assign(DAY_TYPE = 'C')\n",
    "len(df_3)"
   ]
  },
  {
   "cell_type": "code",
   "execution_count": 148,
   "id": "37f251ec",
   "metadata": {},
   "outputs": [
    {
     "data": {
      "text/plain": [
       "42472"
      ]
     },
     "execution_count": 148,
     "metadata": {},
     "output_type": "execute_result"
    }
   ],
   "source": [
    "df_4 = df[ ((df['weekday'] == 5)) ]\n",
    "df_4 = df_4[df_4['hour'] >= 3]\n",
    "df_4 = df_4[df_4['hour'] <= 5]\n",
    "df_4 = df_4.assign(DAY_TYPE = 'D')\n",
    "len(df_4)"
   ]
  },
  {
   "cell_type": "code",
   "execution_count": 149,
   "id": "9daa3836",
   "metadata": {},
   "outputs": [
    {
     "data": {
      "text/plain": [
       "22172"
      ]
     },
     "execution_count": 149,
     "metadata": {},
     "output_type": "execute_result"
    }
   ],
   "source": [
    "df_5 = df[ ((df['day'] >= 20) & (df['month'] == 12) & (df['day'] <= 23)) ]\n",
    "df_5 = df_5.assign(DAY_TYPE = 'E')\n",
    "len(df_5)"
   ]
  },
  {
   "cell_type": "code",
   "execution_count": 150,
   "id": "d7d52c30",
   "metadata": {},
   "outputs": [
    {
     "data": {
      "text/plain": [
       "165388"
      ]
     },
     "execution_count": 150,
     "metadata": {},
     "output_type": "execute_result"
    }
   ],
   "source": [
    "df_train = pd.concat([df_1, df_2, df_3, df_4, df_5], axis = 0)\n",
    "len(df_train)"
   ]
  },
  {
   "cell_type": "code",
   "execution_count": 151,
   "id": "63fcb47d",
   "metadata": {},
   "outputs": [],
   "source": [
    "df = df_train"
   ]
  },
  {
   "cell_type": "code",
   "execution_count": 152,
   "id": "fb71392a",
   "metadata": {},
   "outputs": [
    {
     "data": {
      "text/html": [
       "<div>\n",
       "<style scoped>\n",
       "    .dataframe tbody tr th:only-of-type {\n",
       "        vertical-align: middle;\n",
       "    }\n",
       "\n",
       "    .dataframe tbody tr th {\n",
       "        vertical-align: top;\n",
       "    }\n",
       "\n",
       "    .dataframe thead th {\n",
       "        text-align: right;\n",
       "    }\n",
       "</style>\n",
       "<table border=\"1\" class=\"dataframe\">\n",
       "  <thead>\n",
       "    <tr style=\"text-align: right;\">\n",
       "      <th></th>\n",
       "      <th>CALL_TYPE</th>\n",
       "      <th>ORIGIN_CALL</th>\n",
       "      <th>ORIGIN_STAND</th>\n",
       "      <th>TAXI_ID</th>\n",
       "      <th>TIMESTAMP</th>\n",
       "      <th>DAY_TYPE</th>\n",
       "      <th>POLYLINE</th>\n",
       "      <th>target</th>\n",
       "      <th>year</th>\n",
       "      <th>month</th>\n",
       "      <th>day</th>\n",
       "      <th>hour</th>\n",
       "      <th>weekday</th>\n",
       "    </tr>\n",
       "  </thead>\n",
       "  <tbody>\n",
       "    <tr>\n",
       "      <th>200188</th>\n",
       "      <td>B</td>\n",
       "      <td>NaN</td>\n",
       "      <td>34.0</td>\n",
       "      <td>20000010</td>\n",
       "      <td>1376438529</td>\n",
       "      <td>A</td>\n",
       "      <td>[[-8.615691,41.140629],[-8.615385,41.140764],[...</td>\n",
       "      <td>480.0</td>\n",
       "      <td>2013</td>\n",
       "      <td>8</td>\n",
       "      <td>14</td>\n",
       "      <td>1</td>\n",
       "      <td>2</td>\n",
       "    </tr>\n",
       "    <tr>\n",
       "      <th>200202</th>\n",
       "      <td>C</td>\n",
       "      <td>NaN</td>\n",
       "      <td>NaN</td>\n",
       "      <td>20000304</td>\n",
       "      <td>1376438909</td>\n",
       "      <td>A</td>\n",
       "      <td>[[-8.594631,41.150664],[-8.595468,41.15016],[-...</td>\n",
       "      <td>300.0</td>\n",
       "      <td>2013</td>\n",
       "      <td>8</td>\n",
       "      <td>14</td>\n",
       "      <td>1</td>\n",
       "      <td>2</td>\n",
       "    </tr>\n",
       "    <tr>\n",
       "      <th>200204</th>\n",
       "      <td>B</td>\n",
       "      <td>NaN</td>\n",
       "      <td>34.0</td>\n",
       "      <td>20000572</td>\n",
       "      <td>1376438510</td>\n",
       "      <td>A</td>\n",
       "      <td>[[-8.61561,41.140827],[-8.615592,41.140809],[-...</td>\n",
       "      <td>420.0</td>\n",
       "      <td>2013</td>\n",
       "      <td>8</td>\n",
       "      <td>14</td>\n",
       "      <td>1</td>\n",
       "      <td>2</td>\n",
       "    </tr>\n",
       "    <tr>\n",
       "      <th>200210</th>\n",
       "      <td>C</td>\n",
       "      <td>NaN</td>\n",
       "      <td>NaN</td>\n",
       "      <td>20000570</td>\n",
       "      <td>1376439240</td>\n",
       "      <td>A</td>\n",
       "      <td>[[-8.610435,41.153589],[-8.611047,41.153634],[...</td>\n",
       "      <td>465.0</td>\n",
       "      <td>2013</td>\n",
       "      <td>8</td>\n",
       "      <td>14</td>\n",
       "      <td>1</td>\n",
       "      <td>2</td>\n",
       "    </tr>\n",
       "    <tr>\n",
       "      <th>200223</th>\n",
       "      <td>B</td>\n",
       "      <td>NaN</td>\n",
       "      <td>9.0</td>\n",
       "      <td>20000173</td>\n",
       "      <td>1376438918</td>\n",
       "      <td>A</td>\n",
       "      <td>[[-8.606439,41.144679],[-8.60643,41.14467],[-8...</td>\n",
       "      <td>450.0</td>\n",
       "      <td>2013</td>\n",
       "      <td>8</td>\n",
       "      <td>14</td>\n",
       "      <td>1</td>\n",
       "      <td>2</td>\n",
       "    </tr>\n",
       "  </tbody>\n",
       "</table>\n",
       "</div>"
      ],
      "text/plain": [
       "       CALL_TYPE  ORIGIN_CALL  ORIGIN_STAND   TAXI_ID   TIMESTAMP DAY_TYPE  \\\n",
       "200188         B          NaN          34.0  20000010  1376438529        A   \n",
       "200202         C          NaN           NaN  20000304  1376438909        A   \n",
       "200204         B          NaN          34.0  20000572  1376438510        A   \n",
       "200210         C          NaN           NaN  20000570  1376439240        A   \n",
       "200223         B          NaN           9.0  20000173  1376438918        A   \n",
       "\n",
       "                                                 POLYLINE  target  year  \\\n",
       "200188  [[-8.615691,41.140629],[-8.615385,41.140764],[...   480.0  2013   \n",
       "200202  [[-8.594631,41.150664],[-8.595468,41.15016],[-...   300.0  2013   \n",
       "200204  [[-8.61561,41.140827],[-8.615592,41.140809],[-...   420.0  2013   \n",
       "200210  [[-8.610435,41.153589],[-8.611047,41.153634],[...   465.0  2013   \n",
       "200223  [[-8.606439,41.144679],[-8.60643,41.14467],[-8...   450.0  2013   \n",
       "\n",
       "        month  day  hour  weekday  \n",
       "200188      8   14     1        2  \n",
       "200202      8   14     1        2  \n",
       "200204      8   14     1        2  \n",
       "200210      8   14     1        2  \n",
       "200223      8   14     1        2  "
      ]
     },
     "execution_count": 152,
     "metadata": {},
     "output_type": "execute_result"
    }
   ],
   "source": [
    "df = df.drop(columns=['TRIP_ID','MISSING_DATA'])\n",
    "df.head()"
   ]
  },
  {
   "cell_type": "code",
   "execution_count": 153,
   "id": "3d2e0719",
   "metadata": {},
   "outputs": [],
   "source": [
    "df['TAXI_ID'] -= 20000000"
   ]
  },
  {
   "cell_type": "code",
   "execution_count": 168,
   "id": "705cf15f",
   "metadata": {},
   "outputs": [],
   "source": [
    "df['quarterHr'] = ((df['hour']-1) / 6).astype(int)"
   ]
  },
  {
   "cell_type": "code",
   "execution_count": 169,
   "id": "0e8c3328",
   "metadata": {},
   "outputs": [],
   "source": [
    "df['call_A'] = df[\"CALL_TYPE\"].apply(lambda x : int(x == 'A'))\n",
    "df['call_B'] = df[\"CALL_TYPE\"].apply(lambda x : int(x == 'B'))\n",
    "df['call_C'] = df[\"CALL_TYPE\"].apply(lambda x : int(x == 'C'))"
   ]
  },
  {
   "cell_type": "code",
   "execution_count": 170,
   "id": "4710edd2",
   "metadata": {},
   "outputs": [],
   "source": [
    "df['day_A'] = df[\"DAY_TYPE\"].apply(lambda x : int(x == 'A'))\n",
    "df['day_B'] = df[\"DAY_TYPE\"].apply(lambda x : int(x == 'B'))\n",
    "df['day_C'] = df[\"DAY_TYPE\"].apply(lambda x : int(x == 'C'))\n",
    "df['day_D'] = df[\"DAY_TYPE\"].apply(lambda x : int(x == 'D'))\n",
    "df['day_E'] = df[\"DAY_TYPE\"].apply(lambda x : int(x == 'E'))"
   ]
  },
  {
   "cell_type": "markdown",
   "id": "54d0a1d8",
   "metadata": {},
   "source": [
    "train_id_mean = df['TAXI_ID'].mean()\n",
    "train_id_std = df['TAXI_ID'].std()\n",
    "df['TAXI_ID'] = (df['TAXI_ID'] - train_id_mean)/ train_id_std"
   ]
  },
  {
   "cell_type": "code",
   "execution_count": 171,
   "id": "8af73925",
   "metadata": {},
   "outputs": [
    {
     "data": {
      "text/plain": [
       "718.4076538085938"
      ]
     },
     "execution_count": 171,
     "metadata": {},
     "output_type": "execute_result"
    }
   ],
   "source": [
    "df_slice = df[df['ORIGIN_STAND'].isna()]\n",
    "stand_nan_mean = df_slice['target'].mean()\n",
    "stand_nan_mean"
   ]
  },
  {
   "cell_type": "code",
   "execution_count": 172,
   "id": "7de370f3",
   "metadata": {},
   "outputs": [],
   "source": [
    "stands = set()\n",
    "stand_to_mean = {}\n",
    "df_temp = df[~df['ORIGIN_STAND'].isna()]\n",
    "for ind, r in df_temp.iterrows():\n",
    "    stands.add(r['ORIGIN_STAND'])\n",
    "for i in stands:\n",
    "    stand_to_mean[i] = df[df['ORIGIN_STAND'] == i]['target'].mean()"
   ]
  },
  {
   "cell_type": "code",
   "execution_count": 173,
   "id": "712e1255",
   "metadata": {},
   "outputs": [],
   "source": [
    "def apply_mean_stand(stand):\n",
    "    if pd.isna(stand):\n",
    "        return stand_nan_mean\n",
    "    else:\n",
    "        return stand_to_mean[stand]"
   ]
  },
  {
   "cell_type": "code",
   "execution_count": 174,
   "id": "279b5fb1",
   "metadata": {},
   "outputs": [],
   "source": [
    "taxi_ids = set()\n",
    "for ind, r in df.iterrows():\n",
    "    taxi_ids.add(r['TAXI_ID'])\n",
    "taxi_id_to_mean = {}\n",
    "for i in taxi_ids:\n",
    "    taxi_id_to_mean[i] = df[df['TAXI_ID'] == i]['target'].mean()"
   ]
  },
  {
   "cell_type": "code",
   "execution_count": 175,
   "id": "2efe61a7",
   "metadata": {},
   "outputs": [],
   "source": [
    "def apply_mean(taxi_id):\n",
    "    return taxi_id_to_mean[taxi_id]"
   ]
  },
  {
   "cell_type": "code",
   "execution_count": 176,
   "id": "70de16dd",
   "metadata": {},
   "outputs": [
    {
     "data": {
      "text/html": [
       "<div>\n",
       "<style scoped>\n",
       "    .dataframe tbody tr th:only-of-type {\n",
       "        vertical-align: middle;\n",
       "    }\n",
       "\n",
       "    .dataframe tbody tr th {\n",
       "        vertical-align: top;\n",
       "    }\n",
       "\n",
       "    .dataframe thead th {\n",
       "        text-align: right;\n",
       "    }\n",
       "</style>\n",
       "<table border=\"1\" class=\"dataframe\">\n",
       "  <thead>\n",
       "    <tr style=\"text-align: right;\">\n",
       "      <th></th>\n",
       "      <th>CALL_TYPE</th>\n",
       "      <th>ORIGIN_CALL</th>\n",
       "      <th>ORIGIN_STAND</th>\n",
       "      <th>TAXI_ID</th>\n",
       "      <th>TIMESTAMP</th>\n",
       "      <th>DAY_TYPE</th>\n",
       "      <th>POLYLINE</th>\n",
       "      <th>target</th>\n",
       "      <th>year</th>\n",
       "      <th>month</th>\n",
       "      <th>...</th>\n",
       "      <th>call_A</th>\n",
       "      <th>call_B</th>\n",
       "      <th>call_C</th>\n",
       "      <th>day_A</th>\n",
       "      <th>day_B</th>\n",
       "      <th>day_C</th>\n",
       "      <th>day_D</th>\n",
       "      <th>day_E</th>\n",
       "      <th>TAXI_ID_MEAN</th>\n",
       "      <th>STAND_MEAN</th>\n",
       "    </tr>\n",
       "  </thead>\n",
       "  <tbody>\n",
       "    <tr>\n",
       "      <th>200188</th>\n",
       "      <td>B</td>\n",
       "      <td>NaN</td>\n",
       "      <td>34.0</td>\n",
       "      <td>10</td>\n",
       "      <td>1376438529</td>\n",
       "      <td>A</td>\n",
       "      <td>[[-8.615691,41.140629],[-8.615385,41.140764],[...</td>\n",
       "      <td>480.0</td>\n",
       "      <td>2013</td>\n",
       "      <td>8</td>\n",
       "      <td>...</td>\n",
       "      <td>0</td>\n",
       "      <td>1</td>\n",
       "      <td>0</td>\n",
       "      <td>1</td>\n",
       "      <td>0</td>\n",
       "      <td>0</td>\n",
       "      <td>0</td>\n",
       "      <td>0</td>\n",
       "      <td>687.091064</td>\n",
       "      <td>671.156128</td>\n",
       "    </tr>\n",
       "    <tr>\n",
       "      <th>200202</th>\n",
       "      <td>C</td>\n",
       "      <td>NaN</td>\n",
       "      <td>NaN</td>\n",
       "      <td>304</td>\n",
       "      <td>1376438909</td>\n",
       "      <td>A</td>\n",
       "      <td>[[-8.594631,41.150664],[-8.595468,41.15016],[-...</td>\n",
       "      <td>300.0</td>\n",
       "      <td>2013</td>\n",
       "      <td>8</td>\n",
       "      <td>...</td>\n",
       "      <td>0</td>\n",
       "      <td>0</td>\n",
       "      <td>1</td>\n",
       "      <td>1</td>\n",
       "      <td>0</td>\n",
       "      <td>0</td>\n",
       "      <td>0</td>\n",
       "      <td>0</td>\n",
       "      <td>699.678162</td>\n",
       "      <td>718.407654</td>\n",
       "    </tr>\n",
       "    <tr>\n",
       "      <th>200204</th>\n",
       "      <td>B</td>\n",
       "      <td>NaN</td>\n",
       "      <td>34.0</td>\n",
       "      <td>572</td>\n",
       "      <td>1376438510</td>\n",
       "      <td>A</td>\n",
       "      <td>[[-8.61561,41.140827],[-8.615592,41.140809],[-...</td>\n",
       "      <td>420.0</td>\n",
       "      <td>2013</td>\n",
       "      <td>8</td>\n",
       "      <td>...</td>\n",
       "      <td>0</td>\n",
       "      <td>1</td>\n",
       "      <td>0</td>\n",
       "      <td>1</td>\n",
       "      <td>0</td>\n",
       "      <td>0</td>\n",
       "      <td>0</td>\n",
       "      <td>0</td>\n",
       "      <td>670.640015</td>\n",
       "      <td>671.156128</td>\n",
       "    </tr>\n",
       "    <tr>\n",
       "      <th>200210</th>\n",
       "      <td>C</td>\n",
       "      <td>NaN</td>\n",
       "      <td>NaN</td>\n",
       "      <td>570</td>\n",
       "      <td>1376439240</td>\n",
       "      <td>A</td>\n",
       "      <td>[[-8.610435,41.153589],[-8.611047,41.153634],[...</td>\n",
       "      <td>465.0</td>\n",
       "      <td>2013</td>\n",
       "      <td>8</td>\n",
       "      <td>...</td>\n",
       "      <td>0</td>\n",
       "      <td>0</td>\n",
       "      <td>1</td>\n",
       "      <td>1</td>\n",
       "      <td>0</td>\n",
       "      <td>0</td>\n",
       "      <td>0</td>\n",
       "      <td>0</td>\n",
       "      <td>684.038940</td>\n",
       "      <td>718.407654</td>\n",
       "    </tr>\n",
       "    <tr>\n",
       "      <th>200223</th>\n",
       "      <td>B</td>\n",
       "      <td>NaN</td>\n",
       "      <td>9.0</td>\n",
       "      <td>173</td>\n",
       "      <td>1376438918</td>\n",
       "      <td>A</td>\n",
       "      <td>[[-8.606439,41.144679],[-8.60643,41.14467],[-8...</td>\n",
       "      <td>450.0</td>\n",
       "      <td>2013</td>\n",
       "      <td>8</td>\n",
       "      <td>...</td>\n",
       "      <td>0</td>\n",
       "      <td>1</td>\n",
       "      <td>0</td>\n",
       "      <td>1</td>\n",
       "      <td>0</td>\n",
       "      <td>0</td>\n",
       "      <td>0</td>\n",
       "      <td>0</td>\n",
       "      <td>588.278809</td>\n",
       "      <td>765.755249</td>\n",
       "    </tr>\n",
       "  </tbody>\n",
       "</table>\n",
       "<p>5 rows × 24 columns</p>\n",
       "</div>"
      ],
      "text/plain": [
       "       CALL_TYPE  ORIGIN_CALL  ORIGIN_STAND  TAXI_ID   TIMESTAMP DAY_TYPE  \\\n",
       "200188         B          NaN          34.0       10  1376438529        A   \n",
       "200202         C          NaN           NaN      304  1376438909        A   \n",
       "200204         B          NaN          34.0      572  1376438510        A   \n",
       "200210         C          NaN           NaN      570  1376439240        A   \n",
       "200223         B          NaN           9.0      173  1376438918        A   \n",
       "\n",
       "                                                 POLYLINE  target  year  \\\n",
       "200188  [[-8.615691,41.140629],[-8.615385,41.140764],[...   480.0  2013   \n",
       "200202  [[-8.594631,41.150664],[-8.595468,41.15016],[-...   300.0  2013   \n",
       "200204  [[-8.61561,41.140827],[-8.615592,41.140809],[-...   420.0  2013   \n",
       "200210  [[-8.610435,41.153589],[-8.611047,41.153634],[...   465.0  2013   \n",
       "200223  [[-8.606439,41.144679],[-8.60643,41.14467],[-8...   450.0  2013   \n",
       "\n",
       "        month  ...  call_A  call_B  call_C  day_A  day_B  day_C  day_D  day_E  \\\n",
       "200188      8  ...       0       1       0      1      0      0      0      0   \n",
       "200202      8  ...       0       0       1      1      0      0      0      0   \n",
       "200204      8  ...       0       1       0      1      0      0      0      0   \n",
       "200210      8  ...       0       0       1      1      0      0      0      0   \n",
       "200223      8  ...       0       1       0      1      0      0      0      0   \n",
       "\n",
       "        TAXI_ID_MEAN  STAND_MEAN  \n",
       "200188    687.091064  671.156128  \n",
       "200202    699.678162  718.407654  \n",
       "200204    670.640015  671.156128  \n",
       "200210    684.038940  718.407654  \n",
       "200223    588.278809  765.755249  \n",
       "\n",
       "[5 rows x 24 columns]"
      ]
     },
     "execution_count": 176,
     "metadata": {},
     "output_type": "execute_result"
    }
   ],
   "source": [
    "df['TAXI_ID_MEAN'] = df['TAXI_ID'].apply(apply_mean)\n",
    "df['STAND_MEAN'] = df['ORIGIN_STAND'].apply(apply_mean_stand)\n",
    "df.head()"
   ]
  },
  {
   "cell_type": "code",
   "execution_count": 177,
   "id": "1b92c41e",
   "metadata": {},
   "outputs": [],
   "source": [
    "train_id_mean = df['TAXI_ID_MEAN'].mean()\n",
    "train_id_std = df['TAXI_ID_MEAN'].std()"
   ]
  },
  {
   "cell_type": "code",
   "execution_count": 178,
   "id": "287a80cb",
   "metadata": {},
   "outputs": [],
   "source": [
    "train_stand_mean = df['STAND_MEAN'].mean()\n",
    "train_stand_std = df['STAND_MEAN'].std()"
   ]
  },
  {
   "cell_type": "code",
   "execution_count": 179,
   "id": "da99a7f3",
   "metadata": {},
   "outputs": [],
   "source": [
    "def normalize(col_name):\n",
    "    df[col_name] = np.float32((df[col_name] - df[col_name].mean())/df[col_name].std())"
   ]
  },
  {
   "cell_type": "code",
   "execution_count": 180,
   "id": "e85cc21e",
   "metadata": {},
   "outputs": [],
   "source": [
    "def parse_num(str, index):\n",
    "    comma_pos = str.find(',')\n",
    "    if comma_pos == -1:\n",
    "        return None\n",
    "    if index == 0:\n",
    "        return np.float32(str[2:comma_pos])\n",
    "    else:\n",
    "        return np.float32(str[comma_pos + 1:str.find(']')])"
   ]
  },
  {
   "cell_type": "code",
   "execution_count": 181,
   "id": "8d6272ad",
   "metadata": {},
   "outputs": [
    {
     "data": {
      "text/plain": [
       "165388"
      ]
     },
     "execution_count": 181,
     "metadata": {},
     "output_type": "execute_result"
    }
   ],
   "source": [
    "df['Init_longitude'] = df['POLYLINE'].apply(lambda x : parse_num(x,0))\n",
    "df['Init_latitude'] = df['POLYLINE'].apply(lambda x : parse_num(x,1))\n",
    "df = df.loc[df['Init_longitude'] != None]\n",
    "df = df.loc[df['Init_latitude'] != None]\n",
    "train_long_mean = df['Init_longitude'].mean()\n",
    "train_lat_mean = df['Init_latitude'].mean()\n",
    "train_long_std = df['Init_longitude'].std()\n",
    "train_lat_std = df['Init_latitude'].std()\n",
    "normalize('Init_longitude')\n",
    "normalize('Init_latitude')\n",
    "len(df)"
   ]
  },
  {
   "cell_type": "code",
   "execution_count": 182,
   "id": "c5e78130",
   "metadata": {},
   "outputs": [],
   "source": [
    "normalize('STAND_MEAN')\n",
    "normalize('TAXI_ID_MEAN')"
   ]
  },
  {
   "cell_type": "code",
   "execution_count": 183,
   "id": "39e72f28",
   "metadata": {},
   "outputs": [
    {
     "data": {
      "text/html": [
       "<div>\n",
       "<style scoped>\n",
       "    .dataframe tbody tr th:only-of-type {\n",
       "        vertical-align: middle;\n",
       "    }\n",
       "\n",
       "    .dataframe tbody tr th {\n",
       "        vertical-align: top;\n",
       "    }\n",
       "\n",
       "    .dataframe thead th {\n",
       "        text-align: right;\n",
       "    }\n",
       "</style>\n",
       "<table border=\"1\" class=\"dataframe\">\n",
       "  <thead>\n",
       "    <tr style=\"text-align: right;\">\n",
       "      <th></th>\n",
       "      <th>CALL_TYPE</th>\n",
       "      <th>ORIGIN_CALL</th>\n",
       "      <th>ORIGIN_STAND</th>\n",
       "      <th>TAXI_ID</th>\n",
       "      <th>TIMESTAMP</th>\n",
       "      <th>DAY_TYPE</th>\n",
       "      <th>POLYLINE</th>\n",
       "      <th>target</th>\n",
       "      <th>year</th>\n",
       "      <th>month</th>\n",
       "      <th>...</th>\n",
       "      <th>call_C</th>\n",
       "      <th>day_A</th>\n",
       "      <th>day_B</th>\n",
       "      <th>day_C</th>\n",
       "      <th>day_D</th>\n",
       "      <th>day_E</th>\n",
       "      <th>TAXI_ID_MEAN</th>\n",
       "      <th>STAND_MEAN</th>\n",
       "      <th>Init_longitude</th>\n",
       "      <th>Init_latitude</th>\n",
       "    </tr>\n",
       "  </thead>\n",
       "  <tbody>\n",
       "    <tr>\n",
       "      <th>200188</th>\n",
       "      <td>B</td>\n",
       "      <td>NaN</td>\n",
       "      <td>34.0</td>\n",
       "      <td>10</td>\n",
       "      <td>1376438529</td>\n",
       "      <td>A</td>\n",
       "      <td>[[-8.615691,41.140629],[-8.615385,41.140764],[...</td>\n",
       "      <td>480.0</td>\n",
       "      <td>2013</td>\n",
       "      <td>8</td>\n",
       "      <td>...</td>\n",
       "      <td>0</td>\n",
       "      <td>1</td>\n",
       "      <td>0</td>\n",
       "      <td>0</td>\n",
       "      <td>0</td>\n",
       "      <td>0</td>\n",
       "      <td>-0.113276</td>\n",
       "      <td>-0.444278</td>\n",
       "      <td>0.223187</td>\n",
       "      <td>0.521428</td>\n",
       "    </tr>\n",
       "    <tr>\n",
       "      <th>200202</th>\n",
       "      <td>C</td>\n",
       "      <td>NaN</td>\n",
       "      <td>NaN</td>\n",
       "      <td>304</td>\n",
       "      <td>1376438909</td>\n",
       "      <td>A</td>\n",
       "      <td>[[-8.594631,41.150664],[-8.595468,41.15016],[-...</td>\n",
       "      <td>300.0</td>\n",
       "      <td>2013</td>\n",
       "      <td>8</td>\n",
       "      <td>...</td>\n",
       "      <td>1</td>\n",
       "      <td>1</td>\n",
       "      <td>0</td>\n",
       "      <td>0</td>\n",
       "      <td>0</td>\n",
       "      <td>0</td>\n",
       "      <td>0.037287</td>\n",
       "      <td>0.381993</td>\n",
       "      <td>1.067421</td>\n",
       "      <td>0.778478</td>\n",
       "    </tr>\n",
       "    <tr>\n",
       "      <th>200204</th>\n",
       "      <td>B</td>\n",
       "      <td>NaN</td>\n",
       "      <td>34.0</td>\n",
       "      <td>572</td>\n",
       "      <td>1376438510</td>\n",
       "      <td>A</td>\n",
       "      <td>[[-8.61561,41.140827],[-8.615592,41.140809],[-...</td>\n",
       "      <td>420.0</td>\n",
       "      <td>2013</td>\n",
       "      <td>8</td>\n",
       "      <td>...</td>\n",
       "      <td>0</td>\n",
       "      <td>1</td>\n",
       "      <td>0</td>\n",
       "      <td>0</td>\n",
       "      <td>0</td>\n",
       "      <td>0</td>\n",
       "      <td>-0.310059</td>\n",
       "      <td>-0.444278</td>\n",
       "      <td>0.226437</td>\n",
       "      <td>0.526508</td>\n",
       "    </tr>\n",
       "    <tr>\n",
       "      <th>200210</th>\n",
       "      <td>C</td>\n",
       "      <td>NaN</td>\n",
       "      <td>NaN</td>\n",
       "      <td>570</td>\n",
       "      <td>1376439240</td>\n",
       "      <td>A</td>\n",
       "      <td>[[-8.610435,41.153589],[-8.611047,41.153634],[...</td>\n",
       "      <td>465.0</td>\n",
       "      <td>2013</td>\n",
       "      <td>8</td>\n",
       "      <td>...</td>\n",
       "      <td>1</td>\n",
       "      <td>1</td>\n",
       "      <td>0</td>\n",
       "      <td>0</td>\n",
       "      <td>0</td>\n",
       "      <td>0</td>\n",
       "      <td>-0.149785</td>\n",
       "      <td>0.381993</td>\n",
       "      <td>0.433911</td>\n",
       "      <td>0.853316</td>\n",
       "    </tr>\n",
       "    <tr>\n",
       "      <th>200223</th>\n",
       "      <td>B</td>\n",
       "      <td>NaN</td>\n",
       "      <td>9.0</td>\n",
       "      <td>173</td>\n",
       "      <td>1376438918</td>\n",
       "      <td>A</td>\n",
       "      <td>[[-8.606439,41.144679],[-8.60643,41.14467],[-8...</td>\n",
       "      <td>450.0</td>\n",
       "      <td>2013</td>\n",
       "      <td>8</td>\n",
       "      <td>...</td>\n",
       "      <td>0</td>\n",
       "      <td>1</td>\n",
       "      <td>0</td>\n",
       "      <td>0</td>\n",
       "      <td>0</td>\n",
       "      <td>0</td>\n",
       "      <td>-1.295242</td>\n",
       "      <td>1.209945</td>\n",
       "      <td>0.594095</td>\n",
       "      <td>0.625186</td>\n",
       "    </tr>\n",
       "  </tbody>\n",
       "</table>\n",
       "<p>5 rows × 26 columns</p>\n",
       "</div>"
      ],
      "text/plain": [
       "       CALL_TYPE  ORIGIN_CALL  ORIGIN_STAND  TAXI_ID   TIMESTAMP DAY_TYPE  \\\n",
       "200188         B          NaN          34.0       10  1376438529        A   \n",
       "200202         C          NaN           NaN      304  1376438909        A   \n",
       "200204         B          NaN          34.0      572  1376438510        A   \n",
       "200210         C          NaN           NaN      570  1376439240        A   \n",
       "200223         B          NaN           9.0      173  1376438918        A   \n",
       "\n",
       "                                                 POLYLINE  target  year  \\\n",
       "200188  [[-8.615691,41.140629],[-8.615385,41.140764],[...   480.0  2013   \n",
       "200202  [[-8.594631,41.150664],[-8.595468,41.15016],[-...   300.0  2013   \n",
       "200204  [[-8.61561,41.140827],[-8.615592,41.140809],[-...   420.0  2013   \n",
       "200210  [[-8.610435,41.153589],[-8.611047,41.153634],[...   465.0  2013   \n",
       "200223  [[-8.606439,41.144679],[-8.60643,41.14467],[-8...   450.0  2013   \n",
       "\n",
       "        month  ...  call_C  day_A  day_B  day_C  day_D  day_E  TAXI_ID_MEAN  \\\n",
       "200188      8  ...       0      1      0      0      0      0     -0.113276   \n",
       "200202      8  ...       1      1      0      0      0      0      0.037287   \n",
       "200204      8  ...       0      1      0      0      0      0     -0.310059   \n",
       "200210      8  ...       1      1      0      0      0      0     -0.149785   \n",
       "200223      8  ...       0      1      0      0      0      0     -1.295242   \n",
       "\n",
       "        STAND_MEAN  Init_longitude  Init_latitude  \n",
       "200188   -0.444278        0.223187       0.521428  \n",
       "200202    0.381993        1.067421       0.778478  \n",
       "200204   -0.444278        0.226437       0.526508  \n",
       "200210    0.381993        0.433911       0.853316  \n",
       "200223    1.209945        0.594095       0.625186  \n",
       "\n",
       "[5 rows x 26 columns]"
      ]
     },
     "execution_count": 183,
     "metadata": {},
     "output_type": "execute_result"
    }
   ],
   "source": [
    "df.head()"
   ]
  },
  {
   "cell_type": "code",
   "execution_count": 191,
   "id": "2fe0395a",
   "metadata": {},
   "outputs": [],
   "source": [
    "train_set = torch.reshape(torch.tensor(df['call_A'].values),(-1,1))\n",
    "#,'TAXI_ID_MEAN'\n",
    "col_list = ['call_B', 'call_C', 'day_A', 'day_B', 'day_C', 'day_D', 'day_E']\n",
    "#            ,'Init_longitude', 'Init_latitude']\n",
    "for col_name in col_list:\n",
    "#     print(train_set.dtype)\n",
    "    train_set = torch.cat((train_set,torch.reshape(torch.from_numpy(df[col_name].values),(-1,1))),1)"
   ]
  },
  {
   "cell_type": "code",
   "execution_count": 200,
   "id": "2b2ac862",
   "metadata": {},
   "outputs": [
    {
     "data": {
      "text/plain": [
       "tensor([0, 1, 0, 1, 0, 0, 0, 0])"
      ]
     },
     "execution_count": 200,
     "metadata": {},
     "output_type": "execute_result"
    }
   ],
   "source": [
    "train_set[0]"
   ]
  },
  {
   "cell_type": "code",
   "execution_count": 206,
   "id": "b94a416c",
   "metadata": {},
   "outputs": [],
   "source": [
    "col_embed = ['ORIGIN_STAND', 'ORIGIN_CALL', 'quarterHr', 'day', 'weekday']"
   ]
  },
  {
   "cell_type": "code",
   "execution_count": 326,
   "id": "1c93cc4c",
   "metadata": {},
   "outputs": [],
   "source": [
    "def apply_embed(x):\n",
    "    t = torch.reshape(torch.from_numpy(x.values),(-1,1))\n",
    "    embedding = nn.Embedding(np.max(x.values) + 1, 10)\n",
    "\n",
    "    res = embedding(t)\n",
    "    return res"
   ]
  },
  {
   "cell_type": "code",
   "execution_count": 327,
   "id": "4edb8c53",
   "metadata": {},
   "outputs": [],
   "source": [
    "ae = apply_embed(df['TAXI_ID'])\n",
    "ae1 = apply_embed(df['quarterHr'])\n",
    "ae2 = apply_embed(df['day'])\n",
    "ae3 = apply_embed(df['weekday'])"
   ]
  },
  {
   "cell_type": "code",
   "execution_count": 328,
   "id": "45ed6609",
   "metadata": {},
   "outputs": [
    {
     "data": {
      "text/plain": [
       "(tensor([[ 2.1649, -1.4727, -0.1742,  0.8401,  0.0595, -1.0268, -1.2760,  1.9809,\n",
       "           0.9022, -0.4376]], grad_fn=<SelectBackward0>),\n",
       " tensor([[ 1.0124, -0.8943, -0.3840,  0.2604,  0.1164,  0.6309, -0.8133, -0.5425,\n",
       "          -2.7334, -0.5897]], grad_fn=<SelectBackward0>),\n",
       " tensor([[-0.0063,  0.3544,  0.3112, -1.2755, -0.3064,  0.3576,  0.1012,  1.8000,\n",
       "          -0.2142,  0.5763]], grad_fn=<SelectBackward0>),\n",
       " tensor([[ 0.3101, -0.6469, -0.5186, -0.3889,  1.1985,  0.3607,  0.4765,  1.9344,\n",
       "          -1.7221,  1.2430]], grad_fn=<SelectBackward0>))"
      ]
     },
     "execution_count": 328,
     "metadata": {},
     "output_type": "execute_result"
    }
   ],
   "source": [
    "ae[0], ae1[0], ae2[0], ae3[0]"
   ]
  },
  {
   "cell_type": "code",
   "execution_count": 329,
   "id": "e733ae33",
   "metadata": {},
   "outputs": [
    {
     "data": {
      "text/plain": [
       "tensor([ 2.1649, -1.4727, -0.1742,  0.8401,  0.0595, -1.0268, -1.2760,  1.9809,\n",
       "         0.9022, -0.4376,  1.0124, -0.8943, -0.3840,  0.2604,  0.1164,  0.6309,\n",
       "        -0.8133, -0.5425, -2.7334, -0.5897, -0.0063,  0.3544,  0.3112, -1.2755,\n",
       "        -0.3064,  0.3576,  0.1012,  1.8000, -0.2142,  0.5763,  0.3101, -0.6469,\n",
       "        -0.5186, -0.3889,  1.1985,  0.3607,  0.4765,  1.9344, -1.7221,  1.2430],\n",
       "       grad_fn=<ReshapeAliasBackward0>)"
      ]
     },
     "execution_count": 329,
     "metadata": {},
     "output_type": "execute_result"
    }
   ],
   "source": [
    "c = torch.cat((ae,ae1,ae2,ae3), dim = 1)\n",
    "embed_set = []\n",
    "for i in range(len(c)):\n",
    "    embed_set.append(torch.flatten(c[i]))\n",
    "embed_set[0]"
   ]
  },
  {
   "cell_type": "code",
   "execution_count": null,
   "id": "7031c7e3",
   "metadata": {},
   "outputs": [],
   "source": [
    "et = torch.stack(embed_set)"
   ]
  },
  {
   "cell_type": "code",
   "execution_count": 332,
   "id": "e51ba882",
   "metadata": {},
   "outputs": [
    {
     "data": {
      "text/plain": [
       "(48,\n",
       " tensor([ 0.0000,  1.0000,  0.0000,  1.0000,  0.0000,  0.0000,  0.0000,  0.0000,\n",
       "          2.1649, -1.4727, -0.1742,  0.8401,  0.0595, -1.0268, -1.2760,  1.9809,\n",
       "          0.9022, -0.4376,  1.0124, -0.8943, -0.3840,  0.2604,  0.1164,  0.6309,\n",
       "         -0.8133, -0.5425, -2.7334, -0.5897, -0.0063,  0.3544,  0.3112, -1.2755,\n",
       "         -0.3064,  0.3576,  0.1012,  1.8000, -0.2142,  0.5763,  0.3101, -0.6469,\n",
       "         -0.5186, -0.3889,  1.1985,  0.3607,  0.4765,  1.9344, -1.7221,  1.2430],\n",
       "        grad_fn=<SelectBackward0>))"
      ]
     },
     "execution_count": 332,
     "metadata": {},
     "output_type": "execute_result"
    }
   ],
   "source": [
    "c = torch.cat( (train_set, et), dim = 1)\n",
    "len(c[0]), c[0]"
   ]
  },
  {
   "cell_type": "code",
   "execution_count": 351,
   "id": "1ff9d115",
   "metadata": {},
   "outputs": [],
   "source": [
    "train_set = c"
   ]
  },
  {
   "cell_type": "code",
   "execution_count": 364,
   "id": "a90451ef",
   "metadata": {},
   "outputs": [],
   "source": [
    "train_set = train_set.type('torch.FloatTensor')\n",
    "train_set = train_set.clone().detach()"
   ]
  },
  {
   "cell_type": "code",
   "execution_count": 353,
   "id": "3c148dac",
   "metadata": {},
   "outputs": [],
   "source": [
    "target_set = torch.reshape(torch.tensor(df['target'].values),(-1,1))"
   ]
  },
  {
   "cell_type": "code",
   "execution_count": 354,
   "id": "45409c19",
   "metadata": {},
   "outputs": [
    {
     "data": {
      "text/plain": [
       "tensor([ 0.0000,  1.0000,  0.0000,  1.0000,  0.0000,  0.0000,  0.0000,  0.0000,\n",
       "         2.1649, -1.4727, -0.1742,  0.8401,  0.0595, -1.0268, -1.2760,  1.9809,\n",
       "         0.9022, -0.4376,  1.0124, -0.8943, -0.3840,  0.2604,  0.1164,  0.6309,\n",
       "        -0.8133, -0.5425, -2.7334, -0.5897, -0.0063,  0.3544,  0.3112, -1.2755,\n",
       "        -0.3064,  0.3576,  0.1012,  1.8000, -0.2142,  0.5763,  0.3101, -0.6469,\n",
       "        -0.5186, -0.3889,  1.1985,  0.3607,  0.4765,  1.9344, -1.7221,  1.2430],\n",
       "       grad_fn=<SelectBackward0>)"
      ]
     },
     "execution_count": 354,
     "metadata": {},
     "output_type": "execute_result"
    }
   ],
   "source": [
    "train_set[0]"
   ]
  },
  {
   "cell_type": "code",
   "execution_count": 355,
   "id": "529a81f4",
   "metadata": {},
   "outputs": [],
   "source": [
    "class MLP_Regressor(torch.nn.Module):\n",
    "    def __init__(self, in_dim, hidden_dim, out_dim = 1):\n",
    "        super(MLP_Regressor, self).__init__() #Refers to the fact that this is a subclass of nn.Module and is inheriting all methods\n",
    "        self.in_dim = in_dim\n",
    "        self.hidden_dim = hidden_dim\n",
    "        self.out_dim = 1\n",
    "                \n",
    "        self.fc = torch.nn.Sequential(\n",
    "            nn.Dropout(),\n",
    "            nn.Linear(self.in_dim, self.hidden_dim),\n",
    "            nn.ReLU(),\n",
    "            nn.Dropout(),\n",
    "            nn.Linear(self.hidden_dim, self.hidden_dim * 2),\n",
    "            nn.ReLU(),\n",
    "            nn.Dropout(),\n",
    "            nn.Linear(self.hidden_dim * 2, self.hidden_dim),\n",
    "            nn.ReLU(),\n",
    "            nn.Linear(self.hidden_dim, self.out_dim)\n",
    "        )\n",
    "\n",
    "    \n",
    "    def forward(self, x):\n",
    "        x = self.fc(x)\n",
    "        x = x.squeeze(1)\n",
    "        return x"
   ]
  },
  {
   "cell_type": "code",
   "execution_count": 356,
   "id": "854039c6",
   "metadata": {},
   "outputs": [],
   "source": [
    "targets = torch.reshape(torch.from_numpy(df['target'].values),(-1,1))"
   ]
  },
  {
   "cell_type": "code",
   "execution_count": 357,
   "id": "1c31f08c",
   "metadata": {},
   "outputs": [
    {
     "data": {
      "text/plain": [
       "165388"
      ]
     },
     "execution_count": 357,
     "metadata": {},
     "output_type": "execute_result"
    }
   ],
   "source": [
    "len(targets)"
   ]
  },
  {
   "cell_type": "code",
   "execution_count": 366,
   "id": "a7520c82",
   "metadata": {},
   "outputs": [
    {
     "name": "stdout",
     "output_type": "stream",
     "text": [
      "132310\n",
      "33078\n"
     ]
    }
   ],
   "source": [
    "batch_size = 64\n",
    "lst_all = list(zip(train_set, targets))\n",
    "np.random.shuffle(lst_all)\n",
    "lst_train = lst_all[:int(len(lst_all) * 0.8)]\n",
    "lst_valid = lst_all[int(len(lst_all) * 0.8):]\n",
    "len_train = len(lst_train)\n",
    "print(len(lst_train))\n",
    "print(len(lst_valid))\n",
    "#print(lst_train[0])\n",
    "trainloader = torch.utils.data.DataLoader(lst_train , batch_size=batch_size, shuffle=True, num_workers=2)\n",
    "validloader = torch.utils.data.DataLoader(lst_valid , batch_size=batch_size, shuffle=False, num_workers=2)"
   ]
  },
  {
   "cell_type": "code",
   "execution_count": 367,
   "id": "933900e7",
   "metadata": {},
   "outputs": [],
   "source": [
    "def validate(dataloader, model, criterion):\n",
    "    valid_losses = []\n",
    "    with torch.no_grad():\n",
    "        for X, y in dataloader:\n",
    "            X, y = X.to(device), y.to(device)\n",
    "            loss = get_loss(X, y, model, criterion)\n",
    "            valid_losses.append(loss.item())\n",
    "    \n",
    "    return np.mean(valid_losses)"
   ]
  },
  {
   "cell_type": "code",
   "execution_count": 368,
   "id": "a26e87d8",
   "metadata": {},
   "outputs": [],
   "source": [
    "mlp_model = MLP_Regressor(48, 64, 1).to(device)\n",
    "lr_mlp = 5e-6\n",
    "optimizer = torch.optim.Adam(mlp_model.parameters(), lr = lr_mlp)\n",
    "criterion = nn.MSELoss()"
   ]
  },
  {
   "cell_type": "code",
   "execution_count": 369,
   "id": "48d8647a",
   "metadata": {},
   "outputs": [],
   "source": [
    "def get_loss(X, y, model, criterion):\n",
    "    y_pred = model(X)\n",
    "    loss = criterion(y_pred, y)\n",
    "    return torch.sqrt(loss)"
   ]
  },
  {
   "cell_type": "code",
   "execution_count": 370,
   "id": "b5c1aa30",
   "metadata": {},
   "outputs": [],
   "source": [
    "models = []"
   ]
  },
  {
   "cell_type": "code",
   "execution_count": 371,
   "id": "00dab4ce",
   "metadata": {},
   "outputs": [
    {
     "name": "stderr",
     "output_type": "stream",
     "text": [
      " 20%|██        | 1/5 [00:23<01:33, 23.47s/it]"
     ]
    },
    {
     "name": "stdout",
     "output_type": "stream",
     "text": [
      "RMSE: 806.6586873628185\n",
      "Total loss: 1668170.1654663086\n"
     ]
    },
    {
     "name": "stderr",
     "output_type": "stream",
     "text": [
      " 40%|████      | 2/5 [00:47<01:10, 23.52s/it]"
     ]
    },
    {
     "name": "stdout",
     "output_type": "stream",
     "text": [
      "RMSE: 803.4854707404309\n",
      "Total loss: 1661607.953491211\n"
     ]
    },
    {
     "name": "stderr",
     "output_type": "stream",
     "text": [
      " 60%|██████    | 3/5 [01:09<00:46, 23.08s/it]"
     ]
    },
    {
     "name": "stdout",
     "output_type": "stream",
     "text": [
      "RMSE: 793.624596011016\n",
      "Total loss: 1641215.6645507812\n"
     ]
    },
    {
     "name": "stderr",
     "output_type": "stream",
     "text": [
      " 80%|████████  | 4/5 [01:32<00:23, 23.10s/it]"
     ]
    },
    {
     "name": "stdout",
     "output_type": "stream",
     "text": [
      "RMSE: 772.3105236474042\n",
      "Total loss: 1597138.162902832\n"
     ]
    },
    {
     "name": "stderr",
     "output_type": "stream",
     "text": [
      "100%|██████████| 5/5 [01:56<00:00, 23.21s/it]"
     ]
    },
    {
     "name": "stdout",
     "output_type": "stream",
     "text": [
      "RMSE: 735.608919302315\n",
      "Total loss: 1521239.2451171875\n",
      "Finished Training\n"
     ]
    },
    {
     "name": "stderr",
     "output_type": "stream",
     "text": [
      "\n"
     ]
    },
    {
     "name": "stdout",
     "output_type": "stream",
     "text": [
      "Valid RMSE: 705.4257298954682\n"
     ]
    }
   ],
   "source": [
    "from tqdm import tqdm\n",
    "for epoch in tqdm(range(5)):\n",
    "\n",
    "    running_loss = 0.0\n",
    "    losses = []\n",
    "    for X, y in trainloader:\n",
    "        X, y = X.to(device), y.to(device)\n",
    "\n",
    "        # zero the parameter gradients\n",
    "        optimizer.zero_grad()\n",
    "\n",
    "        # forward + backward + optimize\n",
    "        loss = get_loss(X, y, mlp_model, criterion)\n",
    "        losses.append(loss.item())\n",
    "        loss.backward()\n",
    "        optimizer.step()\n",
    "\n",
    "        running_loss += loss.cpu().detach().numpy()\n",
    "\n",
    "    models.append(mlp_model)\n",
    "    print(f'RMSE: {running_loss / len(losses)}')\n",
    "    print(f'Total loss: {running_loss}')\n",
    "print('Finished Training')\n",
    "v_loss = validate(validloader, mlp_model, criterion)\n",
    "print(f'Valid RMSE: {v_loss}')"
   ]
  },
  {
   "cell_type": "code",
   "execution_count": 372,
   "id": "0eaee286",
   "metadata": {},
   "outputs": [
    {
     "name": "stdout",
     "output_type": "stream",
     "text": [
      "Valid RMSE: 705.4046585997945\n",
      "Valid RMSE: 705.7106848593146\n",
      "Valid RMSE: 705.134582755644\n",
      "Valid RMSE: 705.217207475142\n",
      "Valid RMSE: 705.6088426837147\n"
     ]
    }
   ],
   "source": [
    "for mlp_model in models:\n",
    "    v_loss = validate(validloader, mlp_model, criterion)\n",
    "    print(f'Valid RMSE: {v_loss}')"
   ]
  },
  {
   "cell_type": "code",
   "execution_count": 209,
   "id": "57484277",
   "metadata": {},
   "outputs": [],
   "source": [
    "mlp_model = models[4]"
   ]
  },
  {
   "cell_type": "code",
   "execution_count": 56,
   "id": "a800af90",
   "metadata": {},
   "outputs": [],
   "source": [
    "model_scripted = torch.jit.script(mlp_model)\n",
    "#model_scripted.save('whyworking.pt')"
   ]
  },
  {
   "cell_type": "code",
   "execution_count": 57,
   "id": "29ef05ba",
   "metadata": {},
   "outputs": [],
   "source": [
    "#m = torch.jit.load('whyworking.pt')\n",
    "#m.eval()"
   ]
  },
  {
   "cell_type": "code",
   "execution_count": 511,
   "id": "ebdc0d4e",
   "metadata": {},
   "outputs": [
    {
     "data": {
      "text/plain": [
       "GridSearchCV(cv=5, estimator=LGBMRegressor(),\n",
       "             param_grid={'learning_rate': [0.001, 0.01, 0.1, 0.2],\n",
       "                         'max_depth': [-1, 5, 10, 15],\n",
       "                         'n_estimators': [50, 100, 300, 500],\n",
       "                         'num_leaves': [17, 31, 45]},\n",
       "             scoring='neg_root_mean_squared_error')"
      ]
     },
     "execution_count": 511,
     "metadata": {},
     "output_type": "execute_result"
    }
   ],
   "source": [
    "param_grid = {\n",
    "    'n_estimators': [50, 100, 300, 500],\n",
    "    'num_leaves': [17, 31, 45],\n",
    "    'max_depth': [-1, 5, 10, 15],\n",
    "    'learning_rate': [1e-3, 1e-2, 0.1, 0.2]\n",
    "}\n",
    "lgbm = lgb.LGBMRegressor()\n",
    "lgbmcv = GridSearchCV(lgbm, param_grid = param_grid, scoring = 'neg_root_mean_squared_error', cv = 5)\n",
    "lgbmcv.fit(train_set, target_set)"
   ]
  },
  {
   "cell_type": "code",
   "execution_count": 512,
   "id": "a8ef0b4f",
   "metadata": {},
   "outputs": [
    {
     "data": {
      "text/plain": [
       "374.4366066672457"
      ]
     },
     "execution_count": 512,
     "metadata": {},
     "output_type": "execute_result"
    }
   ],
   "source": [
    "best_lgbm = lgbmcv.best_estimator_\n",
    "pred = best_lgbm.predict(train_set)\n",
    "targets = df['target'].values\n",
    "np.sqrt(np.mean((pred-targets)**2))"
   ]
  },
  {
   "cell_type": "code",
   "execution_count": 409,
   "id": "e33f1b90",
   "metadata": {},
   "outputs": [],
   "source": [
    "stands = pd.read_csv(\"metaData_taxistandsID_name_GPSlocation.csv\")\n",
    "stand_dict = {}\n",
    "stands.head()\n",
    "for r, s in stands.iterrows():\n",
    "    stand_dict[s['ID']] = (np.float32(s['Longitude']), np.float32(s['Latitude']))"
   ]
  },
  {
   "cell_type": "code",
   "execution_count": 410,
   "id": "205e2ff5",
   "metadata": {},
   "outputs": [],
   "source": [
    "df_test = pd.read_csv(\"test_public.csv\")"
   ]
  },
  {
   "cell_type": "code",
   "execution_count": 411,
   "id": "da146f0f",
   "metadata": {},
   "outputs": [
    {
     "data": {
      "text/html": [
       "<div>\n",
       "<style scoped>\n",
       "    .dataframe tbody tr th:only-of-type {\n",
       "        vertical-align: middle;\n",
       "    }\n",
       "\n",
       "    .dataframe tbody tr th {\n",
       "        vertical-align: top;\n",
       "    }\n",
       "\n",
       "    .dataframe thead th {\n",
       "        text-align: right;\n",
       "    }\n",
       "</style>\n",
       "<table border=\"1\" class=\"dataframe\">\n",
       "  <thead>\n",
       "    <tr style=\"text-align: right;\">\n",
       "      <th></th>\n",
       "      <th>TRIP_ID</th>\n",
       "      <th>CALL_TYPE</th>\n",
       "      <th>ORIGIN_STAND</th>\n",
       "      <th>TAXI_ID</th>\n",
       "      <th>TIMESTAMP</th>\n",
       "      <th>DAY_TYPE</th>\n",
       "    </tr>\n",
       "  </thead>\n",
       "  <tbody>\n",
       "    <tr>\n",
       "      <th>0</th>\n",
       "      <td>T1</td>\n",
       "      <td>B</td>\n",
       "      <td>15.0</td>\n",
       "      <td>20000542</td>\n",
       "      <td>1408039037</td>\n",
       "      <td>A</td>\n",
       "    </tr>\n",
       "    <tr>\n",
       "      <th>1</th>\n",
       "      <td>T2</td>\n",
       "      <td>B</td>\n",
       "      <td>57.0</td>\n",
       "      <td>20000108</td>\n",
       "      <td>1408038611</td>\n",
       "      <td>A</td>\n",
       "    </tr>\n",
       "    <tr>\n",
       "      <th>2</th>\n",
       "      <td>T3</td>\n",
       "      <td>B</td>\n",
       "      <td>15.0</td>\n",
       "      <td>20000370</td>\n",
       "      <td>1408038568</td>\n",
       "      <td>A</td>\n",
       "    </tr>\n",
       "    <tr>\n",
       "      <th>3</th>\n",
       "      <td>T4</td>\n",
       "      <td>B</td>\n",
       "      <td>53.0</td>\n",
       "      <td>20000492</td>\n",
       "      <td>1408039090</td>\n",
       "      <td>A</td>\n",
       "    </tr>\n",
       "    <tr>\n",
       "      <th>4</th>\n",
       "      <td>T5</td>\n",
       "      <td>B</td>\n",
       "      <td>18.0</td>\n",
       "      <td>20000621</td>\n",
       "      <td>1408039177</td>\n",
       "      <td>A</td>\n",
       "    </tr>\n",
       "  </tbody>\n",
       "</table>\n",
       "</div>"
      ],
      "text/plain": [
       "  TRIP_ID CALL_TYPE  ORIGIN_STAND   TAXI_ID   TIMESTAMP DAY_TYPE\n",
       "0      T1         B          15.0  20000542  1408039037        A\n",
       "1      T2         B          57.0  20000108  1408038611        A\n",
       "2      T3         B          15.0  20000370  1408038568        A\n",
       "3      T4         B          53.0  20000492  1408039090        A\n",
       "4      T5         B          18.0  20000621  1408039177        A"
      ]
     },
     "execution_count": 411,
     "metadata": {},
     "output_type": "execute_result"
    }
   ],
   "source": [
    "df_test = df_test.drop(columns=['ORIGIN_CALL','MISSING_DATA'])\n",
    "df_test.head()"
   ]
  },
  {
   "cell_type": "code",
   "execution_count": null,
   "id": "89aed33b",
   "metadata": {},
   "outputs": [],
   "source": []
  },
  {
   "cell_type": "code",
   "execution_count": 412,
   "id": "a8502a92",
   "metadata": {},
   "outputs": [
    {
     "data": {
      "text/html": [
       "<div>\n",
       "<style scoped>\n",
       "    .dataframe tbody tr th:only-of-type {\n",
       "        vertical-align: middle;\n",
       "    }\n",
       "\n",
       "    .dataframe tbody tr th {\n",
       "        vertical-align: top;\n",
       "    }\n",
       "\n",
       "    .dataframe thead th {\n",
       "        text-align: right;\n",
       "    }\n",
       "</style>\n",
       "<table border=\"1\" class=\"dataframe\">\n",
       "  <thead>\n",
       "    <tr style=\"text-align: right;\">\n",
       "      <th></th>\n",
       "      <th>TRIP_ID</th>\n",
       "      <th>CALL_TYPE</th>\n",
       "      <th>ORIGIN_STAND</th>\n",
       "      <th>TAXI_ID</th>\n",
       "      <th>TIMESTAMP</th>\n",
       "      <th>DAY_TYPE</th>\n",
       "      <th>year</th>\n",
       "      <th>month</th>\n",
       "      <th>day</th>\n",
       "      <th>hour</th>\n",
       "      <th>weekday</th>\n",
       "    </tr>\n",
       "  </thead>\n",
       "  <tbody>\n",
       "    <tr>\n",
       "      <th>0</th>\n",
       "      <td>T1</td>\n",
       "      <td>B</td>\n",
       "      <td>15.0</td>\n",
       "      <td>20000542</td>\n",
       "      <td>1408039037</td>\n",
       "      <td>A</td>\n",
       "      <td>2014</td>\n",
       "      <td>8</td>\n",
       "      <td>14</td>\n",
       "      <td>18</td>\n",
       "      <td>3</td>\n",
       "    </tr>\n",
       "    <tr>\n",
       "      <th>1</th>\n",
       "      <td>T2</td>\n",
       "      <td>B</td>\n",
       "      <td>57.0</td>\n",
       "      <td>20000108</td>\n",
       "      <td>1408038611</td>\n",
       "      <td>A</td>\n",
       "      <td>2014</td>\n",
       "      <td>8</td>\n",
       "      <td>14</td>\n",
       "      <td>18</td>\n",
       "      <td>3</td>\n",
       "    </tr>\n",
       "    <tr>\n",
       "      <th>2</th>\n",
       "      <td>T3</td>\n",
       "      <td>B</td>\n",
       "      <td>15.0</td>\n",
       "      <td>20000370</td>\n",
       "      <td>1408038568</td>\n",
       "      <td>A</td>\n",
       "      <td>2014</td>\n",
       "      <td>8</td>\n",
       "      <td>14</td>\n",
       "      <td>18</td>\n",
       "      <td>3</td>\n",
       "    </tr>\n",
       "    <tr>\n",
       "      <th>3</th>\n",
       "      <td>T4</td>\n",
       "      <td>B</td>\n",
       "      <td>53.0</td>\n",
       "      <td>20000492</td>\n",
       "      <td>1408039090</td>\n",
       "      <td>A</td>\n",
       "      <td>2014</td>\n",
       "      <td>8</td>\n",
       "      <td>14</td>\n",
       "      <td>18</td>\n",
       "      <td>3</td>\n",
       "    </tr>\n",
       "    <tr>\n",
       "      <th>4</th>\n",
       "      <td>T5</td>\n",
       "      <td>B</td>\n",
       "      <td>18.0</td>\n",
       "      <td>20000621</td>\n",
       "      <td>1408039177</td>\n",
       "      <td>A</td>\n",
       "      <td>2014</td>\n",
       "      <td>8</td>\n",
       "      <td>14</td>\n",
       "      <td>18</td>\n",
       "      <td>3</td>\n",
       "    </tr>\n",
       "  </tbody>\n",
       "</table>\n",
       "</div>"
      ],
      "text/plain": [
       "  TRIP_ID CALL_TYPE  ORIGIN_STAND   TAXI_ID   TIMESTAMP DAY_TYPE  year  month  \\\n",
       "0      T1         B          15.0  20000542  1408039037        A  2014      8   \n",
       "1      T2         B          57.0  20000108  1408038611        A  2014      8   \n",
       "2      T3         B          15.0  20000370  1408038568        A  2014      8   \n",
       "3      T4         B          53.0  20000492  1408039090        A  2014      8   \n",
       "4      T5         B          18.0  20000621  1408039177        A  2014      8   \n",
       "\n",
       "   day  hour  weekday  \n",
       "0   14    18        3  \n",
       "1   14    18        3  \n",
       "2   14    18        3  \n",
       "3   14    18        3  \n",
       "4   14    18        3  "
      ]
     },
     "execution_count": 412,
     "metadata": {},
     "output_type": "execute_result"
    }
   ],
   "source": [
    "times = df_test['TIMESTAMP'].apply(parse_time)\n",
    "df_test['year'] = [x for x,y,z,w,a in times]\n",
    "df_test['month'] = [y for x,y,z,w,a in times]\n",
    "df_test['day'] = [z for x,y,z,w,a in times]\n",
    "df_test['hour'] = [w for x,y,z,w,a in times]\n",
    "df_test['weekday'] = [a for x,y,z,w,a in times]\n",
    "df_test.head()"
   ]
  },
  {
   "cell_type": "code",
   "execution_count": 413,
   "id": "099addb9",
   "metadata": {},
   "outputs": [
    {
     "data": {
      "text/plain": [
       "320"
      ]
     },
     "execution_count": 413,
     "metadata": {},
     "output_type": "execute_result"
    }
   ],
   "source": [
    "len(df_test)"
   ]
  },
  {
   "cell_type": "code",
   "execution_count": 414,
   "id": "30912a45",
   "metadata": {},
   "outputs": [
    {
     "name": "stdout",
     "output_type": "stream",
     "text": [
      "74\n"
     ]
    }
   ],
   "source": [
    "df_test1 = df_test[(df_test['day'] == 14) & (df_test['month'] == 8)]\n",
    "#df_test1['DAY_TYPE'] = 'C'\n",
    "#8/14, one day before holiday, 18pm\n",
    "print(len(df_test1))\n",
    "df_test1 = df_test1.assign(DAY_TYPE = 'A')\n",
    "#df_test1.head()"
   ]
  },
  {
   "cell_type": "code",
   "execution_count": 415,
   "id": "3bec88ee",
   "metadata": {},
   "outputs": [
    {
     "name": "stdout",
     "output_type": "stream",
     "text": [
      "77\n"
     ]
    }
   ],
   "source": [
    "df_test2 = df_test[ ((df_test['day'] == 30) & (df_test['month'] == 9))] \n",
    "print(len(df_test2))\n",
    "df_test2 = df_test2.assign(DAY_TYPE = 'B')\n",
    "#9/30, normal weekday 7-9am"
   ]
  },
  {
   "cell_type": "code",
   "execution_count": 416,
   "id": "4abc5cbb",
   "metadata": {},
   "outputs": [
    {
     "name": "stdout",
     "output_type": "stream",
     "text": [
      "77\n"
     ]
    }
   ],
   "source": [
    "df_test3 = df_test[(df_test['day'] == 6) & (df_test['month'] == 10)]\n",
    "print(len(df_test3))\n",
    "df_test3 = df_test3.assign(DAY_TYPE = 'C')\n",
    "#10/6, normal weekday, 18pm"
   ]
  },
  {
   "cell_type": "code",
   "execution_count": 417,
   "id": "ad5d840c",
   "metadata": {},
   "outputs": [
    {
     "name": "stdout",
     "output_type": "stream",
     "text": [
      "62\n"
     ]
    }
   ],
   "source": [
    "df_test4 = df_test[(df_test['day'] == 1) & (df_test['month'] == 11)]\n",
    "print(len(df_test4))\n",
    "df_test4 = df_test4.assign(DAY_TYPE = 'D')\n",
    "\n",
    "#11/1, Saturday 4am (??)"
   ]
  },
  {
   "cell_type": "code",
   "execution_count": 418,
   "id": "b0a698d1",
   "metadata": {},
   "outputs": [
    {
     "name": "stdout",
     "output_type": "stream",
     "text": [
      "30\n"
     ]
    }
   ],
   "source": [
    "df_test5 = df_test[(df_test['day'] == 21) & (df_test['month'] == 12)]\n",
    "print(len(df_test5))\n",
    "df_test5 = df_test5.assign(DAY_TYPE = 'E')\n",
    "\n",
    "#12/21, sunday 3pm before christmas"
   ]
  },
  {
   "cell_type": "code",
   "execution_count": 419,
   "id": "006df364",
   "metadata": {},
   "outputs": [
    {
     "data": {
      "text/html": [
       "<div>\n",
       "<style scoped>\n",
       "    .dataframe tbody tr th:only-of-type {\n",
       "        vertical-align: middle;\n",
       "    }\n",
       "\n",
       "    .dataframe tbody tr th {\n",
       "        vertical-align: top;\n",
       "    }\n",
       "\n",
       "    .dataframe thead th {\n",
       "        text-align: right;\n",
       "    }\n",
       "</style>\n",
       "<table border=\"1\" class=\"dataframe\">\n",
       "  <thead>\n",
       "    <tr style=\"text-align: right;\">\n",
       "      <th></th>\n",
       "      <th>TRIP_ID</th>\n",
       "      <th>CALL_TYPE</th>\n",
       "      <th>ORIGIN_STAND</th>\n",
       "      <th>TAXI_ID</th>\n",
       "      <th>TIMESTAMP</th>\n",
       "      <th>DAY_TYPE</th>\n",
       "      <th>year</th>\n",
       "      <th>month</th>\n",
       "      <th>day</th>\n",
       "      <th>hour</th>\n",
       "      <th>weekday</th>\n",
       "    </tr>\n",
       "  </thead>\n",
       "  <tbody>\n",
       "    <tr>\n",
       "      <th>0</th>\n",
       "      <td>T1</td>\n",
       "      <td>B</td>\n",
       "      <td>15.0</td>\n",
       "      <td>20000542</td>\n",
       "      <td>1408039037</td>\n",
       "      <td>A</td>\n",
       "      <td>2014</td>\n",
       "      <td>8</td>\n",
       "      <td>14</td>\n",
       "      <td>18</td>\n",
       "      <td>3</td>\n",
       "    </tr>\n",
       "    <tr>\n",
       "      <th>1</th>\n",
       "      <td>T2</td>\n",
       "      <td>B</td>\n",
       "      <td>57.0</td>\n",
       "      <td>20000108</td>\n",
       "      <td>1408038611</td>\n",
       "      <td>A</td>\n",
       "      <td>2014</td>\n",
       "      <td>8</td>\n",
       "      <td>14</td>\n",
       "      <td>18</td>\n",
       "      <td>3</td>\n",
       "    </tr>\n",
       "    <tr>\n",
       "      <th>2</th>\n",
       "      <td>T3</td>\n",
       "      <td>B</td>\n",
       "      <td>15.0</td>\n",
       "      <td>20000370</td>\n",
       "      <td>1408038568</td>\n",
       "      <td>A</td>\n",
       "      <td>2014</td>\n",
       "      <td>8</td>\n",
       "      <td>14</td>\n",
       "      <td>18</td>\n",
       "      <td>3</td>\n",
       "    </tr>\n",
       "    <tr>\n",
       "      <th>3</th>\n",
       "      <td>T4</td>\n",
       "      <td>B</td>\n",
       "      <td>53.0</td>\n",
       "      <td>20000492</td>\n",
       "      <td>1408039090</td>\n",
       "      <td>A</td>\n",
       "      <td>2014</td>\n",
       "      <td>8</td>\n",
       "      <td>14</td>\n",
       "      <td>18</td>\n",
       "      <td>3</td>\n",
       "    </tr>\n",
       "    <tr>\n",
       "      <th>4</th>\n",
       "      <td>T5</td>\n",
       "      <td>B</td>\n",
       "      <td>18.0</td>\n",
       "      <td>20000621</td>\n",
       "      <td>1408039177</td>\n",
       "      <td>A</td>\n",
       "      <td>2014</td>\n",
       "      <td>8</td>\n",
       "      <td>14</td>\n",
       "      <td>18</td>\n",
       "      <td>3</td>\n",
       "    </tr>\n",
       "    <tr>\n",
       "      <th>...</th>\n",
       "      <td>...</td>\n",
       "      <td>...</td>\n",
       "      <td>...</td>\n",
       "      <td>...</td>\n",
       "      <td>...</td>\n",
       "      <td>...</td>\n",
       "      <td>...</td>\n",
       "      <td>...</td>\n",
       "      <td>...</td>\n",
       "      <td>...</td>\n",
       "      <td>...</td>\n",
       "    </tr>\n",
       "    <tr>\n",
       "      <th>315</th>\n",
       "      <td>T323</td>\n",
       "      <td>A</td>\n",
       "      <td>NaN</td>\n",
       "      <td>20000430</td>\n",
       "      <td>1419171485</td>\n",
       "      <td>E</td>\n",
       "      <td>2014</td>\n",
       "      <td>12</td>\n",
       "      <td>21</td>\n",
       "      <td>15</td>\n",
       "      <td>6</td>\n",
       "    </tr>\n",
       "    <tr>\n",
       "      <th>316</th>\n",
       "      <td>T324</td>\n",
       "      <td>B</td>\n",
       "      <td>53.0</td>\n",
       "      <td>20000020</td>\n",
       "      <td>1419170802</td>\n",
       "      <td>E</td>\n",
       "      <td>2014</td>\n",
       "      <td>12</td>\n",
       "      <td>21</td>\n",
       "      <td>15</td>\n",
       "      <td>6</td>\n",
       "    </tr>\n",
       "    <tr>\n",
       "      <th>317</th>\n",
       "      <td>T325</td>\n",
       "      <td>C</td>\n",
       "      <td>NaN</td>\n",
       "      <td>20000207</td>\n",
       "      <td>1419172121</td>\n",
       "      <td>E</td>\n",
       "      <td>2014</td>\n",
       "      <td>12</td>\n",
       "      <td>21</td>\n",
       "      <td>15</td>\n",
       "      <td>6</td>\n",
       "    </tr>\n",
       "    <tr>\n",
       "      <th>318</th>\n",
       "      <td>T326</td>\n",
       "      <td>A</td>\n",
       "      <td>NaN</td>\n",
       "      <td>20000667</td>\n",
       "      <td>1419171980</td>\n",
       "      <td>E</td>\n",
       "      <td>2014</td>\n",
       "      <td>12</td>\n",
       "      <td>21</td>\n",
       "      <td>15</td>\n",
       "      <td>6</td>\n",
       "    </tr>\n",
       "    <tr>\n",
       "      <th>319</th>\n",
       "      <td>T327</td>\n",
       "      <td>A</td>\n",
       "      <td>NaN</td>\n",
       "      <td>20000255</td>\n",
       "      <td>1419171420</td>\n",
       "      <td>E</td>\n",
       "      <td>2014</td>\n",
       "      <td>12</td>\n",
       "      <td>21</td>\n",
       "      <td>15</td>\n",
       "      <td>6</td>\n",
       "    </tr>\n",
       "  </tbody>\n",
       "</table>\n",
       "<p>320 rows × 11 columns</p>\n",
       "</div>"
      ],
      "text/plain": [
       "    TRIP_ID CALL_TYPE  ORIGIN_STAND   TAXI_ID   TIMESTAMP DAY_TYPE  year  \\\n",
       "0        T1         B          15.0  20000542  1408039037        A  2014   \n",
       "1        T2         B          57.0  20000108  1408038611        A  2014   \n",
       "2        T3         B          15.0  20000370  1408038568        A  2014   \n",
       "3        T4         B          53.0  20000492  1408039090        A  2014   \n",
       "4        T5         B          18.0  20000621  1408039177        A  2014   \n",
       "..      ...       ...           ...       ...         ...      ...   ...   \n",
       "315    T323         A           NaN  20000430  1419171485        E  2014   \n",
       "316    T324         B          53.0  20000020  1419170802        E  2014   \n",
       "317    T325         C           NaN  20000207  1419172121        E  2014   \n",
       "318    T326         A           NaN  20000667  1419171980        E  2014   \n",
       "319    T327         A           NaN  20000255  1419171420        E  2014   \n",
       "\n",
       "     month  day  hour  weekday  \n",
       "0        8   14    18        3  \n",
       "1        8   14    18        3  \n",
       "2        8   14    18        3  \n",
       "3        8   14    18        3  \n",
       "4        8   14    18        3  \n",
       "..     ...  ...   ...      ...  \n",
       "315     12   21    15        6  \n",
       "316     12   21    15        6  \n",
       "317     12   21    15        6  \n",
       "318     12   21    15        6  \n",
       "319     12   21    15        6  \n",
       "\n",
       "[320 rows x 11 columns]"
      ]
     },
     "execution_count": 419,
     "metadata": {},
     "output_type": "execute_result"
    }
   ],
   "source": [
    "df_test = pd.concat([df_test1, df_test2, df_test3, df_test4, df_test5], axis = 0)\n",
    "df_test"
   ]
  },
  {
   "cell_type": "code",
   "execution_count": 420,
   "id": "45adb572",
   "metadata": {},
   "outputs": [],
   "source": [
    "\n",
    "df_test['call_A'] = df_test[\"CALL_TYPE\"].apply(lambda x : int(x == 'A'))\n",
    "df_test['call_B'] = df_test[\"CALL_TYPE\"].apply(lambda x : int(x == 'B'))\n",
    "df_test['call_C'] = df_test[\"CALL_TYPE\"].apply(lambda x : int(x == 'C'))\n",
    "df_test['day_A'] = df_test[\"DAY_TYPE\"].apply(lambda x : int(x == 'A'))\n",
    "df_test['day_B'] = df_test[\"DAY_TYPE\"].apply(lambda x : int(x == 'B'))\n",
    "df_test['day_C'] = df_test[\"DAY_TYPE\"].apply(lambda x : int(x == 'C'))\n",
    "df_test['day_D'] = df_test[\"DAY_TYPE\"].apply(lambda x : int(x == 'D'))\n",
    "df_test['day_E'] = df_test[\"DAY_TYPE\"].apply(lambda x : int(x == 'E'))\n"
   ]
  },
  {
   "cell_type": "code",
   "execution_count": 421,
   "id": "3ed9c7e8",
   "metadata": {},
   "outputs": [],
   "source": [
    "df_test['STAND_MEAN'] = df_test['ORIGIN_STAND'].apply(apply_mean_stand)\n",
    "df_test['STAND_MEAN'] = np.float32((df_test['STAND_MEAN'] - train_stand_mean)/train_stand_std)"
   ]
  },
  {
   "cell_type": "code",
   "execution_count": 422,
   "id": "a4748b05",
   "metadata": {},
   "outputs": [],
   "source": [
    "def apply_mean_test(taxi_id):\n",
    "    if taxi_id in taxi_id_to_mean:\n",
    "        return taxi_id_to_mean[taxi_id]\n",
    "    else:\n",
    "        return train_id_mean"
   ]
  },
  {
   "cell_type": "code",
   "execution_count": 423,
   "id": "a3452428",
   "metadata": {},
   "outputs": [],
   "source": [
    "\n",
    "df_test['TAXI_ID_MEAN'] = df_test['TAXI_ID'].apply(apply_mean_test)\n",
    "df_test['TAXI_ID_MEAN'] = np.float32((df_test['TAXI_ID_MEAN'] - train_id_mean)/train_id_std)"
   ]
  },
  {
   "cell_type": "code",
   "execution_count": 424,
   "id": "eba8e64a",
   "metadata": {},
   "outputs": [],
   "source": [
    "def apply_long(x): #in: origin stand\n",
    "    if not pd.isna(x):\n",
    "        return stand_dict[x][0]\n",
    "    else:\n",
    "        return x"
   ]
  },
  {
   "cell_type": "code",
   "execution_count": 425,
   "id": "92527200",
   "metadata": {},
   "outputs": [],
   "source": [
    "def apply_lat(x):\n",
    "    if not pd.isna(x):\n",
    "        return stand_dict[x][1]\n",
    "    else:\n",
    "        return x"
   ]
  },
  {
   "cell_type": "code",
   "execution_count": 426,
   "id": "c1b2691d",
   "metadata": {},
   "outputs": [],
   "source": [
    "df_test['Init_longitude'] = df_test['ORIGIN_STAND'].apply(apply_long)\n",
    "df_test['Init_latitude'] = df_test['ORIGIN_STAND'].apply(apply_lat)"
   ]
  },
  {
   "cell_type": "code",
   "execution_count": 427,
   "id": "33b33e9d",
   "metadata": {},
   "outputs": [],
   "source": [
    "df_test['quarterHr'] = ((df_test['hour']-1) / 6).astype(int)\n",
    "df_test['TAXI_ID'] -= 20000000\n"
   ]
  },
  {
   "cell_type": "code",
   "execution_count": null,
   "id": "eec0068e",
   "metadata": {},
   "outputs": [],
   "source": []
  },
  {
   "cell_type": "code",
   "execution_count": 428,
   "id": "f3433280",
   "metadata": {},
   "outputs": [
    {
     "data": {
      "text/html": [
       "<div>\n",
       "<style scoped>\n",
       "    .dataframe tbody tr th:only-of-type {\n",
       "        vertical-align: middle;\n",
       "    }\n",
       "\n",
       "    .dataframe tbody tr th {\n",
       "        vertical-align: top;\n",
       "    }\n",
       "\n",
       "    .dataframe thead th {\n",
       "        text-align: right;\n",
       "    }\n",
       "</style>\n",
       "<table border=\"1\" class=\"dataframe\">\n",
       "  <thead>\n",
       "    <tr style=\"text-align: right;\">\n",
       "      <th></th>\n",
       "      <th>TRIP_ID</th>\n",
       "      <th>CALL_TYPE</th>\n",
       "      <th>ORIGIN_STAND</th>\n",
       "      <th>TAXI_ID</th>\n",
       "      <th>TIMESTAMP</th>\n",
       "      <th>DAY_TYPE</th>\n",
       "      <th>year</th>\n",
       "      <th>month</th>\n",
       "      <th>day</th>\n",
       "      <th>hour</th>\n",
       "      <th>...</th>\n",
       "      <th>day_A</th>\n",
       "      <th>day_B</th>\n",
       "      <th>day_C</th>\n",
       "      <th>day_D</th>\n",
       "      <th>day_E</th>\n",
       "      <th>STAND_MEAN</th>\n",
       "      <th>TAXI_ID_MEAN</th>\n",
       "      <th>Init_longitude</th>\n",
       "      <th>Init_latitude</th>\n",
       "      <th>quarterHr</th>\n",
       "    </tr>\n",
       "  </thead>\n",
       "  <tbody>\n",
       "    <tr>\n",
       "      <th>0</th>\n",
       "      <td>T1</td>\n",
       "      <td>B</td>\n",
       "      <td>15.0</td>\n",
       "      <td>542</td>\n",
       "      <td>1408039037</td>\n",
       "      <td>A</td>\n",
       "      <td>2014</td>\n",
       "      <td>8</td>\n",
       "      <td>14</td>\n",
       "      <td>18</td>\n",
       "      <td>...</td>\n",
       "      <td>1</td>\n",
       "      <td>0</td>\n",
       "      <td>0</td>\n",
       "      <td>0</td>\n",
       "      <td>0</td>\n",
       "      <td>2.162526</td>\n",
       "      <td>0.0</td>\n",
       "      <td>-8.585876</td>\n",
       "      <td>41.148628</td>\n",
       "      <td>2</td>\n",
       "    </tr>\n",
       "    <tr>\n",
       "      <th>1</th>\n",
       "      <td>T2</td>\n",
       "      <td>B</td>\n",
       "      <td>57.0</td>\n",
       "      <td>108</td>\n",
       "      <td>1408038611</td>\n",
       "      <td>A</td>\n",
       "      <td>2014</td>\n",
       "      <td>8</td>\n",
       "      <td>14</td>\n",
       "      <td>18</td>\n",
       "      <td>...</td>\n",
       "      <td>1</td>\n",
       "      <td>0</td>\n",
       "      <td>0</td>\n",
       "      <td>0</td>\n",
       "      <td>0</td>\n",
       "      <td>-1.140498</td>\n",
       "      <td>0.0</td>\n",
       "      <td>-8.610707</td>\n",
       "      <td>41.145718</td>\n",
       "      <td>2</td>\n",
       "    </tr>\n",
       "    <tr>\n",
       "      <th>2</th>\n",
       "      <td>T3</td>\n",
       "      <td>B</td>\n",
       "      <td>15.0</td>\n",
       "      <td>370</td>\n",
       "      <td>1408038568</td>\n",
       "      <td>A</td>\n",
       "      <td>2014</td>\n",
       "      <td>8</td>\n",
       "      <td>14</td>\n",
       "      <td>18</td>\n",
       "      <td>...</td>\n",
       "      <td>1</td>\n",
       "      <td>0</td>\n",
       "      <td>0</td>\n",
       "      <td>0</td>\n",
       "      <td>0</td>\n",
       "      <td>2.162526</td>\n",
       "      <td>0.0</td>\n",
       "      <td>-8.585876</td>\n",
       "      <td>41.148628</td>\n",
       "      <td>2</td>\n",
       "    </tr>\n",
       "    <tr>\n",
       "      <th>3</th>\n",
       "      <td>T4</td>\n",
       "      <td>B</td>\n",
       "      <td>53.0</td>\n",
       "      <td>492</td>\n",
       "      <td>1408039090</td>\n",
       "      <td>A</td>\n",
       "      <td>2014</td>\n",
       "      <td>8</td>\n",
       "      <td>14</td>\n",
       "      <td>18</td>\n",
       "      <td>...</td>\n",
       "      <td>1</td>\n",
       "      <td>0</td>\n",
       "      <td>0</td>\n",
       "      <td>0</td>\n",
       "      <td>0</td>\n",
       "      <td>-1.079227</td>\n",
       "      <td>0.0</td>\n",
       "      <td>-8.614013</td>\n",
       "      <td>41.141209</td>\n",
       "      <td>2</td>\n",
       "    </tr>\n",
       "    <tr>\n",
       "      <th>4</th>\n",
       "      <td>T5</td>\n",
       "      <td>B</td>\n",
       "      <td>18.0</td>\n",
       "      <td>621</td>\n",
       "      <td>1408039177</td>\n",
       "      <td>A</td>\n",
       "      <td>2014</td>\n",
       "      <td>8</td>\n",
       "      <td>14</td>\n",
       "      <td>18</td>\n",
       "      <td>...</td>\n",
       "      <td>1</td>\n",
       "      <td>0</td>\n",
       "      <td>0</td>\n",
       "      <td>0</td>\n",
       "      <td>0</td>\n",
       "      <td>0.548437</td>\n",
       "      <td>0.0</td>\n",
       "      <td>-8.619603</td>\n",
       "      <td>41.148319</td>\n",
       "      <td>2</td>\n",
       "    </tr>\n",
       "    <tr>\n",
       "      <th>5</th>\n",
       "      <td>T6</td>\n",
       "      <td>A</td>\n",
       "      <td>NaN</td>\n",
       "      <td>607</td>\n",
       "      <td>1408037146</td>\n",
       "      <td>A</td>\n",
       "      <td>2014</td>\n",
       "      <td>8</td>\n",
       "      <td>14</td>\n",
       "      <td>18</td>\n",
       "      <td>...</td>\n",
       "      <td>1</td>\n",
       "      <td>0</td>\n",
       "      <td>0</td>\n",
       "      <td>0</td>\n",
       "      <td>0</td>\n",
       "      <td>0.381993</td>\n",
       "      <td>0.0</td>\n",
       "      <td>NaN</td>\n",
       "      <td>NaN</td>\n",
       "      <td>2</td>\n",
       "    </tr>\n",
       "    <tr>\n",
       "      <th>6</th>\n",
       "      <td>T7</td>\n",
       "      <td>B</td>\n",
       "      <td>15.0</td>\n",
       "      <td>310</td>\n",
       "      <td>1408038846</td>\n",
       "      <td>A</td>\n",
       "      <td>2014</td>\n",
       "      <td>8</td>\n",
       "      <td>14</td>\n",
       "      <td>18</td>\n",
       "      <td>...</td>\n",
       "      <td>1</td>\n",
       "      <td>0</td>\n",
       "      <td>0</td>\n",
       "      <td>0</td>\n",
       "      <td>0</td>\n",
       "      <td>2.162526</td>\n",
       "      <td>0.0</td>\n",
       "      <td>-8.585876</td>\n",
       "      <td>41.148628</td>\n",
       "      <td>2</td>\n",
       "    </tr>\n",
       "    <tr>\n",
       "      <th>7</th>\n",
       "      <td>T8</td>\n",
       "      <td>A</td>\n",
       "      <td>NaN</td>\n",
       "      <td>619</td>\n",
       "      <td>1408038948</td>\n",
       "      <td>A</td>\n",
       "      <td>2014</td>\n",
       "      <td>8</td>\n",
       "      <td>14</td>\n",
       "      <td>18</td>\n",
       "      <td>...</td>\n",
       "      <td>1</td>\n",
       "      <td>0</td>\n",
       "      <td>0</td>\n",
       "      <td>0</td>\n",
       "      <td>0</td>\n",
       "      <td>0.381993</td>\n",
       "      <td>0.0</td>\n",
       "      <td>NaN</td>\n",
       "      <td>NaN</td>\n",
       "      <td>2</td>\n",
       "    </tr>\n",
       "    <tr>\n",
       "      <th>8</th>\n",
       "      <td>T9</td>\n",
       "      <td>B</td>\n",
       "      <td>9.0</td>\n",
       "      <td>503</td>\n",
       "      <td>1408038563</td>\n",
       "      <td>A</td>\n",
       "      <td>2014</td>\n",
       "      <td>8</td>\n",
       "      <td>14</td>\n",
       "      <td>18</td>\n",
       "      <td>...</td>\n",
       "      <td>1</td>\n",
       "      <td>0</td>\n",
       "      <td>0</td>\n",
       "      <td>0</td>\n",
       "      <td>0</td>\n",
       "      <td>1.209945</td>\n",
       "      <td>0.0</td>\n",
       "      <td>-8.605720</td>\n",
       "      <td>41.144253</td>\n",
       "      <td>2</td>\n",
       "    </tr>\n",
       "    <tr>\n",
       "      <th>9</th>\n",
       "      <td>T10</td>\n",
       "      <td>B</td>\n",
       "      <td>15.0</td>\n",
       "      <td>327</td>\n",
       "      <td>1408038021</td>\n",
       "      <td>A</td>\n",
       "      <td>2014</td>\n",
       "      <td>8</td>\n",
       "      <td>14</td>\n",
       "      <td>18</td>\n",
       "      <td>...</td>\n",
       "      <td>1</td>\n",
       "      <td>0</td>\n",
       "      <td>0</td>\n",
       "      <td>0</td>\n",
       "      <td>0</td>\n",
       "      <td>2.162526</td>\n",
       "      <td>0.0</td>\n",
       "      <td>-8.585876</td>\n",
       "      <td>41.148628</td>\n",
       "      <td>2</td>\n",
       "    </tr>\n",
       "  </tbody>\n",
       "</table>\n",
       "<p>10 rows × 24 columns</p>\n",
       "</div>"
      ],
      "text/plain": [
       "  TRIP_ID CALL_TYPE  ORIGIN_STAND  TAXI_ID   TIMESTAMP DAY_TYPE  year  month  \\\n",
       "0      T1         B          15.0      542  1408039037        A  2014      8   \n",
       "1      T2         B          57.0      108  1408038611        A  2014      8   \n",
       "2      T3         B          15.0      370  1408038568        A  2014      8   \n",
       "3      T4         B          53.0      492  1408039090        A  2014      8   \n",
       "4      T5         B          18.0      621  1408039177        A  2014      8   \n",
       "5      T6         A           NaN      607  1408037146        A  2014      8   \n",
       "6      T7         B          15.0      310  1408038846        A  2014      8   \n",
       "7      T8         A           NaN      619  1408038948        A  2014      8   \n",
       "8      T9         B           9.0      503  1408038563        A  2014      8   \n",
       "9     T10         B          15.0      327  1408038021        A  2014      8   \n",
       "\n",
       "   day  hour  ...  day_A  day_B  day_C  day_D  day_E  STAND_MEAN  \\\n",
       "0   14    18  ...      1      0      0      0      0    2.162526   \n",
       "1   14    18  ...      1      0      0      0      0   -1.140498   \n",
       "2   14    18  ...      1      0      0      0      0    2.162526   \n",
       "3   14    18  ...      1      0      0      0      0   -1.079227   \n",
       "4   14    18  ...      1      0      0      0      0    0.548437   \n",
       "5   14    18  ...      1      0      0      0      0    0.381993   \n",
       "6   14    18  ...      1      0      0      0      0    2.162526   \n",
       "7   14    18  ...      1      0      0      0      0    0.381993   \n",
       "8   14    18  ...      1      0      0      0      0    1.209945   \n",
       "9   14    18  ...      1      0      0      0      0    2.162526   \n",
       "\n",
       "   TAXI_ID_MEAN  Init_longitude  Init_latitude  quarterHr  \n",
       "0           0.0       -8.585876      41.148628          2  \n",
       "1           0.0       -8.610707      41.145718          2  \n",
       "2           0.0       -8.585876      41.148628          2  \n",
       "3           0.0       -8.614013      41.141209          2  \n",
       "4           0.0       -8.619603      41.148319          2  \n",
       "5           0.0             NaN            NaN          2  \n",
       "6           0.0       -8.585876      41.148628          2  \n",
       "7           0.0             NaN            NaN          2  \n",
       "8           0.0       -8.605720      41.144253          2  \n",
       "9           0.0       -8.585876      41.148628          2  \n",
       "\n",
       "[10 rows x 24 columns]"
      ]
     },
     "execution_count": 428,
     "metadata": {},
     "output_type": "execute_result"
    }
   ],
   "source": [
    "df_test[:10]"
   ]
  },
  {
   "cell_type": "code",
   "execution_count": 429,
   "id": "b54485ca",
   "metadata": {},
   "outputs": [],
   "source": [
    "for i, row in df_test.iterrows():\n",
    "    if pd.isna(row['ORIGIN_STAND']):\n",
    "        if row['DAY_TYPE'] == 'A':\n",
    "            df_t = df_1[ ((df_1['day'] == 14) & (df_1['month'] == 8))]\n",
    "            df_t = df_t[df_t['hour'] == 18]\n",
    "        elif row['DAY_TYPE'] == 'B':\n",
    "            df_t = df_2[((df_2['day'] == 30) & (df_2['month'] == 9))]\n",
    "            df_t = df_2[df_2['hour'] == 9]\n",
    "\n",
    "        elif row['DAY_TYPE'] == 'C':\n",
    "            df_t = df_3[(df_3['day'] == 6) & (df_3['month'] == 10)]\n",
    "            df_t = df_3[df_3['hour'] == 18]\n",
    "\n",
    "        elif row['DAY_TYPE'] == 'D':\n",
    "            df_t = df_4[(df_4['day'] == 1) & (df_4['month'] == 11)]\n",
    "            df_t = df_4[df_4['hour'] == 4]\n",
    "\n",
    "        else:\n",
    "            df_t = df_5[(df_5['day'] == 21) & (df_5['month'] == 12)]\n",
    "            df_t = df_5[df_5['hour'] == 15]\n",
    "\n",
    "        df_t['Init_longitude'] = df_t['POLYLINE'].apply(lambda x : parse_num(x,0))\n",
    "        df_t['Init_latitude'] = df_t['POLYLINE'].apply(lambda x : parse_num(x,1))\n",
    "        s = df_t.sample()\n",
    "        df_test.at[i,'Init_longitude'] = s['Init_longitude']\n",
    "        df_test.at[i,'Init_latitude'] = s['Init_latitude']"
   ]
  },
  {
   "cell_type": "code",
   "execution_count": 430,
   "id": "53ec3b45",
   "metadata": {},
   "outputs": [],
   "source": [
    "\n",
    "df_test['Init_longitude'] = (df_test['Init_longitude'] - train_long_mean) / train_long_std\n",
    "df_test['Init_latitude'] = (df_test['Init_latitude'] - train_lat_mean) / train_lat_std"
   ]
  },
  {
   "cell_type": "code",
   "execution_count": 431,
   "id": "177d30ad",
   "metadata": {},
   "outputs": [
    {
     "data": {
      "text/html": [
       "<div>\n",
       "<style scoped>\n",
       "    .dataframe tbody tr th:only-of-type {\n",
       "        vertical-align: middle;\n",
       "    }\n",
       "\n",
       "    .dataframe tbody tr th {\n",
       "        vertical-align: top;\n",
       "    }\n",
       "\n",
       "    .dataframe thead th {\n",
       "        text-align: right;\n",
       "    }\n",
       "</style>\n",
       "<table border=\"1\" class=\"dataframe\">\n",
       "  <thead>\n",
       "    <tr style=\"text-align: right;\">\n",
       "      <th></th>\n",
       "      <th>TRIP_ID</th>\n",
       "      <th>CALL_TYPE</th>\n",
       "      <th>ORIGIN_STAND</th>\n",
       "      <th>TAXI_ID</th>\n",
       "      <th>TIMESTAMP</th>\n",
       "      <th>DAY_TYPE</th>\n",
       "      <th>year</th>\n",
       "      <th>month</th>\n",
       "      <th>day</th>\n",
       "      <th>hour</th>\n",
       "      <th>...</th>\n",
       "      <th>day_A</th>\n",
       "      <th>day_B</th>\n",
       "      <th>day_C</th>\n",
       "      <th>day_D</th>\n",
       "      <th>day_E</th>\n",
       "      <th>STAND_MEAN</th>\n",
       "      <th>TAXI_ID_MEAN</th>\n",
       "      <th>Init_longitude</th>\n",
       "      <th>Init_latitude</th>\n",
       "      <th>quarterHr</th>\n",
       "    </tr>\n",
       "  </thead>\n",
       "  <tbody>\n",
       "    <tr>\n",
       "      <th>0</th>\n",
       "      <td>T1</td>\n",
       "      <td>B</td>\n",
       "      <td>15.0</td>\n",
       "      <td>542</td>\n",
       "      <td>1408039037</td>\n",
       "      <td>A</td>\n",
       "      <td>2014</td>\n",
       "      <td>8</td>\n",
       "      <td>14</td>\n",
       "      <td>18</td>\n",
       "      <td>...</td>\n",
       "      <td>1</td>\n",
       "      <td>0</td>\n",
       "      <td>0</td>\n",
       "      <td>0</td>\n",
       "      <td>0</td>\n",
       "      <td>2.162526</td>\n",
       "      <td>0.0</td>\n",
       "      <td>1.418373</td>\n",
       "      <td>0.726306</td>\n",
       "      <td>2</td>\n",
       "    </tr>\n",
       "    <tr>\n",
       "      <th>1</th>\n",
       "      <td>T2</td>\n",
       "      <td>B</td>\n",
       "      <td>57.0</td>\n",
       "      <td>108</td>\n",
       "      <td>1408038611</td>\n",
       "      <td>A</td>\n",
       "      <td>2014</td>\n",
       "      <td>8</td>\n",
       "      <td>14</td>\n",
       "      <td>18</td>\n",
       "      <td>...</td>\n",
       "      <td>1</td>\n",
       "      <td>0</td>\n",
       "      <td>0</td>\n",
       "      <td>0</td>\n",
       "      <td>0</td>\n",
       "      <td>-1.140498</td>\n",
       "      <td>0.0</td>\n",
       "      <td>0.422977</td>\n",
       "      <td>0.651760</td>\n",
       "      <td>2</td>\n",
       "    </tr>\n",
       "    <tr>\n",
       "      <th>2</th>\n",
       "      <td>T3</td>\n",
       "      <td>B</td>\n",
       "      <td>15.0</td>\n",
       "      <td>370</td>\n",
       "      <td>1408038568</td>\n",
       "      <td>A</td>\n",
       "      <td>2014</td>\n",
       "      <td>8</td>\n",
       "      <td>14</td>\n",
       "      <td>18</td>\n",
       "      <td>...</td>\n",
       "      <td>1</td>\n",
       "      <td>0</td>\n",
       "      <td>0</td>\n",
       "      <td>0</td>\n",
       "      <td>0</td>\n",
       "      <td>2.162526</td>\n",
       "      <td>0.0</td>\n",
       "      <td>1.418373</td>\n",
       "      <td>0.726306</td>\n",
       "      <td>2</td>\n",
       "    </tr>\n",
       "    <tr>\n",
       "      <th>3</th>\n",
       "      <td>T4</td>\n",
       "      <td>B</td>\n",
       "      <td>53.0</td>\n",
       "      <td>492</td>\n",
       "      <td>1408039090</td>\n",
       "      <td>A</td>\n",
       "      <td>2014</td>\n",
       "      <td>8</td>\n",
       "      <td>14</td>\n",
       "      <td>18</td>\n",
       "      <td>...</td>\n",
       "      <td>1</td>\n",
       "      <td>0</td>\n",
       "      <td>0</td>\n",
       "      <td>0</td>\n",
       "      <td>0</td>\n",
       "      <td>-1.079227</td>\n",
       "      <td>0.0</td>\n",
       "      <td>0.290472</td>\n",
       "      <td>0.536278</td>\n",
       "      <td>2</td>\n",
       "    </tr>\n",
       "    <tr>\n",
       "      <th>4</th>\n",
       "      <td>T5</td>\n",
       "      <td>B</td>\n",
       "      <td>18.0</td>\n",
       "      <td>621</td>\n",
       "      <td>1408039177</td>\n",
       "      <td>A</td>\n",
       "      <td>2014</td>\n",
       "      <td>8</td>\n",
       "      <td>14</td>\n",
       "      <td>18</td>\n",
       "      <td>...</td>\n",
       "      <td>1</td>\n",
       "      <td>0</td>\n",
       "      <td>0</td>\n",
       "      <td>0</td>\n",
       "      <td>0</td>\n",
       "      <td>0.548437</td>\n",
       "      <td>0.0</td>\n",
       "      <td>0.066367</td>\n",
       "      <td>0.718392</td>\n",
       "      <td>2</td>\n",
       "    </tr>\n",
       "    <tr>\n",
       "      <th>5</th>\n",
       "      <td>T6</td>\n",
       "      <td>A</td>\n",
       "      <td>NaN</td>\n",
       "      <td>607</td>\n",
       "      <td>1408037146</td>\n",
       "      <td>A</td>\n",
       "      <td>2014</td>\n",
       "      <td>8</td>\n",
       "      <td>14</td>\n",
       "      <td>18</td>\n",
       "      <td>...</td>\n",
       "      <td>1</td>\n",
       "      <td>0</td>\n",
       "      <td>0</td>\n",
       "      <td>0</td>\n",
       "      <td>0</td>\n",
       "      <td>0.381993</td>\n",
       "      <td>0.0</td>\n",
       "      <td>-0.748047</td>\n",
       "      <td>1.010126</td>\n",
       "      <td>2</td>\n",
       "    </tr>\n",
       "    <tr>\n",
       "      <th>6</th>\n",
       "      <td>T7</td>\n",
       "      <td>B</td>\n",
       "      <td>15.0</td>\n",
       "      <td>310</td>\n",
       "      <td>1408038846</td>\n",
       "      <td>A</td>\n",
       "      <td>2014</td>\n",
       "      <td>8</td>\n",
       "      <td>14</td>\n",
       "      <td>18</td>\n",
       "      <td>...</td>\n",
       "      <td>1</td>\n",
       "      <td>0</td>\n",
       "      <td>0</td>\n",
       "      <td>0</td>\n",
       "      <td>0</td>\n",
       "      <td>2.162526</td>\n",
       "      <td>0.0</td>\n",
       "      <td>1.418373</td>\n",
       "      <td>0.726306</td>\n",
       "      <td>2</td>\n",
       "    </tr>\n",
       "    <tr>\n",
       "      <th>7</th>\n",
       "      <td>T8</td>\n",
       "      <td>A</td>\n",
       "      <td>NaN</td>\n",
       "      <td>619</td>\n",
       "      <td>1408038948</td>\n",
       "      <td>A</td>\n",
       "      <td>2014</td>\n",
       "      <td>8</td>\n",
       "      <td>14</td>\n",
       "      <td>18</td>\n",
       "      <td>...</td>\n",
       "      <td>1</td>\n",
       "      <td>0</td>\n",
       "      <td>0</td>\n",
       "      <td>0</td>\n",
       "      <td>0</td>\n",
       "      <td>0.381993</td>\n",
       "      <td>0.0</td>\n",
       "      <td>1.427128</td>\n",
       "      <td>0.724254</td>\n",
       "      <td>2</td>\n",
       "    </tr>\n",
       "    <tr>\n",
       "      <th>8</th>\n",
       "      <td>T9</td>\n",
       "      <td>B</td>\n",
       "      <td>9.0</td>\n",
       "      <td>503</td>\n",
       "      <td>1408038563</td>\n",
       "      <td>A</td>\n",
       "      <td>2014</td>\n",
       "      <td>8</td>\n",
       "      <td>14</td>\n",
       "      <td>18</td>\n",
       "      <td>...</td>\n",
       "      <td>1</td>\n",
       "      <td>0</td>\n",
       "      <td>0</td>\n",
       "      <td>0</td>\n",
       "      <td>0</td>\n",
       "      <td>1.209945</td>\n",
       "      <td>0.0</td>\n",
       "      <td>0.622920</td>\n",
       "      <td>0.614243</td>\n",
       "      <td>2</td>\n",
       "    </tr>\n",
       "    <tr>\n",
       "      <th>9</th>\n",
       "      <td>T10</td>\n",
       "      <td>B</td>\n",
       "      <td>15.0</td>\n",
       "      <td>327</td>\n",
       "      <td>1408038021</td>\n",
       "      <td>A</td>\n",
       "      <td>2014</td>\n",
       "      <td>8</td>\n",
       "      <td>14</td>\n",
       "      <td>18</td>\n",
       "      <td>...</td>\n",
       "      <td>1</td>\n",
       "      <td>0</td>\n",
       "      <td>0</td>\n",
       "      <td>0</td>\n",
       "      <td>0</td>\n",
       "      <td>2.162526</td>\n",
       "      <td>0.0</td>\n",
       "      <td>1.418373</td>\n",
       "      <td>0.726306</td>\n",
       "      <td>2</td>\n",
       "    </tr>\n",
       "  </tbody>\n",
       "</table>\n",
       "<p>10 rows × 24 columns</p>\n",
       "</div>"
      ],
      "text/plain": [
       "  TRIP_ID CALL_TYPE  ORIGIN_STAND  TAXI_ID   TIMESTAMP DAY_TYPE  year  month  \\\n",
       "0      T1         B          15.0      542  1408039037        A  2014      8   \n",
       "1      T2         B          57.0      108  1408038611        A  2014      8   \n",
       "2      T3         B          15.0      370  1408038568        A  2014      8   \n",
       "3      T4         B          53.0      492  1408039090        A  2014      8   \n",
       "4      T5         B          18.0      621  1408039177        A  2014      8   \n",
       "5      T6         A           NaN      607  1408037146        A  2014      8   \n",
       "6      T7         B          15.0      310  1408038846        A  2014      8   \n",
       "7      T8         A           NaN      619  1408038948        A  2014      8   \n",
       "8      T9         B           9.0      503  1408038563        A  2014      8   \n",
       "9     T10         B          15.0      327  1408038021        A  2014      8   \n",
       "\n",
       "   day  hour  ...  day_A  day_B  day_C  day_D  day_E  STAND_MEAN  \\\n",
       "0   14    18  ...      1      0      0      0      0    2.162526   \n",
       "1   14    18  ...      1      0      0      0      0   -1.140498   \n",
       "2   14    18  ...      1      0      0      0      0    2.162526   \n",
       "3   14    18  ...      1      0      0      0      0   -1.079227   \n",
       "4   14    18  ...      1      0      0      0      0    0.548437   \n",
       "5   14    18  ...      1      0      0      0      0    0.381993   \n",
       "6   14    18  ...      1      0      0      0      0    2.162526   \n",
       "7   14    18  ...      1      0      0      0      0    0.381993   \n",
       "8   14    18  ...      1      0      0      0      0    1.209945   \n",
       "9   14    18  ...      1      0      0      0      0    2.162526   \n",
       "\n",
       "   TAXI_ID_MEAN  Init_longitude  Init_latitude  quarterHr  \n",
       "0           0.0        1.418373       0.726306          2  \n",
       "1           0.0        0.422977       0.651760          2  \n",
       "2           0.0        1.418373       0.726306          2  \n",
       "3           0.0        0.290472       0.536278          2  \n",
       "4           0.0        0.066367       0.718392          2  \n",
       "5           0.0       -0.748047       1.010126          2  \n",
       "6           0.0        1.418373       0.726306          2  \n",
       "7           0.0        1.427128       0.724254          2  \n",
       "8           0.0        0.622920       0.614243          2  \n",
       "9           0.0        1.418373       0.726306          2  \n",
       "\n",
       "[10 rows x 24 columns]"
      ]
     },
     "execution_count": 431,
     "metadata": {},
     "output_type": "execute_result"
    }
   ],
   "source": [
    "df_test[:10]"
   ]
  },
  {
   "cell_type": "code",
   "execution_count": 432,
   "id": "dadedf48",
   "metadata": {},
   "outputs": [],
   "source": [
    "\n",
    "#    df[col_name] = np.float32((df[col_name] - df[col_name].mean())/df[col_name].std())\n",
    "test_set = torch.reshape(torch.tensor(df_test['call_A'].values),(-1,1))\n",
    "col_list = ['call_B', 'call_C', 'day_A', 'day_B', 'day_C', 'day_D', 'day_E']\n",
    "            #,'Init_longitude', 'Init_latitude', 'TAXI_ID_MEAN']\n",
    "#col_list = ['call_B', 'call_C','TAXI_ID', 'Init_longitude', 'Init_latitude']\n",
    "for col_name in col_list:\n",
    "#     print(train_set.dtype)\n",
    "    test_set = torch.cat((test_set,torch.reshape(torch.from_numpy(df_test[col_name].values),(-1,1))),1)\n",
    "test_set = test_set.type('torch.FloatTensor')"
   ]
  },
  {
   "cell_type": "code",
   "execution_count": 433,
   "id": "e0353f27",
   "metadata": {},
   "outputs": [],
   "source": [
    "def apply_embed_test(x, i):\n",
    "    t = torch.reshape(torch.from_numpy(x.values),(-1,1))\n",
    "    embedding = nn.Embedding(i+1, 10)\n",
    "\n",
    "    res = embedding(t)\n",
    "    return res"
   ]
  },
  {
   "cell_type": "code",
   "execution_count": 434,
   "id": "14b6cc6d",
   "metadata": {},
   "outputs": [],
   "source": [
    "ae = apply_embed_test(df_test['TAXI_ID'], df['TAXI_ID'].max())\n",
    "ae1 = apply_embed_test(df_test['quarterHr'], df['quarterHr'].max())\n",
    "ae2 = apply_embed_test(df_test['day'], df['day'].max())\n",
    "ae3 = apply_embed_test(df_test['weekday'], df['weekday'].max())"
   ]
  },
  {
   "cell_type": "code",
   "execution_count": 435,
   "id": "81cb6b1b",
   "metadata": {},
   "outputs": [
    {
     "data": {
      "text/plain": [
       "(48,\n",
       " tensor([ 0.0000,  1.0000,  0.0000,  1.0000,  0.0000,  0.0000,  0.0000,  0.0000,\n",
       "         -0.2789, -0.5563, -0.8106, -0.8256, -1.1711, -2.4556, -0.0807, -1.7410,\n",
       "          0.1912,  0.3398, -0.3311, -1.6760,  0.4539,  0.7891,  0.8486, -0.9809,\n",
       "          0.5788,  0.6922, -0.1762, -0.7043, -1.5716,  1.2989,  0.4992,  0.9439,\n",
       "          0.1908,  0.6702,  0.8191, -1.1565,  1.4124, -1.8307, -0.0453,  1.0519,\n",
       "          0.7215, -0.2864,  2.7228, -0.5146,  1.1997, -0.4587, -0.6121, -0.0514],\n",
       "        grad_fn=<SelectBackward0>))"
      ]
     },
     "execution_count": 435,
     "metadata": {},
     "output_type": "execute_result"
    }
   ],
   "source": [
    "c = torch.cat((ae,ae1,ae2,ae3), dim = 1)\n",
    "embed_set = []\n",
    "for i in range(len(c)):\n",
    "    embed_set.append(torch.flatten(c[i]))\n",
    "et = torch.stack(embed_set)\n",
    "c = torch.cat( (test_set, et), dim = 1)\n",
    "len(c[0]), c[0]\n"
   ]
  },
  {
   "cell_type": "code",
   "execution_count": 436,
   "id": "1d84692d",
   "metadata": {},
   "outputs": [],
   "source": [
    "test_set = c\n",
    "test_set = test_set.type('torch.FloatTensor')\n",
    "test_set = test_set.clone().detach()"
   ]
  },
  {
   "cell_type": "code",
   "execution_count": 437,
   "id": "40d0dc76",
   "metadata": {},
   "outputs": [
    {
     "data": {
      "text/plain": [
       "tensor([ 0.0000,  1.0000,  0.0000,  1.0000,  0.0000,  0.0000,  0.0000,  0.0000,\n",
       "        -0.2789, -0.5563, -0.8106, -0.8256, -1.1711, -2.4556, -0.0807, -1.7410,\n",
       "         0.1912,  0.3398, -0.3311, -1.6760,  0.4539,  0.7891,  0.8486, -0.9809,\n",
       "         0.5788,  0.6922, -0.1762, -0.7043, -1.5716,  1.2989,  0.4992,  0.9439,\n",
       "         0.1908,  0.6702,  0.8191, -1.1565,  1.4124, -1.8307, -0.0453,  1.0519,\n",
       "         0.7215, -0.2864,  2.7228, -0.5146,  1.1997, -0.4587, -0.6121, -0.0514])"
      ]
     },
     "execution_count": 437,
     "metadata": {},
     "output_type": "execute_result"
    }
   ],
   "source": [
    "test_set[0]"
   ]
  },
  {
   "cell_type": "code",
   "execution_count": 438,
   "id": "f63b9f3b",
   "metadata": {},
   "outputs": [],
   "source": [
    "preds = mlp_model(test_set.to(device)).cpu().detach().numpy()\n",
    "#preds = best_lgbm.predict(test_set)"
   ]
  },
  {
   "cell_type": "code",
   "execution_count": 439,
   "id": "5216efb0",
   "metadata": {},
   "outputs": [],
   "source": [
    "def round_to_multiple(number, multiple):\n",
    "    return multiple * round(number / multiple)"
   ]
  },
  {
   "cell_type": "code",
   "execution_count": 440,
   "id": "edd99c11",
   "metadata": {},
   "outputs": [],
   "source": [
    "for i in range(len(preds)):\n",
    "    preds[i] = round_to_multiple(preds[i], 15)"
   ]
  },
  {
   "cell_type": "code",
   "execution_count": 441,
   "id": "f89d613d",
   "metadata": {},
   "outputs": [],
   "source": [
    "output_csv = pd.read_csv(\"sampleSubmission.csv\")\n",
    "output_csv['TRAVEL_TIME'] = preds\n",
    "#output_csv['TRAVEL_TIME'] = preds\n",
    "output_csv.tail()\n",
    "output_csv.to_csv(\"my_pred.csv\", index=None)\n"
   ]
  },
  {
   "cell_type": "code",
   "execution_count": 442,
   "id": "2ccdca08",
   "metadata": {},
   "outputs": [],
   "source": [
    "#visualizing\n",
    "#lst = [(1,2), (3,4)]\n",
    "#plt.plot(lst)"
   ]
  }
 ],
 "metadata": {
  "kernelspec": {
   "display_name": "Python 3 (ipykernel)",
   "language": "python",
   "name": "python3"
  },
  "language_info": {
   "codemirror_mode": {
    "name": "ipython",
    "version": 3
   },
   "file_extension": ".py",
   "mimetype": "text/x-python",
   "name": "python",
   "nbconvert_exporter": "python",
   "pygments_lexer": "ipython3",
   "version": "3.9.7"
  }
 },
 "nbformat": 4,
 "nbformat_minor": 5
}
