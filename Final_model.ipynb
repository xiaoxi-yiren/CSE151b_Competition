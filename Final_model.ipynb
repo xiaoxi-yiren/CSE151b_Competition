{
 "cells": [
  {
   "cell_type": "code",
   "execution_count": 2,
   "id": "6eacbb16",
   "metadata": {},
   "outputs": [],
   "source": [
    "import pandas as pd\n",
    "import torch\n",
    "import numpy as np\n",
    "import torch.nn as nn"
   ]
  },
  {
   "cell_type": "code",
   "execution_count": 3,
   "id": "c45c765f",
   "metadata": {},
   "outputs": [],
   "source": [
    "device = torch.device(\"cuda\" if torch.cuda.is_available() else \"cpu\")"
   ]
  },
  {
   "cell_type": "code",
   "execution_count": 4,
   "id": "09ba37fe",
   "metadata": {},
   "outputs": [],
   "source": [
    "df = pd.read_csv(\"train.csv\")"
   ]
  },
  {
   "cell_type": "code",
   "execution_count": 5,
   "id": "af4c55f3",
   "metadata": {},
   "outputs": [
    {
     "data": {
      "text/html": [
       "<div>\n",
       "<style scoped>\n",
       "    .dataframe tbody tr th:only-of-type {\n",
       "        vertical-align: middle;\n",
       "    }\n",
       "\n",
       "    .dataframe tbody tr th {\n",
       "        vertical-align: top;\n",
       "    }\n",
       "\n",
       "    .dataframe thead th {\n",
       "        text-align: right;\n",
       "    }\n",
       "</style>\n",
       "<table border=\"1\" class=\"dataframe\">\n",
       "  <thead>\n",
       "    <tr style=\"text-align: right;\">\n",
       "      <th></th>\n",
       "      <th>TRIP_ID</th>\n",
       "      <th>CALL_TYPE</th>\n",
       "      <th>ORIGIN_CALL</th>\n",
       "      <th>ORIGIN_STAND</th>\n",
       "      <th>TAXI_ID</th>\n",
       "      <th>TIMESTAMP</th>\n",
       "      <th>DAY_TYPE</th>\n",
       "      <th>MISSING_DATA</th>\n",
       "      <th>POLYLINE</th>\n",
       "    </tr>\n",
       "  </thead>\n",
       "  <tbody>\n",
       "    <tr>\n",
       "      <th>0</th>\n",
       "      <td>1372636858620000589</td>\n",
       "      <td>C</td>\n",
       "      <td>NaN</td>\n",
       "      <td>NaN</td>\n",
       "      <td>20000589</td>\n",
       "      <td>1372636858</td>\n",
       "      <td>A</td>\n",
       "      <td>False</td>\n",
       "      <td>[[-8.618643,41.141412],[-8.618499,41.141376],[...</td>\n",
       "    </tr>\n",
       "    <tr>\n",
       "      <th>1</th>\n",
       "      <td>1372637303620000596</td>\n",
       "      <td>B</td>\n",
       "      <td>NaN</td>\n",
       "      <td>7.0</td>\n",
       "      <td>20000596</td>\n",
       "      <td>1372637303</td>\n",
       "      <td>A</td>\n",
       "      <td>False</td>\n",
       "      <td>[[-8.639847,41.159826],[-8.640351,41.159871],[...</td>\n",
       "    </tr>\n",
       "    <tr>\n",
       "      <th>2</th>\n",
       "      <td>1372636951620000320</td>\n",
       "      <td>C</td>\n",
       "      <td>NaN</td>\n",
       "      <td>NaN</td>\n",
       "      <td>20000320</td>\n",
       "      <td>1372636951</td>\n",
       "      <td>A</td>\n",
       "      <td>False</td>\n",
       "      <td>[[-8.612964,41.140359],[-8.613378,41.14035],[-...</td>\n",
       "    </tr>\n",
       "    <tr>\n",
       "      <th>3</th>\n",
       "      <td>1372636854620000520</td>\n",
       "      <td>C</td>\n",
       "      <td>NaN</td>\n",
       "      <td>NaN</td>\n",
       "      <td>20000520</td>\n",
       "      <td>1372636854</td>\n",
       "      <td>A</td>\n",
       "      <td>False</td>\n",
       "      <td>[[-8.574678,41.151951],[-8.574705,41.151942],[...</td>\n",
       "    </tr>\n",
       "    <tr>\n",
       "      <th>4</th>\n",
       "      <td>1372637091620000337</td>\n",
       "      <td>C</td>\n",
       "      <td>NaN</td>\n",
       "      <td>NaN</td>\n",
       "      <td>20000337</td>\n",
       "      <td>1372637091</td>\n",
       "      <td>A</td>\n",
       "      <td>False</td>\n",
       "      <td>[[-8.645994,41.18049],[-8.645949,41.180517],[-...</td>\n",
       "    </tr>\n",
       "  </tbody>\n",
       "</table>\n",
       "</div>"
      ],
      "text/plain": [
       "               TRIP_ID CALL_TYPE  ORIGIN_CALL  ORIGIN_STAND   TAXI_ID  \\\n",
       "0  1372636858620000589         C          NaN           NaN  20000589   \n",
       "1  1372637303620000596         B          NaN           7.0  20000596   \n",
       "2  1372636951620000320         C          NaN           NaN  20000320   \n",
       "3  1372636854620000520         C          NaN           NaN  20000520   \n",
       "4  1372637091620000337         C          NaN           NaN  20000337   \n",
       "\n",
       "    TIMESTAMP DAY_TYPE  MISSING_DATA  \\\n",
       "0  1372636858        A         False   \n",
       "1  1372637303        A         False   \n",
       "2  1372636951        A         False   \n",
       "3  1372636854        A         False   \n",
       "4  1372637091        A         False   \n",
       "\n",
       "                                            POLYLINE  \n",
       "0  [[-8.618643,41.141412],[-8.618499,41.141376],[...  \n",
       "1  [[-8.639847,41.159826],[-8.640351,41.159871],[...  \n",
       "2  [[-8.612964,41.140359],[-8.613378,41.14035],[-...  \n",
       "3  [[-8.574678,41.151951],[-8.574705,41.151942],[...  \n",
       "4  [[-8.645994,41.18049],[-8.645949,41.180517],[-...  "
      ]
     },
     "execution_count": 5,
     "metadata": {},
     "output_type": "execute_result"
    }
   ],
   "source": [
    "df.head()"
   ]
  },
  {
   "cell_type": "code",
   "execution_count": 6,
   "id": "37ba2fb7",
   "metadata": {},
   "outputs": [],
   "source": [
    "df[\"target\"] = df[\"POLYLINE\"].apply(lambda x : np.float32(max((x.count(\"[\") - 2) *15, 0)))"
   ]
  },
  {
   "cell_type": "code",
   "execution_count": 7,
   "id": "0e8c3328",
   "metadata": {},
   "outputs": [],
   "source": [
    "df['call_A'] = df[\"CALL_TYPE\"].apply(lambda x : int(x == 'A'))\n",
    "df['call_B'] = df[\"CALL_TYPE\"].apply(lambda x : int(x == 'B'))\n",
    "df['call_C'] = df[\"CALL_TYPE\"].apply(lambda x : int(x == 'C'))"
   ]
  },
  {
   "cell_type": "code",
   "execution_count": 8,
   "id": "02269b48",
   "metadata": {},
   "outputs": [],
   "source": [
    "df = df.loc[df['MISSING_DATA'] == False]\n",
    "df = df.loc[df['target'] > 0]\n"
   ]
  },
  {
   "cell_type": "code",
   "execution_count": 9,
   "id": "3cacd476",
   "metadata": {},
   "outputs": [],
   "source": [
    "def one_hot(str):\n",
    "    if str == 'A':\n",
    "        return [1,0,0]\n",
    "    elif str == 'B':\n",
    "        return [0,1,0]\n",
    "    elif str == 'C':\n",
    "        return [0,0,1]\n",
    "    else:\n",
    "        return None"
   ]
  },
  {
   "cell_type": "code",
   "execution_count": 10,
   "id": "35f2d3d5",
   "metadata": {},
   "outputs": [],
   "source": [
    "# df['CALL_TYPE'] = df['CALL_TYPE'].apply(lambda x: one_hot(x))\n",
    "# df['DAY_TYPE'] = df['DAY_TYPE'].apply(lambda x: one_hot(x))\n",
    "# df = df.loc[df['CALL_TYPE'] != None]\n",
    "# df = df.loc[df['DAY_TYPE'] != None]"
   ]
  },
  {
   "cell_type": "code",
   "execution_count": 11,
   "id": "b0b346c6",
   "metadata": {},
   "outputs": [],
   "source": [
    "from datetime import datetime\n",
    "def parse_time(x):\n",
    "    dt = datetime.fromtimestamp(x[\"TIMESTAMP\"])\n",
    "    return dt.year, dt.month, dt.day, dt.hour, dt.weekday()"
   ]
  },
  {
   "cell_type": "code",
   "execution_count": 12,
   "id": "2db94bb3",
   "metadata": {},
   "outputs": [],
   "source": [
    "train_id_mean = df['TAXI_ID'].mean()\n",
    "train_id_std = df['TAXI_ID'].std()\n",
    "df['TAXI_ID'] = (df['TAXI_ID'] - train_id_mean)/ train_id_std"
   ]
  },
  {
   "cell_type": "code",
   "execution_count": 13,
   "id": "e1b38a74",
   "metadata": {},
   "outputs": [],
   "source": [
    "taxi_ids = set()\n",
    "for ind, r in df.iterrows():\n",
    "    taxi_ids.add(r['TAXI_ID'])\n",
    "taxi_id_to_mean = {}\n",
    "for i in taxi_ids:\n",
    "    taxi_id_to_mean[i] = df[df['TAXI_ID'] == i]['target'].mean()"
   ]
  },
  {
   "cell_type": "code",
   "execution_count": 14,
   "id": "2efe61a7",
   "metadata": {},
   "outputs": [],
   "source": [
    "def apply_mean(taxi_id):\n",
    "    return taxi_id_to_mean[taxi_id]"
   ]
  },
  {
   "cell_type": "code",
   "execution_count": 15,
   "id": "70de16dd",
   "metadata": {},
   "outputs": [
    {
     "data": {
      "text/html": [
       "<div>\n",
       "<style scoped>\n",
       "    .dataframe tbody tr th:only-of-type {\n",
       "        vertical-align: middle;\n",
       "    }\n",
       "\n",
       "    .dataframe tbody tr th {\n",
       "        vertical-align: top;\n",
       "    }\n",
       "\n",
       "    .dataframe thead th {\n",
       "        text-align: right;\n",
       "    }\n",
       "</style>\n",
       "<table border=\"1\" class=\"dataframe\">\n",
       "  <thead>\n",
       "    <tr style=\"text-align: right;\">\n",
       "      <th></th>\n",
       "      <th>TRIP_ID</th>\n",
       "      <th>CALL_TYPE</th>\n",
       "      <th>ORIGIN_CALL</th>\n",
       "      <th>ORIGIN_STAND</th>\n",
       "      <th>TAXI_ID</th>\n",
       "      <th>TIMESTAMP</th>\n",
       "      <th>DAY_TYPE</th>\n",
       "      <th>MISSING_DATA</th>\n",
       "      <th>POLYLINE</th>\n",
       "      <th>target</th>\n",
       "      <th>call_A</th>\n",
       "      <th>call_B</th>\n",
       "      <th>call_C</th>\n",
       "      <th>TAXI_ID_MEAN</th>\n",
       "    </tr>\n",
       "  </thead>\n",
       "  <tbody>\n",
       "    <tr>\n",
       "      <th>0</th>\n",
       "      <td>1372636858620000589</td>\n",
       "      <td>C</td>\n",
       "      <td>NaN</td>\n",
       "      <td>NaN</td>\n",
       "      <td>1.136256</td>\n",
       "      <td>1372636858</td>\n",
       "      <td>A</td>\n",
       "      <td>False</td>\n",
       "      <td>[[-8.618643,41.141412],[-8.618499,41.141376],[...</td>\n",
       "      <td>330.0</td>\n",
       "      <td>0</td>\n",
       "      <td>0</td>\n",
       "      <td>1</td>\n",
       "      <td>694.473022</td>\n",
       "    </tr>\n",
       "    <tr>\n",
       "      <th>1</th>\n",
       "      <td>1372637303620000596</td>\n",
       "      <td>B</td>\n",
       "      <td>NaN</td>\n",
       "      <td>7.0</td>\n",
       "      <td>1.169448</td>\n",
       "      <td>1372637303</td>\n",
       "      <td>A</td>\n",
       "      <td>False</td>\n",
       "      <td>[[-8.639847,41.159826],[-8.640351,41.159871],[...</td>\n",
       "      <td>270.0</td>\n",
       "      <td>0</td>\n",
       "      <td>1</td>\n",
       "      <td>0</td>\n",
       "      <td>728.770874</td>\n",
       "    </tr>\n",
       "    <tr>\n",
       "      <th>2</th>\n",
       "      <td>1372636951620000320</td>\n",
       "      <td>C</td>\n",
       "      <td>NaN</td>\n",
       "      <td>NaN</td>\n",
       "      <td>-0.139281</td>\n",
       "      <td>1372636951</td>\n",
       "      <td>A</td>\n",
       "      <td>False</td>\n",
       "      <td>[[-8.612964,41.140359],[-8.613378,41.14035],[-...</td>\n",
       "      <td>960.0</td>\n",
       "      <td>0</td>\n",
       "      <td>0</td>\n",
       "      <td>1</td>\n",
       "      <td>707.499146</td>\n",
       "    </tr>\n",
       "    <tr>\n",
       "      <th>3</th>\n",
       "      <td>1372636854620000520</td>\n",
       "      <td>C</td>\n",
       "      <td>NaN</td>\n",
       "      <td>NaN</td>\n",
       "      <td>0.809073</td>\n",
       "      <td>1372636854</td>\n",
       "      <td>A</td>\n",
       "      <td>False</td>\n",
       "      <td>[[-8.574678,41.151951],[-8.574705,41.151942],[...</td>\n",
       "      <td>630.0</td>\n",
       "      <td>0</td>\n",
       "      <td>0</td>\n",
       "      <td>1</td>\n",
       "      <td>808.640808</td>\n",
       "    </tr>\n",
       "    <tr>\n",
       "      <th>4</th>\n",
       "      <td>1372637091620000337</td>\n",
       "      <td>C</td>\n",
       "      <td>NaN</td>\n",
       "      <td>NaN</td>\n",
       "      <td>-0.058671</td>\n",
       "      <td>1372637091</td>\n",
       "      <td>A</td>\n",
       "      <td>False</td>\n",
       "      <td>[[-8.645994,41.18049],[-8.645949,41.180517],[-...</td>\n",
       "      <td>420.0</td>\n",
       "      <td>0</td>\n",
       "      <td>0</td>\n",
       "      <td>1</td>\n",
       "      <td>758.926819</td>\n",
       "    </tr>\n",
       "  </tbody>\n",
       "</table>\n",
       "</div>"
      ],
      "text/plain": [
       "               TRIP_ID CALL_TYPE  ORIGIN_CALL  ORIGIN_STAND   TAXI_ID  \\\n",
       "0  1372636858620000589         C          NaN           NaN  1.136256   \n",
       "1  1372637303620000596         B          NaN           7.0  1.169448   \n",
       "2  1372636951620000320         C          NaN           NaN -0.139281   \n",
       "3  1372636854620000520         C          NaN           NaN  0.809073   \n",
       "4  1372637091620000337         C          NaN           NaN -0.058671   \n",
       "\n",
       "    TIMESTAMP DAY_TYPE  MISSING_DATA  \\\n",
       "0  1372636858        A         False   \n",
       "1  1372637303        A         False   \n",
       "2  1372636951        A         False   \n",
       "3  1372636854        A         False   \n",
       "4  1372637091        A         False   \n",
       "\n",
       "                                            POLYLINE  target  call_A  call_B  \\\n",
       "0  [[-8.618643,41.141412],[-8.618499,41.141376],[...   330.0       0       0   \n",
       "1  [[-8.639847,41.159826],[-8.640351,41.159871],[...   270.0       0       1   \n",
       "2  [[-8.612964,41.140359],[-8.613378,41.14035],[-...   960.0       0       0   \n",
       "3  [[-8.574678,41.151951],[-8.574705,41.151942],[...   630.0       0       0   \n",
       "4  [[-8.645994,41.18049],[-8.645949,41.180517],[-...   420.0       0       0   \n",
       "\n",
       "   call_C  TAXI_ID_MEAN  \n",
       "0       1    694.473022  \n",
       "1       0    728.770874  \n",
       "2       1    707.499146  \n",
       "3       1    808.640808  \n",
       "4       1    758.926819  "
      ]
     },
     "execution_count": 15,
     "metadata": {},
     "output_type": "execute_result"
    }
   ],
   "source": [
    "df['TAXI_ID_MEAN'] = df['TAXI_ID'].apply(apply_mean)\n",
    "df.head()"
   ]
  },
  {
   "cell_type": "code",
   "execution_count": 16,
   "id": "da99a7f3",
   "metadata": {},
   "outputs": [],
   "source": [
    "def normalize(col_name):\n",
    "    df[col_name] = np.float32((df[col_name] - df[col_name].mean())/df[col_name].std())"
   ]
  },
  {
   "cell_type": "code",
   "execution_count": 17,
   "id": "e85cc21e",
   "metadata": {},
   "outputs": [],
   "source": [
    "def parse_num(str, index):\n",
    "    comma_pos = str.find(',')\n",
    "    if comma_pos == -1:\n",
    "        return None\n",
    "    if index == 0:\n",
    "        return np.float32(str[2:comma_pos])\n",
    "    else:\n",
    "        return np.float32(str[comma_pos + 1:str.find(']')])"
   ]
  },
  {
   "cell_type": "code",
   "execution_count": 18,
   "id": "8d6272ad",
   "metadata": {},
   "outputs": [],
   "source": [
    "df['Init_longitude'] = df['POLYLINE'].apply(lambda x : parse_num(x,0))\n",
    "df['Init_latitude'] = df['POLYLINE'].apply(lambda x : parse_num(x,1))\n",
    "df = df.loc[df['Init_longitude'] != None]\n",
    "df = df.loc[df['Init_latitude'] != None]\n",
    "train_long_mean = df['Init_longitude'].mean()\n",
    "train_lat_mean = df['Init_latitude'].mean()\n",
    "train_long_std = df['Init_longitude'].std()\n",
    "train_lat_std = df['Init_latitude'].std()\n",
    "normalize('Init_longitude')\n",
    "normalize('Init_latitude')"
   ]
  },
  {
   "cell_type": "code",
   "execution_count": 19,
   "id": "39e72f28",
   "metadata": {},
   "outputs": [
    {
     "data": {
      "text/html": [
       "<div>\n",
       "<style scoped>\n",
       "    .dataframe tbody tr th:only-of-type {\n",
       "        vertical-align: middle;\n",
       "    }\n",
       "\n",
       "    .dataframe tbody tr th {\n",
       "        vertical-align: top;\n",
       "    }\n",
       "\n",
       "    .dataframe thead th {\n",
       "        text-align: right;\n",
       "    }\n",
       "</style>\n",
       "<table border=\"1\" class=\"dataframe\">\n",
       "  <thead>\n",
       "    <tr style=\"text-align: right;\">\n",
       "      <th></th>\n",
       "      <th>TRIP_ID</th>\n",
       "      <th>CALL_TYPE</th>\n",
       "      <th>ORIGIN_CALL</th>\n",
       "      <th>ORIGIN_STAND</th>\n",
       "      <th>TAXI_ID</th>\n",
       "      <th>TIMESTAMP</th>\n",
       "      <th>DAY_TYPE</th>\n",
       "      <th>MISSING_DATA</th>\n",
       "      <th>POLYLINE</th>\n",
       "      <th>target</th>\n",
       "      <th>call_A</th>\n",
       "      <th>call_B</th>\n",
       "      <th>call_C</th>\n",
       "      <th>TAXI_ID_MEAN</th>\n",
       "      <th>Init_longitude</th>\n",
       "      <th>Init_latitude</th>\n",
       "    </tr>\n",
       "  </thead>\n",
       "  <tbody>\n",
       "    <tr>\n",
       "      <th>0</th>\n",
       "      <td>1372636858620000589</td>\n",
       "      <td>C</td>\n",
       "      <td>NaN</td>\n",
       "      <td>NaN</td>\n",
       "      <td>1.136256</td>\n",
       "      <td>1372636858</td>\n",
       "      <td>A</td>\n",
       "      <td>False</td>\n",
       "      <td>[[-8.618643,41.141412],[-8.618499,41.141376],[...</td>\n",
       "      <td>330.0</td>\n",
       "      <td>0</td>\n",
       "      <td>0</td>\n",
       "      <td>1</td>\n",
       "      <td>694.473022</td>\n",
       "      <td>0.961090</td>\n",
       "      <td>0.961183</td>\n",
       "    </tr>\n",
       "    <tr>\n",
       "      <th>1</th>\n",
       "      <td>1372637303620000596</td>\n",
       "      <td>B</td>\n",
       "      <td>NaN</td>\n",
       "      <td>7.0</td>\n",
       "      <td>1.169448</td>\n",
       "      <td>1372637303</td>\n",
       "      <td>A</td>\n",
       "      <td>False</td>\n",
       "      <td>[[-8.639847,41.159826],[-8.640351,41.159871],[...</td>\n",
       "      <td>270.0</td>\n",
       "      <td>0</td>\n",
       "      <td>1</td>\n",
       "      <td>0</td>\n",
       "      <td>728.770874</td>\n",
       "      <td>0.786753</td>\n",
       "      <td>1.004535</td>\n",
       "    </tr>\n",
       "    <tr>\n",
       "      <th>2</th>\n",
       "      <td>1372636951620000320</td>\n",
       "      <td>C</td>\n",
       "      <td>NaN</td>\n",
       "      <td>NaN</td>\n",
       "      <td>-0.139281</td>\n",
       "      <td>1372636951</td>\n",
       "      <td>A</td>\n",
       "      <td>False</td>\n",
       "      <td>[[-8.612964,41.140359],[-8.613378,41.14035],[-...</td>\n",
       "      <td>960.0</td>\n",
       "      <td>0</td>\n",
       "      <td>0</td>\n",
       "      <td>1</td>\n",
       "      <td>707.499146</td>\n",
       "      <td>1.007784</td>\n",
       "      <td>0.958705</td>\n",
       "    </tr>\n",
       "    <tr>\n",
       "      <th>3</th>\n",
       "      <td>1372636854620000520</td>\n",
       "      <td>C</td>\n",
       "      <td>NaN</td>\n",
       "      <td>NaN</td>\n",
       "      <td>0.809073</td>\n",
       "      <td>1372636854</td>\n",
       "      <td>A</td>\n",
       "      <td>False</td>\n",
       "      <td>[[-8.574678,41.151951],[-8.574705,41.151942],[...</td>\n",
       "      <td>630.0</td>\n",
       "      <td>0</td>\n",
       "      <td>0</td>\n",
       "      <td>1</td>\n",
       "      <td>808.640808</td>\n",
       "      <td>1.322562</td>\n",
       "      <td>0.985998</td>\n",
       "    </tr>\n",
       "    <tr>\n",
       "      <th>4</th>\n",
       "      <td>1372637091620000337</td>\n",
       "      <td>C</td>\n",
       "      <td>NaN</td>\n",
       "      <td>NaN</td>\n",
       "      <td>-0.058671</td>\n",
       "      <td>1372637091</td>\n",
       "      <td>A</td>\n",
       "      <td>False</td>\n",
       "      <td>[[-8.645994,41.18049],[-8.645949,41.180517],[-...</td>\n",
       "      <td>420.0</td>\n",
       "      <td>0</td>\n",
       "      <td>0</td>\n",
       "      <td>1</td>\n",
       "      <td>758.926819</td>\n",
       "      <td>0.736210</td>\n",
       "      <td>1.053185</td>\n",
       "    </tr>\n",
       "  </tbody>\n",
       "</table>\n",
       "</div>"
      ],
      "text/plain": [
       "               TRIP_ID CALL_TYPE  ORIGIN_CALL  ORIGIN_STAND   TAXI_ID  \\\n",
       "0  1372636858620000589         C          NaN           NaN  1.136256   \n",
       "1  1372637303620000596         B          NaN           7.0  1.169448   \n",
       "2  1372636951620000320         C          NaN           NaN -0.139281   \n",
       "3  1372636854620000520         C          NaN           NaN  0.809073   \n",
       "4  1372637091620000337         C          NaN           NaN -0.058671   \n",
       "\n",
       "    TIMESTAMP DAY_TYPE  MISSING_DATA  \\\n",
       "0  1372636858        A         False   \n",
       "1  1372637303        A         False   \n",
       "2  1372636951        A         False   \n",
       "3  1372636854        A         False   \n",
       "4  1372637091        A         False   \n",
       "\n",
       "                                            POLYLINE  target  call_A  call_B  \\\n",
       "0  [[-8.618643,41.141412],[-8.618499,41.141376],[...   330.0       0       0   \n",
       "1  [[-8.639847,41.159826],[-8.640351,41.159871],[...   270.0       0       1   \n",
       "2  [[-8.612964,41.140359],[-8.613378,41.14035],[-...   960.0       0       0   \n",
       "3  [[-8.574678,41.151951],[-8.574705,41.151942],[...   630.0       0       0   \n",
       "4  [[-8.645994,41.18049],[-8.645949,41.180517],[-...   420.0       0       0   \n",
       "\n",
       "   call_C  TAXI_ID_MEAN  Init_longitude  Init_latitude  \n",
       "0       1    694.473022        0.961090       0.961183  \n",
       "1       0    728.770874        0.786753       1.004535  \n",
       "2       1    707.499146        1.007784       0.958705  \n",
       "3       1    808.640808        1.322562       0.985998  \n",
       "4       1    758.926819        0.736210       1.053185  "
      ]
     },
     "execution_count": 19,
     "metadata": {},
     "output_type": "execute_result"
    }
   ],
   "source": [
    "df.head()"
   ]
  },
  {
   "cell_type": "code",
   "execution_count": 20,
   "id": "2fe0395a",
   "metadata": {},
   "outputs": [],
   "source": [
    "train_set = torch.reshape(torch.tensor(df['call_A'].values),(-1,1))\n",
    "col_list = ['call_B', 'call_C','TAXI_ID', 'Init_longitude', 'Init_latitude', 'TAXI_ID_MEAN']\n",
    "for col_name in col_list:\n",
    "#     print(train_set.dtype)\n",
    "    train_set = torch.cat((train_set,torch.reshape(torch.from_numpy(df[col_name].values),(-1,1))),1)"
   ]
  },
  {
   "cell_type": "code",
   "execution_count": 21,
   "id": "a90451ef",
   "metadata": {},
   "outputs": [],
   "source": [
    "train_set = train_set.type('torch.FloatTensor')"
   ]
  },
  {
   "cell_type": "code",
   "execution_count": 22,
   "id": "3c148dac",
   "metadata": {},
   "outputs": [],
   "source": [
    "target_set = torch.reshape(torch.tensor(df['target'].values),(-1,1))"
   ]
  },
  {
   "cell_type": "code",
   "execution_count": 23,
   "id": "45409c19",
   "metadata": {},
   "outputs": [
    {
     "data": {
      "text/plain": [
       "tensor([  0.0000,   0.0000,   1.0000,   1.1363,   0.9611,   0.9612, 694.4730])"
      ]
     },
     "execution_count": 23,
     "metadata": {},
     "output_type": "execute_result"
    }
   ],
   "source": [
    "train_set[0]"
   ]
  },
  {
   "cell_type": "code",
   "execution_count": 24,
   "id": "529a81f4",
   "metadata": {},
   "outputs": [],
   "source": [
    "class MLP_Regressor(torch.nn.Module):\n",
    "    def __init__(self, in_dim, hidden_dim, out_dim = 1):\n",
    "        super(MLP_Regressor, self).__init__() #Refers to the fact that this is a subclass of nn.Module and is inheriting all methods\n",
    "        \n",
    "        out_dim = 1\n",
    "  \n",
    "        self.in_dim = in_dim\n",
    "        self.hidden_dim = hidden_dim\n",
    "        self.out_dim = out_dim\n",
    "        self.linear1 = nn.Linear(self.in_dim, self.hidden_dim)\n",
    "        self.linear2 = nn.Linear(self.hidden_dim, self.out_dim)\n",
    "        \n",
    "                \n",
    "        self.fc = torch.nn.Sequential(\n",
    "            nn.Linear(self.in_dim, self.hidden_dim),\n",
    "            nn.ReLU(),\n",
    "            nn.Linear(self.hidden_dim, self.hidden_dim * 4),\n",
    "            nn.ReLU(),\n",
    "            nn.Linear(self.hidden_dim * 4, self.hidden_dim * 2),\n",
    "            nn.ReLU(),\n",
    "            nn.Linear(self.hidden_dim * 2, self.out_dim)\n",
    "        )\n",
    "\n",
    "    \n",
    "    def forward(self, x):\n",
    "        x = self.fc(x)\n",
    "        x = x.squeeze(1)\n",
    "        return x"
   ]
  },
  {
   "cell_type": "code",
   "execution_count": 25,
   "id": "854039c6",
   "metadata": {},
   "outputs": [],
   "source": [
    "targets_mlp = torch.reshape(torch.from_numpy(df['target'].values),(-1,1))"
   ]
  },
  {
   "cell_type": "code",
   "execution_count": 26,
   "id": "1c31f08c",
   "metadata": {},
   "outputs": [
    {
     "data": {
      "text/plain": [
       "1674152"
      ]
     },
     "execution_count": 26,
     "metadata": {},
     "output_type": "execute_result"
    }
   ],
   "source": [
    "len(targets_mlp)"
   ]
  },
  {
   "cell_type": "code",
   "execution_count": 28,
   "id": "a7520c82",
   "metadata": {},
   "outputs": [
    {
     "name": "stdout",
     "output_type": "stream",
     "text": [
      "1339321\n",
      "334831\n"
     ]
    }
   ],
   "source": [
    "batch_size = 1024\n",
    "lst_all = list(zip(train_set, targets_mlp))\n",
    "np.random.shuffle(lst_all)\n",
    "#lst_all = lst_all[:int(len(lst_all) / 2)]\n",
    "lst_train = lst_all[:int(len(lst_all) * 0.8)]\n",
    "lst_valid = lst_all[int(len(lst_all) * 0.8):]\n",
    "len_train = len(lst_train)\n",
    "print(len(lst_train))\n",
    "print(len(lst_valid))\n",
    "#print(lst_train[0])\n",
    "trainloader = torch.utils.data.DataLoader(lst_train , batch_size=batch_size, shuffle=True, num_workers=2)\n",
    "validloader = torch.utils.data.DataLoader(lst_valid , batch_size=batch_size, shuffle=False, num_workers=2)"
   ]
  },
  {
   "cell_type": "code",
   "execution_count": 58,
   "id": "a26e87d8",
   "metadata": {},
   "outputs": [],
   "source": [
    "mlp_model = MLP_Regressor(7, 14, 1).to(device)\n",
    "lr_mlp = 5e-6\n",
    "optimizer = torch.optim.Adam(mlp_model.parameters(), lr = lr_mlp)\n",
    "criterion = nn.MSELoss()"
   ]
  },
  {
   "cell_type": "code",
   "execution_count": 59,
   "id": "48d8647a",
   "metadata": {},
   "outputs": [],
   "source": [
    "def get_loss(X, y, model, criterion):\n",
    "    y_pred = model(X)\n",
    "    loss = criterion(y_pred, y)\n",
    "    return torch.sqrt(loss)"
   ]
  },
  {
   "cell_type": "code",
   "execution_count": 60,
   "id": "09bf10ee",
   "metadata": {},
   "outputs": [],
   "source": [
    "def validate(dataloader, model, criterion):\n",
    "    valid_losses = []\n",
    "    with torch.no_grad():\n",
    "        for X, y in dataloader:\n",
    "            X, y = X.to(device), y.to(device)\n",
    "            loss = get_loss(X, y, model, criterion)\n",
    "            valid_losses.append(loss.item())\n",
    "    \n",
    "    return np.mean(valid_losses)"
   ]
  },
  {
   "cell_type": "code",
   "execution_count": 61,
   "id": "d85515ee",
   "metadata": {},
   "outputs": [],
   "source": [
    "val_losses = []"
   ]
  },
  {
   "cell_type": "code",
   "execution_count": 62,
   "id": "00dab4ce",
   "metadata": {},
   "outputs": [
    {
     "name": "stderr",
     "output_type": "stream",
     "text": [
      "  0%|          | 0/10 [00:00<?, ?it/s]C:\\ProgramData\\Anaconda3\\lib\\site-packages\\torch\\nn\\modules\\loss.py:536: UserWarning: Using a target size (torch.Size([1024, 1])) that is different to the input size (torch.Size([1024])). This will likely lead to incorrect results due to broadcasting. Please ensure they have the same size.\n",
      "  return F.mse_loss(input, target, reduction=self.reduction)\n",
      "C:\\ProgramData\\Anaconda3\\lib\\site-packages\\torch\\nn\\modules\\loss.py:536: UserWarning: Using a target size (torch.Size([953, 1])) that is different to the input size (torch.Size([953])). This will likely lead to incorrect results due to broadcasting. Please ensure they have the same size.\n",
      "  return F.mse_loss(input, target, reduction=self.reduction)\n",
      "C:\\ProgramData\\Anaconda3\\lib\\site-packages\\torch\\nn\\modules\\loss.py:536: UserWarning: Using a target size (torch.Size([1007, 1])) that is different to the input size (torch.Size([1007])). This will likely lead to incorrect results due to broadcasting. Please ensure they have the same size.\n",
      "  return F.mse_loss(input, target, reduction=self.reduction)\n",
      " 10%|█         | 1/10 [02:39<23:58, 159.88s/it]"
     ]
    },
    {
     "name": "stdout",
     "output_type": "stream",
     "text": [
      "RMSE: 990.0381542987416\n",
      "Validation RMSE: 963.9296203053326\n"
     ]
    },
    {
     "name": "stderr",
     "output_type": "stream",
     "text": [
      " 20%|██        | 2/10 [05:21<21:25, 160.68s/it]"
     ]
    },
    {
     "name": "stdout",
     "output_type": "stream",
     "text": [
      "RMSE: 972.3252508414265\n",
      "Validation RMSE: 944.0416351225033\n"
     ]
    },
    {
     "name": "stderr",
     "output_type": "stream",
     "text": [
      " 30%|███       | 3/10 [08:02<18:46, 160.95s/it]"
     ]
    },
    {
     "name": "stdout",
     "output_type": "stream",
     "text": [
      "RMSE: 950.3716795101807\n",
      "Validation RMSE: 920.1787553606413\n"
     ]
    },
    {
     "name": "stderr",
     "output_type": "stream",
     "text": [
      " 40%|████      | 4/10 [10:41<16:02, 160.35s/it]"
     ]
    },
    {
     "name": "stdout",
     "output_type": "stream",
     "text": [
      "RMSE: 926.3810529796356\n",
      "Validation RMSE: 894.3151564291858\n"
     ]
    },
    {
     "name": "stderr",
     "output_type": "stream",
     "text": [
      " 50%|█████     | 5/10 [13:23<13:23, 160.79s/it]"
     ]
    },
    {
     "name": "stdout",
     "output_type": "stream",
     "text": [
      "RMSE: 898.8415983240903\n",
      "Validation RMSE: 864.9845381337203\n"
     ]
    },
    {
     "name": "stderr",
     "output_type": "stream",
     "text": [
      " 60%|██████    | 6/10 [16:04<10:43, 160.82s/it]"
     ]
    },
    {
     "name": "stdout",
     "output_type": "stream",
     "text": [
      "RMSE: 868.1897980109632\n",
      "Validation RMSE: 831.7924058080084\n"
     ]
    },
    {
     "name": "stderr",
     "output_type": "stream",
     "text": [
      " 70%|███████   | 7/10 [18:44<08:01, 160.53s/it]"
     ]
    },
    {
     "name": "stdout",
     "output_type": "stream",
     "text": [
      "RMSE: 833.8581344651155\n",
      "Validation RMSE: 795.6441680254921\n"
     ]
    },
    {
     "name": "stderr",
     "output_type": "stream",
     "text": [
      " 80%|████████  | 8/10 [21:27<05:22, 161.26s/it]"
     ]
    },
    {
     "name": "stdout",
     "output_type": "stream",
     "text": [
      "RMSE: 797.281889142611\n",
      "Validation RMSE: 758.1907695805261\n"
     ]
    },
    {
     "name": "stderr",
     "output_type": "stream",
     "text": [
      " 90%|█████████ | 9/10 [24:09<02:41, 161.57s/it]"
     ]
    },
    {
     "name": "stdout",
     "output_type": "stream",
     "text": [
      "RMSE: 760.8155645901275\n",
      "Validation RMSE: 722.1118048338351\n"
     ]
    },
    {
     "name": "stderr",
     "output_type": "stream",
     "text": [
      "100%|██████████| 10/10 [26:50<00:00, 161.02s/it]"
     ]
    },
    {
     "name": "stdout",
     "output_type": "stream",
     "text": [
      "RMSE: 727.8615740621491\n",
      "Validation RMSE: 691.1192220052084\n",
      "Finished Training\n"
     ]
    },
    {
     "name": "stderr",
     "output_type": "stream",
     "text": [
      "\n"
     ]
    }
   ],
   "source": [
    "models = []\n",
    "from tqdm import tqdm\n",
    "for epoch in tqdm(range(10)):\n",
    "\n",
    "    running_loss = 0.0\n",
    "    losses = []\n",
    "    for X, y in trainloader:\n",
    "        X, y = X.to(device), y.to(device)\n",
    "\n",
    "        # zero the parameter gradients\n",
    "        optimizer.zero_grad()\n",
    "\n",
    "        # forward + backward + optimize\n",
    "        loss = get_loss(X, y, mlp_model, criterion)\n",
    "        losses.append(loss.item())\n",
    "        loss.backward()\n",
    "        optimizer.step()\n",
    "\n",
    "        running_loss += loss.cpu().detach().numpy()\n",
    "    val_loss = validate(validloader, mlp_model, criterion)\n",
    "    val_losses.append(val_loss)\n",
    "    models.append(torch.jit.script(mlp_model))\n",
    "    print(f'RMSE: {running_loss / len(losses)}')\n",
    "    print(f'Validation RMSE: {val_loss}')\n",
    "print('Finished Training')\n"
   ]
  },
  {
   "cell_type": "code",
   "execution_count": 69,
   "id": "0f1e6e19",
   "metadata": {},
   "outputs": [],
   "source": [
    "import matplotlib.pyplot as plt\n",
    "import random"
   ]
  },
  {
   "cell_type": "code",
   "execution_count": 66,
   "id": "a6baff9b",
   "metadata": {},
   "outputs": [
    {
     "data": {
      "text/plain": [
       "[<matplotlib.lines.Line2D at 0x1c778f0d0a0>]"
      ]
     },
     "execution_count": 66,
     "metadata": {},
     "output_type": "execute_result"
    },
    {
     "data": {
      "image/png": "[encoded data removed]",
      "text/plain": [
       "<Figure size 432x288 with 1 Axes>"
      ]
     },
     "metadata": {
      "needs_background": "light"
     },
     "output_type": "display_data"
    }
   ],
   "source": [
    "plt.plot(val_losses)"
   ]
  },
  {
   "cell_type": "code",
   "execution_count": 71,
   "id": "42d79a01",
   "metadata": {},
   "outputs": [
    {
     "data": {
      "text/plain": [
       "tensor([  0.0000,   0.0000,   1.0000,   1.1363,   0.9611,   0.9612, 694.4730])"
      ]
     },
     "execution_count": 71,
     "metadata": {},
     "output_type": "execute_result"
    }
   ],
   "source": [
    "train_set[0]"
   ]
  },
  {
   "cell_type": "code",
   "execution_count": 92,
   "id": "5710450b",
   "metadata": {},
   "outputs": [
    {
     "name": "stdout",
     "output_type": "stream",
     "text": [
      "[428.51968 490.1547  485.61407 816.98865 492.3861  462.0307  509.01178\n",
      " 513.63403 694.6834  480.31635]\n"
     ]
    }
   ],
   "source": [
    "points = []\n",
    "actuals = []\n",
    "preds = []\n",
    "for i in range(10):\n",
    "    ind = random.randint(0, len(train_set) - 1)\n",
    "    rd_pt = train_set[ind]\n",
    "    points.append(rd_pt)\n",
    "    actual = targets_mlp[ind].item()\n",
    "    actuals.append(actual)\n",
    "\n",
    "points = torch.stack(points)\n",
    "pred_rands = mlp_model(points.to(device)).cpu().detach().numpy()\n",
    "print(pred_rands)\n"
   ]
  },
  {
   "cell_type": "code",
   "execution_count": 94,
   "id": "7fdcd4de",
   "metadata": {},
   "outputs": [
    {
     "data": {
      "text/plain": [
       "<matplotlib.collections.PathCollection at 0x1c5379e8be0>"
      ]
     },
     "execution_count": 94,
     "metadata": {},
     "output_type": "execute_result"
    },
    {
     "data": {
      "image/png": "[encoded data removed]",
      "text/plain": [
       "<Figure size 432x288 with 1 Axes>"
      ]
     },
     "metadata": {
      "needs_background": "light"
     },
     "output_type": "display_data"
    }
   ],
   "source": [
    "x = [1,2,3,4,5,6,7,8,9,10]\n",
    "plt.scatter(x, pred_rands, color = 'blue')\n",
    "plt.scatter(x, actuals, color = 'red')"
   ]
  },
  {
   "cell_type": "code",
   "execution_count": 37,
   "id": "f24f406c",
   "metadata": {},
   "outputs": [
    {
     "data": {
      "text/plain": [
       "2704"
      ]
     },
     "execution_count": 37,
     "metadata": {},
     "output_type": "execute_result"
    }
   ],
   "source": [
    "sum(p.numel() for p in mlp_model.parameters())"
   ]
  },
  {
   "cell_type": "code",
   "execution_count": 47,
   "id": "1ee05ae2",
   "metadata": {},
   "outputs": [],
   "source": [
    "model_scripted = torch.jit.script(mlp_model)\n",
    "#model_scripted.save('final_model.pt')"
   ]
  },
  {
   "cell_type": "code",
   "execution_count": 38,
   "id": "e33f1b90",
   "metadata": {},
   "outputs": [],
   "source": [
    "stands = pd.read_csv(\"metaData_taxistandsID_name_GPSlocation.csv\")\n",
    "stand_dict = {}\n",
    "stands.head()\n",
    "for r, s in stands.iterrows():\n",
    "    stand_dict[s['ID']] = (np.float32(s['Longitude']), np.float32(s['Latitude']))"
   ]
  },
  {
   "cell_type": "code",
   "execution_count": 39,
   "id": "45adb572",
   "metadata": {},
   "outputs": [],
   "source": [
    "df_test = pd.read_csv(\"test_public.csv\")\n",
    "df_test['call_A'] = df_test[\"CALL_TYPE\"].apply(lambda x : int(x == 'A'))\n",
    "df_test['call_B'] = df_test[\"CALL_TYPE\"].apply(lambda x : int(x == 'B'))\n",
    "df_test['call_C'] = df_test[\"CALL_TYPE\"].apply(lambda x : int(x == 'C'))\n",
    "df_test['TAXI_ID'] = (df_test['TAXI_ID'] - train_id_mean)/train_id_std\n",
    "\n",
    "df_test['Init_longitude'] = train_long_mean\n",
    "df_test['Init_latitude'] = train_lat_mean"
   ]
  },
  {
   "cell_type": "code",
   "execution_count": 40,
   "id": "a4748b05",
   "metadata": {},
   "outputs": [],
   "source": [
    "def apply_mean_test(taxi_id):\n",
    "    if taxi_id in taxi_id_to_mean:\n",
    "        return taxi_id_to_mean[taxi_id]\n",
    "    else:\n",
    "        return train_id_mean"
   ]
  },
  {
   "cell_type": "code",
   "execution_count": 41,
   "id": "a3452428",
   "metadata": {},
   "outputs": [],
   "source": [
    "df_test['TAXI_ID_MEAN'] = df_test['TAXI_ID'].apply(apply_mean_test)"
   ]
  },
  {
   "cell_type": "code",
   "execution_count": 42,
   "id": "dadedf48",
   "metadata": {},
   "outputs": [],
   "source": [
    "for ind, d in df_test.iterrows():\n",
    "    if not pd.isna(d['ORIGIN_STAND']):\n",
    "        #print(d['ORIGIN_STAND'])\n",
    "        d['Init_longitude'] = stand_dict[d['ORIGIN_STAND']][0]\n",
    "        d['Init_latitude'] = stand_dict[d['ORIGIN_STAND']][1]\n",
    "    d['Init_longitude'] = (d['Init_longitude'] - train_long_mean) / train_long_std\n",
    "    d['Init_latitude'] = (d['Init_latitude'] - train_lat_mean) / train_lat_std\n",
    "\n",
    "#    df[col_name] = np.float32((df[col_name] - df[col_name].mean())/df[col_name].std())\n",
    "test_set = torch.reshape(torch.tensor(df_test['call_A'].values),(-1,1))\n",
    "col_list = ['call_B', 'call_C','TAXI_ID', 'Init_longitude', 'Init_latitude', 'TAXI_ID_MEAN']\n",
    "#col_list = ['call_B', 'call_C','TAXI_ID', 'Init_longitude', 'Init_latitude']\n",
    "for col_name in col_list:\n",
    "#     print(train_set.dtype)\n",
    "    test_set = torch.cat((test_set,torch.reshape(torch.from_numpy(df_test[col_name].values),(-1,1))),1)\n",
    "test_set = test_set.type('torch.FloatTensor')"
   ]
  },
  {
   "cell_type": "code",
   "execution_count": 52,
   "id": "f63b9f3b",
   "metadata": {},
   "outputs": [],
   "source": [
    "test_set = test_set\n",
    "preds = mlp_model(test_set.to(device)).cpu().detach().numpy()\n",
    "#preds = model(test_set.to(device))\n"
   ]
  },
  {
   "cell_type": "code",
   "execution_count": 53,
   "id": "2570759f",
   "metadata": {},
   "outputs": [
    {
     "data": {
      "text/plain": [
       "320"
      ]
     },
     "execution_count": 53,
     "metadata": {},
     "output_type": "execute_result"
    }
   ],
   "source": [
    "len(test_set)"
   ]
  },
  {
   "cell_type": "code",
   "execution_count": 54,
   "id": "f88c388c",
   "metadata": {},
   "outputs": [],
   "source": [
    "def round_to_multiple(number, multiple):\n",
    "    return multiple * round(number / multiple)"
   ]
  },
  {
   "cell_type": "code",
   "execution_count": 55,
   "id": "b5e0443c",
   "metadata": {},
   "outputs": [],
   "source": [
    "for i in range(len(preds)):\n",
    "    preds[i] = round_to_multiple(preds[i], 15)"
   ]
  },
  {
   "cell_type": "code",
   "execution_count": 56,
   "id": "f89d613d",
   "metadata": {},
   "outputs": [],
   "source": [
    "output_csv = pd.read_csv(\"sampleSubmission.csv\")\n",
    "output_csv['TRAVEL_TIME'] = preds\n",
    "#df_test[\"TRAVEL_TIME\"] = 716.43\n",
    "output_csv.tail()\n",
    "output_csv.to_csv(\"my_pred.csv\", index=None)\n"
   ]
  },
  {
   "cell_type": "code",
   "execution_count": 97,
   "id": "3d1396ce",
   "metadata": {},
   "outputs": [],
   "source": [
    "#load model and ouput\n",
    "m = torch.jit.load('final_model.pt')\n",
    "m.eval()\n",
    "p = m(test_set.to(device)).cpu().detach().numpy()\n",
    "for i in range(len(p)):\n",
    "    p[i] = round_to_multiple(p[i], 15)\n",
    "output_csv = pd.read_csv(\"sampleSubmission.csv\")\n",
    "output_csv['TRAVEL_TIME'] = p\n",
    "#df_test[\"TRAVEL_TIME\"] = 716.43\n",
    "output_csv.tail()\n",
    "output_csv.to_csv(\"my_pred.csv\", index=None)"
   ]
  },
  {
   "cell_type": "code",
   "execution_count": null,
   "id": "f25a24d1",
   "metadata": {},
   "outputs": [],
   "source": []
  }
 ],
 "metadata": {
  "kernelspec": {
   "display_name": "Python 3 (ipykernel)",
   "language": "python",
   "name": "python3"
  },
  "language_info": {
   "codemirror_mode": {
    "name": "ipython",
    "version": 3
   },
   "file_extension": ".py",
   "mimetype": "text/x-python",
   "name": "python",
   "nbconvert_exporter": "python",
   "pygments_lexer": "ipython3",
   "version": "3.9.7"
  }
 },
 "nbformat": 4,
 "nbformat_minor": 5
}
