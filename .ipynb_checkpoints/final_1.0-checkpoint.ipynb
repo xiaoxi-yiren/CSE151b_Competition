{
 "cells": [
  {
   "cell_type": "code",
   "execution_count": 1,
   "id": "6eacbb16",
   "metadata": {},
   "outputs": [],
   "source": [
    "import pandas as pd\n",
    "import torch\n",
    "import numpy as np\n",
    "import torch.nn as nn\n",
    "import warnings\n",
    "warnings.filterwarnings('ignore')"
   ]
  },
  {
   "cell_type": "code",
   "execution_count": 2,
   "id": "c45c765f",
   "metadata": {},
   "outputs": [],
   "source": [
    "device = torch.device(\"cuda\" if torch.cuda.is_available() else \"cpu\")"
   ]
  },
  {
   "cell_type": "code",
   "execution_count": 3,
   "id": "09ba37fe",
   "metadata": {},
   "outputs": [],
   "source": [
    "df = pd.read_csv(\"../train.csv\")"
   ]
  },
  {
   "cell_type": "code",
   "execution_count": 4,
   "id": "af4c55f3",
   "metadata": {},
   "outputs": [
    {
     "data": {
      "text/html": [
       "<div>\n",
       "<style scoped>\n",
       "    .dataframe tbody tr th:only-of-type {\n",
       "        vertical-align: middle;\n",
       "    }\n",
       "\n",
       "    .dataframe tbody tr th {\n",
       "        vertical-align: top;\n",
       "    }\n",
       "\n",
       "    .dataframe thead th {\n",
       "        text-align: right;\n",
       "    }\n",
       "</style>\n",
       "<table border=\"1\" class=\"dataframe\">\n",
       "  <thead>\n",
       "    <tr style=\"text-align: right;\">\n",
       "      <th></th>\n",
       "      <th>TRIP_ID</th>\n",
       "      <th>CALL_TYPE</th>\n",
       "      <th>ORIGIN_CALL</th>\n",
       "      <th>ORIGIN_STAND</th>\n",
       "      <th>TAXI_ID</th>\n",
       "      <th>TIMESTAMP</th>\n",
       "      <th>DAY_TYPE</th>\n",
       "      <th>MISSING_DATA</th>\n",
       "      <th>POLYLINE</th>\n",
       "    </tr>\n",
       "  </thead>\n",
       "  <tbody>\n",
       "    <tr>\n",
       "      <th>0</th>\n",
       "      <td>1372636858620000589</td>\n",
       "      <td>C</td>\n",
       "      <td>NaN</td>\n",
       "      <td>NaN</td>\n",
       "      <td>20000589</td>\n",
       "      <td>1372636858</td>\n",
       "      <td>A</td>\n",
       "      <td>False</td>\n",
       "      <td>[[-8.618643,41.141412],[-8.618499,41.141376],[...</td>\n",
       "    </tr>\n",
       "    <tr>\n",
       "      <th>1</th>\n",
       "      <td>1372637303620000596</td>\n",
       "      <td>B</td>\n",
       "      <td>NaN</td>\n",
       "      <td>7.0</td>\n",
       "      <td>20000596</td>\n",
       "      <td>1372637303</td>\n",
       "      <td>A</td>\n",
       "      <td>False</td>\n",
       "      <td>[[-8.639847,41.159826],[-8.640351,41.159871],[...</td>\n",
       "    </tr>\n",
       "    <tr>\n",
       "      <th>2</th>\n",
       "      <td>1372636951620000320</td>\n",
       "      <td>C</td>\n",
       "      <td>NaN</td>\n",
       "      <td>NaN</td>\n",
       "      <td>20000320</td>\n",
       "      <td>1372636951</td>\n",
       "      <td>A</td>\n",
       "      <td>False</td>\n",
       "      <td>[[-8.612964,41.140359],[-8.613378,41.14035],[-...</td>\n",
       "    </tr>\n",
       "    <tr>\n",
       "      <th>3</th>\n",
       "      <td>1372636854620000520</td>\n",
       "      <td>C</td>\n",
       "      <td>NaN</td>\n",
       "      <td>NaN</td>\n",
       "      <td>20000520</td>\n",
       "      <td>1372636854</td>\n",
       "      <td>A</td>\n",
       "      <td>False</td>\n",
       "      <td>[[-8.574678,41.151951],[-8.574705,41.151942],[...</td>\n",
       "    </tr>\n",
       "    <tr>\n",
       "      <th>4</th>\n",
       "      <td>1372637091620000337</td>\n",
       "      <td>C</td>\n",
       "      <td>NaN</td>\n",
       "      <td>NaN</td>\n",
       "      <td>20000337</td>\n",
       "      <td>1372637091</td>\n",
       "      <td>A</td>\n",
       "      <td>False</td>\n",
       "      <td>[[-8.645994,41.18049],[-8.645949,41.180517],[-...</td>\n",
       "    </tr>\n",
       "  </tbody>\n",
       "</table>\n",
       "</div>"
      ],
      "text/plain": [
       "               TRIP_ID CALL_TYPE  ORIGIN_CALL  ORIGIN_STAND   TAXI_ID  \\\n",
       "0  1372636858620000589         C          NaN           NaN  20000589   \n",
       "1  1372637303620000596         B          NaN           7.0  20000596   \n",
       "2  1372636951620000320         C          NaN           NaN  20000320   \n",
       "3  1372636854620000520         C          NaN           NaN  20000520   \n",
       "4  1372637091620000337         C          NaN           NaN  20000337   \n",
       "\n",
       "    TIMESTAMP DAY_TYPE  MISSING_DATA  \\\n",
       "0  1372636858        A         False   \n",
       "1  1372637303        A         False   \n",
       "2  1372636951        A         False   \n",
       "3  1372636854        A         False   \n",
       "4  1372637091        A         False   \n",
       "\n",
       "                                            POLYLINE  \n",
       "0  [[-8.618643,41.141412],[-8.618499,41.141376],[...  \n",
       "1  [[-8.639847,41.159826],[-8.640351,41.159871],[...  \n",
       "2  [[-8.612964,41.140359],[-8.613378,41.14035],[-...  \n",
       "3  [[-8.574678,41.151951],[-8.574705,41.151942],[...  \n",
       "4  [[-8.645994,41.18049],[-8.645949,41.180517],[-...  "
      ]
     },
     "execution_count": 4,
     "metadata": {},
     "output_type": "execute_result"
    }
   ],
   "source": [
    "df.head()"
   ]
  },
  {
   "cell_type": "code",
   "execution_count": 5,
   "id": "6b9ad337",
   "metadata": {},
   "outputs": [
    {
     "data": {
      "text/plain": [
       "0.5285011135987654"
      ]
     },
     "execution_count": 5,
     "metadata": {},
     "output_type": "execute_result"
    }
   ],
   "source": [
    "df['ORIGIN_STAND'].isna().sum() / len(df)"
   ]
  },
  {
   "cell_type": "code",
   "execution_count": 6,
   "id": "37ba2fb7",
   "metadata": {},
   "outputs": [],
   "source": [
    "df[\"target\"] = df[\"POLYLINE\"].apply(lambda x : np.float32(max((x.count(\"[\") - 2) *15, 0)))"
   ]
  },
  {
   "cell_type": "code",
   "execution_count": 7,
   "id": "0e8c3328",
   "metadata": {},
   "outputs": [],
   "source": [
    "df['call_A'] = df[\"CALL_TYPE\"].apply(lambda x : int(x == 'A'))\n",
    "df['call_B'] = df[\"CALL_TYPE\"].apply(lambda x : int(x == 'B'))\n",
    "df['call_C'] = df[\"CALL_TYPE\"].apply(lambda x : int(x == 'C'))"
   ]
  },
  {
   "cell_type": "code",
   "execution_count": 8,
   "id": "a5a117e8",
   "metadata": {},
   "outputs": [],
   "source": [
    "df['day_A'] = df[\"DAY_TYPE\"].apply(lambda x : int(x == 'A'))\n",
    "df['day_B'] = df[\"DAY_TYPE\"].apply(lambda x : int(x == 'B'))\n",
    "df['day_C'] = df[\"DAY_TYPE\"].apply(lambda x : int(x == 'C'))"
   ]
  },
  {
   "cell_type": "code",
   "execution_count": 9,
   "id": "02269b48",
   "metadata": {},
   "outputs": [],
   "source": [
    "df = df.loc[df['MISSING_DATA'] == False]\n",
    "df = df.loc[df['target'] > 0]\n"
   ]
  },
  {
   "cell_type": "code",
   "execution_count": 10,
   "id": "c20f7e37",
   "metadata": {},
   "outputs": [
    {
     "name": "stdout",
     "output_type": "stream",
     "text": [
      "mean=732.0452 median=615.0 std=683.1688232421875\n"
     ]
    }
   ],
   "source": [
    "mean, std = df[\"target\"].mean(), df[\"target\"].std()\n",
    "median = df[\"target\"].median()\n",
    "print(f\"{mean=} {median=} {std=}\")\n",
    "#df = df[df[\"target\"] < mean + 3 * std]\n"
   ]
  },
  {
   "cell_type": "code",
   "execution_count": 11,
   "id": "3cacd476",
   "metadata": {},
   "outputs": [],
   "source": [
    "def one_hot(str):\n",
    "    if str == 'A':\n",
    "        return [1,0,0]\n",
    "    elif str == 'B':\n",
    "        return [0,1,0]\n",
    "    elif str == 'C':\n",
    "        return [0,0,1]\n",
    "    else:\n",
    "        return None"
   ]
  },
  {
   "cell_type": "code",
   "execution_count": 12,
   "id": "b0b346c6",
   "metadata": {},
   "outputs": [],
   "source": [
    "from datetime import datetime\n",
    "def parse_hour(x):\n",
    "    dt = datetime.fromtimestamp(x)\n",
    "    return dt.hour"
   ]
  },
  {
   "cell_type": "code",
   "execution_count": 13,
   "id": "03c4495e",
   "metadata": {},
   "outputs": [],
   "source": [
    "def parse_month(x):\n",
    "    dt = datetime.fromtimestamp(x)\n",
    "    return dt.month"
   ]
  },
  {
   "cell_type": "code",
   "execution_count": 14,
   "id": "df183f46",
   "metadata": {},
   "outputs": [],
   "source": [
    "def parse_year(x):\n",
    "    dt = datetime.fromtimestamp(x)\n",
    "    return dt.year"
   ]
  },
  {
   "cell_type": "code",
   "execution_count": 15,
   "id": "3fc0352e",
   "metadata": {},
   "outputs": [],
   "source": [
    "def parse_day(x):\n",
    "    dt = datetime.fromtimestamp(x)\n",
    "    return dt.weekday()"
   ]
  },
  {
   "cell_type": "code",
   "execution_count": 16,
   "id": "2f9d4d58",
   "metadata": {},
   "outputs": [],
   "source": [
    "df['TIME'] = df['TIMESTAMP'].apply(parse_hour)\n",
    "df['DAY'] = df['TIMESTAMP'].apply(parse_day)\n",
    "df['MONTH'] = df['TIMESTAMP'].apply(parse_month)\n",
    "df['YEAR'] = df['TIMESTAMP'].apply(parse_year)"
   ]
  },
  {
   "cell_type": "code",
   "execution_count": 17,
   "id": "ea51aff6",
   "metadata": {},
   "outputs": [
    {
     "data": {
      "text/plain": [
       "787.3528"
      ]
     },
     "execution_count": 17,
     "metadata": {},
     "output_type": "execute_result"
    }
   ],
   "source": [
    "df_slice = df[df['ORIGIN_STAND'].isna()]\n",
    "stand_nan_mean = df_slice['target'].mean()\n",
    "stand_nan_mean"
   ]
  },
  {
   "cell_type": "code",
   "execution_count": 18,
   "id": "e1b38a74",
   "metadata": {},
   "outputs": [],
   "source": [
    "taxi_ids = set()\n",
    "for ind, r in df.iterrows():\n",
    "    taxi_ids.add(r['TAXI_ID'])\n",
    "taxi_id_to_mean = {}\n",
    "for i in taxi_ids:\n",
    "    taxi_id_to_mean[i] = df[df['TAXI_ID'] == i]['target'].mean()"
   ]
  },
  {
   "cell_type": "code",
   "execution_count": 19,
   "id": "adbd9af8",
   "metadata": {},
   "outputs": [],
   "source": [
    "stands = set()\n",
    "stand_to_mean = {}\n",
    "df_temp = df[~df['ORIGIN_STAND'].isna()]\n",
    "for ind, r in df_temp.iterrows():\n",
    "    stands.add(r['ORIGIN_STAND'])\n",
    "for i in stands:\n",
    "    stand_to_mean[i] = df[df['ORIGIN_STAND'] == i]['target'].mean()"
   ]
  },
  {
   "cell_type": "code",
   "execution_count": 20,
   "id": "2efe61a7",
   "metadata": {},
   "outputs": [],
   "source": [
    "def apply_mean(taxi_id):\n",
    "    return taxi_id_to_mean[taxi_id]"
   ]
  },
  {
   "cell_type": "code",
   "execution_count": 21,
   "id": "e5a37643",
   "metadata": {},
   "outputs": [],
   "source": [
    "def apply_mean_stand(stand):\n",
    "    if pd.isna(stand):\n",
    "        return stand_nan_mean\n",
    "    else:\n",
    "        return stand_to_mean[stand]"
   ]
  },
  {
   "cell_type": "code",
   "execution_count": 22,
   "id": "9e2feef0",
   "metadata": {},
   "outputs": [
    {
     "data": {
      "text/plain": [
       "True"
      ]
     },
     "execution_count": 22,
     "metadata": {},
     "output_type": "execute_result"
    }
   ],
   "source": [
    "pd.isna(df.loc[0]['ORIGIN_STAND'])"
   ]
  },
  {
   "cell_type": "code",
   "execution_count": 23,
   "id": "70de16dd",
   "metadata": {},
   "outputs": [
    {
     "data": {
      "text/html": [
       "<div>\n",
       "<style scoped>\n",
       "    .dataframe tbody tr th:only-of-type {\n",
       "        vertical-align: middle;\n",
       "    }\n",
       "\n",
       "    .dataframe tbody tr th {\n",
       "        vertical-align: top;\n",
       "    }\n",
       "\n",
       "    .dataframe thead th {\n",
       "        text-align: right;\n",
       "    }\n",
       "</style>\n",
       "<table border=\"1\" class=\"dataframe\">\n",
       "  <thead>\n",
       "    <tr style=\"text-align: right;\">\n",
       "      <th></th>\n",
       "      <th>TRIP_ID</th>\n",
       "      <th>CALL_TYPE</th>\n",
       "      <th>ORIGIN_CALL</th>\n",
       "      <th>ORIGIN_STAND</th>\n",
       "      <th>TAXI_ID</th>\n",
       "      <th>TIMESTAMP</th>\n",
       "      <th>DAY_TYPE</th>\n",
       "      <th>MISSING_DATA</th>\n",
       "      <th>POLYLINE</th>\n",
       "      <th>target</th>\n",
       "      <th>...</th>\n",
       "      <th>call_C</th>\n",
       "      <th>day_A</th>\n",
       "      <th>day_B</th>\n",
       "      <th>day_C</th>\n",
       "      <th>TIME</th>\n",
       "      <th>DAY</th>\n",
       "      <th>MONTH</th>\n",
       "      <th>YEAR</th>\n",
       "      <th>TAXI_ID_MEAN</th>\n",
       "      <th>STAND_MEAN</th>\n",
       "    </tr>\n",
       "  </thead>\n",
       "  <tbody>\n",
       "    <tr>\n",
       "      <th>0</th>\n",
       "      <td>1372636858620000589</td>\n",
       "      <td>C</td>\n",
       "      <td>NaN</td>\n",
       "      <td>NaN</td>\n",
       "      <td>20000589</td>\n",
       "      <td>1372636858</td>\n",
       "      <td>A</td>\n",
       "      <td>False</td>\n",
       "      <td>[[-8.618643,41.141412],[-8.618499,41.141376],[...</td>\n",
       "      <td>330.0</td>\n",
       "      <td>...</td>\n",
       "      <td>1</td>\n",
       "      <td>1</td>\n",
       "      <td>0</td>\n",
       "      <td>0</td>\n",
       "      <td>0</td>\n",
       "      <td>0</td>\n",
       "      <td>7</td>\n",
       "      <td>2013</td>\n",
       "      <td>694.473022</td>\n",
       "      <td>787.352783</td>\n",
       "    </tr>\n",
       "    <tr>\n",
       "      <th>1</th>\n",
       "      <td>1372637303620000596</td>\n",
       "      <td>B</td>\n",
       "      <td>NaN</td>\n",
       "      <td>7.0</td>\n",
       "      <td>20000596</td>\n",
       "      <td>1372637303</td>\n",
       "      <td>A</td>\n",
       "      <td>False</td>\n",
       "      <td>[[-8.639847,41.159826],[-8.640351,41.159871],[...</td>\n",
       "      <td>270.0</td>\n",
       "      <td>...</td>\n",
       "      <td>0</td>\n",
       "      <td>1</td>\n",
       "      <td>0</td>\n",
       "      <td>0</td>\n",
       "      <td>0</td>\n",
       "      <td>0</td>\n",
       "      <td>7</td>\n",
       "      <td>2013</td>\n",
       "      <td>728.770874</td>\n",
       "      <td>656.767151</td>\n",
       "    </tr>\n",
       "    <tr>\n",
       "      <th>2</th>\n",
       "      <td>1372636951620000320</td>\n",
       "      <td>C</td>\n",
       "      <td>NaN</td>\n",
       "      <td>NaN</td>\n",
       "      <td>20000320</td>\n",
       "      <td>1372636951</td>\n",
       "      <td>A</td>\n",
       "      <td>False</td>\n",
       "      <td>[[-8.612964,41.140359],[-8.613378,41.14035],[-...</td>\n",
       "      <td>960.0</td>\n",
       "      <td>...</td>\n",
       "      <td>1</td>\n",
       "      <td>1</td>\n",
       "      <td>0</td>\n",
       "      <td>0</td>\n",
       "      <td>0</td>\n",
       "      <td>0</td>\n",
       "      <td>7</td>\n",
       "      <td>2013</td>\n",
       "      <td>707.499146</td>\n",
       "      <td>787.352783</td>\n",
       "    </tr>\n",
       "    <tr>\n",
       "      <th>3</th>\n",
       "      <td>1372636854620000520</td>\n",
       "      <td>C</td>\n",
       "      <td>NaN</td>\n",
       "      <td>NaN</td>\n",
       "      <td>20000520</td>\n",
       "      <td>1372636854</td>\n",
       "      <td>A</td>\n",
       "      <td>False</td>\n",
       "      <td>[[-8.574678,41.151951],[-8.574705,41.151942],[...</td>\n",
       "      <td>630.0</td>\n",
       "      <td>...</td>\n",
       "      <td>1</td>\n",
       "      <td>1</td>\n",
       "      <td>0</td>\n",
       "      <td>0</td>\n",
       "      <td>0</td>\n",
       "      <td>0</td>\n",
       "      <td>7</td>\n",
       "      <td>2013</td>\n",
       "      <td>808.640808</td>\n",
       "      <td>787.352783</td>\n",
       "    </tr>\n",
       "    <tr>\n",
       "      <th>4</th>\n",
       "      <td>1372637091620000337</td>\n",
       "      <td>C</td>\n",
       "      <td>NaN</td>\n",
       "      <td>NaN</td>\n",
       "      <td>20000337</td>\n",
       "      <td>1372637091</td>\n",
       "      <td>A</td>\n",
       "      <td>False</td>\n",
       "      <td>[[-8.645994,41.18049],[-8.645949,41.180517],[-...</td>\n",
       "      <td>420.0</td>\n",
       "      <td>...</td>\n",
       "      <td>1</td>\n",
       "      <td>1</td>\n",
       "      <td>0</td>\n",
       "      <td>0</td>\n",
       "      <td>0</td>\n",
       "      <td>0</td>\n",
       "      <td>7</td>\n",
       "      <td>2013</td>\n",
       "      <td>758.926819</td>\n",
       "      <td>787.352783</td>\n",
       "    </tr>\n",
       "  </tbody>\n",
       "</table>\n",
       "<p>5 rows × 22 columns</p>\n",
       "</div>"
      ],
      "text/plain": [
       "               TRIP_ID CALL_TYPE  ORIGIN_CALL  ORIGIN_STAND   TAXI_ID  \\\n",
       "0  1372636858620000589         C          NaN           NaN  20000589   \n",
       "1  1372637303620000596         B          NaN           7.0  20000596   \n",
       "2  1372636951620000320         C          NaN           NaN  20000320   \n",
       "3  1372636854620000520         C          NaN           NaN  20000520   \n",
       "4  1372637091620000337         C          NaN           NaN  20000337   \n",
       "\n",
       "    TIMESTAMP DAY_TYPE  MISSING_DATA  \\\n",
       "0  1372636858        A         False   \n",
       "1  1372637303        A         False   \n",
       "2  1372636951        A         False   \n",
       "3  1372636854        A         False   \n",
       "4  1372637091        A         False   \n",
       "\n",
       "                                            POLYLINE  target  ...  call_C  \\\n",
       "0  [[-8.618643,41.141412],[-8.618499,41.141376],[...   330.0  ...       1   \n",
       "1  [[-8.639847,41.159826],[-8.640351,41.159871],[...   270.0  ...       0   \n",
       "2  [[-8.612964,41.140359],[-8.613378,41.14035],[-...   960.0  ...       1   \n",
       "3  [[-8.574678,41.151951],[-8.574705,41.151942],[...   630.0  ...       1   \n",
       "4  [[-8.645994,41.18049],[-8.645949,41.180517],[-...   420.0  ...       1   \n",
       "\n",
       "   day_A  day_B  day_C  TIME  DAY  MONTH  YEAR  TAXI_ID_MEAN  STAND_MEAN  \n",
       "0      1      0      0     0    0      7  2013    694.473022  787.352783  \n",
       "1      1      0      0     0    0      7  2013    728.770874  656.767151  \n",
       "2      1      0      0     0    0      7  2013    707.499146  787.352783  \n",
       "3      1      0      0     0    0      7  2013    808.640808  787.352783  \n",
       "4      1      0      0     0    0      7  2013    758.926819  787.352783  \n",
       "\n",
       "[5 rows x 22 columns]"
      ]
     },
     "execution_count": 23,
     "metadata": {},
     "output_type": "execute_result"
    }
   ],
   "source": [
    "df['TAXI_ID_MEAN'] = df['TAXI_ID'].apply(apply_mean)\n",
    "df['STAND_MEAN'] = df['ORIGIN_STAND'].apply(apply_mean_stand)\n",
    "df.head()"
   ]
  },
  {
   "cell_type": "code",
   "execution_count": 24,
   "id": "588765cf",
   "metadata": {},
   "outputs": [
    {
     "data": {
      "text/plain": [
       "array(['A'], dtype=object)"
      ]
     },
     "execution_count": 24,
     "metadata": {},
     "output_type": "execute_result"
    }
   ],
   "source": [
    "df['DAY_TYPE'].unique()"
   ]
  },
  {
   "cell_type": "code",
   "execution_count": 25,
   "id": "c5410e6a",
   "metadata": {},
   "outputs": [],
   "source": [
    "#df['mon'] = df[\"DAY\"].apply(lambda x : int(x == 0))\n",
    "#df['tues'] = df[\"DAY\"].apply(lambda x : int(x == 1))\n",
    "#df['wednes'] = df[\"DAY\"].apply(lambda x : int(x == 2))\n",
    "#df['thurs'] = df[\"DAY\"].apply(lambda x : int(x == 3))\n",
    "#df['fri'] = df[\"DAY\"].apply(lambda x : int(x == 4))\n",
    "#df['satur'] = df[\"DAY\"].apply(lambda x : int(x == 5))\n",
    "#df['sun'] = df[\"DAY\"].apply(lambda x : int(x == 6))\n",
    "df['weekday'] = df[\"DAY\"].apply(lambda x : int(x <= 4))\n",
    "df['weekend'] = df[\"DAY\"].apply(lambda x : int(x >= 5))"
   ]
  },
  {
   "cell_type": "code",
   "execution_count": 26,
   "id": "09a2a60d",
   "metadata": {},
   "outputs": [],
   "source": [
    "def apply_rush_hour(x):\n",
    "    if (8 <= x and x <= 10) or (17 <= x and x <= 19):\n",
    "        return 1\n",
    "    return 0"
   ]
  },
  {
   "cell_type": "code",
   "execution_count": 27,
   "id": "0eaf5468",
   "metadata": {},
   "outputs": [],
   "source": [
    "def apply_no_rush(x):\n",
    "    if (8 <= x and x <= 10) or (17 <= x and x <= 19):\n",
    "        return 0\n",
    "    return 1"
   ]
  },
  {
   "cell_type": "code",
   "execution_count": 28,
   "id": "3b989353",
   "metadata": {},
   "outputs": [],
   "source": [
    "df['rush'] = df['TIME'].apply(apply_rush_hour)\n",
    "df['no_rush'] = df['TIME'].apply(apply_no_rush)"
   ]
  },
  {
   "cell_type": "code",
   "execution_count": 29,
   "id": "da99a7f3",
   "metadata": {},
   "outputs": [],
   "source": [
    "def normalize(col_name):\n",
    "    df[col_name] = np.float32((df[col_name] - df[col_name].mean())/df[col_name].std())"
   ]
  },
  {
   "cell_type": "code",
   "execution_count": 30,
   "id": "e85cc21e",
   "metadata": {},
   "outputs": [],
   "source": [
    "def parse_num(str, index):\n",
    "    comma_pos = str.find(',')\n",
    "    if comma_pos == -1:\n",
    "        return None\n",
    "    if index == 0:\n",
    "        return np.float32(str[2:comma_pos])\n",
    "    else:\n",
    "        return np.float32(str[comma_pos + 1:str.find(']')])"
   ]
  },
  {
   "cell_type": "code",
   "execution_count": 31,
   "id": "8d6272ad",
   "metadata": {},
   "outputs": [],
   "source": [
    "df['Init_longitude'] = df['POLYLINE'].apply(lambda x : parse_num(x,0))\n",
    "df['Init_latitude'] = df['POLYLINE'].apply(lambda x : parse_num(x,1))\n",
    "df = df.loc[df['Init_longitude'] != None]\n",
    "df = df.loc[df['Init_latitude'] != None]"
   ]
  },
  {
   "cell_type": "code",
   "execution_count": 32,
   "id": "f0fb8b4f",
   "metadata": {},
   "outputs": [],
   "source": [
    "train_long_mean = df['Init_longitude'].mean()\n",
    "train_lat_mean = df['Init_latitude'].mean()\n",
    "train_long_std = df['Init_longitude'].std()\n",
    "train_lat_std = df['Init_latitude'].std()\n",
    "\n",
    "train_month_mean = df['MONTH'].mean()\n",
    "train_year_mean = df['YEAR'].mean()\n",
    "train_month_std = df['MONTH'].std()\n",
    "train_year_std = df['YEAR'].std()\n",
    "\n",
    "train_taxi_mean = df['TAXI_ID_MEAN'].mean()\n",
    "train_taxi_std = df['TAXI_ID_MEAN'].std()\n",
    "\n",
    "train_stand_mean = df['STAND_MEAN'].mean()\n",
    "train_stand_std = df['STAND_MEAN'].std()"
   ]
  },
  {
   "cell_type": "code",
   "execution_count": 33,
   "id": "ffad3d07",
   "metadata": {},
   "outputs": [],
   "source": [
    "normalize('Init_longitude')\n",
    "normalize('Init_latitude')\n",
    "normalize('TAXI_ID_MEAN')\n",
    "normalize('STAND_MEAN')\n",
    "normalize('YEAR')\n",
    "normalize('MONTH')"
   ]
  },
  {
   "cell_type": "code",
   "execution_count": 34,
   "id": "39e72f28",
   "metadata": {},
   "outputs": [
    {
     "data": {
      "text/html": [
       "<div>\n",
       "<style scoped>\n",
       "    .dataframe tbody tr th:only-of-type {\n",
       "        vertical-align: middle;\n",
       "    }\n",
       "\n",
       "    .dataframe tbody tr th {\n",
       "        vertical-align: top;\n",
       "    }\n",
       "\n",
       "    .dataframe thead th {\n",
       "        text-align: right;\n",
       "    }\n",
       "</style>\n",
       "<table border=\"1\" class=\"dataframe\">\n",
       "  <thead>\n",
       "    <tr style=\"text-align: right;\">\n",
       "      <th></th>\n",
       "      <th>TRIP_ID</th>\n",
       "      <th>CALL_TYPE</th>\n",
       "      <th>ORIGIN_CALL</th>\n",
       "      <th>ORIGIN_STAND</th>\n",
       "      <th>TAXI_ID</th>\n",
       "      <th>TIMESTAMP</th>\n",
       "      <th>DAY_TYPE</th>\n",
       "      <th>MISSING_DATA</th>\n",
       "      <th>POLYLINE</th>\n",
       "      <th>target</th>\n",
       "      <th>...</th>\n",
       "      <th>MONTH</th>\n",
       "      <th>YEAR</th>\n",
       "      <th>TAXI_ID_MEAN</th>\n",
       "      <th>STAND_MEAN</th>\n",
       "      <th>weekday</th>\n",
       "      <th>weekend</th>\n",
       "      <th>rush</th>\n",
       "      <th>no_rush</th>\n",
       "      <th>Init_longitude</th>\n",
       "      <th>Init_latitude</th>\n",
       "    </tr>\n",
       "  </thead>\n",
       "  <tbody>\n",
       "    <tr>\n",
       "      <th>0</th>\n",
       "      <td>1372636858620000589</td>\n",
       "      <td>C</td>\n",
       "      <td>NaN</td>\n",
       "      <td>NaN</td>\n",
       "      <td>20000589</td>\n",
       "      <td>1372636858</td>\n",
       "      <td>A</td>\n",
       "      <td>False</td>\n",
       "      <td>[[-8.618643,41.141412],[-8.618499,41.141376],[...</td>\n",
       "      <td>330.0</td>\n",
       "      <td>...</td>\n",
       "      <td>0.119626</td>\n",
       "      <td>-0.993774</td>\n",
       "      <td>-0.270042</td>\n",
       "      <td>0.741063</td>\n",
       "      <td>1</td>\n",
       "      <td>0</td>\n",
       "      <td>0</td>\n",
       "      <td>1</td>\n",
       "      <td>-0.011017</td>\n",
       "      <td>-0.036741</td>\n",
       "    </tr>\n",
       "    <tr>\n",
       "      <th>1</th>\n",
       "      <td>1372637303620000596</td>\n",
       "      <td>B</td>\n",
       "      <td>NaN</td>\n",
       "      <td>7.0</td>\n",
       "      <td>20000596</td>\n",
       "      <td>1372637303</td>\n",
       "      <td>A</td>\n",
       "      <td>False</td>\n",
       "      <td>[[-8.639847,41.159826],[-8.640351,41.159871],[...</td>\n",
       "      <td>270.0</td>\n",
       "      <td>...</td>\n",
       "      <td>0.119626</td>\n",
       "      <td>-0.993774</td>\n",
       "      <td>-0.023533</td>\n",
       "      <td>-1.008637</td>\n",
       "      <td>1</td>\n",
       "      <td>0</td>\n",
       "      <td>0</td>\n",
       "      <td>1</td>\n",
       "      <td>-0.185354</td>\n",
       "      <td>0.006610</td>\n",
       "    </tr>\n",
       "    <tr>\n",
       "      <th>2</th>\n",
       "      <td>1372636951620000320</td>\n",
       "      <td>C</td>\n",
       "      <td>NaN</td>\n",
       "      <td>NaN</td>\n",
       "      <td>20000320</td>\n",
       "      <td>1372636951</td>\n",
       "      <td>A</td>\n",
       "      <td>False</td>\n",
       "      <td>[[-8.612964,41.140359],[-8.613378,41.14035],[-...</td>\n",
       "      <td>960.0</td>\n",
       "      <td>...</td>\n",
       "      <td>0.119626</td>\n",
       "      <td>-0.993774</td>\n",
       "      <td>-0.176419</td>\n",
       "      <td>0.741063</td>\n",
       "      <td>1</td>\n",
       "      <td>0</td>\n",
       "      <td>0</td>\n",
       "      <td>1</td>\n",
       "      <td>0.035677</td>\n",
       "      <td>-0.039220</td>\n",
       "    </tr>\n",
       "    <tr>\n",
       "      <th>3</th>\n",
       "      <td>1372636854620000520</td>\n",
       "      <td>C</td>\n",
       "      <td>NaN</td>\n",
       "      <td>NaN</td>\n",
       "      <td>20000520</td>\n",
       "      <td>1372636854</td>\n",
       "      <td>A</td>\n",
       "      <td>False</td>\n",
       "      <td>[[-8.574678,41.151951],[-8.574705,41.151942],[...</td>\n",
       "      <td>630.0</td>\n",
       "      <td>...</td>\n",
       "      <td>0.119626</td>\n",
       "      <td>-0.993774</td>\n",
       "      <td>0.550516</td>\n",
       "      <td>0.741063</td>\n",
       "      <td>1</td>\n",
       "      <td>0</td>\n",
       "      <td>0</td>\n",
       "      <td>1</td>\n",
       "      <td>0.350455</td>\n",
       "      <td>-0.011927</td>\n",
       "    </tr>\n",
       "    <tr>\n",
       "      <th>4</th>\n",
       "      <td>1372637091620000337</td>\n",
       "      <td>C</td>\n",
       "      <td>NaN</td>\n",
       "      <td>NaN</td>\n",
       "      <td>20000337</td>\n",
       "      <td>1372637091</td>\n",
       "      <td>A</td>\n",
       "      <td>False</td>\n",
       "      <td>[[-8.645994,41.18049],[-8.645949,41.180517],[-...</td>\n",
       "      <td>420.0</td>\n",
       "      <td>...</td>\n",
       "      <td>0.119626</td>\n",
       "      <td>-0.993774</td>\n",
       "      <td>0.193207</td>\n",
       "      <td>0.741063</td>\n",
       "      <td>1</td>\n",
       "      <td>0</td>\n",
       "      <td>0</td>\n",
       "      <td>1</td>\n",
       "      <td>-0.235897</td>\n",
       "      <td>0.055260</td>\n",
       "    </tr>\n",
       "  </tbody>\n",
       "</table>\n",
       "<p>5 rows × 28 columns</p>\n",
       "</div>"
      ],
      "text/plain": [
       "               TRIP_ID CALL_TYPE  ORIGIN_CALL  ORIGIN_STAND   TAXI_ID  \\\n",
       "0  1372636858620000589         C          NaN           NaN  20000589   \n",
       "1  1372637303620000596         B          NaN           7.0  20000596   \n",
       "2  1372636951620000320         C          NaN           NaN  20000320   \n",
       "3  1372636854620000520         C          NaN           NaN  20000520   \n",
       "4  1372637091620000337         C          NaN           NaN  20000337   \n",
       "\n",
       "    TIMESTAMP DAY_TYPE  MISSING_DATA  \\\n",
       "0  1372636858        A         False   \n",
       "1  1372637303        A         False   \n",
       "2  1372636951        A         False   \n",
       "3  1372636854        A         False   \n",
       "4  1372637091        A         False   \n",
       "\n",
       "                                            POLYLINE  target  ...     MONTH  \\\n",
       "0  [[-8.618643,41.141412],[-8.618499,41.141376],[...   330.0  ...  0.119626   \n",
       "1  [[-8.639847,41.159826],[-8.640351,41.159871],[...   270.0  ...  0.119626   \n",
       "2  [[-8.612964,41.140359],[-8.613378,41.14035],[-...   960.0  ...  0.119626   \n",
       "3  [[-8.574678,41.151951],[-8.574705,41.151942],[...   630.0  ...  0.119626   \n",
       "4  [[-8.645994,41.18049],[-8.645949,41.180517],[-...   420.0  ...  0.119626   \n",
       "\n",
       "       YEAR  TAXI_ID_MEAN  STAND_MEAN  weekday  weekend  rush  no_rush  \\\n",
       "0 -0.993774     -0.270042    0.741063        1        0     0        1   \n",
       "1 -0.993774     -0.023533   -1.008637        1        0     0        1   \n",
       "2 -0.993774     -0.176419    0.741063        1        0     0        1   \n",
       "3 -0.993774      0.550516    0.741063        1        0     0        1   \n",
       "4 -0.993774      0.193207    0.741063        1        0     0        1   \n",
       "\n",
       "   Init_longitude  Init_latitude  \n",
       "0       -0.011017      -0.036741  \n",
       "1       -0.185354       0.006610  \n",
       "2        0.035677      -0.039220  \n",
       "3        0.350455      -0.011927  \n",
       "4       -0.235897       0.055260  \n",
       "\n",
       "[5 rows x 28 columns]"
      ]
     },
     "execution_count": 34,
     "metadata": {},
     "output_type": "execute_result"
    }
   ],
   "source": [
    "df.head()"
   ]
  },
  {
   "cell_type": "code",
   "execution_count": 35,
   "id": "2fe0395a",
   "metadata": {},
   "outputs": [],
   "source": [
    "train_set = torch.reshape(torch.tensor(df['call_A'].values),(-1,1))\n",
    "#col_list = ['call_B', 'call_C','day_A', 'day_B','day_C','TIME','DAY','Init_longitude', 'Init_latitude', 'TAXI_ID_MEAN']\n",
    "col_list = ['call_B', 'call_C','rush', 'no_rush','weekday','weekend','Init_longitude', 'Init_latitude', 'TAXI_ID_MEAN', 'STAND_MEAN','YEAR','MONTH']\n",
    "for col_name in col_list:\n",
    "#     print(train_set.dtype)\n",
    "    train_set = torch.cat((train_set,torch.reshape(torch.from_numpy(df[col_name].values),(-1,1))),1)"
   ]
  },
  {
   "cell_type": "code",
   "execution_count": 36,
   "id": "a90451ef",
   "metadata": {},
   "outputs": [],
   "source": [
    "train_set = train_set.type('torch.FloatTensor')"
   ]
  },
  {
   "cell_type": "code",
   "execution_count": 37,
   "id": "3c148dac",
   "metadata": {},
   "outputs": [],
   "source": [
    "target_set = torch.reshape(torch.tensor(df['target'].values),(-1,1))"
   ]
  },
  {
   "cell_type": "code",
   "execution_count": 38,
   "id": "45409c19",
   "metadata": {},
   "outputs": [
    {
     "data": {
      "text/plain": [
       "tensor([ 0.0000,  0.0000,  1.0000,  0.0000,  1.0000,  1.0000,  0.0000, -0.0110,\n",
       "        -0.0367, -0.2700,  0.7411, -0.9938,  0.1196])"
      ]
     },
     "execution_count": 38,
     "metadata": {},
     "output_type": "execute_result"
    }
   ],
   "source": [
    "train_set[0]"
   ]
  },
  {
   "cell_type": "code",
   "execution_count": 39,
   "id": "8456e8c6",
   "metadata": {},
   "outputs": [
    {
     "data": {
      "text/plain": [
       "13"
      ]
     },
     "execution_count": 39,
     "metadata": {},
     "output_type": "execute_result"
    }
   ],
   "source": [
    "len(train_set[0])"
   ]
  },
  {
   "cell_type": "markdown",
   "id": "36a1016d",
   "metadata": {},
   "source": [
    "train_set_linear = torch.reshape(torch.tensor(df['call_A'].values),(-1,1))\n",
    "col_list = ['call_B', 'call_C','TAXI_ID', 'Init_longitude', 'Init_latitude']\n",
    "for col_name in col_list:\n",
    "#     print(train_set.dtype)\n",
    "    train_set_linear = torch.cat((train_set_linear,torch.reshape(torch.from_numpy(df[col_name].values),(-1,1))),1)"
   ]
  },
  {
   "cell_type": "markdown",
   "id": "bb78a174",
   "metadata": {},
   "source": [
    "train_set_linear = train_set_linear.type('torch.FloatTensor')"
   ]
  },
  {
   "cell_type": "markdown",
   "id": "db9adc88",
   "metadata": {},
   "source": [
    "model = torch.nn.Sequential(\n",
    "  torch.nn.Linear(6, 1),\n",
    ").to(device)\n",
    "\n",
    "# Define Loss Function / Objective Function\n",
    "loss_fn = torch.nn.MSELoss()\n",
    "\n",
    "# Define optimizer (this will perform your parameter updates use)\n",
    "lr = 5e-3\n",
    "opt = torch.optim.SGD(model.parameters(), lr=lr)\n",
    "# torch.optim.Adam"
   ]
  },
  {
   "cell_type": "markdown",
   "id": "ee85b1b5",
   "metadata": {},
   "source": [
    "train_err = []\n",
    "test_err = []\n",
    "parameters = []\n",
    "for i in range(10):\n",
    "    model.train()\n",
    "\n",
    "    y_pred = model(train_set_linear.to(device)) # Compute model outputs\n",
    "    loss = loss_fn(y_pred, target_set.to(device)) # Compute MSE\n",
    "    opt.zero_grad() # Must reset the gradients every step. Otherwise, gradients from previous iterations would cause interference!!!\n",
    "    loss.backward() # Compute gradients of all parameters (our model) with respect to our computed loss value (a singular value)\n",
    "    opt.step() # One gradient step\n",
    "\n",
    "    train_err.append(loss.item())\n",
    "\n",
    "    model.eval()\n",
    "#     with torch.no_grad():\n",
    "#     test_err.append(loss_fn(model(X_test), y_test).item())"
   ]
  },
  {
   "cell_type": "markdown",
   "id": "d6d0214d",
   "metadata": {},
   "source": [
    "model[0].weight"
   ]
  },
  {
   "cell_type": "code",
   "execution_count": 40,
   "id": "35b575bf",
   "metadata": {},
   "outputs": [],
   "source": [
    "class MLP_Regressor(torch.nn.Module):\n",
    "    def __init__(self, in_dim, hidden_dim, out_dim = 1):\n",
    "        super(MLP_Regressor, self).__init__() #Refers to the fact that this is a subclass of nn.Module and is inheriting all methods\n",
    "        \n",
    "        out_dim = 1\n",
    "        \n",
    "        self.in_dim = in_dim\n",
    "        self.hidden_dim = hidden_dim\n",
    "        self.out_dim = out_dim\n",
    "                \n",
    "        self.fc = torch.nn.Sequential(\n",
    "            nn.Linear(self.in_dim, self.hidden_dim * 2),\n",
    "            nn.SiLU(),\n",
    "            nn.Linear(self.hidden_dim * 2, self.hidden_dim),\n",
    "            nn.SiLU(),\n",
    "            nn.Linear(self.hidden_dim, self.in_dim), \n",
    "            nn.SiLU(),\n",
    "            nn.Linear(self.in_dim, self.out_dim)\n",
    "        )\n",
    "\n",
    "    \n",
    "    def forward(self, x):\n",
    "        x = self.fc(x)\n",
    "        x = x.squeeze(1)\n",
    "        return x"
   ]
  },
  {
   "cell_type": "code",
   "execution_count": 41,
   "id": "893b5f36",
   "metadata": {},
   "outputs": [],
   "source": [
    "targets_mlp = torch.reshape(torch.from_numpy(df['target'].values),(-1,1))"
   ]
  },
  {
   "cell_type": "code",
   "execution_count": 42,
   "id": "2492dd92",
   "metadata": {},
   "outputs": [
    {
     "name": "stdout",
     "output_type": "stream",
     "text": [
      "1339321\n",
      "334831\n"
     ]
    }
   ],
   "source": [
    "batch_size = 32\n",
    "lst_all = list(zip(train_set, targets_mlp))\n",
    "np.random.shuffle(lst_all)\n",
    "lst_train = lst_all[:int(len(lst_all) * 0.8)]\n",
    "lst_valid = lst_all[int(len(lst_all) * 0.8):]\n",
    "len_train = len(lst_train)\n",
    "print(len(lst_train))\n",
    "print(len(lst_valid))\n",
    "#print(lst_train[0])\n",
    "trainloader = torch.utils.data.DataLoader(lst_train , batch_size=batch_size, shuffle=True, num_workers=2)\n",
    "validloader = torch.utils.data.DataLoader(lst_valid , batch_size=batch_size, shuffle=False, num_workers=2)"
   ]
  },
  {
   "cell_type": "code",
   "execution_count": 43,
   "id": "d830dd56",
   "metadata": {},
   "outputs": [
    {
     "data": {
      "text/plain": [
       "(tensor([ 0.0000,  1.0000,  0.0000,  0.0000,  1.0000,  1.0000,  0.0000,  0.1484,\n",
       "         -0.0185,  0.9802, -1.2669,  1.0063, -1.6415]),\n",
       " tensor([1125.]))"
      ]
     },
     "execution_count": 43,
     "metadata": {},
     "output_type": "execute_result"
    }
   ],
   "source": [
    "lst_train[-1]"
   ]
  },
  {
   "cell_type": "code",
   "execution_count": 48,
   "id": "a03e53fb",
   "metadata": {},
   "outputs": [],
   "source": [
    "mlp_model = MLP_Regressor(13, 16, 1).to(device)\n",
    "lr_mlp = 5e-6\n",
    "optimizer = torch.optim.Adam(mlp_model.parameters(), lr = lr_mlp)\n",
    "criterion = nn.MSELoss()"
   ]
  },
  {
   "cell_type": "code",
   "execution_count": 49,
   "id": "e702d213",
   "metadata": {},
   "outputs": [],
   "source": [
    "def get_loss(X, y, model, criterion):\n",
    "    y_pred = model(X)\n",
    "    loss = criterion(y_pred, y)\n",
    "    loss = torch.sqrt(loss)\n",
    "    return loss"
   ]
  },
  {
   "cell_type": "code",
   "execution_count": 50,
   "id": "61716208",
   "metadata": {},
   "outputs": [],
   "source": [
    "def validate(dataloader, model, criterion):\n",
    "    valid_losses = []\n",
    "    with torch.no_grad():\n",
    "        for X, y in dataloader:\n",
    "            X, y = X.to(device), y.to(device)\n",
    "            loss = get_loss(X, y, model, criterion)\n",
    "            valid_losses.append(loss.item())\n",
    "    \n",
    "    return np.mean(valid_losses)"
   ]
  },
  {
   "cell_type": "code",
   "execution_count": null,
   "id": "108cf529",
   "metadata": {},
   "outputs": [],
   "source": [
    "from tqdm import tqdm\n",
    "epoch_loss = []\n",
    "valid_loss = np.inf\n",
    "for epoch in tqdm(range(10)):\n",
    "\n",
    "    running_loss = 0.0\n",
    "    losses = []\n",
    "    np.random.shuffle(lst_all)\n",
    "    lst_train = lst_all[:int(len(lst_all) * 0.8)]\n",
    "    lst_valid = lst_all[int(len(lst_all) * 0.8):]\n",
    "    len_train = len(lst_train)\n",
    "    trainloader = torch.utils.data.DataLoader(lst_train , batch_size=batch_size, shuffle=True, num_workers=2)\n",
    "    validloader = torch.utils.data.DataLoader(lst_valid , batch_size=batch_size, shuffle=False, num_workers=2)\n",
    "    for X, y in trainloader:\n",
    "        X, y = X.to(device), y.to(device)\n",
    "\n",
    "        # zero the parameter gradients\n",
    "        optimizer.zero_grad()\n",
    "\n",
    "        # forward + backward + optimize\n",
    "        loss = get_loss(X, y, mlp_model, criterion)\n",
    "        #RMSE\n",
    "        losses.append(loss.item())\n",
    "        loss.backward()\n",
    "        optimizer.step()\n",
    "\n",
    "        running_loss += loss.cpu().detach().numpy()\n",
    "\n",
    "    epoch_loss.append(running_loss)\n",
    "    v_loss = validate(validloader, mlp_model, criterion)\n",
    "    print(f'Train RMSE: {np.mean(losses)}')\n",
    "    print(f'Valid RMSE: {v_loss}')\n",
    "#     if v_loss > valid_loss or valid_loss - v_loss <= 5:\n",
    "#         break\n",
    "#     else:\n",
    "#         valid_loss = v_loss\n",
    "print('Finished Training')"
   ]
  },
  {
   "cell_type": "code",
   "execution_count": 52,
   "id": "e33f1b90",
   "metadata": {},
   "outputs": [],
   "source": [
    "stands = pd.read_csv(\"../metaData_taxistandsID_name_GPSlocation.csv\")\n",
    "stand_dict = {}\n",
    "stands.head()\n",
    "for r, s in stands.iterrows():\n",
    "    stand_dict[s['ID']] = (np.float32(s['Longitude']), np.float32(s['Latitude']))"
   ]
  },
  {
   "cell_type": "code",
   "execution_count": 53,
   "id": "45adb572",
   "metadata": {},
   "outputs": [],
   "source": [
    "df_test = pd.read_csv(\"../test_public.csv\")\n",
    "df_test['call_A'] = df_test[\"CALL_TYPE\"].apply(lambda x : int(x == 'A'))\n",
    "df_test['call_B'] = df_test[\"CALL_TYPE\"].apply(lambda x : int(x == 'B'))\n",
    "df_test['call_C'] = df_test[\"CALL_TYPE\"].apply(lambda x : int(x == 'C'))\n",
    "df_test['day_A'] = df_test[\"DAY_TYPE\"].apply(lambda x : int(x == 'A'))\n",
    "df_test['day_B'] = df_test[\"DAY_TYPE\"].apply(lambda x : int(x == 'B'))\n",
    "df_test['day_C'] = df_test[\"DAY_TYPE\"].apply(lambda x : int(x == 'C'))\n",
    "#df_test['TAXI_ID'] = (df_test['TAXI_ID'] - train_id_mean)/train_id_std\n",
    "df_test['TIME'] = df_test['TIMESTAMP'].apply(parse_hour)\n",
    "df_test['DAY'] = df_test['TIMESTAMP'].apply(parse_day)\n",
    "df_test['MONTH'] = df_test['TIMESTAMP'].apply(parse_month)\n",
    "df_test['YEAR'] = df_test['TIMESTAMP'].apply(parse_year)"
   ]
  },
  {
   "cell_type": "code",
   "execution_count": 54,
   "id": "ab8abe7e",
   "metadata": {},
   "outputs": [],
   "source": [
    "df_test['weekday'] = df_test[\"DAY\"].apply(lambda x : int(x <= 4))\n",
    "df_test['weekend'] = df_test[\"DAY\"].apply(lambda x : int(x >= 5))\n",
    "df_test['rush'] = df_test['TIME'].apply(apply_rush_hour)\n",
    "df_test['no_rush'] = df_test['TIME'].apply(apply_no_rush)"
   ]
  },
  {
   "cell_type": "code",
   "execution_count": 55,
   "id": "a4748b05",
   "metadata": {},
   "outputs": [],
   "source": [
    "def apply_mean_test(taxi_id):\n",
    "    if taxi_id in taxi_id_to_mean:\n",
    "        return taxi_id_to_mean[taxi_id]\n",
    "    else:\n",
    "        return train_id_mean"
   ]
  },
  {
   "cell_type": "code",
   "execution_count": 56,
   "id": "43f3e1e8",
   "metadata": {},
   "outputs": [
    {
     "data": {
      "text/html": [
       "<div>\n",
       "<style scoped>\n",
       "    .dataframe tbody tr th:only-of-type {\n",
       "        vertical-align: middle;\n",
       "    }\n",
       "\n",
       "    .dataframe tbody tr th {\n",
       "        vertical-align: top;\n",
       "    }\n",
       "\n",
       "    .dataframe thead th {\n",
       "        text-align: right;\n",
       "    }\n",
       "</style>\n",
       "<table border=\"1\" class=\"dataframe\">\n",
       "  <thead>\n",
       "    <tr style=\"text-align: right;\">\n",
       "      <th></th>\n",
       "      <th>TRIP_ID</th>\n",
       "      <th>CALL_TYPE</th>\n",
       "      <th>ORIGIN_CALL</th>\n",
       "      <th>ORIGIN_STAND</th>\n",
       "      <th>TAXI_ID</th>\n",
       "      <th>TIMESTAMP</th>\n",
       "      <th>DAY_TYPE</th>\n",
       "      <th>MISSING_DATA</th>\n",
       "      <th>call_A</th>\n",
       "      <th>call_B</th>\n",
       "      <th>...</th>\n",
       "      <th>day_B</th>\n",
       "      <th>day_C</th>\n",
       "      <th>TIME</th>\n",
       "      <th>DAY</th>\n",
       "      <th>MONTH</th>\n",
       "      <th>YEAR</th>\n",
       "      <th>weekday</th>\n",
       "      <th>weekend</th>\n",
       "      <th>rush</th>\n",
       "      <th>no_rush</th>\n",
       "    </tr>\n",
       "  </thead>\n",
       "  <tbody>\n",
       "    <tr>\n",
       "      <th>0</th>\n",
       "      <td>T1</td>\n",
       "      <td>B</td>\n",
       "      <td>NaN</td>\n",
       "      <td>15.0</td>\n",
       "      <td>20000542</td>\n",
       "      <td>1408039037</td>\n",
       "      <td>A</td>\n",
       "      <td>False</td>\n",
       "      <td>0</td>\n",
       "      <td>1</td>\n",
       "      <td>...</td>\n",
       "      <td>0</td>\n",
       "      <td>0</td>\n",
       "      <td>17</td>\n",
       "      <td>3</td>\n",
       "      <td>8</td>\n",
       "      <td>2014</td>\n",
       "      <td>1</td>\n",
       "      <td>0</td>\n",
       "      <td>1</td>\n",
       "      <td>0</td>\n",
       "    </tr>\n",
       "    <tr>\n",
       "      <th>1</th>\n",
       "      <td>T2</td>\n",
       "      <td>B</td>\n",
       "      <td>NaN</td>\n",
       "      <td>57.0</td>\n",
       "      <td>20000108</td>\n",
       "      <td>1408038611</td>\n",
       "      <td>A</td>\n",
       "      <td>False</td>\n",
       "      <td>0</td>\n",
       "      <td>1</td>\n",
       "      <td>...</td>\n",
       "      <td>0</td>\n",
       "      <td>0</td>\n",
       "      <td>17</td>\n",
       "      <td>3</td>\n",
       "      <td>8</td>\n",
       "      <td>2014</td>\n",
       "      <td>1</td>\n",
       "      <td>0</td>\n",
       "      <td>1</td>\n",
       "      <td>0</td>\n",
       "    </tr>\n",
       "    <tr>\n",
       "      <th>2</th>\n",
       "      <td>T3</td>\n",
       "      <td>B</td>\n",
       "      <td>NaN</td>\n",
       "      <td>15.0</td>\n",
       "      <td>20000370</td>\n",
       "      <td>1408038568</td>\n",
       "      <td>A</td>\n",
       "      <td>False</td>\n",
       "      <td>0</td>\n",
       "      <td>1</td>\n",
       "      <td>...</td>\n",
       "      <td>0</td>\n",
       "      <td>0</td>\n",
       "      <td>17</td>\n",
       "      <td>3</td>\n",
       "      <td>8</td>\n",
       "      <td>2014</td>\n",
       "      <td>1</td>\n",
       "      <td>0</td>\n",
       "      <td>1</td>\n",
       "      <td>0</td>\n",
       "    </tr>\n",
       "    <tr>\n",
       "      <th>3</th>\n",
       "      <td>T4</td>\n",
       "      <td>B</td>\n",
       "      <td>NaN</td>\n",
       "      <td>53.0</td>\n",
       "      <td>20000492</td>\n",
       "      <td>1408039090</td>\n",
       "      <td>A</td>\n",
       "      <td>False</td>\n",
       "      <td>0</td>\n",
       "      <td>1</td>\n",
       "      <td>...</td>\n",
       "      <td>0</td>\n",
       "      <td>0</td>\n",
       "      <td>17</td>\n",
       "      <td>3</td>\n",
       "      <td>8</td>\n",
       "      <td>2014</td>\n",
       "      <td>1</td>\n",
       "      <td>0</td>\n",
       "      <td>1</td>\n",
       "      <td>0</td>\n",
       "    </tr>\n",
       "    <tr>\n",
       "      <th>4</th>\n",
       "      <td>T5</td>\n",
       "      <td>B</td>\n",
       "      <td>NaN</td>\n",
       "      <td>18.0</td>\n",
       "      <td>20000621</td>\n",
       "      <td>1408039177</td>\n",
       "      <td>A</td>\n",
       "      <td>False</td>\n",
       "      <td>0</td>\n",
       "      <td>1</td>\n",
       "      <td>...</td>\n",
       "      <td>0</td>\n",
       "      <td>0</td>\n",
       "      <td>17</td>\n",
       "      <td>3</td>\n",
       "      <td>8</td>\n",
       "      <td>2014</td>\n",
       "      <td>1</td>\n",
       "      <td>0</td>\n",
       "      <td>1</td>\n",
       "      <td>0</td>\n",
       "    </tr>\n",
       "  </tbody>\n",
       "</table>\n",
       "<p>5 rows × 22 columns</p>\n",
       "</div>"
      ],
      "text/plain": [
       "  TRIP_ID CALL_TYPE  ORIGIN_CALL  ORIGIN_STAND   TAXI_ID   TIMESTAMP DAY_TYPE  \\\n",
       "0      T1         B          NaN          15.0  20000542  1408039037        A   \n",
       "1      T2         B          NaN          57.0  20000108  1408038611        A   \n",
       "2      T3         B          NaN          15.0  20000370  1408038568        A   \n",
       "3      T4         B          NaN          53.0  20000492  1408039090        A   \n",
       "4      T5         B          NaN          18.0  20000621  1408039177        A   \n",
       "\n",
       "   MISSING_DATA  call_A  call_B  ...  day_B  day_C  TIME  DAY  MONTH  YEAR  \\\n",
       "0         False       0       1  ...      0      0    17    3      8  2014   \n",
       "1         False       0       1  ...      0      0    17    3      8  2014   \n",
       "2         False       0       1  ...      0      0    17    3      8  2014   \n",
       "3         False       0       1  ...      0      0    17    3      8  2014   \n",
       "4         False       0       1  ...      0      0    17    3      8  2014   \n",
       "\n",
       "   weekday  weekend  rush  no_rush  \n",
       "0        1        0     1        0  \n",
       "1        1        0     1        0  \n",
       "2        1        0     1        0  \n",
       "3        1        0     1        0  \n",
       "4        1        0     1        0  \n",
       "\n",
       "[5 rows x 22 columns]"
      ]
     },
     "execution_count": 56,
     "metadata": {},
     "output_type": "execute_result"
    }
   ],
   "source": [
    "df_test.head()"
   ]
  },
  {
   "cell_type": "code",
   "execution_count": 57,
   "id": "fff01884",
   "metadata": {},
   "outputs": [],
   "source": [
    "def apply_long(x): #in: origin stand\n",
    "    if not pd.isna(x):\n",
    "        return stand_dict[x][0]\n",
    "    else:\n",
    "        return train_long_mean"
   ]
  },
  {
   "cell_type": "code",
   "execution_count": 58,
   "id": "3344519b",
   "metadata": {},
   "outputs": [],
   "source": [
    "def apply_lat(x):\n",
    "    if not pd.isna(x):\n",
    "        return stand_dict[x][1]\n",
    "    else:\n",
    "        return train_lat_mean"
   ]
  },
  {
   "cell_type": "code",
   "execution_count": 59,
   "id": "fc94cc11",
   "metadata": {},
   "outputs": [],
   "source": [
    "df_test['Init_longitude'] = df_test['ORIGIN_STAND'].apply(apply_long)\n",
    "df_test['Init_latitude'] = df_test['ORIGIN_STAND'].apply(apply_lat)"
   ]
  },
  {
   "cell_type": "code",
   "execution_count": 60,
   "id": "8366ead5",
   "metadata": {},
   "outputs": [],
   "source": [
    "df_test['Init_longitude'] = (df_test['Init_longitude'] - train_long_mean) / train_long_std\n",
    "df_test['Init_latitude'] = (df_test['Init_latitude'] - train_lat_mean) / train_lat_std"
   ]
  },
  {
   "cell_type": "code",
   "execution_count": 61,
   "id": "ed230620",
   "metadata": {},
   "outputs": [],
   "source": [
    "df_test['MONTH'] = (df_test['MONTH'] - train_month_mean) / train_month_std\n",
    "df_test['YEAR'] = (df_test['YEAR'] - train_year_mean) / train_year_std"
   ]
  },
  {
   "cell_type": "code",
   "execution_count": 62,
   "id": "a3452428",
   "metadata": {},
   "outputs": [],
   "source": [
    "df_test['TAXI_ID_MEAN'] = df_test['TAXI_ID'].apply(apply_mean_test)\n",
    "df_test['STAND_MEAN'] = df_test['ORIGIN_STAND'].apply(apply_mean_stand)\n",
    "df_test['TAXI_ID_MEAN'] = np.float32((df_test['TAXI_ID_MEAN'] - train_taxi_mean)/train_taxi_std)\n",
    "df_test['STAND_MEAN'] = np.float32((df_test['STAND_MEAN'] - train_stand_mean)/train_stand_std)"
   ]
  },
  {
   "cell_type": "code",
   "execution_count": 63,
   "id": "b6d3a65e",
   "metadata": {},
   "outputs": [
    {
     "data": {
      "text/html": [
       "<div>\n",
       "<style scoped>\n",
       "    .dataframe tbody tr th:only-of-type {\n",
       "        vertical-align: middle;\n",
       "    }\n",
       "\n",
       "    .dataframe tbody tr th {\n",
       "        vertical-align: top;\n",
       "    }\n",
       "\n",
       "    .dataframe thead th {\n",
       "        text-align: right;\n",
       "    }\n",
       "</style>\n",
       "<table border=\"1\" class=\"dataframe\">\n",
       "  <thead>\n",
       "    <tr style=\"text-align: right;\">\n",
       "      <th></th>\n",
       "      <th>TRIP_ID</th>\n",
       "      <th>CALL_TYPE</th>\n",
       "      <th>ORIGIN_CALL</th>\n",
       "      <th>ORIGIN_STAND</th>\n",
       "      <th>TAXI_ID</th>\n",
       "      <th>TIMESTAMP</th>\n",
       "      <th>DAY_TYPE</th>\n",
       "      <th>MISSING_DATA</th>\n",
       "      <th>call_A</th>\n",
       "      <th>call_B</th>\n",
       "      <th>...</th>\n",
       "      <th>MONTH</th>\n",
       "      <th>YEAR</th>\n",
       "      <th>weekday</th>\n",
       "      <th>weekend</th>\n",
       "      <th>rush</th>\n",
       "      <th>no_rush</th>\n",
       "      <th>Init_longitude</th>\n",
       "      <th>Init_latitude</th>\n",
       "      <th>TAXI_ID_MEAN</th>\n",
       "      <th>STAND_MEAN</th>\n",
       "    </tr>\n",
       "  </thead>\n",
       "  <tbody>\n",
       "    <tr>\n",
       "      <th>0</th>\n",
       "      <td>T1</td>\n",
       "      <td>B</td>\n",
       "      <td>NaN</td>\n",
       "      <td>15.0</td>\n",
       "      <td>20000542</td>\n",
       "      <td>1408039037</td>\n",
       "      <td>A</td>\n",
       "      <td>False</td>\n",
       "      <td>0</td>\n",
       "      <td>1</td>\n",
       "      <td>...</td>\n",
       "      <td>0.413153</td>\n",
       "      <td>1.006265</td>\n",
       "      <td>1</td>\n",
       "      <td>0</td>\n",
       "      <td>1</td>\n",
       "      <td>0</td>\n",
       "      <td>0.258385</td>\n",
       "      <td>-0.019749</td>\n",
       "      <td>0.083604</td>\n",
       "      <td>0.776486</td>\n",
       "    </tr>\n",
       "    <tr>\n",
       "      <th>1</th>\n",
       "      <td>T2</td>\n",
       "      <td>B</td>\n",
       "      <td>NaN</td>\n",
       "      <td>57.0</td>\n",
       "      <td>20000108</td>\n",
       "      <td>1408038611</td>\n",
       "      <td>A</td>\n",
       "      <td>False</td>\n",
       "      <td>0</td>\n",
       "      <td>1</td>\n",
       "      <td>...</td>\n",
       "      <td>0.413153</td>\n",
       "      <td>1.006265</td>\n",
       "      <td>1</td>\n",
       "      <td>0</td>\n",
       "      <td>1</td>\n",
       "      <td>0</td>\n",
       "      <td>0.054229</td>\n",
       "      <td>-0.026602</td>\n",
       "      <td>-0.263015</td>\n",
       "      <td>-0.789696</td>\n",
       "    </tr>\n",
       "    <tr>\n",
       "      <th>2</th>\n",
       "      <td>T3</td>\n",
       "      <td>B</td>\n",
       "      <td>NaN</td>\n",
       "      <td>15.0</td>\n",
       "      <td>20000370</td>\n",
       "      <td>1408038568</td>\n",
       "      <td>A</td>\n",
       "      <td>False</td>\n",
       "      <td>0</td>\n",
       "      <td>1</td>\n",
       "      <td>...</td>\n",
       "      <td>0.413153</td>\n",
       "      <td>1.006265</td>\n",
       "      <td>1</td>\n",
       "      <td>0</td>\n",
       "      <td>1</td>\n",
       "      <td>0</td>\n",
       "      <td>0.258385</td>\n",
       "      <td>-0.019749</td>\n",
       "      <td>-0.737559</td>\n",
       "      <td>0.776486</td>\n",
       "    </tr>\n",
       "    <tr>\n",
       "      <th>3</th>\n",
       "      <td>T4</td>\n",
       "      <td>B</td>\n",
       "      <td>NaN</td>\n",
       "      <td>53.0</td>\n",
       "      <td>20000492</td>\n",
       "      <td>1408039090</td>\n",
       "      <td>A</td>\n",
       "      <td>False</td>\n",
       "      <td>0</td>\n",
       "      <td>1</td>\n",
       "      <td>...</td>\n",
       "      <td>0.413153</td>\n",
       "      <td>1.006265</td>\n",
       "      <td>1</td>\n",
       "      <td>0</td>\n",
       "      <td>1</td>\n",
       "      <td>0</td>\n",
       "      <td>0.027052</td>\n",
       "      <td>-0.037217</td>\n",
       "      <td>-0.677073</td>\n",
       "      <td>-1.261319</td>\n",
       "    </tr>\n",
       "    <tr>\n",
       "      <th>4</th>\n",
       "      <td>T5</td>\n",
       "      <td>B</td>\n",
       "      <td>NaN</td>\n",
       "      <td>18.0</td>\n",
       "      <td>20000621</td>\n",
       "      <td>1408039177</td>\n",
       "      <td>A</td>\n",
       "      <td>False</td>\n",
       "      <td>0</td>\n",
       "      <td>1</td>\n",
       "      <td>...</td>\n",
       "      <td>0.413153</td>\n",
       "      <td>1.006265</td>\n",
       "      <td>1</td>\n",
       "      <td>0</td>\n",
       "      <td>1</td>\n",
       "      <td>0</td>\n",
       "      <td>-0.018913</td>\n",
       "      <td>-0.020477</td>\n",
       "      <td>-0.688379</td>\n",
       "      <td>-0.097664</td>\n",
       "    </tr>\n",
       "  </tbody>\n",
       "</table>\n",
       "<p>5 rows × 26 columns</p>\n",
       "</div>"
      ],
      "text/plain": [
       "  TRIP_ID CALL_TYPE  ORIGIN_CALL  ORIGIN_STAND   TAXI_ID   TIMESTAMP DAY_TYPE  \\\n",
       "0      T1         B          NaN          15.0  20000542  1408039037        A   \n",
       "1      T2         B          NaN          57.0  20000108  1408038611        A   \n",
       "2      T3         B          NaN          15.0  20000370  1408038568        A   \n",
       "3      T4         B          NaN          53.0  20000492  1408039090        A   \n",
       "4      T5         B          NaN          18.0  20000621  1408039177        A   \n",
       "\n",
       "   MISSING_DATA  call_A  call_B  ...     MONTH      YEAR  weekday  weekend  \\\n",
       "0         False       0       1  ...  0.413153  1.006265        1        0   \n",
       "1         False       0       1  ...  0.413153  1.006265        1        0   \n",
       "2         False       0       1  ...  0.413153  1.006265        1        0   \n",
       "3         False       0       1  ...  0.413153  1.006265        1        0   \n",
       "4         False       0       1  ...  0.413153  1.006265        1        0   \n",
       "\n",
       "   rush  no_rush  Init_longitude  Init_latitude  TAXI_ID_MEAN  STAND_MEAN  \n",
       "0     1        0        0.258385      -0.019749      0.083604    0.776486  \n",
       "1     1        0        0.054229      -0.026602     -0.263015   -0.789696  \n",
       "2     1        0        0.258385      -0.019749     -0.737559    0.776486  \n",
       "3     1        0        0.027052      -0.037217     -0.677073   -1.261319  \n",
       "4     1        0       -0.018913      -0.020477     -0.688379   -0.097664  \n",
       "\n",
       "[5 rows x 26 columns]"
      ]
     },
     "execution_count": 63,
     "metadata": {},
     "output_type": "execute_result"
    }
   ],
   "source": [
    "df_test.head()"
   ]
  },
  {
   "cell_type": "code",
   "execution_count": 64,
   "id": "dadedf48",
   "metadata": {},
   "outputs": [],
   "source": [
    "#    df[col_name] = np.float32((df[col_name] - df[col_name].mean())/df[col_name].std())\n",
    "test_set = torch.reshape(torch.tensor(df_test['call_A'].values),(-1,1))\n",
    "col_list = ['call_B', 'call_C','rush', 'no_rush','weekday','weekend','Init_longitude', 'Init_latitude', 'TAXI_ID_MEAN', 'STAND_MEAN','YEAR','MONTH']\n",
    "for col_name in col_list:\n",
    "    test_set = torch.cat((test_set,torch.reshape(torch.from_numpy(df_test[col_name].values),(-1,1))),1)\n",
    "test_set = test_set.type('torch.FloatTensor')"
   ]
  },
  {
   "cell_type": "code",
   "execution_count": 65,
   "id": "9832c82e",
   "metadata": {},
   "outputs": [
    {
     "data": {
      "text/plain": [
       "tensor([[ 0.0000,  1.0000,  0.0000,  1.0000,  0.0000,  1.0000,  0.0000,  0.2584,\n",
       "         -0.0197,  0.0836,  0.7765,  1.0063,  0.4132],\n",
       "        [ 0.0000,  1.0000,  0.0000,  1.0000,  0.0000,  1.0000,  0.0000,  0.0542,\n",
       "         -0.0266, -0.2630, -0.7897,  1.0063,  0.4132],\n",
       "        [ 0.0000,  1.0000,  0.0000,  1.0000,  0.0000,  1.0000,  0.0000,  0.2584,\n",
       "         -0.0197, -0.7376,  0.7765,  1.0063,  0.4132],\n",
       "        [ 0.0000,  1.0000,  0.0000,  1.0000,  0.0000,  1.0000,  0.0000,  0.0271,\n",
       "         -0.0372, -0.6771, -1.2613,  1.0063,  0.4132],\n",
       "        [ 0.0000,  1.0000,  0.0000,  1.0000,  0.0000,  1.0000,  0.0000, -0.0189,\n",
       "         -0.0205, -0.6884, -0.0977,  1.0063,  0.4132]])"
      ]
     },
     "execution_count": 65,
     "metadata": {},
     "output_type": "execute_result"
    }
   ],
   "source": [
    "test_set[:5]"
   ]
  },
  {
   "cell_type": "code",
   "execution_count": 66,
   "id": "f63b9f3b",
   "metadata": {},
   "outputs": [],
   "source": [
    "test_set = test_set\n",
    "#preds = best_lgbm.predict(test_set)\n",
    "preds = mlp_model(test_set.to(device))\n"
   ]
  },
  {
   "cell_type": "code",
   "execution_count": 67,
   "id": "f89d613d",
   "metadata": {},
   "outputs": [],
   "source": [
    "output_csv = pd.read_csv(\"../sampleSubmission.csv\")\n",
    "#output_csv['TRAVEL_TIME'] = preds\n",
    "output_csv['TRAVEL_TIME'] = preds.cpu().detach().numpy()\n",
    "#output_csv['TRAVEL_TIME'] = preds_taxi\n",
    "#df_test[\"TRAVEL_TIME\"] = 716.43\n",
    "output_csv.tail()\n",
    "output_csv.to_csv(\"my_pred.csv\", index=None)\n"
   ]
  },
  {
   "cell_type": "code",
   "execution_count": null,
   "id": "f50277fe",
   "metadata": {},
   "outputs": [],
   "source": []
  }
 ],
 "metadata": {
  "kernelspec": {
   "display_name": "Python 3 (ipykernel)",
   "language": "python",
   "name": "python3"
  },
  "language_info": {
   "codemirror_mode": {
    "name": "ipython",
    "version": 3
   },
   "file_extension": ".py",
   "mimetype": "text/x-python",
   "name": "python",
   "nbconvert_exporter": "python",
   "pygments_lexer": "ipython3",
   "version": "3.9.5"
  }
 },
 "nbformat": 4,
 "nbformat_minor": 5
}
