{
 "cells": [
  {
   "cell_type": "code",
   "execution_count": 89,
   "id": "6eacbb16",
   "metadata": {},
   "outputs": [],
   "source": [
    "import pandas as pd\n",
    "import torch\n",
    "import numpy as np\n",
    "import torch.nn as nn"
   ]
  },
  {
   "cell_type": "code",
   "execution_count": 90,
   "id": "c45c765f",
   "metadata": {},
   "outputs": [],
   "source": [
    "device = torch.device(\"cuda\" if torch.cuda.is_available() else \"cpu\")"
   ]
  },
  {
   "cell_type": "code",
   "execution_count": 91,
   "id": "09ba37fe",
   "metadata": {},
   "outputs": [],
   "source": [
    "df = pd.read_csv(\"train.csv\")"
   ]
  },
  {
   "cell_type": "code",
   "execution_count": 92,
   "id": "af4c55f3",
   "metadata": {},
   "outputs": [
    {
     "data": {
      "text/html": [
       "<div>\n",
       "<style scoped>\n",
       "    .dataframe tbody tr th:only-of-type {\n",
       "        vertical-align: middle;\n",
       "    }\n",
       "\n",
       "    .dataframe tbody tr th {\n",
       "        vertical-align: top;\n",
       "    }\n",
       "\n",
       "    .dataframe thead th {\n",
       "        text-align: right;\n",
       "    }\n",
       "</style>\n",
       "<table border=\"1\" class=\"dataframe\">\n",
       "  <thead>\n",
       "    <tr style=\"text-align: right;\">\n",
       "      <th></th>\n",
       "      <th>TRIP_ID</th>\n",
       "      <th>CALL_TYPE</th>\n",
       "      <th>ORIGIN_CALL</th>\n",
       "      <th>ORIGIN_STAND</th>\n",
       "      <th>TAXI_ID</th>\n",
       "      <th>TIMESTAMP</th>\n",
       "      <th>DAY_TYPE</th>\n",
       "      <th>MISSING_DATA</th>\n",
       "      <th>POLYLINE</th>\n",
       "    </tr>\n",
       "  </thead>\n",
       "  <tbody>\n",
       "    <tr>\n",
       "      <th>0</th>\n",
       "      <td>1372636858620000589</td>\n",
       "      <td>C</td>\n",
       "      <td>NaN</td>\n",
       "      <td>NaN</td>\n",
       "      <td>20000589</td>\n",
       "      <td>1372636858</td>\n",
       "      <td>A</td>\n",
       "      <td>False</td>\n",
       "      <td>[[-8.618643,41.141412],[-8.618499,41.141376],[...</td>\n",
       "    </tr>\n",
       "    <tr>\n",
       "      <th>1</th>\n",
       "      <td>1372637303620000596</td>\n",
       "      <td>B</td>\n",
       "      <td>NaN</td>\n",
       "      <td>7.0</td>\n",
       "      <td>20000596</td>\n",
       "      <td>1372637303</td>\n",
       "      <td>A</td>\n",
       "      <td>False</td>\n",
       "      <td>[[-8.639847,41.159826],[-8.640351,41.159871],[...</td>\n",
       "    </tr>\n",
       "    <tr>\n",
       "      <th>2</th>\n",
       "      <td>1372636951620000320</td>\n",
       "      <td>C</td>\n",
       "      <td>NaN</td>\n",
       "      <td>NaN</td>\n",
       "      <td>20000320</td>\n",
       "      <td>1372636951</td>\n",
       "      <td>A</td>\n",
       "      <td>False</td>\n",
       "      <td>[[-8.612964,41.140359],[-8.613378,41.14035],[-...</td>\n",
       "    </tr>\n",
       "    <tr>\n",
       "      <th>3</th>\n",
       "      <td>1372636854620000520</td>\n",
       "      <td>C</td>\n",
       "      <td>NaN</td>\n",
       "      <td>NaN</td>\n",
       "      <td>20000520</td>\n",
       "      <td>1372636854</td>\n",
       "      <td>A</td>\n",
       "      <td>False</td>\n",
       "      <td>[[-8.574678,41.151951],[-8.574705,41.151942],[...</td>\n",
       "    </tr>\n",
       "    <tr>\n",
       "      <th>4</th>\n",
       "      <td>1372637091620000337</td>\n",
       "      <td>C</td>\n",
       "      <td>NaN</td>\n",
       "      <td>NaN</td>\n",
       "      <td>20000337</td>\n",
       "      <td>1372637091</td>\n",
       "      <td>A</td>\n",
       "      <td>False</td>\n",
       "      <td>[[-8.645994,41.18049],[-8.645949,41.180517],[-...</td>\n",
       "    </tr>\n",
       "  </tbody>\n",
       "</table>\n",
       "</div>"
      ],
      "text/plain": [
       "               TRIP_ID CALL_TYPE  ORIGIN_CALL  ORIGIN_STAND   TAXI_ID  \\\n",
       "0  1372636858620000589         C          NaN           NaN  20000589   \n",
       "1  1372637303620000596         B          NaN           7.0  20000596   \n",
       "2  1372636951620000320         C          NaN           NaN  20000320   \n",
       "3  1372636854620000520         C          NaN           NaN  20000520   \n",
       "4  1372637091620000337         C          NaN           NaN  20000337   \n",
       "\n",
       "    TIMESTAMP DAY_TYPE  MISSING_DATA  \\\n",
       "0  1372636858        A         False   \n",
       "1  1372637303        A         False   \n",
       "2  1372636951        A         False   \n",
       "3  1372636854        A         False   \n",
       "4  1372637091        A         False   \n",
       "\n",
       "                                            POLYLINE  \n",
       "0  [[-8.618643,41.141412],[-8.618499,41.141376],[...  \n",
       "1  [[-8.639847,41.159826],[-8.640351,41.159871],[...  \n",
       "2  [[-8.612964,41.140359],[-8.613378,41.14035],[-...  \n",
       "3  [[-8.574678,41.151951],[-8.574705,41.151942],[...  \n",
       "4  [[-8.645994,41.18049],[-8.645949,41.180517],[-...  "
      ]
     },
     "execution_count": 92,
     "metadata": {},
     "output_type": "execute_result"
    }
   ],
   "source": [
    "df.head()"
   ]
  },
  {
   "cell_type": "code",
   "execution_count": 93,
   "id": "37ba2fb7",
   "metadata": {},
   "outputs": [],
   "source": [
    "df[\"target\"] = df[\"POLYLINE\"].apply(lambda x : np.float32(max((x.count(\"[\") - 2) *15, 0)))"
   ]
  },
  {
   "cell_type": "code",
   "execution_count": 94,
   "id": "0e8c3328",
   "metadata": {},
   "outputs": [],
   "source": [
    "df['call_A'] = df[\"CALL_TYPE\"].apply(lambda x : int(x == 'A'))\n",
    "df['call_B'] = df[\"CALL_TYPE\"].apply(lambda x : int(x == 'B'))\n",
    "df['call_C'] = df[\"CALL_TYPE\"].apply(lambda x : int(x == 'C'))"
   ]
  },
  {
   "cell_type": "code",
   "execution_count": 95,
   "id": "02269b48",
   "metadata": {},
   "outputs": [],
   "source": [
    "df = df.loc[df['MISSING_DATA'] == False]\n",
    "df = df.loc[df['target'] > 0]\n"
   ]
  },
  {
   "cell_type": "code",
   "execution_count": 96,
   "id": "3cacd476",
   "metadata": {},
   "outputs": [],
   "source": [
    "def one_hot(str):\n",
    "    if str == 'A':\n",
    "        return [1,0,0]\n",
    "    elif str == 'B':\n",
    "        return [0,1,0]\n",
    "    elif str == 'C':\n",
    "        return [0,0,1]\n",
    "    else:\n",
    "        return None"
   ]
  },
  {
   "cell_type": "code",
   "execution_count": 97,
   "id": "35f2d3d5",
   "metadata": {},
   "outputs": [],
   "source": [
    "# df['CALL_TYPE'] = df['CALL_TYPE'].apply(lambda x: one_hot(x))\n",
    "# df['DAY_TYPE'] = df['DAY_TYPE'].apply(lambda x: one_hot(x))\n",
    "# df = df.loc[df['CALL_TYPE'] != None]\n",
    "# df = df.loc[df['DAY_TYPE'] != None]"
   ]
  },
  {
   "cell_type": "code",
   "execution_count": 98,
   "id": "b0b346c6",
   "metadata": {},
   "outputs": [],
   "source": [
    "from datetime import datetime\n",
    "def parse_time(x):\n",
    "    dt = datetime.fromtimestamp(x[\"TIMESTAMP\"])\n",
    "    return dt.year, dt.month, dt.day, dt.hour, dt.weekday()"
   ]
  },
  {
   "cell_type": "code",
   "execution_count": 99,
   "id": "2db94bb3",
   "metadata": {},
   "outputs": [],
   "source": [
    "df['TAXI_ID'] = (df['TAXI_ID'] - df['TAXI_ID'].mean())/df['TAXI_ID'].std()"
   ]
  },
  {
   "cell_type": "code",
   "execution_count": 100,
   "id": "da99a7f3",
   "metadata": {},
   "outputs": [],
   "source": [
    "def normalize(col_name):\n",
    "    df[col_name] = np.float32((df[col_name] - df[col_name].mean())/df[col_name].std())"
   ]
  },
  {
   "cell_type": "code",
   "execution_count": 101,
   "id": "e85cc21e",
   "metadata": {},
   "outputs": [],
   "source": [
    "def parse_num(str, index):\n",
    "    comma_pos = str.find(',')\n",
    "    if comma_pos == -1:\n",
    "        return None\n",
    "    if index == 0:\n",
    "        return np.float32(str[2:comma_pos])\n",
    "    else:\n",
    "        return np.float32(str[comma_pos + 1:str.find(']')])"
   ]
  },
  {
   "cell_type": "code",
   "execution_count": 102,
   "id": "8d6272ad",
   "metadata": {},
   "outputs": [],
   "source": [
    "df['Init_longitude'] = df['POLYLINE'].apply(lambda x : parse_num(x,0))\n",
    "df['Init_latitude'] = df['POLYLINE'].apply(lambda x : parse_num(x,1))\n",
    "df = df.loc[df['Init_longitude'] != None]\n",
    "df = df.loc[df['Init_latitude'] != None]\n",
    "normalize('Init_longitude')\n",
    "normalize('Init_latitude')"
   ]
  },
  {
   "cell_type": "code",
   "execution_count": 103,
   "id": "2fe0395a",
   "metadata": {},
   "outputs": [],
   "source": [
    "train_set = torch.reshape(torch.tensor(df['call_A'].values),(-1,1))\n",
    "col_list = ['call_B', 'call_C','TAXI_ID', 'Init_longitude', 'Init_latitude']\n",
    "for col_name in col_list:\n",
    "#     print(train_set.dtype)\n",
    "    train_set = torch.cat((train_set,torch.reshape(torch.from_numpy(df[col_name].values),(-1,1))),1)"
   ]
  },
  {
   "cell_type": "code",
   "execution_count": 104,
   "id": "a90451ef",
   "metadata": {},
   "outputs": [],
   "source": [
    "train_set = train_set.type('torch.FloatTensor')"
   ]
  },
  {
   "cell_type": "code",
   "execution_count": 105,
   "id": "3c148dac",
   "metadata": {},
   "outputs": [],
   "source": [
    "target_set = torch.reshape(torch.tensor(df['target'].values),(-1,1))"
   ]
  },
  {
   "cell_type": "code",
   "execution_count": 106,
   "id": "45409c19",
   "metadata": {},
   "outputs": [
    {
     "data": {
      "text/plain": [
       "tensor([0.0000, 0.0000, 1.0000, 1.1363, 0.9611, 0.9612])"
      ]
     },
     "execution_count": 106,
     "metadata": {},
     "output_type": "execute_result"
    }
   ],
   "source": [
    "train_set[0]"
   ]
  },
  {
   "cell_type": "code",
   "execution_count": 107,
   "id": "43da7bbc",
   "metadata": {},
   "outputs": [],
   "source": [
    "model = torch.nn.Sequential(\n",
    "  torch.nn.Linear(6, 1),\n",
    ")\n",
    "\n",
    "# Define Loss Function / Objective Function\n",
    "loss_fn = torch.nn.MSELoss()\n",
    "\n",
    "# Define optimizer (this will perform your parameter updates use)\n",
    "lr = 5e-3\n",
    "opt = torch.optim.SGD(model.parameters(), lr=lr)\n",
    "# torch.optim.Adam"
   ]
  },
  {
   "cell_type": "code",
   "execution_count": 108,
   "id": "ad81aafb",
   "metadata": {},
   "outputs": [],
   "source": [
    "train_err = []\n",
    "test_err = []\n",
    "parameters = []\n",
    "for i in range(10):\n",
    "    model.train()\n",
    "\n",
    "    y_pred = model(train_set) # Compute model outputs\n",
    "    loss = loss_fn(y_pred, target_set) # Compute MSE\n",
    "    opt.zero_grad() # Must reset the gradients every step. Otherwise, gradients from previous iterations would cause interference!!!\n",
    "    loss.backward() # Compute gradients of all parameters (our model) with respect to our computed loss value (a singular value)\n",
    "    opt.step() # One gradient step\n",
    "\n",
    "    train_err.append(loss.item())\n",
    "\n",
    "    model.eval()\n",
    "#     with torch.no_grad():\n",
    "#     test_err.append(loss_fn(model(X_test), y_test).item())"
   ]
  },
  {
   "cell_type": "code",
   "execution_count": 156,
   "id": "203d3db8",
   "metadata": {},
   "outputs": [
    {
     "data": {
      "text/plain": [
       "Parameter containing:\n",
       "tensor([[14.1069, 27.8775, 21.5177,  0.5821, 60.8627, 63.4547]],\n",
       "       requires_grad=True)"
      ]
     },
     "execution_count": 156,
     "metadata": {},
     "output_type": "execute_result"
    }
   ],
   "source": [
    "model[0].weight"
   ]
  },
  {
   "cell_type": "code",
   "execution_count": 193,
   "id": "529a81f4",
   "metadata": {},
   "outputs": [],
   "source": [
    "class MLP_Regressor(torch.nn.Module):\n",
    "    def __init__(self, in_dim, hidden_dim, out_dim = 1):\n",
    "        super(MLP_Regressor, self).__init__() #Refers to the fact that this is a subclass of nn.Module and is inheriting all methods\n",
    "        \n",
    "        out_dim = 1\n",
    "        \n",
    "        self.model = torch.nn.Sequential( #an ordered container of modules\n",
    "            nn.Linear(in_dim, hidden_dim),\n",
    "            nn.ReLU(),\n",
    "            nn.Linear(hidden_dim, hidden_dim),\n",
    "        )   \n",
    "        self.in_dim = in_dim\n",
    "        self.hidden_dim = hidden_dim\n",
    "        self.out_dim = out_dim\n",
    "        self.linear1 = nn.Linear(self.in_dim, self.hidden_dim)\n",
    "        self.linear2 = nn.Linear(self.hidden_dim, self.out_dim)\n",
    "        \n",
    "                \n",
    "        self.fc = torch.nn.Sequential(\n",
    "            nn.Linear(self.in_dim, self.hidden_dim),\n",
    "            nn.ReLU(),\n",
    "            nn.Linear(self.hidden_dim, self.out_dim),\n",
    "        )\n",
    "\n",
    "    \n",
    "    def forward(self, x):\n",
    "        x = self.fc(x)\n",
    "        x = x.squeeze(1)\n",
    "        return x"
   ]
  },
  {
   "cell_type": "code",
   "execution_count": 194,
   "id": "854039c6",
   "metadata": {},
   "outputs": [],
   "source": [
    "targets_mlp = torch.reshape(torch.from_numpy(df['target'].values),(-1,1))"
   ]
  },
  {
   "cell_type": "code",
   "execution_count": 195,
   "id": "1c31f08c",
   "metadata": {},
   "outputs": [
    {
     "data": {
      "text/plain": [
       "1674152"
      ]
     },
     "execution_count": 195,
     "metadata": {},
     "output_type": "execute_result"
    }
   ],
   "source": [
    "len(targets_mlp)"
   ]
  },
  {
   "cell_type": "code",
   "execution_count": 208,
   "id": "a7520c82",
   "metadata": {},
   "outputs": [
    {
     "name": "stdout",
     "output_type": "stream",
     "text": [
      "200000\n",
      "(tensor([0.0000, 0.0000, 1.0000, 1.1363, 0.9611, 0.9612]), tensor([330.]))\n"
     ]
    }
   ],
   "source": [
    "batch_size = 256\n",
    "lst_train = list(zip(train_set[:200000], targets_mlp[:200000]))\n",
    "print(len(lst_train))\n",
    "print(lst_train[0])\n",
    "trainloader = torch.utils.data.DataLoader(lst_train , batch_size=batch_size, shuffle=True, num_workers=2)"
   ]
  },
  {
   "cell_type": "code",
   "execution_count": 209,
   "id": "a26e87d8",
   "metadata": {},
   "outputs": [],
   "source": [
    "mlp_model = MLP_Regressor(6, 24, 1).to(device)\n",
    "lr_mlp = 0.001\n",
    "optimizer = torch.optim.Adam(mlp_model.parameters(), lr = lr_mlp)\n",
    "criterion = nn.MSELoss()"
   ]
  },
  {
   "cell_type": "code",
   "execution_count": 210,
   "id": "48d8647a",
   "metadata": {},
   "outputs": [],
   "source": [
    "def get_loss(X, y, model, criterion):\n",
    "    y_pred = model(X)\n",
    "    loss = criterion(y_pred, y)\n",
    "    return loss"
   ]
  },
  {
   "cell_type": "code",
   "execution_count": 211,
   "id": "00dab4ce",
   "metadata": {},
   "outputs": [
    {
     "name": "stderr",
     "output_type": "stream",
     "text": [
      " 10%|█         | 1/10 [00:23<03:30, 23.40s/it]"
     ]
    },
    {
     "name": "stdout",
     "output_type": "stream",
     "text": [
      "\n",
      "\n",
      " loss: 718447.8248291016\n"
     ]
    },
    {
     "name": "stderr",
     "output_type": "stream",
     "text": [
      "\r",
      " 20%|██        | 2/10 [00:46<03:06, 23.28s/it]"
     ]
    },
    {
     "name": "stdout",
     "output_type": "stream",
     "text": [
      "\n",
      "\n",
      " loss: 611131.9354553223\n"
     ]
    },
    {
     "name": "stderr",
     "output_type": "stream",
     "text": [
      "\r",
      " 30%|███       | 3/10 [01:09<02:40, 22.91s/it]"
     ]
    },
    {
     "name": "stdout",
     "output_type": "stream",
     "text": [
      "\n",
      "\n",
      " loss: 504440.87646484375\n"
     ]
    },
    {
     "name": "stderr",
     "output_type": "stream",
     "text": [
      "\r",
      " 40%|████      | 4/10 [01:32<02:18, 23.14s/it]"
     ]
    },
    {
     "name": "stdout",
     "output_type": "stream",
     "text": [
      "\n",
      "\n",
      " loss: 480337.80853271484\n"
     ]
    },
    {
     "name": "stderr",
     "output_type": "stream",
     "text": [
      "\r",
      " 50%|█████     | 5/10 [01:56<01:57, 23.47s/it]"
     ]
    },
    {
     "name": "stdout",
     "output_type": "stream",
     "text": [
      "\n",
      "\n",
      " loss: 479378.8190307617\n"
     ]
    },
    {
     "name": "stderr",
     "output_type": "stream",
     "text": [
      "\r",
      " 60%|██████    | 6/10 [02:19<01:33, 23.42s/it]"
     ]
    },
    {
     "name": "stdout",
     "output_type": "stream",
     "text": [
      "\n",
      "\n",
      " loss: 479184.50494384766\n"
     ]
    },
    {
     "name": "stderr",
     "output_type": "stream",
     "text": [
      "\r",
      " 70%|███████   | 7/10 [02:43<01:10, 23.59s/it]"
     ]
    },
    {
     "name": "stdout",
     "output_type": "stream",
     "text": [
      "\n",
      "\n",
      " loss: 477961.47326660156\n"
     ]
    },
    {
     "name": "stderr",
     "output_type": "stream",
     "text": [
      "\r",
      " 80%|████████  | 8/10 [03:07<00:47, 23.66s/it]"
     ]
    },
    {
     "name": "stdout",
     "output_type": "stream",
     "text": [
      "\n",
      "\n",
      " loss: 478430.86932373047\n"
     ]
    },
    {
     "name": "stderr",
     "output_type": "stream",
     "text": [
      "\r",
      " 90%|█████████ | 9/10 [03:31<00:23, 23.81s/it]"
     ]
    },
    {
     "name": "stdout",
     "output_type": "stream",
     "text": [
      "\n",
      "\n",
      " loss: 478173.1703796387\n"
     ]
    },
    {
     "name": "stderr",
     "output_type": "stream",
     "text": [
      "100%|██████████| 10/10 [03:55<00:00, 23.55s/it]"
     ]
    },
    {
     "name": "stdout",
     "output_type": "stream",
     "text": [
      "\n",
      "\n",
      " loss: 477743.85317993164\n",
      "Finished Training\n"
     ]
    },
    {
     "name": "stderr",
     "output_type": "stream",
     "text": [
      "\n"
     ]
    }
   ],
   "source": [
    "from tqdm import tqdm\n",
    "for epoch in tqdm(range(10)):\n",
    "\n",
    "    running_loss = 0.0\n",
    "\n",
    "    for X, y in trainloader:\n",
    "        X, y = X.to(device), y.to(device)\n",
    "\n",
    "        # zero the parameter gradients\n",
    "        optimizer.zero_grad()\n",
    "\n",
    "        # forward + backward + optimize\n",
    "        loss = get_loss(X, y, mlp_model, criterion)\n",
    "        #RMSE\n",
    "        loss = torch.sqrt(loss)\n",
    "        loss.backward()\n",
    "        optimizer.step()\n",
    "\n",
    "        running_loss += loss.cpu().detach().numpy()\n",
    "\n",
    "\n",
    "    print(f'\\n\\n loss: {running_loss}')\n",
    "\n",
    "print('Finished Training')"
   ]
  },
  {
   "cell_type": "code",
   "execution_count": 212,
   "id": "a3452428",
   "metadata": {},
   "outputs": [],
   "source": [
    "df_test = pd.read_csv(\"test_public.csv\")\n",
    "df_test['call_A'] = df_test[\"CALL_TYPE\"].apply(lambda x : int(x == 'A'))\n",
    "df_test['call_B'] = df_test[\"CALL_TYPE\"].apply(lambda x : int(x == 'B'))\n",
    "df_test['call_C'] = df_test[\"CALL_TYPE\"].apply(lambda x : int(x == 'C'))\n",
    "df_test['TAXI_ID'] = (df_test['TAXI_ID'] - df_test['TAXI_ID'].mean())/df['TAXI_ID'].std()\n",
    "long = df['Init_longitude'].mean()\n",
    "lat = df['Init_latitude'].mean()\n",
    "df_test['Init_longitude'] = long\n",
    "df_test['Init_latitude'] = lat\n",
    "test_set = torch.reshape(torch.tensor(df_test['call_A'].values),(-1,1))\n",
    "col_list = ['call_B', 'call_C','TAXI_ID', 'Init_longitude', 'Init_latitude']\n",
    "for col_name in col_list:\n",
    "#     print(train_set.dtype)\n",
    "    test_set = torch.cat((test_set,torch.reshape(torch.from_numpy(df_test[col_name].values),(-1,1))),1)\n",
    "test_set = test_set.type('torch.FloatTensor')"
   ]
  },
  {
   "cell_type": "code",
   "execution_count": null,
   "id": "dadedf48",
   "metadata": {},
   "outputs": [],
   "source": []
  },
  {
   "cell_type": "code",
   "execution_count": 213,
   "id": "f63b9f3b",
   "metadata": {},
   "outputs": [],
   "source": [
    "test_set = test_set\n",
    "preds = mlp_model(test_set.to(device))"
   ]
  },
  {
   "cell_type": "code",
   "execution_count": 214,
   "id": "2570759f",
   "metadata": {},
   "outputs": [
    {
     "data": {
      "text/plain": [
       "320"
      ]
     },
     "execution_count": 214,
     "metadata": {},
     "output_type": "execute_result"
    }
   ],
   "source": [
    "len(test_set)"
   ]
  },
  {
   "cell_type": "code",
   "execution_count": 225,
   "id": "ded26a3d",
   "metadata": {},
   "outputs": [
    {
     "ename": "AttributeError",
     "evalue": "module 'torch.nn' has no attribute 'normalize'",
     "output_type": "error",
     "traceback": [
      "\u001b[1;31m---------------------------------------------------------------------------\u001b[0m",
      "\u001b[1;31mAttributeError\u001b[0m                            Traceback (most recent call last)",
      "\u001b[1;32m~\\AppData\\Local\\Temp/ipykernel_22588/103499916.py\u001b[0m in \u001b[0;36m<module>\u001b[1;34m\u001b[0m\n\u001b[1;32m----> 1\u001b[1;33m \u001b[0mnn\u001b[0m\u001b[1;33m.\u001b[0m\u001b[0mnormalize\u001b[0m\u001b[1;33m(\u001b[0m\u001b[0mpreds\u001b[0m\u001b[1;33m)\u001b[0m\u001b[1;33m\u001b[0m\u001b[1;33m\u001b[0m\u001b[0m\n\u001b[0m",
      "\u001b[1;31mAttributeError\u001b[0m: module 'torch.nn' has no attribute 'normalize'"
     ]
    }
   ],
   "source": []
  },
  {
   "cell_type": "code",
   "execution_count": 223,
   "id": "f89d613d",
   "metadata": {},
   "outputs": [],
   "source": [
    "output_csv = pd.read_csv(\"sampleSubmission.csv\")\n",
    "#output_csv['TRAVEL_TIME'] = preds.cpu().detach().numpy()\n",
    "df_test[\"TRAVEL_TIME\"] = 716.43\n",
    "output_csv.tail()\n",
    "output_csv.to_csv(\"my_pred.csv\", index=None)\n"
   ]
  },
  {
   "cell_type": "code",
   "execution_count": null,
   "id": "2ccdca08",
   "metadata": {},
   "outputs": [],
   "source": []
  }
 ],
 "metadata": {
  "kernelspec": {
   "display_name": "Python 3 (ipykernel)",
   "language": "python",
   "name": "python3"
  },
  "language_info": {
   "codemirror_mode": {
    "name": "ipython",
    "version": 3
   },
   "file_extension": ".py",
   "mimetype": "text/x-python",
   "name": "python",
   "nbconvert_exporter": "python",
   "pygments_lexer": "ipython3",
   "version": "3.9.7"
  }
 },
 "nbformat": 4,
 "nbformat_minor": 5
}
