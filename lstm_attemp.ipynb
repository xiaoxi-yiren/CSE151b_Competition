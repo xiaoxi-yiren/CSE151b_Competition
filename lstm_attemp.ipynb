{
 "cells": [
  {
   "cell_type": "code",
   "execution_count": 1,
   "id": "6eacbb16",
   "metadata": {},
   "outputs": [],
   "source": [
    "import pandas as pd\n",
    "import torch\n",
    "import numpy as np\n",
    "import torch.nn as nn\n",
    "from sklearn.metrics import accuracy_score\n",
    "from sklearn.model_selection import GridSearchCV, validation_curve\n",
    "import lightgbm as lgb\n",
    "import xgboost as xgb\n",
    "\n",
    "import matplotlib.pyplot as plt"
   ]
  },
  {
   "cell_type": "code",
   "execution_count": 2,
   "id": "fde74e9b",
   "metadata": {},
   "outputs": [],
   "source": [
    "import warnings\n",
    "warnings.filterwarnings('ignore')"
   ]
  },
  {
   "cell_type": "code",
   "execution_count": 3,
   "id": "c45c765f",
   "metadata": {},
   "outputs": [],
   "source": [
    "device = torch.device(\"cuda\" if torch.cuda.is_available() else \"cpu\")"
   ]
  },
  {
   "cell_type": "code",
   "execution_count": 4,
   "id": "09ba37fe",
   "metadata": {},
   "outputs": [],
   "source": [
    "df = pd.read_csv(\"train.csv\")"
   ]
  },
  {
   "cell_type": "code",
   "execution_count": 5,
   "id": "37ba2fb7",
   "metadata": {},
   "outputs": [
    {
     "data": {
      "text/plain": [
       "1710670"
      ]
     },
     "execution_count": 5,
     "metadata": {},
     "output_type": "execute_result"
    }
   ],
   "source": [
    "df[\"target\"] = df[\"POLYLINE\"].apply(lambda x : np.float32(max((x.count(\"[\") - 2) *15, 0)))\n",
    "len(df)"
   ]
  },
  {
   "cell_type": "code",
   "execution_count": 6,
   "id": "57324bfa",
   "metadata": {},
   "outputs": [
    {
     "data": {
      "text/plain": [
       "1656261"
      ]
     },
     "execution_count": 6,
     "metadata": {},
     "output_type": "execute_result"
    }
   ],
   "source": [
    "mean, std = df[\"target\"].mean(), df[\"target\"].std()\n",
    "median = df[\"target\"].median()\n",
    "df = df[df[\"target\"] < mean + 3 * std]\n",
    "df = df[df[\"target\"] >= 4]\n",
    "len(df)"
   ]
  },
  {
   "cell_type": "code",
   "execution_count": 7,
   "id": "02269b48",
   "metadata": {},
   "outputs": [
    {
     "data": {
      "text/plain": [
       "1656255"
      ]
     },
     "execution_count": 7,
     "metadata": {},
     "output_type": "execute_result"
    }
   ],
   "source": [
    "df = df.loc[df['MISSING_DATA'] == False]\n",
    "df = df.loc[df['target'] > 0]\n",
    "len(df)"
   ]
  },
  {
   "cell_type": "code",
   "execution_count": 8,
   "id": "d6898ddf",
   "metadata": {},
   "outputs": [],
   "source": [
    "from datetime import datetime\n",
    "def parse_time(x):\n",
    "    dt = datetime.utcfromtimestamp(x)\n",
    "    return dt.year, dt.month, dt.day, dt.hour+1, dt.weekday() #monday: 0, sunday: 6"
   ]
  },
  {
   "cell_type": "code",
   "execution_count": 9,
   "id": "65f0166b",
   "metadata": {},
   "outputs": [
    {
     "data": {
      "text/html": [
       "<div>\n",
       "<style scoped>\n",
       "    .dataframe tbody tr th:only-of-type {\n",
       "        vertical-align: middle;\n",
       "    }\n",
       "\n",
       "    .dataframe tbody tr th {\n",
       "        vertical-align: top;\n",
       "    }\n",
       "\n",
       "    .dataframe thead th {\n",
       "        text-align: right;\n",
       "    }\n",
       "</style>\n",
       "<table border=\"1\" class=\"dataframe\">\n",
       "  <thead>\n",
       "    <tr style=\"text-align: right;\">\n",
       "      <th></th>\n",
       "      <th>TRIP_ID</th>\n",
       "      <th>CALL_TYPE</th>\n",
       "      <th>ORIGIN_CALL</th>\n",
       "      <th>ORIGIN_STAND</th>\n",
       "      <th>TAXI_ID</th>\n",
       "      <th>TIMESTAMP</th>\n",
       "      <th>DAY_TYPE</th>\n",
       "      <th>MISSING_DATA</th>\n",
       "      <th>POLYLINE</th>\n",
       "      <th>target</th>\n",
       "      <th>year</th>\n",
       "      <th>month</th>\n",
       "      <th>day</th>\n",
       "      <th>hour</th>\n",
       "      <th>weekday</th>\n",
       "    </tr>\n",
       "  </thead>\n",
       "  <tbody>\n",
       "    <tr>\n",
       "      <th>0</th>\n",
       "      <td>1372636858620000589</td>\n",
       "      <td>C</td>\n",
       "      <td>NaN</td>\n",
       "      <td>NaN</td>\n",
       "      <td>20000589</td>\n",
       "      <td>1372636858</td>\n",
       "      <td>A</td>\n",
       "      <td>False</td>\n",
       "      <td>[[-8.618643,41.141412],[-8.618499,41.141376],[...</td>\n",
       "      <td>330.0</td>\n",
       "      <td>2013</td>\n",
       "      <td>7</td>\n",
       "      <td>1</td>\n",
       "      <td>1</td>\n",
       "      <td>0</td>\n",
       "    </tr>\n",
       "    <tr>\n",
       "      <th>1</th>\n",
       "      <td>1372637303620000596</td>\n",
       "      <td>B</td>\n",
       "      <td>NaN</td>\n",
       "      <td>7.0</td>\n",
       "      <td>20000596</td>\n",
       "      <td>1372637303</td>\n",
       "      <td>A</td>\n",
       "      <td>False</td>\n",
       "      <td>[[-8.639847,41.159826],[-8.640351,41.159871],[...</td>\n",
       "      <td>270.0</td>\n",
       "      <td>2013</td>\n",
       "      <td>7</td>\n",
       "      <td>1</td>\n",
       "      <td>1</td>\n",
       "      <td>0</td>\n",
       "    </tr>\n",
       "    <tr>\n",
       "      <th>2</th>\n",
       "      <td>1372636951620000320</td>\n",
       "      <td>C</td>\n",
       "      <td>NaN</td>\n",
       "      <td>NaN</td>\n",
       "      <td>20000320</td>\n",
       "      <td>1372636951</td>\n",
       "      <td>A</td>\n",
       "      <td>False</td>\n",
       "      <td>[[-8.612964,41.140359],[-8.613378,41.14035],[-...</td>\n",
       "      <td>960.0</td>\n",
       "      <td>2013</td>\n",
       "      <td>7</td>\n",
       "      <td>1</td>\n",
       "      <td>1</td>\n",
       "      <td>0</td>\n",
       "    </tr>\n",
       "    <tr>\n",
       "      <th>3</th>\n",
       "      <td>1372636854620000520</td>\n",
       "      <td>C</td>\n",
       "      <td>NaN</td>\n",
       "      <td>NaN</td>\n",
       "      <td>20000520</td>\n",
       "      <td>1372636854</td>\n",
       "      <td>A</td>\n",
       "      <td>False</td>\n",
       "      <td>[[-8.574678,41.151951],[-8.574705,41.151942],[...</td>\n",
       "      <td>630.0</td>\n",
       "      <td>2013</td>\n",
       "      <td>7</td>\n",
       "      <td>1</td>\n",
       "      <td>1</td>\n",
       "      <td>0</td>\n",
       "    </tr>\n",
       "    <tr>\n",
       "      <th>4</th>\n",
       "      <td>1372637091620000337</td>\n",
       "      <td>C</td>\n",
       "      <td>NaN</td>\n",
       "      <td>NaN</td>\n",
       "      <td>20000337</td>\n",
       "      <td>1372637091</td>\n",
       "      <td>A</td>\n",
       "      <td>False</td>\n",
       "      <td>[[-8.645994,41.18049],[-8.645949,41.180517],[-...</td>\n",
       "      <td>420.0</td>\n",
       "      <td>2013</td>\n",
       "      <td>7</td>\n",
       "      <td>1</td>\n",
       "      <td>1</td>\n",
       "      <td>0</td>\n",
       "    </tr>\n",
       "  </tbody>\n",
       "</table>\n",
       "</div>"
      ],
      "text/plain": [
       "               TRIP_ID CALL_TYPE  ORIGIN_CALL  ORIGIN_STAND   TAXI_ID  \\\n",
       "0  1372636858620000589         C          NaN           NaN  20000589   \n",
       "1  1372637303620000596         B          NaN           7.0  20000596   \n",
       "2  1372636951620000320         C          NaN           NaN  20000320   \n",
       "3  1372636854620000520         C          NaN           NaN  20000520   \n",
       "4  1372637091620000337         C          NaN           NaN  20000337   \n",
       "\n",
       "    TIMESTAMP DAY_TYPE  MISSING_DATA  \\\n",
       "0  1372636858        A         False   \n",
       "1  1372637303        A         False   \n",
       "2  1372636951        A         False   \n",
       "3  1372636854        A         False   \n",
       "4  1372637091        A         False   \n",
       "\n",
       "                                            POLYLINE  target  year  month  \\\n",
       "0  [[-8.618643,41.141412],[-8.618499,41.141376],[...   330.0  2013      7   \n",
       "1  [[-8.639847,41.159826],[-8.640351,41.159871],[...   270.0  2013      7   \n",
       "2  [[-8.612964,41.140359],[-8.613378,41.14035],[-...   960.0  2013      7   \n",
       "3  [[-8.574678,41.151951],[-8.574705,41.151942],[...   630.0  2013      7   \n",
       "4  [[-8.645994,41.18049],[-8.645949,41.180517],[-...   420.0  2013      7   \n",
       "\n",
       "   day  hour  weekday  \n",
       "0    1     1        0  \n",
       "1    1     1        0  \n",
       "2    1     1        0  \n",
       "3    1     1        0  \n",
       "4    1     1        0  "
      ]
     },
     "execution_count": 9,
     "metadata": {},
     "output_type": "execute_result"
    }
   ],
   "source": [
    "times = df['TIMESTAMP'].apply(parse_time)\n",
    "df['year'] = [x for x,y,z,w,a in times]\n",
    "df['month'] = [y for x,y,z,w,a in times]\n",
    "df['day'] = [z for x,y,z,w,a in times]\n",
    "df['hour'] = [w for x,y,z,w,a in times]\n",
    "df['weekday'] = [a for x,y,z,w,a in times]\n",
    "df.head()"
   ]
  },
  {
   "cell_type": "code",
   "execution_count": 10,
   "id": "a74a1944",
   "metadata": {},
   "outputs": [
    {
     "name": "stdout",
     "output_type": "stream",
     "text": [
      "29980\n"
     ]
    }
   ],
   "source": [
    "df_1 = df[ ((df['day'] == 14) & (df['month'] == 8)) \n",
    "          | ((df['day'] == 4) & (df['month'] == 10)) |\n",
    "          ((df['day'] == 9) & (df['month'] == 6)) |\n",
    "          ((df['day'] == 24) & (df['month'] == 4)) |\n",
    "          ((df['day'] == 31) & (df['month'] == 4)) |\n",
    "          ((df['day'] == 31) & (df['month'] == 10)) |\n",
    "          ((df['day'] == 31) & (df['month'] == 11)) |\n",
    "          ((df['day'] == 7) & (df['month'] == 12))\n",
    "         ]\n",
    "print(len(df_1))\n",
    "#df_1 = df_1[df_1['hour'] >= 12]\n",
    "#plt.plot(df_1_1['target'].tolist())\n",
    "#df_1_1['target'].describe()\n",
    "df_1 = df_1.assign(DAY_TYPE = 'A')"
   ]
  },
  {
   "cell_type": "code",
   "execution_count": 11,
   "id": "08252228",
   "metadata": {},
   "outputs": [
    {
     "data": {
      "text/plain": [
       "38945"
      ]
     },
     "execution_count": 11,
     "metadata": {},
     "output_type": "execute_result"
    }
   ],
   "source": [
    "df_2 = df[ ((df['weekday'] <= 4)) ]\n",
    "df_2 = df_2[ ((df_2['month'] == 9) | (df_2['month'] == 10)) ]\n",
    "df_2 = df_2[df_2['hour'] >= 8]\n",
    "df_2 = df_2[df_2['hour'] <= 10]\n",
    "df_2 = df_2.assign(DAY_TYPE = 'B')\n",
    "len(df_2)"
   ]
  },
  {
   "cell_type": "code",
   "execution_count": 12,
   "id": "0d406b2c",
   "metadata": {},
   "outputs": [
    {
     "data": {
      "text/plain": [
       "31819"
      ]
     },
     "execution_count": 12,
     "metadata": {},
     "output_type": "execute_result"
    }
   ],
   "source": [
    "df_3 = df[ ((df['weekday'] <= 4)) ]\n",
    "df_3 = df_3[ ((df_3['month'] == 5) | (df_3['month'] == 6)) ]\n",
    "df_3 = df_3[df_3['hour'] >= 17]\n",
    "df_3 = df_3[df_3['hour'] <= 19]\n",
    "df_3 = df_3.assign(DAY_TYPE = 'C')\n",
    "len(df_3)"
   ]
  },
  {
   "cell_type": "code",
   "execution_count": 13,
   "id": "37f251ec",
   "metadata": {},
   "outputs": [
    {
     "data": {
      "text/plain": [
       "42472"
      ]
     },
     "execution_count": 13,
     "metadata": {},
     "output_type": "execute_result"
    }
   ],
   "source": [
    "df_4 = df[ ((df['weekday'] == 5)) ]\n",
    "df_4 = df_4[df_4['hour'] >= 3]\n",
    "df_4 = df_4[df_4['hour'] <= 5]\n",
    "df_4 = df_4.assign(DAY_TYPE = 'D')\n",
    "len(df_4)"
   ]
  },
  {
   "cell_type": "code",
   "execution_count": 14,
   "id": "9daa3836",
   "metadata": {},
   "outputs": [
    {
     "data": {
      "text/plain": [
       "22172"
      ]
     },
     "execution_count": 14,
     "metadata": {},
     "output_type": "execute_result"
    }
   ],
   "source": [
    "df_5 = df[ ((df['day'] >= 20) & (df['month'] == 12) & (df['day'] <= 23)) ]\n",
    "df_5 = df_5.assign(DAY_TYPE = 'E')\n",
    "len(df_5)"
   ]
  },
  {
   "cell_type": "code",
   "execution_count": 15,
   "id": "d7d52c30",
   "metadata": {},
   "outputs": [
    {
     "data": {
      "text/plain": [
       "165388"
      ]
     },
     "execution_count": 15,
     "metadata": {},
     "output_type": "execute_result"
    }
   ],
   "source": [
    "df_train = pd.concat([df_1, df_2, df_3, df_4, df_5], axis = 0)\n",
    "len(df_train)"
   ]
  },
  {
   "cell_type": "code",
   "execution_count": 16,
   "id": "63fcb47d",
   "metadata": {},
   "outputs": [],
   "source": [
    "df = df_train"
   ]
  },
  {
   "cell_type": "code",
   "execution_count": 17,
   "id": "fb71392a",
   "metadata": {},
   "outputs": [
    {
     "data": {
      "text/html": [
       "<div>\n",
       "<style scoped>\n",
       "    .dataframe tbody tr th:only-of-type {\n",
       "        vertical-align: middle;\n",
       "    }\n",
       "\n",
       "    .dataframe tbody tr th {\n",
       "        vertical-align: top;\n",
       "    }\n",
       "\n",
       "    .dataframe thead th {\n",
       "        text-align: right;\n",
       "    }\n",
       "</style>\n",
       "<table border=\"1\" class=\"dataframe\">\n",
       "  <thead>\n",
       "    <tr style=\"text-align: right;\">\n",
       "      <th></th>\n",
       "      <th>CALL_TYPE</th>\n",
       "      <th>ORIGIN_CALL</th>\n",
       "      <th>ORIGIN_STAND</th>\n",
       "      <th>TAXI_ID</th>\n",
       "      <th>TIMESTAMP</th>\n",
       "      <th>DAY_TYPE</th>\n",
       "      <th>POLYLINE</th>\n",
       "      <th>target</th>\n",
       "      <th>year</th>\n",
       "      <th>month</th>\n",
       "      <th>day</th>\n",
       "      <th>hour</th>\n",
       "      <th>weekday</th>\n",
       "    </tr>\n",
       "  </thead>\n",
       "  <tbody>\n",
       "    <tr>\n",
       "      <th>200188</th>\n",
       "      <td>B</td>\n",
       "      <td>NaN</td>\n",
       "      <td>34.0</td>\n",
       "      <td>20000010</td>\n",
       "      <td>1376438529</td>\n",
       "      <td>A</td>\n",
       "      <td>[[-8.615691,41.140629],[-8.615385,41.140764],[...</td>\n",
       "      <td>480.0</td>\n",
       "      <td>2013</td>\n",
       "      <td>8</td>\n",
       "      <td>14</td>\n",
       "      <td>1</td>\n",
       "      <td>2</td>\n",
       "    </tr>\n",
       "    <tr>\n",
       "      <th>200202</th>\n",
       "      <td>C</td>\n",
       "      <td>NaN</td>\n",
       "      <td>NaN</td>\n",
       "      <td>20000304</td>\n",
       "      <td>1376438909</td>\n",
       "      <td>A</td>\n",
       "      <td>[[-8.594631,41.150664],[-8.595468,41.15016],[-...</td>\n",
       "      <td>300.0</td>\n",
       "      <td>2013</td>\n",
       "      <td>8</td>\n",
       "      <td>14</td>\n",
       "      <td>1</td>\n",
       "      <td>2</td>\n",
       "    </tr>\n",
       "    <tr>\n",
       "      <th>200204</th>\n",
       "      <td>B</td>\n",
       "      <td>NaN</td>\n",
       "      <td>34.0</td>\n",
       "      <td>20000572</td>\n",
       "      <td>1376438510</td>\n",
       "      <td>A</td>\n",
       "      <td>[[-8.61561,41.140827],[-8.615592,41.140809],[-...</td>\n",
       "      <td>420.0</td>\n",
       "      <td>2013</td>\n",
       "      <td>8</td>\n",
       "      <td>14</td>\n",
       "      <td>1</td>\n",
       "      <td>2</td>\n",
       "    </tr>\n",
       "    <tr>\n",
       "      <th>200210</th>\n",
       "      <td>C</td>\n",
       "      <td>NaN</td>\n",
       "      <td>NaN</td>\n",
       "      <td>20000570</td>\n",
       "      <td>1376439240</td>\n",
       "      <td>A</td>\n",
       "      <td>[[-8.610435,41.153589],[-8.611047,41.153634],[...</td>\n",
       "      <td>465.0</td>\n",
       "      <td>2013</td>\n",
       "      <td>8</td>\n",
       "      <td>14</td>\n",
       "      <td>1</td>\n",
       "      <td>2</td>\n",
       "    </tr>\n",
       "    <tr>\n",
       "      <th>200223</th>\n",
       "      <td>B</td>\n",
       "      <td>NaN</td>\n",
       "      <td>9.0</td>\n",
       "      <td>20000173</td>\n",
       "      <td>1376438918</td>\n",
       "      <td>A</td>\n",
       "      <td>[[-8.606439,41.144679],[-8.60643,41.14467],[-8...</td>\n",
       "      <td>450.0</td>\n",
       "      <td>2013</td>\n",
       "      <td>8</td>\n",
       "      <td>14</td>\n",
       "      <td>1</td>\n",
       "      <td>2</td>\n",
       "    </tr>\n",
       "  </tbody>\n",
       "</table>\n",
       "</div>"
      ],
      "text/plain": [
       "       CALL_TYPE  ORIGIN_CALL  ORIGIN_STAND   TAXI_ID   TIMESTAMP DAY_TYPE  \\\n",
       "200188         B          NaN          34.0  20000010  1376438529        A   \n",
       "200202         C          NaN           NaN  20000304  1376438909        A   \n",
       "200204         B          NaN          34.0  20000572  1376438510        A   \n",
       "200210         C          NaN           NaN  20000570  1376439240        A   \n",
       "200223         B          NaN           9.0  20000173  1376438918        A   \n",
       "\n",
       "                                                 POLYLINE  target  year  \\\n",
       "200188  [[-8.615691,41.140629],[-8.615385,41.140764],[...   480.0  2013   \n",
       "200202  [[-8.594631,41.150664],[-8.595468,41.15016],[-...   300.0  2013   \n",
       "200204  [[-8.61561,41.140827],[-8.615592,41.140809],[-...   420.0  2013   \n",
       "200210  [[-8.610435,41.153589],[-8.611047,41.153634],[...   465.0  2013   \n",
       "200223  [[-8.606439,41.144679],[-8.60643,41.14467],[-8...   450.0  2013   \n",
       "\n",
       "        month  day  hour  weekday  \n",
       "200188      8   14     1        2  \n",
       "200202      8   14     1        2  \n",
       "200204      8   14     1        2  \n",
       "200210      8   14     1        2  \n",
       "200223      8   14     1        2  "
      ]
     },
     "execution_count": 17,
     "metadata": {},
     "output_type": "execute_result"
    }
   ],
   "source": [
    "df = df.drop(columns=['TRIP_ID','MISSING_DATA'])\n",
    "df.head()"
   ]
  },
  {
   "cell_type": "code",
   "execution_count": 18,
   "id": "3bdeb1ca",
   "metadata": {},
   "outputs": [],
   "source": [
    "df['TAXI_ID'] -= 20000000"
   ]
  },
  {
   "cell_type": "code",
   "execution_count": 19,
   "id": "705cf15f",
   "metadata": {},
   "outputs": [],
   "source": [
    "df['quarterHr'] = ((df['hour']-1) / 6).astype(int)"
   ]
  },
  {
   "cell_type": "code",
   "execution_count": 20,
   "id": "0e8c3328",
   "metadata": {},
   "outputs": [],
   "source": [
    "df['call_A'] = df[\"CALL_TYPE\"].apply(lambda x : int(x == 'A'))\n",
    "df['call_B'] = df[\"CALL_TYPE\"].apply(lambda x : int(x == 'B'))\n",
    "df['call_C'] = df[\"CALL_TYPE\"].apply(lambda x : int(x == 'C'))"
   ]
  },
  {
   "cell_type": "code",
   "execution_count": 21,
   "id": "4710edd2",
   "metadata": {},
   "outputs": [],
   "source": [
    "df['day_A'] = df[\"DAY_TYPE\"].apply(lambda x : int(x == 'A'))\n",
    "df['day_B'] = df[\"DAY_TYPE\"].apply(lambda x : int(x == 'B'))\n",
    "df['day_C'] = df[\"DAY_TYPE\"].apply(lambda x : int(x == 'C'))\n",
    "df['day_D'] = df[\"DAY_TYPE\"].apply(lambda x : int(x == 'D'))\n",
    "df['day_E'] = df[\"DAY_TYPE\"].apply(lambda x : int(x == 'E'))"
   ]
  },
  {
   "cell_type": "markdown",
   "id": "54d0a1d8",
   "metadata": {},
   "source": [
    "train_id_mean = df['TAXI_ID'].mean()\n",
    "train_id_std = df['TAXI_ID'].std()\n",
    "df['TAXI_ID'] = (df['TAXI_ID'] - train_id_mean)/ train_id_std"
   ]
  },
  {
   "cell_type": "code",
   "execution_count": 22,
   "id": "8af73925",
   "metadata": {},
   "outputs": [
    {
     "data": {
      "text/plain": [
       "718.4076538085938"
      ]
     },
     "execution_count": 22,
     "metadata": {},
     "output_type": "execute_result"
    }
   ],
   "source": [
    "df_slice = df[df['ORIGIN_STAND'].isna()]\n",
    "stand_nan_mean = df_slice['target'].mean()\n",
    "stand_nan_mean"
   ]
  },
  {
   "cell_type": "code",
   "execution_count": 23,
   "id": "7de370f3",
   "metadata": {},
   "outputs": [],
   "source": [
    "stands = set()\n",
    "stand_to_mean = {}\n",
    "df_temp = df[~df['ORIGIN_STAND'].isna()]\n",
    "for ind, r in df_temp.iterrows():\n",
    "    stands.add(r['ORIGIN_STAND'])\n",
    "for i in stands:\n",
    "    stand_to_mean[i] = df[df['ORIGIN_STAND'] == i]['target'].mean()"
   ]
  },
  {
   "cell_type": "code",
   "execution_count": 24,
   "id": "712e1255",
   "metadata": {},
   "outputs": [],
   "source": [
    "def apply_mean_stand(stand):\n",
    "    if pd.isna(stand):\n",
    "        return stand_nan_mean\n",
    "    else:\n",
    "        return stand_to_mean[stand]"
   ]
  },
  {
   "cell_type": "code",
   "execution_count": 25,
   "id": "279b5fb1",
   "metadata": {},
   "outputs": [],
   "source": [
    "taxi_ids = set()\n",
    "for ind, r in df.iterrows():\n",
    "    taxi_ids.add(r['TAXI_ID'])\n",
    "taxi_id_to_mean = {}\n",
    "for i in taxi_ids:\n",
    "    taxi_id_to_mean[i] = df[df['TAXI_ID'] == i]['target'].mean()"
   ]
  },
  {
   "cell_type": "code",
   "execution_count": 26,
   "id": "2efe61a7",
   "metadata": {},
   "outputs": [],
   "source": [
    "def apply_mean(taxi_id):\n",
    "    return taxi_id_to_mean[taxi_id]"
   ]
  },
  {
   "cell_type": "code",
   "execution_count": 27,
   "id": "70de16dd",
   "metadata": {},
   "outputs": [
    {
     "data": {
      "text/html": [
       "<div>\n",
       "<style scoped>\n",
       "    .dataframe tbody tr th:only-of-type {\n",
       "        vertical-align: middle;\n",
       "    }\n",
       "\n",
       "    .dataframe tbody tr th {\n",
       "        vertical-align: top;\n",
       "    }\n",
       "\n",
       "    .dataframe thead th {\n",
       "        text-align: right;\n",
       "    }\n",
       "</style>\n",
       "<table border=\"1\" class=\"dataframe\">\n",
       "  <thead>\n",
       "    <tr style=\"text-align: right;\">\n",
       "      <th></th>\n",
       "      <th>CALL_TYPE</th>\n",
       "      <th>ORIGIN_CALL</th>\n",
       "      <th>ORIGIN_STAND</th>\n",
       "      <th>TAXI_ID</th>\n",
       "      <th>TIMESTAMP</th>\n",
       "      <th>DAY_TYPE</th>\n",
       "      <th>POLYLINE</th>\n",
       "      <th>target</th>\n",
       "      <th>year</th>\n",
       "      <th>month</th>\n",
       "      <th>...</th>\n",
       "      <th>call_A</th>\n",
       "      <th>call_B</th>\n",
       "      <th>call_C</th>\n",
       "      <th>day_A</th>\n",
       "      <th>day_B</th>\n",
       "      <th>day_C</th>\n",
       "      <th>day_D</th>\n",
       "      <th>day_E</th>\n",
       "      <th>TAXI_ID_MEAN</th>\n",
       "      <th>STAND_MEAN</th>\n",
       "    </tr>\n",
       "  </thead>\n",
       "  <tbody>\n",
       "    <tr>\n",
       "      <th>200188</th>\n",
       "      <td>B</td>\n",
       "      <td>NaN</td>\n",
       "      <td>34.0</td>\n",
       "      <td>10</td>\n",
       "      <td>1376438529</td>\n",
       "      <td>A</td>\n",
       "      <td>[[-8.615691,41.140629],[-8.615385,41.140764],[...</td>\n",
       "      <td>480.0</td>\n",
       "      <td>2013</td>\n",
       "      <td>8</td>\n",
       "      <td>...</td>\n",
       "      <td>0</td>\n",
       "      <td>1</td>\n",
       "      <td>0</td>\n",
       "      <td>1</td>\n",
       "      <td>0</td>\n",
       "      <td>0</td>\n",
       "      <td>0</td>\n",
       "      <td>0</td>\n",
       "      <td>687.091064</td>\n",
       "      <td>671.156128</td>\n",
       "    </tr>\n",
       "    <tr>\n",
       "      <th>200202</th>\n",
       "      <td>C</td>\n",
       "      <td>NaN</td>\n",
       "      <td>NaN</td>\n",
       "      <td>304</td>\n",
       "      <td>1376438909</td>\n",
       "      <td>A</td>\n",
       "      <td>[[-8.594631,41.150664],[-8.595468,41.15016],[-...</td>\n",
       "      <td>300.0</td>\n",
       "      <td>2013</td>\n",
       "      <td>8</td>\n",
       "      <td>...</td>\n",
       "      <td>0</td>\n",
       "      <td>0</td>\n",
       "      <td>1</td>\n",
       "      <td>1</td>\n",
       "      <td>0</td>\n",
       "      <td>0</td>\n",
       "      <td>0</td>\n",
       "      <td>0</td>\n",
       "      <td>699.678162</td>\n",
       "      <td>718.407654</td>\n",
       "    </tr>\n",
       "    <tr>\n",
       "      <th>200204</th>\n",
       "      <td>B</td>\n",
       "      <td>NaN</td>\n",
       "      <td>34.0</td>\n",
       "      <td>572</td>\n",
       "      <td>1376438510</td>\n",
       "      <td>A</td>\n",
       "      <td>[[-8.61561,41.140827],[-8.615592,41.140809],[-...</td>\n",
       "      <td>420.0</td>\n",
       "      <td>2013</td>\n",
       "      <td>8</td>\n",
       "      <td>...</td>\n",
       "      <td>0</td>\n",
       "      <td>1</td>\n",
       "      <td>0</td>\n",
       "      <td>1</td>\n",
       "      <td>0</td>\n",
       "      <td>0</td>\n",
       "      <td>0</td>\n",
       "      <td>0</td>\n",
       "      <td>670.640015</td>\n",
       "      <td>671.156128</td>\n",
       "    </tr>\n",
       "    <tr>\n",
       "      <th>200210</th>\n",
       "      <td>C</td>\n",
       "      <td>NaN</td>\n",
       "      <td>NaN</td>\n",
       "      <td>570</td>\n",
       "      <td>1376439240</td>\n",
       "      <td>A</td>\n",
       "      <td>[[-8.610435,41.153589],[-8.611047,41.153634],[...</td>\n",
       "      <td>465.0</td>\n",
       "      <td>2013</td>\n",
       "      <td>8</td>\n",
       "      <td>...</td>\n",
       "      <td>0</td>\n",
       "      <td>0</td>\n",
       "      <td>1</td>\n",
       "      <td>1</td>\n",
       "      <td>0</td>\n",
       "      <td>0</td>\n",
       "      <td>0</td>\n",
       "      <td>0</td>\n",
       "      <td>684.038940</td>\n",
       "      <td>718.407654</td>\n",
       "    </tr>\n",
       "    <tr>\n",
       "      <th>200223</th>\n",
       "      <td>B</td>\n",
       "      <td>NaN</td>\n",
       "      <td>9.0</td>\n",
       "      <td>173</td>\n",
       "      <td>1376438918</td>\n",
       "      <td>A</td>\n",
       "      <td>[[-8.606439,41.144679],[-8.60643,41.14467],[-8...</td>\n",
       "      <td>450.0</td>\n",
       "      <td>2013</td>\n",
       "      <td>8</td>\n",
       "      <td>...</td>\n",
       "      <td>0</td>\n",
       "      <td>1</td>\n",
       "      <td>0</td>\n",
       "      <td>1</td>\n",
       "      <td>0</td>\n",
       "      <td>0</td>\n",
       "      <td>0</td>\n",
       "      <td>0</td>\n",
       "      <td>588.278809</td>\n",
       "      <td>765.755249</td>\n",
       "    </tr>\n",
       "  </tbody>\n",
       "</table>\n",
       "<p>5 rows × 24 columns</p>\n",
       "</div>"
      ],
      "text/plain": [
       "       CALL_TYPE  ORIGIN_CALL  ORIGIN_STAND  TAXI_ID   TIMESTAMP DAY_TYPE  \\\n",
       "200188         B          NaN          34.0       10  1376438529        A   \n",
       "200202         C          NaN           NaN      304  1376438909        A   \n",
       "200204         B          NaN          34.0      572  1376438510        A   \n",
       "200210         C          NaN           NaN      570  1376439240        A   \n",
       "200223         B          NaN           9.0      173  1376438918        A   \n",
       "\n",
       "                                                 POLYLINE  target  year  \\\n",
       "200188  [[-8.615691,41.140629],[-8.615385,41.140764],[...   480.0  2013   \n",
       "200202  [[-8.594631,41.150664],[-8.595468,41.15016],[-...   300.0  2013   \n",
       "200204  [[-8.61561,41.140827],[-8.615592,41.140809],[-...   420.0  2013   \n",
       "200210  [[-8.610435,41.153589],[-8.611047,41.153634],[...   465.0  2013   \n",
       "200223  [[-8.606439,41.144679],[-8.60643,41.14467],[-8...   450.0  2013   \n",
       "\n",
       "        month  ...  call_A  call_B  call_C  day_A  day_B  day_C  day_D  day_E  \\\n",
       "200188      8  ...       0       1       0      1      0      0      0      0   \n",
       "200202      8  ...       0       0       1      1      0      0      0      0   \n",
       "200204      8  ...       0       1       0      1      0      0      0      0   \n",
       "200210      8  ...       0       0       1      1      0      0      0      0   \n",
       "200223      8  ...       0       1       0      1      0      0      0      0   \n",
       "\n",
       "        TAXI_ID_MEAN  STAND_MEAN  \n",
       "200188    687.091064  671.156128  \n",
       "200202    699.678162  718.407654  \n",
       "200204    670.640015  671.156128  \n",
       "200210    684.038940  718.407654  \n",
       "200223    588.278809  765.755249  \n",
       "\n",
       "[5 rows x 24 columns]"
      ]
     },
     "execution_count": 27,
     "metadata": {},
     "output_type": "execute_result"
    }
   ],
   "source": [
    "df['TAXI_ID_MEAN'] = df['TAXI_ID'].apply(apply_mean)\n",
    "df['STAND_MEAN'] = df['ORIGIN_STAND'].apply(apply_mean_stand)\n",
    "df.head()"
   ]
  },
  {
   "cell_type": "code",
   "execution_count": 28,
   "id": "1b92c41e",
   "metadata": {},
   "outputs": [],
   "source": [
    "train_id_mean = df['TAXI_ID_MEAN'].mean()\n",
    "train_id_std = df['TAXI_ID_MEAN'].std()"
   ]
  },
  {
   "cell_type": "code",
   "execution_count": 29,
   "id": "287a80cb",
   "metadata": {},
   "outputs": [],
   "source": [
    "train_stand_mean = df['STAND_MEAN'].mean()\n",
    "train_stand_std = df['STAND_MEAN'].std()"
   ]
  },
  {
   "cell_type": "code",
   "execution_count": 30,
   "id": "da99a7f3",
   "metadata": {},
   "outputs": [],
   "source": [
    "def normalize(col_name):\n",
    "    df[col_name] = np.float32((df[col_name] - df[col_name].mean())/df[col_name].std())"
   ]
  },
  {
   "cell_type": "code",
   "execution_count": 31,
   "id": "e85cc21e",
   "metadata": {},
   "outputs": [],
   "source": [
    "def parse_num(str, index):\n",
    "    comma_pos = str.find(',')\n",
    "    if comma_pos == -1:\n",
    "        return None\n",
    "    if index == 0:\n",
    "        return np.float32(str[2:comma_pos])\n",
    "    else:\n",
    "        return np.float32(str[comma_pos + 1:str.find(']')])"
   ]
  },
  {
   "cell_type": "code",
   "execution_count": 32,
   "id": "8d6272ad",
   "metadata": {},
   "outputs": [
    {
     "data": {
      "text/plain": [
       "165388"
      ]
     },
     "execution_count": 32,
     "metadata": {},
     "output_type": "execute_result"
    }
   ],
   "source": [
    "df['Init_longitude'] = df['POLYLINE'].apply(lambda x : parse_num(x,0))\n",
    "df['Init_latitude'] = df['POLYLINE'].apply(lambda x : parse_num(x,1))\n",
    "df = df.loc[df['Init_longitude'] != None]\n",
    "df = df.loc[df['Init_latitude'] != None]\n",
    "train_long_mean = df['Init_longitude'].mean()\n",
    "train_lat_mean = df['Init_latitude'].mean()\n",
    "train_long_std = df['Init_longitude'].std()\n",
    "train_lat_std = df['Init_latitude'].std()\n",
    "normalize('Init_longitude')\n",
    "normalize('Init_latitude')\n",
    "len(df)"
   ]
  },
  {
   "cell_type": "code",
   "execution_count": 33,
   "id": "c5e78130",
   "metadata": {},
   "outputs": [],
   "source": [
    "normalize('STAND_MEAN')\n",
    "normalize('TAXI_ID_MEAN')"
   ]
  },
  {
   "cell_type": "code",
   "execution_count": 34,
   "id": "6847bdd6",
   "metadata": {},
   "outputs": [],
   "source": [
    "def treat_nan(x):\n",
    "    if pd.isna(x):\n",
    "        return -1\n",
    "    else:\n",
    "        return x"
   ]
  },
  {
   "cell_type": "code",
   "execution_count": 35,
   "id": "fe27e22d",
   "metadata": {},
   "outputs": [],
   "source": [
    "df['ORIGIN_STAND'] = df['ORIGIN_STAND'].apply(treat_nan)"
   ]
  },
  {
   "cell_type": "code",
   "execution_count": 36,
   "id": "39e72f28",
   "metadata": {},
   "outputs": [
    {
     "data": {
      "text/html": [
       "<div>\n",
       "<style scoped>\n",
       "    .dataframe tbody tr th:only-of-type {\n",
       "        vertical-align: middle;\n",
       "    }\n",
       "\n",
       "    .dataframe tbody tr th {\n",
       "        vertical-align: top;\n",
       "    }\n",
       "\n",
       "    .dataframe thead th {\n",
       "        text-align: right;\n",
       "    }\n",
       "</style>\n",
       "<table border=\"1\" class=\"dataframe\">\n",
       "  <thead>\n",
       "    <tr style=\"text-align: right;\">\n",
       "      <th></th>\n",
       "      <th>CALL_TYPE</th>\n",
       "      <th>ORIGIN_CALL</th>\n",
       "      <th>ORIGIN_STAND</th>\n",
       "      <th>TAXI_ID</th>\n",
       "      <th>TIMESTAMP</th>\n",
       "      <th>DAY_TYPE</th>\n",
       "      <th>POLYLINE</th>\n",
       "      <th>target</th>\n",
       "      <th>year</th>\n",
       "      <th>month</th>\n",
       "      <th>...</th>\n",
       "      <th>call_C</th>\n",
       "      <th>day_A</th>\n",
       "      <th>day_B</th>\n",
       "      <th>day_C</th>\n",
       "      <th>day_D</th>\n",
       "      <th>day_E</th>\n",
       "      <th>TAXI_ID_MEAN</th>\n",
       "      <th>STAND_MEAN</th>\n",
       "      <th>Init_longitude</th>\n",
       "      <th>Init_latitude</th>\n",
       "    </tr>\n",
       "  </thead>\n",
       "  <tbody>\n",
       "    <tr>\n",
       "      <th>200188</th>\n",
       "      <td>B</td>\n",
       "      <td>NaN</td>\n",
       "      <td>34.0</td>\n",
       "      <td>10</td>\n",
       "      <td>1376438529</td>\n",
       "      <td>A</td>\n",
       "      <td>[[-8.615691,41.140629],[-8.615385,41.140764],[...</td>\n",
       "      <td>480.0</td>\n",
       "      <td>2013</td>\n",
       "      <td>8</td>\n",
       "      <td>...</td>\n",
       "      <td>0</td>\n",
       "      <td>1</td>\n",
       "      <td>0</td>\n",
       "      <td>0</td>\n",
       "      <td>0</td>\n",
       "      <td>0</td>\n",
       "      <td>-0.113276</td>\n",
       "      <td>-0.444278</td>\n",
       "      <td>0.223187</td>\n",
       "      <td>0.521428</td>\n",
       "    </tr>\n",
       "    <tr>\n",
       "      <th>200202</th>\n",
       "      <td>C</td>\n",
       "      <td>NaN</td>\n",
       "      <td>-1.0</td>\n",
       "      <td>304</td>\n",
       "      <td>1376438909</td>\n",
       "      <td>A</td>\n",
       "      <td>[[-8.594631,41.150664],[-8.595468,41.15016],[-...</td>\n",
       "      <td>300.0</td>\n",
       "      <td>2013</td>\n",
       "      <td>8</td>\n",
       "      <td>...</td>\n",
       "      <td>1</td>\n",
       "      <td>1</td>\n",
       "      <td>0</td>\n",
       "      <td>0</td>\n",
       "      <td>0</td>\n",
       "      <td>0</td>\n",
       "      <td>0.037287</td>\n",
       "      <td>0.381993</td>\n",
       "      <td>1.067421</td>\n",
       "      <td>0.778478</td>\n",
       "    </tr>\n",
       "    <tr>\n",
       "      <th>200204</th>\n",
       "      <td>B</td>\n",
       "      <td>NaN</td>\n",
       "      <td>34.0</td>\n",
       "      <td>572</td>\n",
       "      <td>1376438510</td>\n",
       "      <td>A</td>\n",
       "      <td>[[-8.61561,41.140827],[-8.615592,41.140809],[-...</td>\n",
       "      <td>420.0</td>\n",
       "      <td>2013</td>\n",
       "      <td>8</td>\n",
       "      <td>...</td>\n",
       "      <td>0</td>\n",
       "      <td>1</td>\n",
       "      <td>0</td>\n",
       "      <td>0</td>\n",
       "      <td>0</td>\n",
       "      <td>0</td>\n",
       "      <td>-0.310059</td>\n",
       "      <td>-0.444278</td>\n",
       "      <td>0.226437</td>\n",
       "      <td>0.526508</td>\n",
       "    </tr>\n",
       "    <tr>\n",
       "      <th>200210</th>\n",
       "      <td>C</td>\n",
       "      <td>NaN</td>\n",
       "      <td>-1.0</td>\n",
       "      <td>570</td>\n",
       "      <td>1376439240</td>\n",
       "      <td>A</td>\n",
       "      <td>[[-8.610435,41.153589],[-8.611047,41.153634],[...</td>\n",
       "      <td>465.0</td>\n",
       "      <td>2013</td>\n",
       "      <td>8</td>\n",
       "      <td>...</td>\n",
       "      <td>1</td>\n",
       "      <td>1</td>\n",
       "      <td>0</td>\n",
       "      <td>0</td>\n",
       "      <td>0</td>\n",
       "      <td>0</td>\n",
       "      <td>-0.149785</td>\n",
       "      <td>0.381993</td>\n",
       "      <td>0.433911</td>\n",
       "      <td>0.853316</td>\n",
       "    </tr>\n",
       "    <tr>\n",
       "      <th>200223</th>\n",
       "      <td>B</td>\n",
       "      <td>NaN</td>\n",
       "      <td>9.0</td>\n",
       "      <td>173</td>\n",
       "      <td>1376438918</td>\n",
       "      <td>A</td>\n",
       "      <td>[[-8.606439,41.144679],[-8.60643,41.14467],[-8...</td>\n",
       "      <td>450.0</td>\n",
       "      <td>2013</td>\n",
       "      <td>8</td>\n",
       "      <td>...</td>\n",
       "      <td>0</td>\n",
       "      <td>1</td>\n",
       "      <td>0</td>\n",
       "      <td>0</td>\n",
       "      <td>0</td>\n",
       "      <td>0</td>\n",
       "      <td>-1.295242</td>\n",
       "      <td>1.209945</td>\n",
       "      <td>0.594095</td>\n",
       "      <td>0.625186</td>\n",
       "    </tr>\n",
       "  </tbody>\n",
       "</table>\n",
       "<p>5 rows × 26 columns</p>\n",
       "</div>"
      ],
      "text/plain": [
       "       CALL_TYPE  ORIGIN_CALL  ORIGIN_STAND  TAXI_ID   TIMESTAMP DAY_TYPE  \\\n",
       "200188         B          NaN          34.0       10  1376438529        A   \n",
       "200202         C          NaN          -1.0      304  1376438909        A   \n",
       "200204         B          NaN          34.0      572  1376438510        A   \n",
       "200210         C          NaN          -1.0      570  1376439240        A   \n",
       "200223         B          NaN           9.0      173  1376438918        A   \n",
       "\n",
       "                                                 POLYLINE  target  year  \\\n",
       "200188  [[-8.615691,41.140629],[-8.615385,41.140764],[...   480.0  2013   \n",
       "200202  [[-8.594631,41.150664],[-8.595468,41.15016],[-...   300.0  2013   \n",
       "200204  [[-8.61561,41.140827],[-8.615592,41.140809],[-...   420.0  2013   \n",
       "200210  [[-8.610435,41.153589],[-8.611047,41.153634],[...   465.0  2013   \n",
       "200223  [[-8.606439,41.144679],[-8.60643,41.14467],[-8...   450.0  2013   \n",
       "\n",
       "        month  ...  call_C  day_A  day_B  day_C  day_D  day_E  TAXI_ID_MEAN  \\\n",
       "200188      8  ...       0      1      0      0      0      0     -0.113276   \n",
       "200202      8  ...       1      1      0      0      0      0      0.037287   \n",
       "200204      8  ...       0      1      0      0      0      0     -0.310059   \n",
       "200210      8  ...       1      1      0      0      0      0     -0.149785   \n",
       "200223      8  ...       0      1      0      0      0      0     -1.295242   \n",
       "\n",
       "        STAND_MEAN  Init_longitude  Init_latitude  \n",
       "200188   -0.444278        0.223187       0.521428  \n",
       "200202    0.381993        1.067421       0.778478  \n",
       "200204   -0.444278        0.226437       0.526508  \n",
       "200210    0.381993        0.433911       0.853316  \n",
       "200223    1.209945        0.594095       0.625186  \n",
       "\n",
       "[5 rows x 26 columns]"
      ]
     },
     "execution_count": 36,
     "metadata": {},
     "output_type": "execute_result"
    }
   ],
   "source": [
    "df.head()"
   ]
  },
  {
   "cell_type": "code",
   "execution_count": 37,
   "id": "eee27bb5",
   "metadata": {},
   "outputs": [
    {
     "data": {
      "text/plain": [
       "227"
      ]
     },
     "execution_count": 37,
     "metadata": {},
     "output_type": "execute_result"
    }
   ],
   "source": [
    "vocab_size = len(df['month'].unique()) + len(df['weekday'].unique()) + len(df['hour'].unique()) + len(df['target'].unique())\n",
    "vocab_size"
   ]
  },
  {
   "cell_type": "markdown",
   "id": "fb5cd42d",
   "metadata": {},
   "source": [
    "vocabs = set()\n",
    "for s in df['month'].unique():\n",
    "    vocabs.add(s)\n",
    "for s in df['weekday'].unique():\n",
    "    vocabs.add(s)\n",
    "for s in df['hour'].unique():\n",
    "    vocabs.add(s)\n",
    "for s in df['target'].unique():\n",
    "    vocabs.add(s)\n",
    "v_s = sorted(list(vocabs))\n",
    "v_to_ix = { ch:i for i,ch in enumerate(chars) }\n"
   ]
  },
  {
   "cell_type": "code",
   "execution_count": 38,
   "id": "4547d0c9",
   "metadata": {},
   "outputs": [],
   "source": [
    "lstm_set = torch.reshape(torch.IntTensor(df['month'].values),(-1,1))\n",
    "col_list_lstm = ['weekday', 'hour','target']\n",
    "for col_name in col_list_lstm:\n",
    "#     print(train_set.dtype)\n",
    "    lstm_set = torch.cat((lstm_set,torch.reshape(torch.from_numpy(df[col_name].values),(-1,1))),1)\n",
    "lstm_set = lstm_set.type(torch.LongTensor)"
   ]
  },
  {
   "cell_type": "code",
   "execution_count": 54,
   "id": "709a7a87",
   "metadata": {},
   "outputs": [],
   "source": [
    "class LSTM(nn.Module):\n",
    "    def __init__(self, input_size, embedding_size, output_size, hidden_size):\n",
    "        super(LSTM, self).__init__()\n",
    "        self.embedding = nn.Embedding(input_size, embedding_size)\n",
    "        self.rnn = nn.LSTM(input_size=input_size, hidden_size=hidden_size, num_layers = 3)\n",
    "        self.decoder = nn.Linear(hidden_size, output_size)\n",
    "        self.dropout = nn.Dropout(p = 0.5)\n",
    "    \n",
    "    def forward(self, input_seq, hidden_state):\n",
    "        embedding = self.embedding(input_seq)\n",
    "        output, hidden_state = self.rnn(embedding, hidden_state)\n",
    "        output = self.decoder(output)\n",
    "        output = self.dropout(output)\n",
    "        return output, (hidden_state[0].detach(), hidden_state[1].detach())"
   ]
  },
  {
   "cell_type": "code",
   "execution_count": 55,
   "id": "ef438bc2",
   "metadata": {},
   "outputs": [],
   "source": [
    "model = LSTM(input_size=vocab_size, embedding_size=vocab_size, output_size=vocab_size, hidden_size=256)\n",
    "loss_fn = nn.functional.nll_loss\n",
    "#loss_fn = nn.CrossEntropyLoss()\n"
   ]
  },
  {
   "cell_type": "code",
   "execution_count": 53,
   "id": "15ab3801",
   "metadata": {},
   "outputs": [
    {
     "data": {
      "text/plain": [
       "tensor([  8,   2,   1, 480])"
      ]
     },
     "execution_count": 53,
     "metadata": {},
     "output_type": "execute_result"
    }
   ],
   "source": [
    "lstm_set[0]"
   ]
  },
  {
   "cell_type": "code",
   "execution_count": 56,
   "id": "f825797e",
   "metadata": {},
   "outputs": [],
   "source": [
    "from tqdm import tqdm"
   ]
  },
  {
   "cell_type": "code",
   "execution_count": 59,
   "id": "5bf0318d",
   "metadata": {},
   "outputs": [
    {
     "name": "stderr",
     "output_type": "stream",
     "text": [
      "  0%|          | 0/15 [00:00<?, ?it/s]"
     ]
    },
    {
     "name": "stdout",
     "output_type": "stream",
     "text": [
      "3\n",
      "3\n",
      "3\n"
     ]
    },
    {
     "name": "stderr",
     "output_type": "stream",
     "text": [
      "\n"
     ]
    },
    {
     "ename": "IndexError",
     "evalue": "Target 480 is out of bounds.",
     "output_type": "error",
     "traceback": [
      "\u001b[1;31m---------------------------------------------------------------------------\u001b[0m",
      "\u001b[1;31mIndexError\u001b[0m                                Traceback (most recent call last)",
      "\u001b[1;32m~\\AppData\\Local\\Temp/ipykernel_28308/855754063.py\u001b[0m in \u001b[0;36m<module>\u001b[1;34m\u001b[0m\n\u001b[0;32m     19\u001b[0m         \u001b[1;31m#print(target_seq)\u001b[0m\u001b[1;33m\u001b[0m\u001b[1;33m\u001b[0m\u001b[0m\n\u001b[0;32m     20\u001b[0m         \u001b[1;31m# compute loss\u001b[0m\u001b[1;33m\u001b[0m\u001b[1;33m\u001b[0m\u001b[0m\n\u001b[1;32m---> 21\u001b[1;33m         \u001b[0mloss\u001b[0m \u001b[1;33m=\u001b[0m \u001b[0mloss_fn\u001b[0m\u001b[1;33m(\u001b[0m\u001b[0mtorch\u001b[0m\u001b[1;33m.\u001b[0m\u001b[0msqueeze\u001b[0m\u001b[1;33m(\u001b[0m\u001b[0moutput\u001b[0m\u001b[1;33m)\u001b[0m\u001b[1;33m,\u001b[0m \u001b[0mtorch\u001b[0m\u001b[1;33m.\u001b[0m\u001b[0msqueeze\u001b[0m\u001b[1;33m(\u001b[0m\u001b[0mtarget_seq\u001b[0m\u001b[1;33m)\u001b[0m\u001b[1;33m)\u001b[0m\u001b[1;33m\u001b[0m\u001b[1;33m\u001b[0m\u001b[0m\n\u001b[0m\u001b[0;32m     22\u001b[0m         \u001b[0mrunning_loss\u001b[0m \u001b[1;33m+=\u001b[0m \u001b[0mloss\u001b[0m\u001b[1;33m.\u001b[0m\u001b[0mitem\u001b[0m\u001b[1;33m(\u001b[0m\u001b[1;33m)\u001b[0m\u001b[1;33m\u001b[0m\u001b[1;33m\u001b[0m\u001b[0m\n\u001b[0;32m     23\u001b[0m \u001b[1;33m\u001b[0m\u001b[0m\n",
      "\u001b[1;32mC:\\ProgramData\\Anaconda3\\lib\\site-packages\\torch\\nn\\modules\\module.py\u001b[0m in \u001b[0;36m_call_impl\u001b[1;34m(self, *args, **kwargs)\u001b[0m\n\u001b[0;32m   1499\u001b[0m                 \u001b[1;32mor\u001b[0m \u001b[0m_global_backward_pre_hooks\u001b[0m \u001b[1;32mor\u001b[0m \u001b[0m_global_backward_hooks\u001b[0m\u001b[1;33m\u001b[0m\u001b[1;33m\u001b[0m\u001b[0m\n\u001b[0;32m   1500\u001b[0m                 or _global_forward_hooks or _global_forward_pre_hooks):\n\u001b[1;32m-> 1501\u001b[1;33m             \u001b[1;32mreturn\u001b[0m \u001b[0mforward_call\u001b[0m\u001b[1;33m(\u001b[0m\u001b[1;33m*\u001b[0m\u001b[0margs\u001b[0m\u001b[1;33m,\u001b[0m \u001b[1;33m**\u001b[0m\u001b[0mkwargs\u001b[0m\u001b[1;33m)\u001b[0m\u001b[1;33m\u001b[0m\u001b[1;33m\u001b[0m\u001b[0m\n\u001b[0m\u001b[0;32m   1502\u001b[0m         \u001b[1;31m# Do not call functions when jit is used\u001b[0m\u001b[1;33m\u001b[0m\u001b[1;33m\u001b[0m\u001b[0m\n\u001b[0;32m   1503\u001b[0m         \u001b[0mfull_backward_hooks\u001b[0m\u001b[1;33m,\u001b[0m \u001b[0mnon_full_backward_hooks\u001b[0m \u001b[1;33m=\u001b[0m \u001b[1;33m[\u001b[0m\u001b[1;33m]\u001b[0m\u001b[1;33m,\u001b[0m \u001b[1;33m[\u001b[0m\u001b[1;33m]\u001b[0m\u001b[1;33m\u001b[0m\u001b[1;33m\u001b[0m\u001b[0m\n",
      "\u001b[1;32mC:\\ProgramData\\Anaconda3\\lib\\site-packages\\torch\\nn\\modules\\loss.py\u001b[0m in \u001b[0;36mforward\u001b[1;34m(self, input, target)\u001b[0m\n\u001b[0;32m   1172\u001b[0m \u001b[1;33m\u001b[0m\u001b[0m\n\u001b[0;32m   1173\u001b[0m     \u001b[1;32mdef\u001b[0m \u001b[0mforward\u001b[0m\u001b[1;33m(\u001b[0m\u001b[0mself\u001b[0m\u001b[1;33m,\u001b[0m \u001b[0minput\u001b[0m\u001b[1;33m:\u001b[0m \u001b[0mTensor\u001b[0m\u001b[1;33m,\u001b[0m \u001b[0mtarget\u001b[0m\u001b[1;33m:\u001b[0m \u001b[0mTensor\u001b[0m\u001b[1;33m)\u001b[0m \u001b[1;33m->\u001b[0m \u001b[0mTensor\u001b[0m\u001b[1;33m:\u001b[0m\u001b[1;33m\u001b[0m\u001b[1;33m\u001b[0m\u001b[0m\n\u001b[1;32m-> 1174\u001b[1;33m         return F.cross_entropy(input, target, weight=self.weight,\n\u001b[0m\u001b[0;32m   1175\u001b[0m                                \u001b[0mignore_index\u001b[0m\u001b[1;33m=\u001b[0m\u001b[0mself\u001b[0m\u001b[1;33m.\u001b[0m\u001b[0mignore_index\u001b[0m\u001b[1;33m,\u001b[0m \u001b[0mreduction\u001b[0m\u001b[1;33m=\u001b[0m\u001b[0mself\u001b[0m\u001b[1;33m.\u001b[0m\u001b[0mreduction\u001b[0m\u001b[1;33m,\u001b[0m\u001b[1;33m\u001b[0m\u001b[1;33m\u001b[0m\u001b[0m\n\u001b[0;32m   1176\u001b[0m                                label_smoothing=self.label_smoothing)\n",
      "\u001b[1;32mC:\\ProgramData\\Anaconda3\\lib\\site-packages\\torch\\nn\\functional.py\u001b[0m in \u001b[0;36mcross_entropy\u001b[1;34m(input, target, weight, size_average, ignore_index, reduce, reduction, label_smoothing)\u001b[0m\n\u001b[0;32m   3027\u001b[0m     \u001b[1;32mif\u001b[0m \u001b[0msize_average\u001b[0m \u001b[1;32mis\u001b[0m \u001b[1;32mnot\u001b[0m \u001b[1;32mNone\u001b[0m \u001b[1;32mor\u001b[0m \u001b[0mreduce\u001b[0m \u001b[1;32mis\u001b[0m \u001b[1;32mnot\u001b[0m \u001b[1;32mNone\u001b[0m\u001b[1;33m:\u001b[0m\u001b[1;33m\u001b[0m\u001b[1;33m\u001b[0m\u001b[0m\n\u001b[0;32m   3028\u001b[0m         \u001b[0mreduction\u001b[0m \u001b[1;33m=\u001b[0m \u001b[0m_Reduction\u001b[0m\u001b[1;33m.\u001b[0m\u001b[0mlegacy_get_string\u001b[0m\u001b[1;33m(\u001b[0m\u001b[0msize_average\u001b[0m\u001b[1;33m,\u001b[0m \u001b[0mreduce\u001b[0m\u001b[1;33m)\u001b[0m\u001b[1;33m\u001b[0m\u001b[1;33m\u001b[0m\u001b[0m\n\u001b[1;32m-> 3029\u001b[1;33m     \u001b[1;32mreturn\u001b[0m \u001b[0mtorch\u001b[0m\u001b[1;33m.\u001b[0m\u001b[0m_C\u001b[0m\u001b[1;33m.\u001b[0m\u001b[0m_nn\u001b[0m\u001b[1;33m.\u001b[0m\u001b[0mcross_entropy_loss\u001b[0m\u001b[1;33m(\u001b[0m\u001b[0minput\u001b[0m\u001b[1;33m,\u001b[0m \u001b[0mtarget\u001b[0m\u001b[1;33m,\u001b[0m \u001b[0mweight\u001b[0m\u001b[1;33m,\u001b[0m \u001b[0m_Reduction\u001b[0m\u001b[1;33m.\u001b[0m\u001b[0mget_enum\u001b[0m\u001b[1;33m(\u001b[0m\u001b[0mreduction\u001b[0m\u001b[1;33m)\u001b[0m\u001b[1;33m,\u001b[0m \u001b[0mignore_index\u001b[0m\u001b[1;33m,\u001b[0m \u001b[0mlabel_smoothing\u001b[0m\u001b[1;33m)\u001b[0m\u001b[1;33m\u001b[0m\u001b[1;33m\u001b[0m\u001b[0m\n\u001b[0m\u001b[0;32m   3030\u001b[0m \u001b[1;33m\u001b[0m\u001b[0m\n\u001b[0;32m   3031\u001b[0m \u001b[1;33m\u001b[0m\u001b[0m\n",
      "\u001b[1;31mIndexError\u001b[0m: Target 480 is out of bounds."
     ]
    }
   ],
   "source": [
    "epochs = 15\n",
    "losses = []\n",
    "optimizer = torch.optim.Adam(model.parameters(), lr=0.0005)\n",
    "for i_epoch in tqdm(range(15)):\n",
    "    \n",
    "    running_loss = 0\n",
    "    for data in lstm_set:\n",
    "\n",
    "        hidden_state = None\n",
    "        input_seq = data[:3]\n",
    "        target_seq = data[1:]\n",
    "\n",
    "        # forward pass\n",
    "        output, _ = model(input_seq, hidden_state)\n",
    "        print(len(output))\n",
    "        print(len(torch.squeeze(output)))\n",
    "        print(len(torch.squeeze(target_seq)))\n",
    "        #print(torch.squeeze(output))\n",
    "        #print(target_seq)\n",
    "        # compute loss\n",
    "        loss = loss_fn(torch.squeeze(output), torch.squeeze(target_seq))\n",
    "        running_loss += loss.item()\n",
    "\n",
    "        # compute gradients and take optimizer step\n",
    "        optimizer.zero_grad()\n",
    "        loss.backward()\n",
    "        optimizer.step()\n",
    "    \n",
    "    losses.append(running_loss)\n",
    "    # print loss\n",
    "    if i_epoch % 1 == 0:\n",
    "        print(\"Epoch: {0} \\t Loss: {1:.8f}\".format(i_epoch, running_loss/n))"
   ]
  },
  {
   "cell_type": "code",
   "execution_count": null,
   "id": "d80730ec",
   "metadata": {},
   "outputs": [],
   "source": []
  },
  {
   "cell_type": "code",
   "execution_count": null,
   "id": "0e69b7d4",
   "metadata": {},
   "outputs": [],
   "source": [
    "#df.to_csv('cleaned.csv',index=False)"
   ]
  },
  {
   "cell_type": "code",
   "execution_count": null,
   "id": "e33f1b90",
   "metadata": {},
   "outputs": [],
   "source": [
    "stands = pd.read_csv(\"metaData_taxistandsID_name_GPSlocation.csv\")\n",
    "stand_dict = {}\n",
    "stands.head()\n",
    "for r, s in stands.iterrows():\n",
    "    stand_dict[s['ID']] = (np.float32(s['Longitude']), np.float32(s['Latitude']))"
   ]
  },
  {
   "cell_type": "code",
   "execution_count": null,
   "id": "205e2ff5",
   "metadata": {},
   "outputs": [],
   "source": [
    "df_test = pd.read_csv(\"test_public.csv\")"
   ]
  },
  {
   "cell_type": "code",
   "execution_count": null,
   "id": "da146f0f",
   "metadata": {},
   "outputs": [],
   "source": [
    "df_test = df_test.drop(columns=['ORIGIN_CALL','MISSING_DATA'])\n",
    "df_test.head()"
   ]
  },
  {
   "cell_type": "code",
   "execution_count": null,
   "id": "e6d9391c",
   "metadata": {},
   "outputs": [],
   "source": []
  },
  {
   "cell_type": "code",
   "execution_count": null,
   "id": "a8502a92",
   "metadata": {},
   "outputs": [],
   "source": [
    "times = df_test['TIMESTAMP'].apply(parse_time)\n",
    "df_test['year'] = [x for x,y,z,w,a in times]\n",
    "df_test['month'] = [y for x,y,z,w,a in times]\n",
    "df_test['day'] = [z for x,y,z,w,a in times]\n",
    "df_test['hour'] = [w for x,y,z,w,a in times]\n",
    "df_test['weekday'] = [a for x,y,z,w,a in times]\n",
    "df_test.head()"
   ]
  },
  {
   "cell_type": "code",
   "execution_count": null,
   "id": "099addb9",
   "metadata": {},
   "outputs": [],
   "source": [
    "len(df_test)"
   ]
  },
  {
   "cell_type": "code",
   "execution_count": null,
   "id": "30912a45",
   "metadata": {},
   "outputs": [],
   "source": [
    "df_test1 = df_test[(df_test['day'] == 14) & (df_test['month'] == 8)]\n",
    "#df_test1['DAY_TYPE'] = 'C'\n",
    "#8/14, one day before holiday, 18pm\n",
    "print(len(df_test1))\n",
    "df_test1 = df_test1.assign(DAY_TYPE = 'A')\n",
    "#df_test1.head()"
   ]
  },
  {
   "cell_type": "code",
   "execution_count": null,
   "id": "3bec88ee",
   "metadata": {},
   "outputs": [],
   "source": [
    "df_test2 = df_test[ ((df_test['day'] == 30) & (df_test['month'] == 9))] \n",
    "print(len(df_test2))\n",
    "df_test2 = df_test2.assign(DAY_TYPE = 'B')\n",
    "#9/30, normal weekday 7-9am"
   ]
  },
  {
   "cell_type": "code",
   "execution_count": null,
   "id": "4abc5cbb",
   "metadata": {},
   "outputs": [],
   "source": [
    "df_test3 = df_test[(df_test['day'] == 6) & (df_test['month'] == 10)]\n",
    "print(len(df_test3))\n",
    "df_test3 = df_test3.assign(DAY_TYPE = 'C')\n",
    "#10/6, normal weekday, 18pm"
   ]
  },
  {
   "cell_type": "code",
   "execution_count": null,
   "id": "ad5d840c",
   "metadata": {},
   "outputs": [],
   "source": [
    "df_test4 = df_test[(df_test['day'] == 1) & (df_test['month'] == 11)]\n",
    "print(len(df_test4))\n",
    "df_test4 = df_test4.assign(DAY_TYPE = 'D')\n",
    "\n",
    "#11/1, Saturday 4am (??)"
   ]
  },
  {
   "cell_type": "code",
   "execution_count": null,
   "id": "b0a698d1",
   "metadata": {},
   "outputs": [],
   "source": [
    "df_test5 = df_test[(df_test['day'] == 21) & (df_test['month'] == 12)]\n",
    "print(len(df_test5))\n",
    "df_test5 = df_test5.assign(DAY_TYPE = 'E')\n",
    "\n",
    "#12/21, sunday 3pm before christmas"
   ]
  },
  {
   "cell_type": "code",
   "execution_count": null,
   "id": "006df364",
   "metadata": {},
   "outputs": [],
   "source": [
    "df_test = pd.concat([df_test1, df_test2, df_test3, df_test4, df_test5], axis = 0)\n",
    "df_test"
   ]
  },
  {
   "cell_type": "code",
   "execution_count": null,
   "id": "45adb572",
   "metadata": {},
   "outputs": [],
   "source": [
    "\n",
    "df_test['call_A'] = df_test[\"CALL_TYPE\"].apply(lambda x : int(x == 'A'))\n",
    "df_test['call_B'] = df_test[\"CALL_TYPE\"].apply(lambda x : int(x == 'B'))\n",
    "df_test['call_C'] = df_test[\"CALL_TYPE\"].apply(lambda x : int(x == 'C'))\n",
    "df_test['day_A'] = df_test[\"DAY_TYPE\"].apply(lambda x : int(x == 'A'))\n",
    "df_test['day_B'] = df_test[\"DAY_TYPE\"].apply(lambda x : int(x == 'B'))\n",
    "df_test['day_C'] = df_test[\"DAY_TYPE\"].apply(lambda x : int(x == 'C'))\n",
    "df_test['day_D'] = df_test[\"DAY_TYPE\"].apply(lambda x : int(x == 'D'))\n",
    "df_test['day_E'] = df_test[\"DAY_TYPE\"].apply(lambda x : int(x == 'E'))\n"
   ]
  },
  {
   "cell_type": "code",
   "execution_count": null,
   "id": "3ed9c7e8",
   "metadata": {},
   "outputs": [],
   "source": [
    "df_test['STAND_MEAN'] = df_test['ORIGIN_STAND'].apply(apply_mean_stand)\n",
    "df_test['STAND_MEAN'] = np.float32((df_test['STAND_MEAN'] - train_stand_mean)/train_stand_std)"
   ]
  },
  {
   "cell_type": "code",
   "execution_count": null,
   "id": "a4748b05",
   "metadata": {},
   "outputs": [],
   "source": [
    "def apply_mean_test(taxi_id):\n",
    "    if taxi_id in taxi_id_to_mean:\n",
    "        return taxi_id_to_mean[taxi_id]\n",
    "    else:\n",
    "        return train_id_mean"
   ]
  },
  {
   "cell_type": "code",
   "execution_count": null,
   "id": "a3452428",
   "metadata": {},
   "outputs": [],
   "source": [
    "\n",
    "df_test['TAXI_ID_MEAN'] = df_test['TAXI_ID'].apply(apply_mean_test)\n",
    "df_test['TAXI_ID_MEAN'] = np.float32((df_test['TAXI_ID_MEAN'] - train_id_mean)/train_id_std)"
   ]
  },
  {
   "cell_type": "code",
   "execution_count": null,
   "id": "eba8e64a",
   "metadata": {},
   "outputs": [],
   "source": [
    "def apply_long(x): #in: origin stand\n",
    "    if not pd.isna(x):\n",
    "        return stand_dict[x][0]\n",
    "    else:\n",
    "        return x"
   ]
  },
  {
   "cell_type": "code",
   "execution_count": null,
   "id": "92527200",
   "metadata": {},
   "outputs": [],
   "source": [
    "def apply_lat(x):\n",
    "    if not pd.isna(x):\n",
    "        return stand_dict[x][1]\n",
    "    else:\n",
    "        return x"
   ]
  },
  {
   "cell_type": "code",
   "execution_count": null,
   "id": "c1b2691d",
   "metadata": {},
   "outputs": [],
   "source": [
    "df_test['Init_longitude'] = df_test['ORIGIN_STAND'].apply(apply_long)\n",
    "df_test['Init_latitude'] = df_test['ORIGIN_STAND'].apply(apply_lat)"
   ]
  },
  {
   "cell_type": "code",
   "execution_count": null,
   "id": "2c9e6ff4",
   "metadata": {},
   "outputs": [],
   "source": [
    "df_test['quarterHr'] = ((df_test['hour']-1) / 6).astype(int)\n",
    "df_test['TAXI_ID'] -= 20000000\n"
   ]
  },
  {
   "cell_type": "code",
   "execution_count": null,
   "id": "f3433280",
   "metadata": {},
   "outputs": [],
   "source": [
    "df_test[:10]"
   ]
  },
  {
   "cell_type": "code",
   "execution_count": null,
   "id": "b54485ca",
   "metadata": {},
   "outputs": [],
   "source": [
    "df_test['ORIGIN_STAND'] = df_test['ORIGIN_STAND'].apply(treat_nan)"
   ]
  },
  {
   "cell_type": "code",
   "execution_count": null,
   "id": "53ec3b45",
   "metadata": {},
   "outputs": [],
   "source": [
    "\n",
    "df_test['Init_longitude'] = (df_test['Init_longitude'] - train_long_mean) / train_long_std\n",
    "df_test['Init_latitude'] = (df_test['Init_latitude'] - train_lat_mean) / train_lat_std"
   ]
  },
  {
   "cell_type": "code",
   "execution_count": null,
   "id": "177d30ad",
   "metadata": {},
   "outputs": [],
   "source": [
    "df_test[:10]"
   ]
  },
  {
   "cell_type": "code",
   "execution_count": null,
   "id": "dadedf48",
   "metadata": {},
   "outputs": [],
   "source": [
    "\n",
    "#    df[col_name] = np.float32((df[col_name] - df[col_name].mean())/df[col_name].std())\n",
    "test_set = torch.reshape(torch.tensor(df_test['call_A'].values),(-1,1))\n",
    "col_list = ['call_B', 'call_C', 'day_A', 'day_B', 'day_C', 'day_D', 'day_E']\n",
    "            #,'Init_longitude', 'Init_latitude', 'TAXI_ID_MEAN']\n",
    "#col_list = ['call_B', 'call_C','TAXI_ID', 'Init_longitude', 'Init_latitude']\n",
    "for col_name in col_list:\n",
    "#     print(train_set.dtype)\n",
    "    test_set = torch.cat((test_set,torch.reshape(torch.from_numpy(df_test[col_name].values),(-1,1))),1)\n",
    "test_set = test_set.type('torch.FloatTensor')"
   ]
  },
  {
   "cell_type": "code",
   "execution_count": null,
   "id": "b3081b85",
   "metadata": {},
   "outputs": [],
   "source": [
    "def apply_embed_test(x, i):\n",
    "    t = torch.reshape(torch.from_numpy(x.values),(-1,1))\n",
    "    embedding = nn.Embedding(i+1, 10)\n",
    "\n",
    "    res = embedding(t)\n",
    "    return res"
   ]
  },
  {
   "cell_type": "code",
   "execution_count": null,
   "id": "cd088495",
   "metadata": {},
   "outputs": [],
   "source": [
    "ae = apply_embed_test(df_test['TAXI_ID'], df['TAXI_ID'].max())\n",
    "ae1 = apply_embed_test(df_test['quarterHr'], df['quarterHr'].max())\n",
    "ae2 = apply_embed_test(df_test['day'], df['day'].max())\n",
    "ae3 = apply_embed_test(df_test['weekday'], df['weekday'].max())"
   ]
  },
  {
   "cell_type": "code",
   "execution_count": null,
   "id": "8b7bff49",
   "metadata": {},
   "outputs": [],
   "source": [
    "c = torch.cat((ae,ae1,ae2,ae3), dim = 1)\n",
    "embed_set = []\n",
    "for i in range(len(c)):\n",
    "    embed_set.append(torch.flatten(c[i]))\n",
    "et = torch.stack(embed_set)\n",
    "c = torch.cat( (test_set, et), dim = 1)\n",
    "len(c[0]), c[0]\n"
   ]
  },
  {
   "cell_type": "code",
   "execution_count": null,
   "id": "0f29bdda",
   "metadata": {},
   "outputs": [],
   "source": [
    "test_set = c\n",
    "test_set = test_set.type('torch.FloatTensor')\n",
    "test_set = test_set.clone().detach()"
   ]
  },
  {
   "cell_type": "code",
   "execution_count": null,
   "id": "40d0dc76",
   "metadata": {},
   "outputs": [],
   "source": [
    "test_set[0]"
   ]
  },
  {
   "cell_type": "code",
   "execution_count": null,
   "id": "f63b9f3b",
   "metadata": {},
   "outputs": [],
   "source": [
    "preds = mlp_model(test_set.to(device)).cpu().detach().numpy()\n",
    "#preds = best_lgbm.predict(test_set)"
   ]
  },
  {
   "cell_type": "code",
   "execution_count": null,
   "id": "5216efb0",
   "metadata": {},
   "outputs": [],
   "source": [
    "def round_to_multiple(number, multiple):\n",
    "    return multiple * round(number / multiple)"
   ]
  },
  {
   "cell_type": "code",
   "execution_count": null,
   "id": "edd99c11",
   "metadata": {},
   "outputs": [],
   "source": [
    "for i in range(len(preds)):\n",
    "    preds[i] = round_to_multiple(preds[i], 15)"
   ]
  },
  {
   "cell_type": "code",
   "execution_count": null,
   "id": "f89d613d",
   "metadata": {},
   "outputs": [],
   "source": [
    "output_csv = pd.read_csv(\"sampleSubmission.csv\")\n",
    "output_csv['TRAVEL_TIME'] = preds\n",
    "#output_csv['TRAVEL_TIME'] = preds\n",
    "output_csv.tail()\n",
    "output_csv.to_csv(\"my_pred.csv\", index=None)\n"
   ]
  },
  {
   "cell_type": "code",
   "execution_count": null,
   "id": "2ccdca08",
   "metadata": {},
   "outputs": [],
   "source": [
    "sum(p.numel() for p in mlp_model.parameters())"
   ]
  },
  {
   "cell_type": "code",
   "execution_count": null,
   "id": "a5f63814",
   "metadata": {},
   "outputs": [],
   "source": []
  }
 ],
 "metadata": {
  "kernelspec": {
   "display_name": "Python 3 (ipykernel)",
   "language": "python",
   "name": "python3"
  },
  "language_info": {
   "codemirror_mode": {
    "name": "ipython",
    "version": 3
   },
   "file_extension": ".py",
   "mimetype": "text/x-python",
   "name": "python",
   "nbconvert_exporter": "python",
   "pygments_lexer": "ipython3",
   "version": "3.9.7"
  }
 },
 "nbformat": 4,
 "nbformat_minor": 5
}
